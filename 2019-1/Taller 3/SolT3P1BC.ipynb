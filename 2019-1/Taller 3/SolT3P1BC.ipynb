{
 "cells": [
  {
   "cell_type": "markdown",
   "metadata": {},
   "source": [
    "# b) Resuelva el problema mediante el metodo gráfico. Identifique (i) la región factible del problema, (ii) las restricciones, y (iii) el vértice y la curva de nivel de la función objetivo para la cual se alcanza la solución óptima (ayuda: cree un script en GNU Octave)."
   ]
  },
  {
   "cell_type": "code",
   "execution_count": 1,
   "metadata": {},
   "outputs": [],
   "source": [
    "clear % eliminamos todas las variables creadas previamente en Octave/Matlab"
   ]
  },
  {
   "cell_type": "markdown",
   "metadata": {},
   "source": [
    "## i) Variables de decisión: "
   ]
  },
  {
   "cell_type": "markdown",
   "metadata": {},
   "source": [
    "$x_1$: Unidades de panqueques producidos <br /> \n",
    "$x_2$: Gramos de queque producidos"
   ]
  },
  {
   "cell_type": "markdown",
   "metadata": {},
   "source": [
    "## ii) Restricciones"
   ]
  },
  {
   "cell_type": "markdown",
   "metadata": {},
   "source": [
    "### Disponibilidad de Harina"
   ]
  },
  {
   "cell_type": "code",
   "execution_count": 2,
   "metadata": {},
   "outputs": [],
   "source": [
    "function x2 = harina(x1)\n",
    "    \n",
    "    %Aplicamos un truco para evitar despejar ecuaciones a mano. Considere una ecuación del tipo: a1*x1+a2*x2 = c\n",
    "    a1 = 2/40;\n",
    "    a2 = 2/500;\n",
    "    c = 10;\n",
    "    x2 = (c-a1*x1)/a2;\n",
    "    \n",
    "end"
   ]
  },
  {
   "cell_type": "markdown",
   "metadata": {},
   "source": [
    "### Disponibilidad de huevos"
   ]
  },
  {
   "cell_type": "code",
   "execution_count": 3,
   "metadata": {},
   "outputs": [],
   "source": [
    "function x2 = huevos(x1)\n",
    "\n",
    "    a1 = 3/40;\n",
    "    a2 = 3/500;\n",
    "    c = 12;\n",
    "    x2 = (c-a1*x1)/a2;\n",
    "    \n",
    "end"
   ]
  },
  {
   "cell_type": "markdown",
   "metadata": {},
   "source": [
    "### Disponibilidad de leche"
   ]
  },
  {
   "cell_type": "code",
   "execution_count": 4,
   "metadata": {},
   "outputs": [],
   "source": [
    "function x2 = leche(x1)\n",
    "    \n",
    "    a1 = 4/40;\n",
    "    a2 = 1/500;\n",
    "    c = 8;\n",
    "    x2 = (c-a1*x1)/a2;\n",
    "    \n",
    "end"
   ]
  },
  {
   "cell_type": "markdown",
   "metadata": {},
   "source": [
    "### Disponibilidad de azucar"
   ]
  },
  {
   "cell_type": "code",
   "execution_count": 5,
   "metadata": {},
   "outputs": [],
   "source": [
    "function x2 = azucar(x1)\n",
    "    \n",
    "    a1 = 0.5/40;\n",
    "    a2 = 0.5/500;\n",
    "    c = 6;\n",
    "    x2 = (c-a1*x1)/a2;\n",
    "    \n",
    "end"
   ]
  },
  {
   "cell_type": "markdown",
   "metadata": {},
   "source": [
    "### Disponibilidad de mantequilla"
   ]
  },
  {
   "cell_type": "code",
   "execution_count": 6,
   "metadata": {},
   "outputs": [],
   "source": [
    "function x2 = mantequilla(x1)\n",
    "    \n",
    "    a1 = 125/40;\n",
    "    a2 = 250/500;\n",
    "    c = 750;\n",
    "    x2 = (c-a1*x1)/a2;\n",
    "    \n",
    "end"
   ]
  },
  {
   "cell_type": "markdown",
   "metadata": {},
   "source": [
    "### Gráfico restricciones"
   ]
  },
  {
   "cell_type": "code",
   "execution_count": 7,
   "metadata": {},
   "outputs": [
    {
     "data": {
      "image/svg+xml": [
       "<svg height=\"420px\" viewBox=\"0 0 560 420\" width=\"560px\" xmlns=\"http://www.w3.org/2000/svg\" xmlns:xlink=\"http://www.w3.org/1999/xlink\">\n",
       "\n",
       "<title>Gnuplot</title>\n",
       "<desc>Produced by GNUPLOT 5.2 patchlevel 6 </desc>\n",
       "\n",
       "<g id=\"gnuplot_canvas\">\n",
       "\n",
       "<rect fill=\"#ffffff\" height=\"420\" width=\"560\" x=\"0\" y=\"0\"/>\n",
       "<defs>\n",
       "\n",
       "\t<circle id=\"gpDot\" r=\"0.5\" stroke=\"currentColor\" stroke-width=\"0.5\"/>\n",
       "\t<path d=\"M-1,0 h2 M0,-1 v2\" id=\"gpPt0\" stroke=\"currentColor\" stroke-width=\"0.357\"/>\n",
       "\t<path d=\"M-1,-1 L1,1 M1,-1 L-1,1\" id=\"gpPt1\" stroke=\"currentColor\" stroke-width=\"0.357\"/>\n",
       "\t<path d=\"M-1,0 L1,0 M0,-1 L0,1 M-1,-1 L1,1 M-1,1 L1,-1\" id=\"gpPt2\" stroke=\"currentColor\" stroke-width=\"0.357\"/>\n",
       "\t<rect height=\"2\" id=\"gpPt3\" stroke=\"currentColor\" stroke-width=\"0.357\" width=\"2\" x=\"-1\" y=\"-1\"/>\n",
       "\t<rect fill=\"currentColor\" height=\"2\" id=\"gpPt4\" stroke=\"currentColor\" stroke-width=\"0.357\" width=\"2\" x=\"-1\" y=\"-1\"/>\n",
       "\t<circle cx=\"0\" cy=\"0\" id=\"gpPt5\" r=\"1\" stroke=\"currentColor\" stroke-width=\"0.357\"/>\n",
       "\t<use fill=\"currentColor\" id=\"gpPt6\" stroke=\"none\" xlink:href=\"#gpPt5\"/>\n",
       "\t<path d=\"M0,-1.33 L-1.33,0.67 L1.33,0.67 z\" id=\"gpPt7\" stroke=\"currentColor\" stroke-width=\"0.357\"/>\n",
       "\t<use fill=\"currentColor\" id=\"gpPt8\" stroke=\"none\" xlink:href=\"#gpPt7\"/>\n",
       "\t<use id=\"gpPt9\" stroke=\"currentColor\" transform=\"rotate(180)\" xlink:href=\"#gpPt7\"/>\n",
       "\t<use fill=\"currentColor\" id=\"gpPt10\" stroke=\"none\" xlink:href=\"#gpPt9\"/>\n",
       "\t<use id=\"gpPt11\" stroke=\"currentColor\" transform=\"rotate(45)\" xlink:href=\"#gpPt3\"/>\n",
       "\t<use fill=\"currentColor\" id=\"gpPt12\" stroke=\"none\" xlink:href=\"#gpPt11\"/>\n",
       "\t<path d=\"M0,1.330 L1.265,0.411 L0.782,-1.067 L-0.782,-1.076 L-1.265,0.411 z\" id=\"gpPt13\" stroke=\"currentColor\" stroke-width=\"0.357\"/>\n",
       "\t<use fill=\"currentColor\" id=\"gpPt14\" stroke=\"none\" xlink:href=\"#gpPt13\"/>\n",
       "\t<filter filterUnits=\"objectBoundingBox\" height=\"1\" id=\"textbox\" width=\"1\" x=\"0\" y=\"0\">\n",
       "\t  <feFlood flood-color=\"#FFFFFF\" flood-opacity=\"1\" result=\"bgnd\"/>\n",
       "\t  <feComposite in=\"SourceGraphic\" in2=\"bgnd\" operator=\"atop\"/>\n",
       "\t</filter>\n",
       "\t<filter filterUnits=\"objectBoundingBox\" height=\"1\" id=\"greybox\" width=\"1\" x=\"0\" y=\"0\">\n",
       "\t  <feFlood flood-color=\"lightgrey\" flood-opacity=\"1\" result=\"grey\"/>\n",
       "\t  <feComposite in=\"SourceGraphic\" in2=\"grey\" operator=\"atop\"/>\n",
       "\t</filter>\n",
       "</defs>\n",
       "<g color=\"#FFFFFF\" fill=\"none\" stroke=\"currentColor\" stroke-linecap=\"butt\" stroke-linejoin=\"miter\" stroke-width=\"1.00\">\n",
       "</g>\n",
       "<g color=\"black\" fill=\"none\" stroke=\"currentColor\" stroke-linecap=\"butt\" stroke-linejoin=\"miter\" stroke-width=\"1.00\">\n",
       "\t<g shape-rendering=\"crispEdges\" stroke=\"none\">\n",
       "\t\t<polygon fill=\"rgb(255, 255, 255)\" points=\"45.0,384.2 544.2,384.2 544.2,39.1 45.0,39.1 \"/>\n",
       "\t</g>\n",
       "</g>\n",
       "<g color=\"black\" fill=\"none\" stroke=\"currentColor\" stroke-linecap=\"butt\" stroke-linejoin=\"miter\" stroke-width=\"1.00\">\n",
       "\t<path d=\"M45.0,384.2 L52.8,384.2 M544.3,384.2 L536.5,384.2  \" stroke=\"rgb(  0,   0,   0)\"/>\t<g fill=\"rgb(38,38,38)\" font-family=\"Arial\" font-size=\"10.00\" stroke=\"none\" text-anchor=\"end\" transform=\"translate(39.8,387.5)\">\n",
       "\t\t<text><tspan font-family=\"Arial\">0</tspan></text>\n",
       "\t</g>\n",
       "</g>\n",
       "<g color=\"black\" fill=\"none\" stroke=\"currentColor\" stroke-linecap=\"butt\" stroke-linejoin=\"miter\" stroke-width=\"1.00\">\n",
       "\t<path d=\"M45.0,334.9 L52.8,334.9 M544.3,334.9 L536.5,334.9  \" stroke=\"rgb(  0,   0,   0)\"/>\t<g fill=\"rgb(38,38,38)\" font-family=\"Arial\" font-size=\"10.00\" stroke=\"none\" text-anchor=\"end\" transform=\"translate(39.8,338.2)\">\n",
       "\t\t<text><tspan font-family=\"Arial\">1000</tspan></text>\n",
       "\t</g>\n",
       "</g>\n",
       "<g color=\"black\" fill=\"none\" stroke=\"currentColor\" stroke-linecap=\"butt\" stroke-linejoin=\"miter\" stroke-width=\"1.00\">\n",
       "\t<path d=\"M45.0,285.6 L52.8,285.6 M544.3,285.6 L536.5,285.6  \" stroke=\"rgb(  0,   0,   0)\"/>\t<g fill=\"rgb(38,38,38)\" font-family=\"Arial\" font-size=\"10.00\" stroke=\"none\" text-anchor=\"end\" transform=\"translate(39.8,288.9)\">\n",
       "\t\t<text><tspan font-family=\"Arial\">2000</tspan></text>\n",
       "\t</g>\n",
       "</g>\n",
       "<g color=\"black\" fill=\"none\" stroke=\"currentColor\" stroke-linecap=\"butt\" stroke-linejoin=\"miter\" stroke-width=\"1.00\">\n",
       "\t<path d=\"M45.0,236.3 L52.8,236.3 M544.3,236.3 L536.5,236.3  \" stroke=\"rgb(  0,   0,   0)\"/>\t<g fill=\"rgb(38,38,38)\" font-family=\"Arial\" font-size=\"10.00\" stroke=\"none\" text-anchor=\"end\" transform=\"translate(39.8,239.6)\">\n",
       "\t\t<text><tspan font-family=\"Arial\">3000</tspan></text>\n",
       "\t</g>\n",
       "</g>\n",
       "<g color=\"black\" fill=\"none\" stroke=\"currentColor\" stroke-linecap=\"butt\" stroke-linejoin=\"miter\" stroke-width=\"1.00\">\n",
       "\t<path d=\"M45.0,186.9 L52.8,186.9 M544.3,186.9 L536.5,186.9  \" stroke=\"rgb(  0,   0,   0)\"/>\t<g fill=\"rgb(38,38,38)\" font-family=\"Arial\" font-size=\"10.00\" stroke=\"none\" text-anchor=\"end\" transform=\"translate(39.8,190.2)\">\n",
       "\t\t<text><tspan font-family=\"Arial\">4000</tspan></text>\n",
       "\t</g>\n",
       "</g>\n",
       "<g color=\"black\" fill=\"none\" stroke=\"currentColor\" stroke-linecap=\"butt\" stroke-linejoin=\"miter\" stroke-width=\"1.00\">\n",
       "\t<path d=\"M45.0,137.6 L52.8,137.6 M544.3,137.6 L536.5,137.6  \" stroke=\"rgb(  0,   0,   0)\"/>\t<g fill=\"rgb(38,38,38)\" font-family=\"Arial\" font-size=\"10.00\" stroke=\"none\" text-anchor=\"end\" transform=\"translate(39.8,140.9)\">\n",
       "\t\t<text><tspan font-family=\"Arial\">5000</tspan></text>\n",
       "\t</g>\n",
       "</g>\n",
       "<g color=\"black\" fill=\"none\" stroke=\"currentColor\" stroke-linecap=\"butt\" stroke-linejoin=\"miter\" stroke-width=\"1.00\">\n",
       "\t<path d=\"M45.0,88.3 L52.8,88.3 M544.3,88.3 L536.5,88.3  \" stroke=\"rgb(  0,   0,   0)\"/>\t<g fill=\"rgb(38,38,38)\" font-family=\"Arial\" font-size=\"10.00\" stroke=\"none\" text-anchor=\"end\" transform=\"translate(39.8,91.6)\">\n",
       "\t\t<text><tspan font-family=\"Arial\">6000</tspan></text>\n",
       "\t</g>\n",
       "</g>\n",
       "<g color=\"black\" fill=\"none\" stroke=\"currentColor\" stroke-linecap=\"butt\" stroke-linejoin=\"miter\" stroke-width=\"1.00\">\n",
       "\t<path d=\"M45.0,39.0 L52.8,39.0 M544.3,39.0 L536.5,39.0  \" stroke=\"rgb(  0,   0,   0)\"/>\t<g fill=\"rgb(38,38,38)\" font-family=\"Arial\" font-size=\"10.00\" stroke=\"none\" text-anchor=\"end\" transform=\"translate(39.8,42.3)\">\n",
       "\t\t<text><tspan font-family=\"Arial\">7000</tspan></text>\n",
       "\t</g>\n",
       "</g>\n",
       "<g color=\"black\" fill=\"none\" stroke=\"currentColor\" stroke-linecap=\"butt\" stroke-linejoin=\"miter\" stroke-width=\"1.00\">\n",
       "\t<path d=\"M45.0,384.2 L45.0,376.4 M45.0,39.0 L45.0,46.8  \" stroke=\"rgb(  0,   0,   0)\"/>\t<g fill=\"rgb(38,38,38)\" font-family=\"Arial\" font-size=\"10.00\" stroke=\"none\" text-anchor=\"middle\" transform=\"translate(45.0,398.7)\">\n",
       "\t\t<text><tspan font-family=\"Arial\">0</tspan></text>\n",
       "\t</g>\n",
       "</g>\n",
       "<g color=\"black\" fill=\"none\" stroke=\"currentColor\" stroke-linecap=\"butt\" stroke-linejoin=\"miter\" stroke-width=\"1.00\">\n",
       "\t<path d=\"M144.9,384.2 L144.9,376.4 M144.9,39.0 L144.9,46.8  \" stroke=\"rgb(  0,   0,   0)\"/>\t<g fill=\"rgb(38,38,38)\" font-family=\"Arial\" font-size=\"10.00\" stroke=\"none\" text-anchor=\"middle\" transform=\"translate(144.9,398.7)\">\n",
       "\t\t<text><tspan font-family=\"Arial\">100</tspan></text>\n",
       "\t</g>\n",
       "</g>\n",
       "<g color=\"black\" fill=\"none\" stroke=\"currentColor\" stroke-linecap=\"butt\" stroke-linejoin=\"miter\" stroke-width=\"1.00\">\n",
       "\t<path d=\"M244.7,384.2 L244.7,376.4 M244.7,39.0 L244.7,46.8  \" stroke=\"rgb(  0,   0,   0)\"/>\t<g fill=\"rgb(38,38,38)\" font-family=\"Arial\" font-size=\"10.00\" stroke=\"none\" text-anchor=\"middle\" transform=\"translate(244.7,398.7)\">\n",
       "\t\t<text><tspan font-family=\"Arial\">200</tspan></text>\n",
       "\t</g>\n",
       "</g>\n",
       "<g color=\"black\" fill=\"none\" stroke=\"currentColor\" stroke-linecap=\"butt\" stroke-linejoin=\"miter\" stroke-width=\"1.00\">\n",
       "\t<path d=\"M344.6,384.2 L344.6,376.4 M344.6,39.0 L344.6,46.8  \" stroke=\"rgb(  0,   0,   0)\"/>\t<g fill=\"rgb(38,38,38)\" font-family=\"Arial\" font-size=\"10.00\" stroke=\"none\" text-anchor=\"middle\" transform=\"translate(344.6,398.7)\">\n",
       "\t\t<text><tspan font-family=\"Arial\">300</tspan></text>\n",
       "\t</g>\n",
       "</g>\n",
       "<g color=\"black\" fill=\"none\" stroke=\"currentColor\" stroke-linecap=\"butt\" stroke-linejoin=\"miter\" stroke-width=\"1.00\">\n",
       "\t<path d=\"M444.4,384.2 L444.4,376.4 M444.4,39.0 L444.4,46.8  \" stroke=\"rgb(  0,   0,   0)\"/>\t<g fill=\"rgb(38,38,38)\" font-family=\"Arial\" font-size=\"10.00\" stroke=\"none\" text-anchor=\"middle\" transform=\"translate(444.4,398.7)\">\n",
       "\t\t<text><tspan font-family=\"Arial\">400</tspan></text>\n",
       "\t</g>\n",
       "</g>\n",
       "<g color=\"black\" fill=\"none\" stroke=\"currentColor\" stroke-linecap=\"butt\" stroke-linejoin=\"miter\" stroke-width=\"1.00\">\n",
       "\t<path d=\"M544.3,384.2 L544.3,376.4 M544.3,39.0 L544.3,46.8  \" stroke=\"rgb(  0,   0,   0)\"/>\t<g fill=\"rgb(38,38,38)\" font-family=\"Arial\" font-size=\"10.00\" stroke=\"none\" text-anchor=\"middle\" transform=\"translate(544.3,398.7)\">\n",
       "\t\t<text><tspan font-family=\"Arial\">500</tspan></text>\n",
       "\t</g>\n",
       "</g>\n",
       "<g color=\"black\" fill=\"none\" stroke=\"currentColor\" stroke-linecap=\"butt\" stroke-linejoin=\"miter\" stroke-width=\"1.00\">\n",
       "</g>\n",
       "<g color=\"black\" fill=\"none\" stroke=\"currentColor\" stroke-linecap=\"butt\" stroke-linejoin=\"miter\" stroke-width=\"1.00\">\n",
       "\t<g fill=\"rgb(38,38,38)\" font-family=\"Arial\" font-size=\"11.00\" stroke=\"none\" text-anchor=\"middle\" transform=\"translate(11.3,211.6) rotate(-90)\">\n",
       "\t\t<text><tspan font-family=\"Arial\">Gramos de queque (x2)</tspan></text>\n",
       "\t</g>\n",
       "</g>\n",
       "<g color=\"black\" fill=\"none\" stroke=\"currentColor\" stroke-linecap=\"butt\" stroke-linejoin=\"miter\" stroke-width=\"1.00\">\n",
       "\t<g fill=\"rgb(38,38,38)\" font-family=\"Arial\" font-size=\"11.00\" stroke=\"none\" text-anchor=\"middle\" transform=\"translate(294.6,415.8)\">\n",
       "\t\t<text><tspan font-family=\"Arial\">Unidades de panqueques (x1)</tspan></text>\n",
       "\t</g>\n",
       "</g>\n",
       "<g color=\"black\" fill=\"none\" stroke=\"currentColor\" stroke-linecap=\"butt\" stroke-linejoin=\"miter\" stroke-width=\"1.00\">\n",
       "\t<g fill=\"rgb(0,0,0)\" font-family=\":Bold\" font-size=\"11.00\" stroke=\"none\" text-anchor=\"middle\" transform=\"translate(294.6,20.5)\">\n",
       "\t\t<text><tspan font-family=\"\" font-weight=\"bold\">Restricciones asociadas a la disponibilidad de ingredientes</tspan></text>\n",
       "\t</g>\n",
       "</g>\n",
       "<g color=\"black\" fill=\"none\" stroke=\"currentColor\" stroke-linecap=\"butt\" stroke-linejoin=\"miter\" stroke-width=\"1.00\">\n",
       "</g>\n",
       "<g color=\"black\" fill=\"none\" stroke=\"currentColor\" stroke-linecap=\"butt\" stroke-linejoin=\"miter\" stroke-width=\"1.00\">\n",
       "\t<path d=\"M426.4,120.1 L426.4,44.6 L539.1,44.6 L539.1,120.1 L426.4,120.1 Z  \" stroke=\"black\"/></g>\n",
       "\t<g id=\"gnuplot_plot_1a\"><title>Harina</title>\n",
       "<g color=\"#FFFFFF\" fill=\"none\" stroke=\"black\" stroke-linecap=\"butt\" stroke-linejoin=\"miter\" stroke-width=\"0.50\">\n",
       "</g>\n",
       "<g color=\"black\" fill=\"none\" stroke=\"currentColor\" stroke-linecap=\"butt\" stroke-linejoin=\"miter\" stroke-width=\"0.50\">\n",
       "\t<g fill=\"rgb(0,0,0)\" font-family=\"Arial\" font-size=\"9.00\" stroke=\"none\" text-anchor=\"start\" transform=\"translate(469.8,55.2)\">\n",
       "\t\t<text><tspan font-family=\"Arial\">Harina</tspan></text>\n",
       "\t</g>\n",
       "</g>\n",
       "<g color=\"black\" fill=\"none\" stroke=\"currentColor\" stroke-linecap=\"butt\" stroke-linejoin=\"miter\" stroke-width=\"0.50\">\n",
       "\t<path d=\"M432.7,52.2 L463.5,52.2 M45.0,260.9 L52.1,265.3 L59.1,269.6 L66.2,274.0 L73.2,278.3 L80.3,282.7   L87.4,287.1 L94.4,291.4 L101.5,295.8 L108.5,300.1 L115.6,304.5 L122.7,308.9 L129.7,313.2 L136.8,317.6   L143.9,321.9 L150.9,326.3 L158.0,330.7 L165.0,335.0 L172.1,339.4 L179.2,343.7 L186.2,348.1 L193.3,352.4   L200.3,356.8 L207.4,361.2 L214.5,365.5 L221.5,369.9 L228.6,374.2 L235.6,378.6 L242.7,383.0 L244.6,384.2    \" stroke=\"rgb(  0,   0, 255)\"/>\t<use color=\"rgb(  0,   0, 255)\" x=\"448.1\" xlink:href=\"#gpDot\" y=\"52.2\"/>\n",
       "\n",
       "</g>\n",
       "\t</g>\n",
       "\t<g id=\"gnuplot_plot_2a\"><title>Huevos</title>\n",
       "<g color=\"black\" fill=\"none\" stroke=\"currentColor\" stroke-linecap=\"butt\" stroke-linejoin=\"miter\" stroke-width=\"0.50\">\n",
       "\t<g fill=\"rgb(0,0,0)\" font-family=\"Arial\" font-size=\"9.00\" stroke=\"none\" text-anchor=\"start\" transform=\"translate(469.8,70.3)\">\n",
       "\t\t<text><tspan font-family=\"Arial\">Huevos</tspan></text>\n",
       "\t</g>\n",
       "</g>\n",
       "<g color=\"black\" fill=\"none\" stroke=\"currentColor\" stroke-linecap=\"butt\" stroke-linejoin=\"miter\" stroke-width=\"0.50\">\n",
       "\t<path d=\"M432.7,67.3 L463.5,67.3 M45.0,285.6 L52.1,289.9 L59.1,294.3 L66.2,298.6 L73.2,303.0 L80.3,307.4   L87.4,311.7 L94.4,316.1 L101.5,320.4 L108.5,324.8 L115.6,329.2 L122.7,333.5 L129.7,337.9 L136.8,342.2   L143.9,346.6 L150.9,351.0 L158.0,355.3 L165.0,359.7 L172.1,364.0 L179.2,368.4 L186.2,372.7 L193.3,377.1   L200.3,381.5 L204.7,384.2  \" stroke=\"rgb(  0,   0,   0)\"/>\t<use color=\"rgb(  0,   0,   0)\" x=\"448.1\" xlink:href=\"#gpDot\" y=\"67.3\"/>\n",
       "\n",
       "</g>\n",
       "\t</g>\n",
       "\t<g id=\"gnuplot_plot_3a\"><title>Leche</title>\n",
       "<g color=\"black\" fill=\"none\" stroke=\"currentColor\" stroke-linecap=\"butt\" stroke-linejoin=\"miter\" stroke-width=\"0.50\">\n",
       "\t<g fill=\"rgb(0,0,0)\" font-family=\"Arial\" font-size=\"9.00\" stroke=\"none\" text-anchor=\"start\" transform=\"translate(469.8,85.4)\">\n",
       "\t\t<text><tspan font-family=\"Arial\">Leche</tspan></text>\n",
       "\t</g>\n",
       "</g>\n",
       "<g color=\"black\" fill=\"none\" stroke=\"currentColor\" stroke-linecap=\"butt\" stroke-linejoin=\"miter\" stroke-width=\"0.50\">\n",
       "\t<path d=\"M432.7,82.4 L463.5,82.4 M45.0,186.9 L52.1,204.4 L59.1,221.8 L66.2,239.2 L73.2,256.7 L80.3,274.1   L87.4,291.5 L94.4,309.0 L101.5,326.4 L108.5,343.9 L115.6,361.3 L122.7,378.7 L124.9,384.2  \" stroke=\"rgb(  0, 255,   0)\"/>\t<use color=\"rgb(  0, 255,   0)\" x=\"448.1\" xlink:href=\"#gpDot\" y=\"82.4\"/>\n",
       "\n",
       "</g>\n",
       "\t</g>\n",
       "\t<g id=\"gnuplot_plot_4a\"><title>Azucar</title>\n",
       "<g color=\"black\" fill=\"none\" stroke=\"currentColor\" stroke-linecap=\"butt\" stroke-linejoin=\"miter\" stroke-width=\"0.50\">\n",
       "\t<g fill=\"rgb(0,0,0)\" font-family=\"Arial\" font-size=\"9.00\" stroke=\"none\" text-anchor=\"start\" transform=\"translate(469.8,100.5)\">\n",
       "\t\t<text><tspan font-family=\"Arial\">Azucar</tspan></text>\n",
       "\t</g>\n",
       "</g>\n",
       "<g color=\"black\" fill=\"none\" stroke=\"currentColor\" stroke-linecap=\"butt\" stroke-linejoin=\"miter\" stroke-width=\"0.50\">\n",
       "\t<path d=\"M432.7,97.5 L463.5,97.5 M45.0,88.3 L52.1,92.7 L59.1,97.0 L66.2,101.4 L73.2,105.7 L80.3,110.1   L87.4,114.5 L94.4,118.8 L101.5,123.2 L108.5,127.5 L115.6,131.9 L122.7,136.3 L129.7,140.6 L136.8,145.0   L143.9,149.3 L150.9,153.7 L158.0,158.1 L165.0,162.4 L172.1,166.8 L179.2,171.1 L186.2,175.5 L193.3,179.8   L200.3,184.2 L207.4,188.6 L214.5,192.9 L221.5,197.3 L228.6,201.6 L235.6,206.0 L242.7,210.4 L249.8,214.7   L256.8,219.1 L263.9,223.4 L270.9,227.8 L278.0,232.1 L285.1,236.5 L292.1,240.9 L299.2,245.2 L306.2,249.6   L313.3,253.9 L320.4,258.3 L327.4,262.7 L334.5,267.0 L341.6,271.4 L348.6,275.7 L355.7,280.1 L362.7,284.5   L369.8,288.8 L376.9,293.2 L383.9,297.5 L391.0,301.9 L398.0,306.2 L405.1,310.6 L412.2,315.0 L419.2,319.3   L426.3,323.7 L433.3,328.0 L440.4,332.4 L447.5,336.8 L454.5,341.1 L461.6,345.5 L468.6,349.8 L475.7,354.2   L482.8,358.5 L489.8,362.9 L496.9,367.3 L504.0,371.6 L511.0,376.0 L518.1,380.3 L524.3,384.2  \" stroke=\"rgb(255,   0,   0)\"/>\t<use color=\"rgb(255,   0,   0)\" x=\"448.1\" xlink:href=\"#gpDot\" y=\"97.5\"/>\n",
       "\n",
       "</g>\n",
       "\t</g>\n",
       "\t<g id=\"gnuplot_plot_5a\"><title>Mantequilla</title>\n",
       "<g color=\"black\" fill=\"none\" stroke=\"currentColor\" stroke-linecap=\"butt\" stroke-linejoin=\"miter\" stroke-width=\"0.50\">\n",
       "\t<g fill=\"rgb(0,0,0)\" font-family=\"Arial\" font-size=\"9.00\" stroke=\"none\" text-anchor=\"start\" transform=\"translate(469.8,115.6)\">\n",
       "\t\t<text><tspan font-family=\"Arial\">Mantequilla</tspan></text>\n",
       "\t</g>\n",
       "</g>\n",
       "<g color=\"black\" fill=\"none\" stroke=\"currentColor\" stroke-linecap=\"butt\" stroke-linejoin=\"miter\" stroke-width=\"0.50\">\n",
       "\t<path d=\"M432.7,112.6 L463.5,112.6 M45.0,310.2 L52.1,312.4 L59.1,314.6 L66.2,316.8 L73.2,318.9 L80.3,321.1   L87.4,323.3 L94.4,325.5 L101.5,327.7 L108.5,329.8 L115.6,332.0 L122.7,334.2 L129.7,336.4 L136.8,338.6   L143.9,340.7 L150.9,342.9 L158.0,345.1 L165.0,347.3 L172.1,349.5 L179.2,351.6 L186.2,353.8 L193.3,356.0   L200.3,358.2 L207.4,360.4 L214.5,362.5 L221.5,364.7 L228.6,366.9 L235.6,369.1 L242.7,371.2 L249.8,373.4   L256.8,375.6 L263.9,377.8 L270.9,380.0 L278.0,382.1 L284.7,384.2  \" stroke=\"rgb(255,   0, 255)\"/>\t<use color=\"rgb(255,   0, 255)\" x=\"448.1\" xlink:href=\"#gpDot\" y=\"112.6\"/>\n",
       "\n",
       "</g>\n",
       "\t</g>\n",
       "<g color=\"#FFFFFF\" fill=\"none\" stroke=\"rgb(255,   0, 255)\" stroke-linecap=\"butt\" stroke-linejoin=\"miter\" stroke-width=\"2.00\">\n",
       "</g>\n",
       "<g color=\"black\" fill=\"none\" stroke=\"currentColor\" stroke-linecap=\"butt\" stroke-linejoin=\"miter\" stroke-width=\"2.00\">\n",
       "</g>\n",
       "<g color=\"black\" fill=\"none\" stroke=\"black\" stroke-linecap=\"butt\" stroke-linejoin=\"miter\" stroke-width=\"0.50\">\n",
       "\t<path d=\"M45.0,384.2 L544.3,384.2 M45.0,39.0 L544.3,39.0 M45.0,384.2 L45.0,39.0 M544.3,384.2 L544.3,39.0    \" stroke=\"rgb( 38,  38,  38)\"/></g>\n",
       "<g color=\"black\" fill=\"none\" stroke=\"rgb( 38,  38,  38)\" stroke-linecap=\"butt\" stroke-linejoin=\"miter\" stroke-width=\"1.00\">\n",
       "</g>\n",
       "<g color=\"black\" fill=\"none\" stroke=\"currentColor\" stroke-linecap=\"butt\" stroke-linejoin=\"miter\" stroke-width=\"1.00\">\n",
       "</g>\n",
       "</g>\n",
       "</svg>"
      ],
      "text/plain": [
       "<IPython.core.display.SVG object>"
      ]
     },
     "metadata": {},
     "output_type": "display_data"
    }
   ],
   "source": [
    "x1 = linspace(0,700); %Rango de valores de input de las funciones\n",
    "\n",
    "plot(x1,harina(x1),'b') %color azul para disponibilidad de harina\n",
    "hold on\n",
    "plot(x1,huevos(x1),'k') %color negro para disponibilidad de huevos\n",
    "hold on\n",
    "plot(x1,leche(x1),'g') %color verde para disponibilidad de leche\n",
    "hold on\n",
    "plot(x1,azucar(x1),'r') %color rojo para disponibilidad de azucar\n",
    "hold on\n",
    "plot(x1,mantequilla(x1),'m') %color morado para disponibilidad de mantequilla\n",
    "title ('Restricciones asociadas a la disponibilidad de ingredientes')\n",
    "xlabel ('Unidades de panqueques (x1)')\n",
    "ylabel ('Gramos de queque (x2)')\n",
    "ylim([0 7000])\n",
    "xlim([0 500])\n",
    "legend('Harina','Huevos', 'Leche', 'Azucar', 'Mantequilla') %Legenda del grafico\n",
    "hold off"
   ]
  },
  {
   "cell_type": "markdown",
   "metadata": {},
   "source": [
    "### iii) Región factible"
   ]
  },
  {
   "cell_type": "markdown",
   "metadata": {},
   "source": [
    "* Los vértices de la región factible son 4 y corresponden a intersecciones entre distintos pares de restricciones (incluidas las de no negatividad). \n",
    "* El primer vértice es el origen (0,0) que denominaremos 'v1'. Los vertices 'v2','v3','v4', son definidos según el sentido del reloj. "
   ]
  },
  {
   "cell_type": "markdown",
   "metadata": {},
   "source": [
    "#### Vértices"
   ]
  },
  {
   "cell_type": "code",
   "execution_count": 8,
   "metadata": {},
   "outputs": [
    {
     "name": "stdout",
     "output_type": "stream",
     "text": [
      "v1 =\n",
      "\n",
      "   0   0\n",
      "\n"
     ]
    }
   ],
   "source": [
    "v1 =  [0,0]"
   ]
  },
  {
   "cell_type": "code",
   "execution_count": 9,
   "metadata": {},
   "outputs": [
    {
     "name": "stdout",
     "output_type": "stream",
     "text": [
      "v2 =\n",
      "\n",
      "      0   1500\n",
      "\n"
     ]
    }
   ],
   "source": [
    "v2 = [0,mantequilla(x1 = 0)] % intersección restricción de mantequilla con eje vertical"
   ]
  },
  {
   "cell_type": "code",
   "execution_count": 10,
   "metadata": {},
   "outputs": [
    {
     "name": "stdout",
     "output_type": "stream",
     "text": [
      "v3 =\n",
      "\n",
      "     57.143   1142.857\n",
      "\n"
     ]
    }
   ],
   "source": [
    "v3 = (inv([125/40 250/500; 4/40 1/500])*[750;8])' % Interseccion restricciones de mantequilla y leche"
   ]
  },
  {
   "cell_type": "code",
   "execution_count": 11,
   "metadata": {},
   "outputs": [
    {
     "name": "stdout",
     "output_type": "stream",
     "text": [
      "v4 =\n",
      "\n",
      "   80    0\n",
      "\n"
     ]
    }
   ],
   "source": [
    "v4 = (inv([4/40 1/500;0 1])*[8;0])' % intersección restricción de leche con eje horizontal"
   ]
  },
  {
   "cell_type": "markdown",
   "metadata": {},
   "source": [
    "#### Creamos una matriz de dos columnas con las coordenadas x e y de los vertices"
   ]
  },
  {
   "cell_type": "code",
   "execution_count": 12,
   "metadata": {},
   "outputs": [
    {
     "name": "stdout",
     "output_type": "stream",
     "text": [
      "v =\n",
      "\n",
      "      0.00000      0.00000\n",
      "      0.00000   1500.00000\n",
      "     57.14286   1142.85714\n",
      "     80.00000      0.00000\n",
      "\n"
     ]
    }
   ],
   "source": [
    "v = [v1;v2;v3;v4]"
   ]
  },
  {
   "cell_type": "markdown",
   "metadata": {},
   "source": [
    "#### Gráfico"
   ]
  },
  {
   "cell_type": "code",
   "execution_count": 13,
   "metadata": {},
   "outputs": [
    {
     "data": {
      "image/svg+xml": [
       "<svg height=\"420px\" viewBox=\"0 0 560 420\" width=\"560px\" xmlns=\"http://www.w3.org/2000/svg\" xmlns:xlink=\"http://www.w3.org/1999/xlink\">\n",
       "\n",
       "<title>Gnuplot</title>\n",
       "<desc>Produced by GNUPLOT 5.2 patchlevel 6 </desc>\n",
       "\n",
       "<g id=\"gnuplot_canvas\">\n",
       "\n",
       "<rect fill=\"#ffffff\" height=\"420\" width=\"560\" x=\"0\" y=\"0\"/>\n",
       "<defs>\n",
       "\n",
       "\t<circle id=\"gpDot\" r=\"0.5\" stroke=\"currentColor\" stroke-width=\"0.5\"/>\n",
       "\t<path d=\"M-1,0 h2 M0,-1 v2\" id=\"gpPt0\" stroke=\"currentColor\" stroke-width=\"0.357\"/>\n",
       "\t<path d=\"M-1,-1 L1,1 M1,-1 L-1,1\" id=\"gpPt1\" stroke=\"currentColor\" stroke-width=\"0.357\"/>\n",
       "\t<path d=\"M-1,0 L1,0 M0,-1 L0,1 M-1,-1 L1,1 M-1,1 L1,-1\" id=\"gpPt2\" stroke=\"currentColor\" stroke-width=\"0.357\"/>\n",
       "\t<rect height=\"2\" id=\"gpPt3\" stroke=\"currentColor\" stroke-width=\"0.357\" width=\"2\" x=\"-1\" y=\"-1\"/>\n",
       "\t<rect fill=\"currentColor\" height=\"2\" id=\"gpPt4\" stroke=\"currentColor\" stroke-width=\"0.357\" width=\"2\" x=\"-1\" y=\"-1\"/>\n",
       "\t<circle cx=\"0\" cy=\"0\" id=\"gpPt5\" r=\"1\" stroke=\"currentColor\" stroke-width=\"0.357\"/>\n",
       "\t<use fill=\"currentColor\" id=\"gpPt6\" stroke=\"none\" xlink:href=\"#gpPt5\"/>\n",
       "\t<path d=\"M0,-1.33 L-1.33,0.67 L1.33,0.67 z\" id=\"gpPt7\" stroke=\"currentColor\" stroke-width=\"0.357\"/>\n",
       "\t<use fill=\"currentColor\" id=\"gpPt8\" stroke=\"none\" xlink:href=\"#gpPt7\"/>\n",
       "\t<use id=\"gpPt9\" stroke=\"currentColor\" transform=\"rotate(180)\" xlink:href=\"#gpPt7\"/>\n",
       "\t<use fill=\"currentColor\" id=\"gpPt10\" stroke=\"none\" xlink:href=\"#gpPt9\"/>\n",
       "\t<use id=\"gpPt11\" stroke=\"currentColor\" transform=\"rotate(45)\" xlink:href=\"#gpPt3\"/>\n",
       "\t<use fill=\"currentColor\" id=\"gpPt12\" stroke=\"none\" xlink:href=\"#gpPt11\"/>\n",
       "\t<path d=\"M0,1.330 L1.265,0.411 L0.782,-1.067 L-0.782,-1.076 L-1.265,0.411 z\" id=\"gpPt13\" stroke=\"currentColor\" stroke-width=\"0.357\"/>\n",
       "\t<use fill=\"currentColor\" id=\"gpPt14\" stroke=\"none\" xlink:href=\"#gpPt13\"/>\n",
       "\t<filter filterUnits=\"objectBoundingBox\" height=\"1\" id=\"textbox\" width=\"1\" x=\"0\" y=\"0\">\n",
       "\t  <feFlood flood-color=\"#FFFFFF\" flood-opacity=\"1\" result=\"bgnd\"/>\n",
       "\t  <feComposite in=\"SourceGraphic\" in2=\"bgnd\" operator=\"atop\"/>\n",
       "\t</filter>\n",
       "\t<filter filterUnits=\"objectBoundingBox\" height=\"1\" id=\"greybox\" width=\"1\" x=\"0\" y=\"0\">\n",
       "\t  <feFlood flood-color=\"lightgrey\" flood-opacity=\"1\" result=\"grey\"/>\n",
       "\t  <feComposite in=\"SourceGraphic\" in2=\"grey\" operator=\"atop\"/>\n",
       "\t</filter>\n",
       "</defs>\n",
       "<g color=\"#FFFFFF\" fill=\"none\" stroke=\"currentColor\" stroke-linecap=\"butt\" stroke-linejoin=\"miter\" stroke-width=\"1.00\">\n",
       "</g>\n",
       "<g color=\"black\" fill=\"none\" stroke=\"currentColor\" stroke-linecap=\"butt\" stroke-linejoin=\"miter\" stroke-width=\"1.00\">\n",
       "\t<g shape-rendering=\"crispEdges\" stroke=\"none\">\n",
       "\t\t<polygon fill=\"rgb(255, 255, 255)\" points=\"45.0,384.2 544.2,384.2 544.2,55.6 45.0,55.6 \"/>\n",
       "\t</g>\n",
       "</g>\n",
       "<g color=\"black\" fill=\"none\" stroke=\"currentColor\" stroke-linecap=\"butt\" stroke-linejoin=\"miter\" stroke-width=\"1.00\">\n",
       "\t<path d=\"M45.0,384.2 L52.8,384.2 M544.3,384.2 L536.5,384.2  \" stroke=\"rgb(  0,   0,   0)\"/>\t<g fill=\"rgb(38,38,38)\" font-family=\"Arial\" font-size=\"10.00\" stroke=\"none\" text-anchor=\"end\" transform=\"translate(39.8,387.5)\">\n",
       "\t\t<text><tspan font-family=\"Arial\">0</tspan></text>\n",
       "\t</g>\n",
       "</g>\n",
       "<g color=\"black\" fill=\"none\" stroke=\"currentColor\" stroke-linecap=\"butt\" stroke-linejoin=\"miter\" stroke-width=\"1.00\">\n",
       "\t<path d=\"M45.0,337.2 L52.8,337.2 M544.3,337.2 L536.5,337.2  \" stroke=\"rgb(  0,   0,   0)\"/>\t<g fill=\"rgb(38,38,38)\" font-family=\"Arial\" font-size=\"10.00\" stroke=\"none\" text-anchor=\"end\" transform=\"translate(39.8,340.5)\">\n",
       "\t\t<text><tspan font-family=\"Arial\">1000</tspan></text>\n",
       "\t</g>\n",
       "</g>\n",
       "<g color=\"black\" fill=\"none\" stroke=\"currentColor\" stroke-linecap=\"butt\" stroke-linejoin=\"miter\" stroke-width=\"1.00\">\n",
       "\t<path d=\"M45.0,290.3 L52.8,290.3 M544.3,290.3 L536.5,290.3  \" stroke=\"rgb(  0,   0,   0)\"/>\t<g fill=\"rgb(38,38,38)\" font-family=\"Arial\" font-size=\"10.00\" stroke=\"none\" text-anchor=\"end\" transform=\"translate(39.8,293.6)\">\n",
       "\t\t<text><tspan font-family=\"Arial\">2000</tspan></text>\n",
       "\t</g>\n",
       "</g>\n",
       "<g color=\"black\" fill=\"none\" stroke=\"currentColor\" stroke-linecap=\"butt\" stroke-linejoin=\"miter\" stroke-width=\"1.00\">\n",
       "\t<path d=\"M45.0,243.3 L52.8,243.3 M544.3,243.3 L536.5,243.3  \" stroke=\"rgb(  0,   0,   0)\"/>\t<g fill=\"rgb(38,38,38)\" font-family=\"Arial\" font-size=\"10.00\" stroke=\"none\" text-anchor=\"end\" transform=\"translate(39.8,246.6)\">\n",
       "\t\t<text><tspan font-family=\"Arial\">3000</tspan></text>\n",
       "\t</g>\n",
       "</g>\n",
       "<g color=\"black\" fill=\"none\" stroke=\"currentColor\" stroke-linecap=\"butt\" stroke-linejoin=\"miter\" stroke-width=\"1.00\">\n",
       "\t<path d=\"M45.0,196.4 L52.8,196.4 M544.3,196.4 L536.5,196.4  \" stroke=\"rgb(  0,   0,   0)\"/>\t<g fill=\"rgb(38,38,38)\" font-family=\"Arial\" font-size=\"10.00\" stroke=\"none\" text-anchor=\"end\" transform=\"translate(39.8,199.7)\">\n",
       "\t\t<text><tspan font-family=\"Arial\">4000</tspan></text>\n",
       "\t</g>\n",
       "</g>\n",
       "<g color=\"black\" fill=\"none\" stroke=\"currentColor\" stroke-linecap=\"butt\" stroke-linejoin=\"miter\" stroke-width=\"1.00\">\n",
       "\t<path d=\"M45.0,149.4 L52.8,149.4 M544.3,149.4 L536.5,149.4  \" stroke=\"rgb(  0,   0,   0)\"/>\t<g fill=\"rgb(38,38,38)\" font-family=\"Arial\" font-size=\"10.00\" stroke=\"none\" text-anchor=\"end\" transform=\"translate(39.8,152.7)\">\n",
       "\t\t<text><tspan font-family=\"Arial\">5000</tspan></text>\n",
       "\t</g>\n",
       "</g>\n",
       "<g color=\"black\" fill=\"none\" stroke=\"currentColor\" stroke-linecap=\"butt\" stroke-linejoin=\"miter\" stroke-width=\"1.00\">\n",
       "\t<path d=\"M45.0,102.5 L52.8,102.5 M544.3,102.5 L536.5,102.5  \" stroke=\"rgb(  0,   0,   0)\"/>\t<g fill=\"rgb(38,38,38)\" font-family=\"Arial\" font-size=\"10.00\" stroke=\"none\" text-anchor=\"end\" transform=\"translate(39.8,105.8)\">\n",
       "\t\t<text><tspan font-family=\"Arial\">6000</tspan></text>\n",
       "\t</g>\n",
       "</g>\n",
       "<g color=\"black\" fill=\"none\" stroke=\"currentColor\" stroke-linecap=\"butt\" stroke-linejoin=\"miter\" stroke-width=\"1.00\">\n",
       "\t<path d=\"M45.0,55.5 L52.8,55.5 M544.3,55.5 L536.5,55.5  \" stroke=\"rgb(  0,   0,   0)\"/>\t<g fill=\"rgb(38,38,38)\" font-family=\"Arial\" font-size=\"10.00\" stroke=\"none\" text-anchor=\"end\" transform=\"translate(39.8,58.8)\">\n",
       "\t\t<text><tspan font-family=\"Arial\">7000</tspan></text>\n",
       "\t</g>\n",
       "</g>\n",
       "<g color=\"black\" fill=\"none\" stroke=\"currentColor\" stroke-linecap=\"butt\" stroke-linejoin=\"miter\" stroke-width=\"1.00\">\n",
       "\t<path d=\"M45.0,384.2 L45.0,376.4 M45.0,55.5 L45.0,63.3  \" stroke=\"rgb(  0,   0,   0)\"/>\t<g fill=\"rgb(38,38,38)\" font-family=\"Arial\" font-size=\"10.00\" stroke=\"none\" text-anchor=\"middle\" transform=\"translate(45.0,398.7)\">\n",
       "\t\t<text><tspan font-family=\"Arial\">0</tspan></text>\n",
       "\t</g>\n",
       "</g>\n",
       "<g color=\"black\" fill=\"none\" stroke=\"currentColor\" stroke-linecap=\"butt\" stroke-linejoin=\"miter\" stroke-width=\"1.00\">\n",
       "\t<path d=\"M144.9,384.2 L144.9,376.4 M144.9,55.5 L144.9,63.3  \" stroke=\"rgb(  0,   0,   0)\"/>\t<g fill=\"rgb(38,38,38)\" font-family=\"Arial\" font-size=\"10.00\" stroke=\"none\" text-anchor=\"middle\" transform=\"translate(144.9,398.7)\">\n",
       "\t\t<text><tspan font-family=\"Arial\">100</tspan></text>\n",
       "\t</g>\n",
       "</g>\n",
       "<g color=\"black\" fill=\"none\" stroke=\"currentColor\" stroke-linecap=\"butt\" stroke-linejoin=\"miter\" stroke-width=\"1.00\">\n",
       "\t<path d=\"M244.7,384.2 L244.7,376.4 M244.7,55.5 L244.7,63.3  \" stroke=\"rgb(  0,   0,   0)\"/>\t<g fill=\"rgb(38,38,38)\" font-family=\"Arial\" font-size=\"10.00\" stroke=\"none\" text-anchor=\"middle\" transform=\"translate(244.7,398.7)\">\n",
       "\t\t<text><tspan font-family=\"Arial\">200</tspan></text>\n",
       "\t</g>\n",
       "</g>\n",
       "<g color=\"black\" fill=\"none\" stroke=\"currentColor\" stroke-linecap=\"butt\" stroke-linejoin=\"miter\" stroke-width=\"1.00\">\n",
       "\t<path d=\"M344.6,384.2 L344.6,376.4 M344.6,55.5 L344.6,63.3  \" stroke=\"rgb(  0,   0,   0)\"/>\t<g fill=\"rgb(38,38,38)\" font-family=\"Arial\" font-size=\"10.00\" stroke=\"none\" text-anchor=\"middle\" transform=\"translate(344.6,398.7)\">\n",
       "\t\t<text><tspan font-family=\"Arial\">300</tspan></text>\n",
       "\t</g>\n",
       "</g>\n",
       "<g color=\"black\" fill=\"none\" stroke=\"currentColor\" stroke-linecap=\"butt\" stroke-linejoin=\"miter\" stroke-width=\"1.00\">\n",
       "\t<path d=\"M444.4,384.2 L444.4,376.4 M444.4,55.5 L444.4,63.3  \" stroke=\"rgb(  0,   0,   0)\"/>\t<g fill=\"rgb(38,38,38)\" font-family=\"Arial\" font-size=\"10.00\" stroke=\"none\" text-anchor=\"middle\" transform=\"translate(444.4,398.7)\">\n",
       "\t\t<text><tspan font-family=\"Arial\">400</tspan></text>\n",
       "\t</g>\n",
       "</g>\n",
       "<g color=\"black\" fill=\"none\" stroke=\"currentColor\" stroke-linecap=\"butt\" stroke-linejoin=\"miter\" stroke-width=\"1.00\">\n",
       "\t<path d=\"M544.3,384.2 L544.3,376.4 M544.3,55.5 L544.3,63.3  \" stroke=\"rgb(  0,   0,   0)\"/>\t<g fill=\"rgb(38,38,38)\" font-family=\"Arial\" font-size=\"10.00\" stroke=\"none\" text-anchor=\"middle\" transform=\"translate(544.3,398.7)\">\n",
       "\t\t<text><tspan font-family=\"Arial\">500</tspan></text>\n",
       "\t</g>\n",
       "</g>\n",
       "<g color=\"black\" fill=\"none\" stroke=\"currentColor\" stroke-linecap=\"butt\" stroke-linejoin=\"miter\" stroke-width=\"1.00\">\n",
       "</g>\n",
       "<g color=\"black\" fill=\"none\" stroke=\"currentColor\" stroke-linecap=\"butt\" stroke-linejoin=\"miter\" stroke-width=\"1.00\">\n",
       "\t<g fill=\"rgb(38,38,38)\" font-family=\"Arial\" font-size=\"11.00\" stroke=\"none\" text-anchor=\"middle\" transform=\"translate(11.3,219.9) rotate(-90)\">\n",
       "\t\t<text><tspan font-family=\"Arial\">Gramos de queque (x2)</tspan></text>\n",
       "\t</g>\n",
       "</g>\n",
       "<g color=\"black\" fill=\"none\" stroke=\"currentColor\" stroke-linecap=\"butt\" stroke-linejoin=\"miter\" stroke-width=\"1.00\">\n",
       "\t<g fill=\"rgb(38,38,38)\" font-family=\"Arial\" font-size=\"11.00\" stroke=\"none\" text-anchor=\"middle\" transform=\"translate(294.6,415.8)\">\n",
       "\t\t<text><tspan font-family=\"Arial\">Unidades de panqueques (x1)</tspan></text>\n",
       "\t</g>\n",
       "</g>\n",
       "<g color=\"black\" fill=\"none\" stroke=\"currentColor\" stroke-linecap=\"butt\" stroke-linejoin=\"miter\" stroke-width=\"1.00\">\n",
       "\t<g fill=\"rgb(0,0,0)\" font-family=\":Bold\" font-size=\"11.00\" stroke=\"none\" text-anchor=\"middle\" transform=\"translate(294.6,20.5)\">\n",
       "\t\t<text><tspan font-family=\"\" font-weight=\"bold\">Region factible definida por las restricciones de</tspan></text>\n",
       "\t</g>\n",
       "\t<g fill=\"rgb(0,0,0)\" font-family=\":Bold\" font-size=\"11.00\" stroke=\"none\" text-anchor=\"middle\" transform=\"translate(294.6,37.0)\">\n",
       "\t\t<text><tspan font-family=\"\" font-weight=\"bold\">disponibilidad de ingredientes y no negatividad de variables de decision</tspan></text>\n",
       "\t</g>\n",
       "</g>\n",
       "<g color=\"black\" fill=\"none\" stroke=\"currentColor\" stroke-linecap=\"butt\" stroke-linejoin=\"miter\" stroke-width=\"1.00\">\n",
       "</g>\n",
       "<g color=\"black\" fill=\"none\" stroke=\"currentColor\" stroke-linecap=\"butt\" stroke-linejoin=\"miter\" stroke-width=\"1.00\">\n",
       "\t<path d=\"M401.2,106.4 L401.2,61.1 L539.1,61.1 L539.1,106.4 L401.2,106.4 Z  \" stroke=\"black\"/></g>\n",
       "\t<g id=\"gnuplot_plot_1a\"><title>Leche</title>\n",
       "<g color=\"#FFFFFF\" fill=\"none\" stroke=\"black\" stroke-linecap=\"butt\" stroke-linejoin=\"miter\" stroke-width=\"0.50\">\n",
       "</g>\n",
       "<g color=\"black\" fill=\"none\" stroke=\"currentColor\" stroke-linecap=\"butt\" stroke-linejoin=\"miter\" stroke-width=\"0.50\">\n",
       "\t<g fill=\"rgb(0,0,0)\" font-family=\"Arial\" font-size=\"9.00\" stroke=\"none\" text-anchor=\"start\" transform=\"translate(444.6,71.7)\">\n",
       "\t\t<text><tspan font-family=\"Arial\">Leche</tspan></text>\n",
       "\t</g>\n",
       "</g>\n",
       "<g color=\"black\" fill=\"none\" stroke=\"currentColor\" stroke-linecap=\"butt\" stroke-linejoin=\"miter\" stroke-width=\"0.50\">\n",
       "\t<path d=\"M407.5,68.7 L438.3,68.7 M45.0,196.4 L52.1,213.0 L59.1,229.6 L66.2,246.2 L73.2,262.8 L80.3,279.4   L87.4,296.0 L94.4,312.6 L101.5,329.2 L108.5,345.8 L115.6,362.4 L122.7,379.0 L124.8,384.2  \" stroke=\"rgb(  0, 255,   0)\"/>\t<use color=\"rgb(  0, 255,   0)\" x=\"422.9\" xlink:href=\"#gpDot\" y=\"68.7\"/>\n",
       "\n",
       "</g>\n",
       "\t</g>\n",
       "\t<g id=\"gnuplot_plot_2a\"><title>Mantequilla</title>\n",
       "<g color=\"black\" fill=\"none\" stroke=\"currentColor\" stroke-linecap=\"butt\" stroke-linejoin=\"miter\" stroke-width=\"0.50\">\n",
       "\t<g fill=\"rgb(0,0,0)\" font-family=\"Arial\" font-size=\"9.00\" stroke=\"none\" text-anchor=\"start\" transform=\"translate(444.6,86.8)\">\n",
       "\t\t<text><tspan font-family=\"Arial\">Mantequilla</tspan></text>\n",
       "\t</g>\n",
       "</g>\n",
       "<g color=\"black\" fill=\"none\" stroke=\"currentColor\" stroke-linecap=\"butt\" stroke-linejoin=\"miter\" stroke-width=\"0.50\">\n",
       "\t<path d=\"M407.5,83.8 L438.3,83.8 M45.0,313.8 L52.1,315.8 L59.1,317.9 L66.2,320.0 L73.2,322.1 L80.3,324.1   L87.4,326.2 L94.4,328.3 L101.5,330.4 L108.5,332.4 L115.6,334.5 L122.7,336.6 L129.7,338.7 L136.8,340.7   L143.9,342.8 L150.9,344.9 L158.0,347.0 L165.0,349.0 L172.1,351.1 L179.2,353.2 L186.2,355.3 L193.3,357.3   L200.3,359.4 L207.4,361.5 L214.5,363.6 L221.5,365.6 L228.6,367.7 L235.6,369.8 L242.7,371.9 L249.8,373.9   L256.8,376.0 L263.9,378.1 L270.9,380.2 L278.0,382.2 L284.7,384.2  \" stroke=\"rgb(255,   0, 255)\"/>\t<use color=\"rgb(255,   0, 255)\" x=\"422.9\" xlink:href=\"#gpDot\" y=\"83.8\"/>\n",
       "\n",
       "</g>\n",
       "\t</g>\n",
       "\t<g id=\"gnuplot_plot_3a\"><title>Region Factible</title>\n",
       "<g color=\"#FFFFFF\" fill=\"none\" stroke=\"rgb(255,   0, 255)\" stroke-linecap=\"butt\" stroke-linejoin=\"miter\" stroke-width=\"1.00\">\n",
       "</g>\n",
       "<g color=\"black\" fill=\"none\" stroke=\"currentColor\" stroke-linecap=\"butt\" stroke-linejoin=\"miter\" stroke-width=\"1.00\">\n",
       "\t<g fill=\"rgb(0,0,0)\" font-family=\"Arial\" font-size=\"9.00\" stroke=\"none\" text-anchor=\"start\" transform=\"translate(444.6,101.9)\">\n",
       "\t\t<text><tspan font-family=\"Arial\">Region Factible</tspan></text>\n",
       "\t</g>\n",
       "</g>\n",
       "<g color=\"black\" fill=\"none\" stroke=\"currentColor\" stroke-linecap=\"butt\" stroke-linejoin=\"miter\" stroke-width=\"1.00\">\n",
       "\t<g shape-rendering=\"crispEdges\" stroke=\"none\">\n",
       "\t\t<polygon fill=\"rgb(255, 255,   0)\" points=\"407.5,102.2 438.3,102.2 438.3,95.5 407.5,95.5 \"/>\n",
       "\t</g>\n",
       "\t<path d=\"M407.5,102.2 L438.3,102.2 L438.3,95.6 L407.5,95.6 L407.5,102.2 Z  \" stroke=\"rgb(255, 255,   0)\"/></g>\n",
       "<g color=\"black\" fill=\"none\" stroke=\"currentColor\" stroke-linecap=\"butt\" stroke-linejoin=\"miter\" stroke-width=\"1.00\">\n",
       "\t<g shape-rendering=\"crispEdges\" stroke=\"none\">\n",
       "\t\t<polygon fill=\"rgb(255, 255,   0)\" points=\"45.0,384.2 45.0,313.8 102.1,330.5 124.9,384.2 45.0,384.2 \"/>\n",
       "\t</g>\n",
       "\t<path d=\"M45.0,384.2 L45.0,313.8 L102.1,330.5 L124.9,384.2 L45.0,384.2  \" stroke=\"rgb(255, 255,   0)\"/></g>\n",
       "\t</g>\n",
       "\t<g id=\"gnuplot_plot_4a\"><title>gnuplot_plot_4a</title>\n",
       "<g color=\"#FFFFFF\" fill=\"none\" stroke=\"rgb(255, 255,   0)\" stroke-linecap=\"butt\" stroke-linejoin=\"miter\" stroke-width=\"0.50\">\n",
       "</g>\n",
       "<g color=\"black\" fill=\"none\" stroke=\"currentColor\" stroke-linecap=\"butt\" stroke-linejoin=\"miter\" stroke-width=\"0.50\">\n",
       "\t<path d=\"M45.0,384.2 L45.0,313.8 L102.1,330.5 L124.9,384.2 L45.0,384.2  \" stroke=\"rgb(  0,   0,   0)\"/></g>\n",
       "\t</g>\n",
       "<g color=\"#FFFFFF\" fill=\"none\" stroke=\"rgb(  0,   0,   0)\" stroke-linecap=\"butt\" stroke-linejoin=\"miter\" stroke-width=\"2.00\">\n",
       "</g>\n",
       "<g color=\"black\" fill=\"none\" stroke=\"currentColor\" stroke-linecap=\"butt\" stroke-linejoin=\"miter\" stroke-width=\"2.00\">\n",
       "</g>\n",
       "<g color=\"black\" fill=\"none\" stroke=\"black\" stroke-linecap=\"butt\" stroke-linejoin=\"miter\" stroke-width=\"0.50\">\n",
       "\t<path d=\"M45.0,384.2 L544.3,384.2 M45.0,55.5 L544.3,55.5 M45.0,384.2 L45.0,55.5 M544.3,384.2 L544.3,55.5    \" stroke=\"rgb( 38,  38,  38)\"/></g>\n",
       "<g color=\"black\" fill=\"none\" stroke=\"rgb( 38,  38,  38)\" stroke-linecap=\"butt\" stroke-linejoin=\"miter\" stroke-width=\"1.00\">\n",
       "</g>\n",
       "<g color=\"black\" fill=\"none\" stroke=\"currentColor\" stroke-linecap=\"butt\" stroke-linejoin=\"miter\" stroke-width=\"1.00\">\n",
       "</g>\n",
       "</g>\n",
       "</svg>"
      ],
      "text/plain": [
       "<IPython.core.display.SVG object>"
      ]
     },
     "metadata": {},
     "output_type": "display_data"
    }
   ],
   "source": [
    "%Solo graficamos restricciones que definen espacio factible (asociadas a mantequilla y leche)\n",
    "\n",
    "x1 = linspace(0,700); %Rango de valores de input para las funciones\n",
    "\n",
    "plot(x1,leche(x1),'g') %color verde para disponibilidad de leche\n",
    "hold on\n",
    "plot(x1,mantequilla(x1),'m') %color morado para disponibilidad de mantequilla\n",
    "fill(v(:,1),v(:,2),'y') % color amarillo para region factible\n",
    "title ({'Region factible definida por las restricciones de' 'disponibilidad de ingredientes y no negatividad de variables de decision'})\n",
    "xlabel ('Unidades de panqueques (x1)')\n",
    "ylabel ('Gramos de queque (x2)')\n",
    "ylim([0 7000])\n",
    "xlim([0 500])\n",
    "legend('Leche','Mantequilla','Region Factible') %Legenda del grafico\n",
    "hold off"
   ]
  },
  {
   "cell_type": "markdown",
   "metadata": {},
   "source": [
    "### iv) Solución óptima"
   ]
  },
  {
   "cell_type": "markdown",
   "metadata": {},
   "source": [
    "#### Curva de nivel función objetivo"
   ]
  },
  {
   "cell_type": "code",
   "execution_count": 14,
   "metadata": {},
   "outputs": [],
   "source": [
    "function x2 = curvadenivel(z,x1)\n",
    "    \n",
    "    #Aplicamos nuevamente truco para evitar error en despeje algebraico: z = c1*x1 + c2*x2 -> x2 = (z-c1*x1)/c2 \n",
    "    c1 = 60;\n",
    "    c2 = 5;\n",
    "    x2 = (z-c1*x1)/c2;\n",
    "    \n",
    "end"
   ]
  },
  {
   "cell_type": "code",
   "execution_count": 15,
   "metadata": {},
   "outputs": [],
   "source": [
    "function z = funcionobjetivo(x1,x2)\n",
    "\n",
    "    z = 60*x1+5*x2;\n",
    "\n",
    "end\n"
   ]
  },
  {
   "cell_type": "code",
   "execution_count": 16,
   "metadata": {},
   "outputs": [
    {
     "name": "stdout",
     "output_type": "stream",
     "text": [
      "ans =  7500\n"
     ]
    }
   ],
   "source": [
    "funcionobjetivo(v2(1),v2(2))"
   ]
  },
  {
   "cell_type": "code",
   "execution_count": 17,
   "metadata": {},
   "outputs": [
    {
     "name": "stdout",
     "output_type": "stream",
     "text": [
      "ans =  9142.9\n"
     ]
    }
   ],
   "source": [
    "funcionobjetivo(v3(1),v3(2))"
   ]
  },
  {
   "cell_type": "code",
   "execution_count": 18,
   "metadata": {},
   "outputs": [
    {
     "name": "stdout",
     "output_type": "stream",
     "text": [
      "ans =  4800\n"
     ]
    }
   ],
   "source": [
    "funcionobjetivo(v4(1),v4(2))"
   ]
  },
  {
   "cell_type": "markdown",
   "metadata": {},
   "source": [
    "#### Gráfico de las curvas de nivel en los vértices"
   ]
  },
  {
   "cell_type": "code",
   "execution_count": 19,
   "metadata": {},
   "outputs": [
    {
     "data": {
      "image/svg+xml": [
       "<svg height=\"420px\" viewBox=\"0 0 560 420\" width=\"560px\" xmlns=\"http://www.w3.org/2000/svg\" xmlns:xlink=\"http://www.w3.org/1999/xlink\">\n",
       "\n",
       "<title>Gnuplot</title>\n",
       "<desc>Produced by GNUPLOT 5.2 patchlevel 6 </desc>\n",
       "\n",
       "<g id=\"gnuplot_canvas\">\n",
       "\n",
       "<rect fill=\"#ffffff\" height=\"420\" width=\"560\" x=\"0\" y=\"0\"/>\n",
       "<defs>\n",
       "\n",
       "\t<circle id=\"gpDot\" r=\"0.5\" stroke=\"currentColor\" stroke-width=\"0.5\"/>\n",
       "\t<path d=\"M-1,0 h2 M0,-1 v2\" id=\"gpPt0\" stroke=\"currentColor\" stroke-width=\"0.357\"/>\n",
       "\t<path d=\"M-1,-1 L1,1 M1,-1 L-1,1\" id=\"gpPt1\" stroke=\"currentColor\" stroke-width=\"0.357\"/>\n",
       "\t<path d=\"M-1,0 L1,0 M0,-1 L0,1 M-1,-1 L1,1 M-1,1 L1,-1\" id=\"gpPt2\" stroke=\"currentColor\" stroke-width=\"0.357\"/>\n",
       "\t<rect height=\"2\" id=\"gpPt3\" stroke=\"currentColor\" stroke-width=\"0.357\" width=\"2\" x=\"-1\" y=\"-1\"/>\n",
       "\t<rect fill=\"currentColor\" height=\"2\" id=\"gpPt4\" stroke=\"currentColor\" stroke-width=\"0.357\" width=\"2\" x=\"-1\" y=\"-1\"/>\n",
       "\t<circle cx=\"0\" cy=\"0\" id=\"gpPt5\" r=\"1\" stroke=\"currentColor\" stroke-width=\"0.357\"/>\n",
       "\t<use fill=\"currentColor\" id=\"gpPt6\" stroke=\"none\" xlink:href=\"#gpPt5\"/>\n",
       "\t<path d=\"M0,-1.33 L-1.33,0.67 L1.33,0.67 z\" id=\"gpPt7\" stroke=\"currentColor\" stroke-width=\"0.357\"/>\n",
       "\t<use fill=\"currentColor\" id=\"gpPt8\" stroke=\"none\" xlink:href=\"#gpPt7\"/>\n",
       "\t<use id=\"gpPt9\" stroke=\"currentColor\" transform=\"rotate(180)\" xlink:href=\"#gpPt7\"/>\n",
       "\t<use fill=\"currentColor\" id=\"gpPt10\" stroke=\"none\" xlink:href=\"#gpPt9\"/>\n",
       "\t<use id=\"gpPt11\" stroke=\"currentColor\" transform=\"rotate(45)\" xlink:href=\"#gpPt3\"/>\n",
       "\t<use fill=\"currentColor\" id=\"gpPt12\" stroke=\"none\" xlink:href=\"#gpPt11\"/>\n",
       "\t<path d=\"M0,1.330 L1.265,0.411 L0.782,-1.067 L-0.782,-1.076 L-1.265,0.411 z\" id=\"gpPt13\" stroke=\"currentColor\" stroke-width=\"0.357\"/>\n",
       "\t<use fill=\"currentColor\" id=\"gpPt14\" stroke=\"none\" xlink:href=\"#gpPt13\"/>\n",
       "\t<filter filterUnits=\"objectBoundingBox\" height=\"1\" id=\"textbox\" width=\"1\" x=\"0\" y=\"0\">\n",
       "\t  <feFlood flood-color=\"#FFFFFF\" flood-opacity=\"1\" result=\"bgnd\"/>\n",
       "\t  <feComposite in=\"SourceGraphic\" in2=\"bgnd\" operator=\"atop\"/>\n",
       "\t</filter>\n",
       "\t<filter filterUnits=\"objectBoundingBox\" height=\"1\" id=\"greybox\" width=\"1\" x=\"0\" y=\"0\">\n",
       "\t  <feFlood flood-color=\"lightgrey\" flood-opacity=\"1\" result=\"grey\"/>\n",
       "\t  <feComposite in=\"SourceGraphic\" in2=\"grey\" operator=\"atop\"/>\n",
       "\t</filter>\n",
       "</defs>\n",
       "<g color=\"#FFFFFF\" fill=\"none\" stroke=\"currentColor\" stroke-linecap=\"butt\" stroke-linejoin=\"miter\" stroke-width=\"1.00\">\n",
       "</g>\n",
       "<g color=\"black\" fill=\"none\" stroke=\"currentColor\" stroke-linecap=\"butt\" stroke-linejoin=\"miter\" stroke-width=\"1.00\">\n",
       "\t<g shape-rendering=\"crispEdges\" stroke=\"none\">\n",
       "\t\t<polygon fill=\"rgb(255, 255, 255)\" points=\"45.0,384.2 544.2,384.2 544.2,39.1 45.0,39.1 \"/>\n",
       "\t</g>\n",
       "</g>\n",
       "<g color=\"black\" fill=\"none\" stroke=\"currentColor\" stroke-linecap=\"butt\" stroke-linejoin=\"miter\" stroke-width=\"1.00\">\n",
       "\t<path d=\"M45.0,384.2 L52.8,384.2 M544.3,384.2 L536.5,384.2  \" stroke=\"rgb(  0,   0,   0)\"/>\t<g fill=\"rgb(38,38,38)\" font-family=\"Arial\" font-size=\"10.00\" stroke=\"none\" text-anchor=\"end\" transform=\"translate(39.8,387.5)\">\n",
       "\t\t<text><tspan font-family=\"Arial\">0</tspan></text>\n",
       "\t</g>\n",
       "</g>\n",
       "<g color=\"black\" fill=\"none\" stroke=\"currentColor\" stroke-linecap=\"butt\" stroke-linejoin=\"miter\" stroke-width=\"1.00\">\n",
       "\t<path d=\"M45.0,334.9 L52.8,334.9 M544.3,334.9 L536.5,334.9  \" stroke=\"rgb(  0,   0,   0)\"/>\t<g fill=\"rgb(38,38,38)\" font-family=\"Arial\" font-size=\"10.00\" stroke=\"none\" text-anchor=\"end\" transform=\"translate(39.8,338.2)\">\n",
       "\t\t<text><tspan font-family=\"Arial\">1000</tspan></text>\n",
       "\t</g>\n",
       "</g>\n",
       "<g color=\"black\" fill=\"none\" stroke=\"currentColor\" stroke-linecap=\"butt\" stroke-linejoin=\"miter\" stroke-width=\"1.00\">\n",
       "\t<path d=\"M45.0,285.6 L52.8,285.6 M544.3,285.6 L536.5,285.6  \" stroke=\"rgb(  0,   0,   0)\"/>\t<g fill=\"rgb(38,38,38)\" font-family=\"Arial\" font-size=\"10.00\" stroke=\"none\" text-anchor=\"end\" transform=\"translate(39.8,288.9)\">\n",
       "\t\t<text><tspan font-family=\"Arial\">2000</tspan></text>\n",
       "\t</g>\n",
       "</g>\n",
       "<g color=\"black\" fill=\"none\" stroke=\"currentColor\" stroke-linecap=\"butt\" stroke-linejoin=\"miter\" stroke-width=\"1.00\">\n",
       "\t<path d=\"M45.0,236.3 L52.8,236.3 M544.3,236.3 L536.5,236.3  \" stroke=\"rgb(  0,   0,   0)\"/>\t<g fill=\"rgb(38,38,38)\" font-family=\"Arial\" font-size=\"10.00\" stroke=\"none\" text-anchor=\"end\" transform=\"translate(39.8,239.6)\">\n",
       "\t\t<text><tspan font-family=\"Arial\">3000</tspan></text>\n",
       "\t</g>\n",
       "</g>\n",
       "<g color=\"black\" fill=\"none\" stroke=\"currentColor\" stroke-linecap=\"butt\" stroke-linejoin=\"miter\" stroke-width=\"1.00\">\n",
       "\t<path d=\"M45.0,186.9 L52.8,186.9 M544.3,186.9 L536.5,186.9  \" stroke=\"rgb(  0,   0,   0)\"/>\t<g fill=\"rgb(38,38,38)\" font-family=\"Arial\" font-size=\"10.00\" stroke=\"none\" text-anchor=\"end\" transform=\"translate(39.8,190.2)\">\n",
       "\t\t<text><tspan font-family=\"Arial\">4000</tspan></text>\n",
       "\t</g>\n",
       "</g>\n",
       "<g color=\"black\" fill=\"none\" stroke=\"currentColor\" stroke-linecap=\"butt\" stroke-linejoin=\"miter\" stroke-width=\"1.00\">\n",
       "\t<path d=\"M45.0,137.6 L52.8,137.6 M544.3,137.6 L536.5,137.6  \" stroke=\"rgb(  0,   0,   0)\"/>\t<g fill=\"rgb(38,38,38)\" font-family=\"Arial\" font-size=\"10.00\" stroke=\"none\" text-anchor=\"end\" transform=\"translate(39.8,140.9)\">\n",
       "\t\t<text><tspan font-family=\"Arial\">5000</tspan></text>\n",
       "\t</g>\n",
       "</g>\n",
       "<g color=\"black\" fill=\"none\" stroke=\"currentColor\" stroke-linecap=\"butt\" stroke-linejoin=\"miter\" stroke-width=\"1.00\">\n",
       "\t<path d=\"M45.0,88.3 L52.8,88.3 M544.3,88.3 L536.5,88.3  \" stroke=\"rgb(  0,   0,   0)\"/>\t<g fill=\"rgb(38,38,38)\" font-family=\"Arial\" font-size=\"10.00\" stroke=\"none\" text-anchor=\"end\" transform=\"translate(39.8,91.6)\">\n",
       "\t\t<text><tspan font-family=\"Arial\">6000</tspan></text>\n",
       "\t</g>\n",
       "</g>\n",
       "<g color=\"black\" fill=\"none\" stroke=\"currentColor\" stroke-linecap=\"butt\" stroke-linejoin=\"miter\" stroke-width=\"1.00\">\n",
       "\t<path d=\"M45.0,39.0 L52.8,39.0 M544.3,39.0 L536.5,39.0  \" stroke=\"rgb(  0,   0,   0)\"/>\t<g fill=\"rgb(38,38,38)\" font-family=\"Arial\" font-size=\"10.00\" stroke=\"none\" text-anchor=\"end\" transform=\"translate(39.8,42.3)\">\n",
       "\t\t<text><tspan font-family=\"Arial\">7000</tspan></text>\n",
       "\t</g>\n",
       "</g>\n",
       "<g color=\"black\" fill=\"none\" stroke=\"currentColor\" stroke-linecap=\"butt\" stroke-linejoin=\"miter\" stroke-width=\"1.00\">\n",
       "\t<path d=\"M45.0,384.2 L45.0,376.4 M45.0,39.0 L45.0,46.8  \" stroke=\"rgb(  0,   0,   0)\"/>\t<g fill=\"rgb(38,38,38)\" font-family=\"Arial\" font-size=\"10.00\" stroke=\"none\" text-anchor=\"middle\" transform=\"translate(45.0,398.7)\">\n",
       "\t\t<text><tspan font-family=\"Arial\">0</tspan></text>\n",
       "\t</g>\n",
       "</g>\n",
       "<g color=\"black\" fill=\"none\" stroke=\"currentColor\" stroke-linecap=\"butt\" stroke-linejoin=\"miter\" stroke-width=\"1.00\">\n",
       "\t<path d=\"M144.9,384.2 L144.9,376.4 M144.9,39.0 L144.9,46.8  \" stroke=\"rgb(  0,   0,   0)\"/>\t<g fill=\"rgb(38,38,38)\" font-family=\"Arial\" font-size=\"10.00\" stroke=\"none\" text-anchor=\"middle\" transform=\"translate(144.9,398.7)\">\n",
       "\t\t<text><tspan font-family=\"Arial\">100</tspan></text>\n",
       "\t</g>\n",
       "</g>\n",
       "<g color=\"black\" fill=\"none\" stroke=\"currentColor\" stroke-linecap=\"butt\" stroke-linejoin=\"miter\" stroke-width=\"1.00\">\n",
       "\t<path d=\"M244.7,384.2 L244.7,376.4 M244.7,39.0 L244.7,46.8  \" stroke=\"rgb(  0,   0,   0)\"/>\t<g fill=\"rgb(38,38,38)\" font-family=\"Arial\" font-size=\"10.00\" stroke=\"none\" text-anchor=\"middle\" transform=\"translate(244.7,398.7)\">\n",
       "\t\t<text><tspan font-family=\"Arial\">200</tspan></text>\n",
       "\t</g>\n",
       "</g>\n",
       "<g color=\"black\" fill=\"none\" stroke=\"currentColor\" stroke-linecap=\"butt\" stroke-linejoin=\"miter\" stroke-width=\"1.00\">\n",
       "\t<path d=\"M344.6,384.2 L344.6,376.4 M344.6,39.0 L344.6,46.8  \" stroke=\"rgb(  0,   0,   0)\"/>\t<g fill=\"rgb(38,38,38)\" font-family=\"Arial\" font-size=\"10.00\" stroke=\"none\" text-anchor=\"middle\" transform=\"translate(344.6,398.7)\">\n",
       "\t\t<text><tspan font-family=\"Arial\">300</tspan></text>\n",
       "\t</g>\n",
       "</g>\n",
       "<g color=\"black\" fill=\"none\" stroke=\"currentColor\" stroke-linecap=\"butt\" stroke-linejoin=\"miter\" stroke-width=\"1.00\">\n",
       "\t<path d=\"M444.4,384.2 L444.4,376.4 M444.4,39.0 L444.4,46.8  \" stroke=\"rgb(  0,   0,   0)\"/>\t<g fill=\"rgb(38,38,38)\" font-family=\"Arial\" font-size=\"10.00\" stroke=\"none\" text-anchor=\"middle\" transform=\"translate(444.4,398.7)\">\n",
       "\t\t<text><tspan font-family=\"Arial\">400</tspan></text>\n",
       "\t</g>\n",
       "</g>\n",
       "<g color=\"black\" fill=\"none\" stroke=\"currentColor\" stroke-linecap=\"butt\" stroke-linejoin=\"miter\" stroke-width=\"1.00\">\n",
       "\t<path d=\"M544.3,384.2 L544.3,376.4 M544.3,39.0 L544.3,46.8  \" stroke=\"rgb(  0,   0,   0)\"/>\t<g fill=\"rgb(38,38,38)\" font-family=\"Arial\" font-size=\"10.00\" stroke=\"none\" text-anchor=\"middle\" transform=\"translate(544.3,398.7)\">\n",
       "\t\t<text><tspan font-family=\"Arial\">500</tspan></text>\n",
       "\t</g>\n",
       "</g>\n",
       "<g color=\"black\" fill=\"none\" stroke=\"currentColor\" stroke-linecap=\"butt\" stroke-linejoin=\"miter\" stroke-width=\"1.00\">\n",
       "</g>\n",
       "<g color=\"black\" fill=\"none\" stroke=\"currentColor\" stroke-linecap=\"butt\" stroke-linejoin=\"miter\" stroke-width=\"1.00\">\n",
       "\t<g fill=\"rgb(38,38,38)\" font-family=\"Arial\" font-size=\"11.00\" stroke=\"none\" text-anchor=\"middle\" transform=\"translate(11.3,211.6) rotate(-90)\">\n",
       "\t\t<text><tspan font-family=\"Arial\">Gramos de queque (x2)</tspan></text>\n",
       "\t</g>\n",
       "</g>\n",
       "<g color=\"black\" fill=\"none\" stroke=\"currentColor\" stroke-linecap=\"butt\" stroke-linejoin=\"miter\" stroke-width=\"1.00\">\n",
       "\t<g fill=\"rgb(38,38,38)\" font-family=\"Arial\" font-size=\"11.00\" stroke=\"none\" text-anchor=\"middle\" transform=\"translate(294.6,415.8)\">\n",
       "\t\t<text><tspan font-family=\"Arial\">Unidades de panqueques (x1)</tspan></text>\n",
       "\t</g>\n",
       "</g>\n",
       "<g color=\"black\" fill=\"none\" stroke=\"currentColor\" stroke-linecap=\"butt\" stroke-linejoin=\"miter\" stroke-width=\"1.00\">\n",
       "\t<g fill=\"rgb(0,0,0)\" font-family=\":Bold\" font-size=\"11.00\" stroke=\"none\" text-anchor=\"middle\" transform=\"translate(294.6,20.5)\">\n",
       "\t\t<text><tspan font-family=\"\" font-weight=\"bold\">Curvas de nivel de la funcion objetivo</tspan></text>\n",
       "\t</g>\n",
       "</g>\n",
       "<g color=\"black\" fill=\"none\" stroke=\"currentColor\" stroke-linecap=\"butt\" stroke-linejoin=\"miter\" stroke-width=\"1.00\">\n",
       "</g>\n",
       "<g color=\"black\" fill=\"none\" stroke=\"currentColor\" stroke-linecap=\"butt\" stroke-linejoin=\"miter\" stroke-width=\"1.00\">\n",
       "\t<path d=\"M369.7,89.9 L369.7,44.6 L539.1,44.6 L539.1,89.9 L369.7,89.9 Z  \" stroke=\"black\"/></g>\n",
       "\t<g id=\"gnuplot_plot_1a\"><title>gnuplot_plot_1a</title>\n",
       "<g color=\"black\" fill=\"none\" stroke=\"currentColor\" stroke-linecap=\"butt\" stroke-linejoin=\"miter\" stroke-width=\"1.00\">\n",
       "\t<g shape-rendering=\"crispEdges\" stroke=\"none\">\n",
       "\t\t<polygon fill=\"rgb(255, 255, 255)\" points=\"45.0,384.2 45.0,310.2 102.1,327.8 124.9,384.2 45.0,384.2 \"/>\n",
       "\t</g>\n",
       "\t<path d=\"M45.0,384.2 L45.0,310.2 L102.1,327.8 L124.9,384.2 L45.0,384.2  \" stroke=\"rgb(255, 255, 255)\"/></g>\n",
       "\t</g>\n",
       "\t<g id=\"gnuplot_plot_2a\"><title>gnuplot_plot_2a</title>\n",
       "<g color=\"#FFFFFF\" fill=\"none\" stroke=\"rgb(255, 255, 255)\" stroke-linecap=\"butt\" stroke-linejoin=\"miter\" stroke-width=\"0.50\">\n",
       "</g>\n",
       "<g color=\"black\" fill=\"none\" stroke=\"currentColor\" stroke-linecap=\"butt\" stroke-linejoin=\"miter\" stroke-width=\"0.50\">\n",
       "\t<path d=\"M45.0,384.2 L45.0,310.2 L102.1,327.8 L124.9,384.2 L45.0,384.2  \" stroke=\"rgb(  0,   0,   0)\"/></g>\n",
       "\t</g>\n",
       "\t<g id=\"gnuplot_plot_3a\"><title>z = $4800</title>\n",
       "<g color=\"black\" fill=\"none\" stroke=\"currentColor\" stroke-linecap=\"butt\" stroke-linejoin=\"miter\" stroke-width=\"0.50\">\n",
       "\t<g fill=\"rgb(0,0,0)\" font-family=\"Arial\" font-size=\"9.00\" stroke=\"none\" text-anchor=\"start\" transform=\"translate(413.1,55.2)\">\n",
       "\t\t<text><tspan font-family=\"Arial\">z = $4800</tspan></text>\n",
       "\t</g>\n",
       "</g>\n",
       "<g color=\"black\" fill=\"none\" stroke=\"currentColor\" stroke-linecap=\"butt\" stroke-linejoin=\"miter\" stroke-width=\"0.50\">\n",
       "\t<path d=\"M376.0,52.2 L406.8,52.2 M45.0,336.9 L52.1,341.0 L59.1,345.2 L66.2,349.4 L73.2,353.6 L80.3,357.8   L87.4,362.0 L94.4,366.1 L101.5,370.3 L108.5,374.5 L115.6,378.7 L122.7,382.9 L124.8,384.2  \" stroke=\"rgb(  0, 255,   0)\" stroke-dasharray=\"5.0,5.0\"/>\t<use color=\"rgb(  0, 255,   0)\" x=\"391.4\" xlink:href=\"#gpDot\" y=\"52.2\"/>\n",
       "\n",
       "</g>\n",
       "\t</g>\n",
       "\t<g id=\"gnuplot_plot_4a\"><title>z = $7500</title>\n",
       "<g color=\"black\" fill=\"none\" stroke=\"currentColor\" stroke-linecap=\"butt\" stroke-linejoin=\"miter\" stroke-width=\"0.50\">\n",
       "\t<g fill=\"rgb(0,0,0)\" font-family=\"Arial\" font-size=\"9.00\" stroke=\"none\" text-anchor=\"start\" transform=\"translate(413.1,70.3)\">\n",
       "\t\t<text><tspan font-family=\"Arial\">z = $7500</tspan></text>\n",
       "\t</g>\n",
       "</g>\n",
       "<g color=\"black\" fill=\"none\" stroke=\"currentColor\" stroke-linecap=\"butt\" stroke-linejoin=\"miter\" stroke-width=\"0.50\">\n",
       "\t<path d=\"M376.0,67.3 L406.8,67.3 M45.0,310.2 L52.1,314.4 L59.1,318.6 L66.2,322.8 L73.2,327.0 L80.3,331.1   L87.4,335.3 L94.4,339.5 L101.5,343.7 L108.5,347.9 L115.6,352.1 L122.7,356.3 L129.7,360.4 L136.8,364.6   L143.9,368.8 L150.9,373.0 L158.0,377.2 L165.0,381.4 L169.8,384.2  \" stroke=\"rgb(255,   0,   0)\" stroke-dasharray=\"5.0,5.0\"/>\t<use color=\"rgb(255,   0,   0)\" x=\"391.4\" xlink:href=\"#gpDot\" y=\"67.3\"/>\n",
       "\n",
       "</g>\n",
       "\t</g>\n",
       "\t<g id=\"gnuplot_plot_5a\"><title>z = $9142.9 (optimo)</title>\n",
       "<g color=\"black\" fill=\"none\" stroke=\"currentColor\" stroke-linecap=\"butt\" stroke-linejoin=\"miter\" stroke-width=\"0.50\">\n",
       "\t<g fill=\"rgb(0,0,0)\" font-family=\"Arial\" font-size=\"9.00\" stroke=\"none\" text-anchor=\"start\" transform=\"translate(413.1,85.4)\">\n",
       "\t\t<text><tspan font-family=\"Arial\">z = $9142.9 (optimo)</tspan></text>\n",
       "\t</g>\n",
       "</g>\n",
       "<g color=\"black\" fill=\"none\" stroke=\"currentColor\" stroke-linecap=\"butt\" stroke-linejoin=\"miter\" stroke-width=\"0.50\">\n",
       "\t<path d=\"M376.0,82.4 L406.8,82.4 M45.0,294.0 L52.1,298.2 L59.1,302.4 L66.2,306.6 L73.2,310.8 L80.3,314.9   L87.4,319.1 L94.4,323.3 L101.5,327.5 L108.5,331.7 L115.6,335.9 L122.7,340.1 L129.7,344.2 L136.8,348.4   L143.9,352.6 L150.9,356.8 L158.0,361.0 L165.0,365.2 L172.1,369.3 L179.2,373.5 L186.2,377.7 L193.3,381.9   L197.1,384.2  \" stroke=\"rgb(  0,   0, 255)\" stroke-dasharray=\"5.0,5.0\"/>\t<use color=\"rgb(  0,   0, 255)\" x=\"391.4\" xlink:href=\"#gpDot\" y=\"82.4\"/>\n",
       "\n",
       "</g>\n",
       "\t</g>\n",
       "<g color=\"#FFFFFF\" fill=\"none\" stroke=\"rgb(  0,   0, 255)\" stroke-linecap=\"butt\" stroke-linejoin=\"miter\" stroke-width=\"2.00\">\n",
       "</g>\n",
       "<g color=\"black\" fill=\"none\" stroke=\"currentColor\" stroke-linecap=\"butt\" stroke-linejoin=\"miter\" stroke-width=\"2.00\">\n",
       "</g>\n",
       "<g color=\"black\" fill=\"none\" stroke=\"black\" stroke-linecap=\"butt\" stroke-linejoin=\"miter\" stroke-width=\"0.50\">\n",
       "\t<path d=\"M45.0,384.2 L544.3,384.2 M45.0,39.0 L544.3,39.0 M45.0,384.2 L45.0,39.0 M544.3,384.2 L544.3,39.0    \" stroke=\"rgb( 38,  38,  38)\"/></g>\n",
       "<g color=\"black\" fill=\"none\" stroke=\"rgb( 38,  38,  38)\" stroke-linecap=\"butt\" stroke-linejoin=\"miter\" stroke-width=\"1.00\">\n",
       "</g>\n",
       "<g color=\"black\" fill=\"none\" stroke=\"currentColor\" stroke-linecap=\"butt\" stroke-linejoin=\"miter\" stroke-width=\"1.00\">\n",
       "</g>\n",
       "</g>\n",
       "</svg>"
      ],
      "text/plain": [
       "<IPython.core.display.SVG object>"
      ]
     },
     "metadata": {},
     "output_type": "display_data"
    }
   ],
   "source": [
    "x1 = linspace(0,700); %Rango de valores de input para las funciones\n",
    "\n",
    "\n",
    "fill(v(:,1),v(:,2),'w','EdgeColor','k')\n",
    "hold on\n",
    "c1 = plot(x1,curvadenivel(funcionobjetivo(v4(1),v4(2)),x1),'--g'); %Curva de nivel en el vértice 4 (FO: $4800)\n",
    "hold on\n",
    "c2 = plot(x1,curvadenivel(funcionobjetivo(v2(1),v2(2)),x1),'--r'); %Curva de nivel en el vertice 2 (FO: $7500)\n",
    "hold on\n",
    "c3 = plot(x1,curvadenivel(funcionobjetivo(v3(1),v3(2)),x1),'--b'); %Curva de nivel en el vértice 3 (FO: $9142.9)\n",
    "hold on\n",
    "title ('Curvas de nivel de la funcion objetivo')\n",
    "xlabel ('Unidades de panqueques (x1)')\n",
    "ylabel ('Gramos de queque (x2)')\n",
    "ylim([0 7000])\n",
    "xlim([0 500])\n",
    "legend([c1 c2 c3], 'z = $4800','z = $7500','z = $9142.9 (optimo)')\n",
    "hold off"
   ]
  },
  {
   "cell_type": "markdown",
   "metadata": {},
   "source": [
    "#### Valor optimo"
   ]
  },
  {
   "cell_type": "code",
   "execution_count": 20,
   "metadata": {},
   "outputs": [
    {
     "name": "stdout",
     "output_type": "stream",
     "text": [
      "vopt =\n",
      "\n",
      "     57.143   1142.857\n",
      "\n"
     ]
    }
   ],
   "source": [
    "vopt = v3 #Variables de decisión en vértice óptimo (v3)"
   ]
  },
  {
   "cell_type": "code",
   "execution_count": 21,
   "metadata": {},
   "outputs": [
    {
     "name": "stdout",
     "output_type": "stream",
     "text": [
      "FOopt =  9142.9\n"
     ]
    }
   ],
   "source": [
    "FOopt = funcionobjetivo(vopt(1),vopt(2)) #Utilidad óptima en vértice óptimo (v3)"
   ]
  },
  {
   "cell_type": "raw",
   "metadata": {},
   "source": [
    "%%latex\n",
    "\\newpage"
   ]
  },
  {
   "cell_type": "markdown",
   "metadata": {},
   "source": [
    "# c) Verifique el valor óptimo identificado en la parte de anterior utilizado el Solver de Microsoft Excel y de GNU Octave."
   ]
  },
  {
   "cell_type": "markdown",
   "metadata": {},
   "source": [
    "## Matriz de restricciones"
   ]
  },
  {
   "cell_type": "code",
   "execution_count": 22,
   "metadata": {},
   "outputs": [
    {
     "name": "stdout",
     "output_type": "stream",
     "text": [
      "A =\n",
      "\n",
      "   0.0500000   0.0040000\n",
      "   0.0750000   0.0060000\n",
      "   0.1000000   0.0020000\n",
      "   0.0125000   0.0010000\n",
      "   3.1250000   0.5000000\n",
      "\n"
     ]
    }
   ],
   "source": [
    "A=[2/40 2/500; 3/40 3/500;4/40 1/500;0.5/40 0.5/500; 125/40 250/500]"
   ]
  },
  {
   "cell_type": "markdown",
   "metadata": {},
   "source": [
    "## Lado derecho restricciones "
   ]
  },
  {
   "cell_type": "code",
   "execution_count": 23,
   "metadata": {},
   "outputs": [
    {
     "name": "stdout",
     "output_type": "stream",
     "text": [
      "b =\n",
      "\n",
      "    10    12     8     6   750\n",
      "\n"
     ]
    }
   ],
   "source": [
    "b=[10 12 8 6 750]"
   ]
  },
  {
   "cell_type": "markdown",
   "metadata": {},
   "source": [
    "## Ponderadores función objetivo"
   ]
  },
  {
   "cell_type": "code",
   "execution_count": 24,
   "metadata": {},
   "outputs": [
    {
     "name": "stdout",
     "output_type": "stream",
     "text": [
      "c =\n",
      "\n",
      "   60    5\n",
      "\n"
     ]
    }
   ],
   "source": [
    "c=[60 5]"
   ]
  },
  {
   "cell_type": "markdown",
   "metadata": {},
   "source": [
    "## Parámetros del optimizador"
   ]
  },
  {
   "cell_type": "code",
   "execution_count": 25,
   "metadata": {},
   "outputs": [],
   "source": [
    "lb=[0,0];\n",
    "ub=[];\n",
    "ctype='UUUUU';\n",
    "vtype='CC';\n",
    "param.msglev=2;"
   ]
  },
  {
   "cell_type": "markdown",
   "metadata": {},
   "source": [
    "## Optimización"
   ]
  },
  {
   "cell_type": "markdown",
   "metadata": {},
   "source": [
    "### Solución óptima continua"
   ]
  },
  {
   "cell_type": "code",
   "execution_count": 26,
   "metadata": {},
   "outputs": [
    {
     "name": "stdout",
     "output_type": "stream",
     "text": [
      "*     0: obj =  -0.000000000e+00 inf =   0.000e+00 (2)\n",
      "*     2: obj =   9.142857143e+03 inf =   0.000e+00 (0)\n",
      "ans =\n",
      "\n",
      "     57.143\n",
      "   1142.857\n",
      "\n"
     ]
    }
   ],
   "source": [
    "glpk(c, A, b, lb, ub,ctype,vtype,s=-1,param)"
   ]
  },
  {
   "cell_type": "markdown",
   "metadata": {},
   "source": [
    "* Función objetivo: $\\$9143$  <br />\n",
    "* Variables de decisión: $x_1 = 57.143$, $x_2 = 1142.857$  <br />\n",
    "* Así verificamos que la solución coincide con la encontrada por medio del método gráfico"
   ]
  },
  {
   "cell_type": "markdown",
   "metadata": {},
   "source": [
    "### Solución óptima entera"
   ]
  },
  {
   "cell_type": "code",
   "execution_count": 27,
   "metadata": {},
   "outputs": [
    {
     "name": "stdout",
     "output_type": "stream",
     "text": [
      "*     0: obj =  -0.000000000e+00 inf =   0.000e+00 (2)\n",
      "*     3: obj =   9.142857143e+03 inf =   0.000e+00 (0)\n",
      "Long-step dual simplex will be used\n",
      "+     3: mip =     not found yet <=              +inf        (1; 0)\n",
      "#     3: obj =   9.142857143e+03 inf =   0.000e+00 (0)\n",
      "Solution found by heuristic: 9135\n",
      "+     3: mip =   9.135000000e+03 <=     tree is empty   0.0% (0; 1)\n",
      "ans =\n",
      "\n",
      "     57\n",
      "   1143\n",
      "\n"
     ]
    }
   ],
   "source": [
    "vtype='II';\n",
    "glpk(c, A, b, lb, ub,ctype,vtype,s=-1,param)"
   ]
  },
  {
   "cell_type": "markdown",
   "metadata": {},
   "source": [
    "* Función objetivo: $\\$9135$  <br />\n",
    "* Variables de decisión: $x_1 = 57$, $x_2 = 1143$"
   ]
  }
 ],
 "metadata": {
  "kernelspec": {
   "display_name": "Octave",
   "language": "octave",
   "name": "octave"
  },
  "language_info": {
   "file_extension": ".m",
   "help_links": [
    {
     "text": "GNU Octave",
     "url": "https://www.gnu.org/software/octave/support.html"
    },
    {
     "text": "Octave Kernel",
     "url": "https://github.com/Calysto/octave_kernel"
    },
    {
     "text": "MetaKernel Magics",
     "url": "https://github.com/calysto/metakernel/blob/master/metakernel/magics/README.md"
    }
   ],
   "mimetype": "text/x-octave",
   "name": "octave",
   "version": "5.1.0"
  }
 },
 "nbformat": 4,
 "nbformat_minor": 2
}
