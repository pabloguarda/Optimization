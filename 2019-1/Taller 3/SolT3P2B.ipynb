{
 "cells": [
  {
   "cell_type": "markdown",
   "metadata": {},
   "source": [
    "# b) Determine la solución óptima del problema anterior desarrollando a mano todas las iteraciones del método simplex. Verifique su respuesta mediante la herramienta Solver de GNU Octave"
   ]
  },
  {
   "cell_type": "code",
   "execution_count": 1,
   "metadata": {},
   "outputs": [],
   "source": [
    "clear"
   ]
  },
  {
   "cell_type": "code",
   "execution_count": 2,
   "metadata": {},
   "outputs": [
    {
     "name": "stdout",
     "output_type": "stream",
     "text": [
      "c =\n",
      "\n",
      "   5   9   7   0   0   0\n",
      "\n",
      "A =\n",
      "\n",
      "   1   3   2   1   0   0\n",
      "   3   4   2   0   1   0\n",
      "   2   1   2   0   0   1\n",
      "\n",
      "b =\n",
      "\n",
      "   10\n",
      "   12\n",
      "    8\n",
      "\n",
      "lb =\n",
      "\n",
      "   0\n",
      "   0\n",
      "   0\n",
      "   0\n",
      "   0\n",
      "   0\n",
      "\n",
      "ub = [](0x0)\n",
      "ctype = UUU\n",
      "vtype = CCCCCC\n"
     ]
    }
   ],
   "source": [
    "c=[5 9 7 0 0 0]\n",
    "A=[1 3 2 1 0 0; 3 4 2 0 1 0; 2 1 2 0 0 1]\n",
    "b=[10;12;8]\n",
    "lb=[0,0,0,0,0,0]'\n",
    "ub=[]\n",
    "ctype='UUU'\n",
    "vtype='CCCCCC'\n",
    "param.msglev=2;"
   ]
  },
  {
   "cell_type": "code",
   "execution_count": 3,
   "metadata": {},
   "outputs": [
    {
     "name": "stdout",
     "output_type": "stream",
     "text": [
      "*     0: obj =  -0.000000000e+00 inf =   0.000e+00 (3)\n",
      "*     3: obj =   3.380000000e+01 inf =   0.000e+00 (0)\n",
      "ans =\n",
      "\n",
      "   0.40000\n",
      "   1.20000\n",
      "   3.00000\n",
      "   0.00000\n",
      "   0.00000\n",
      "   0.00000\n",
      "\n"
     ]
    }
   ],
   "source": [
    "glpk(c, A, b, lb, ub,ctype,vtype,s=-1,param)"
   ]
  },
  {
   "cell_type": "markdown",
   "metadata": {},
   "source": [
    "## Solución optima"
   ]
  },
  {
   "cell_type": "markdown",
   "metadata": {},
   "source": [
    "* Función objetivo: 33.8  <br />\n",
    "* Variables de decisión: $x_1 = 0.4, x_2 = 1.2, x_3 = 3, x_4 = 0, x_5 = 0, x_6 = 0 $"
   ]
  }
 ],
 "metadata": {
  "kernelspec": {
   "display_name": "Octave",
   "language": "octave",
   "name": "octave"
  },
  "language_info": {
   "file_extension": ".m",
   "help_links": [
    {
     "text": "GNU Octave",
     "url": "https://www.gnu.org/software/octave/support.html"
    },
    {
     "text": "Octave Kernel",
     "url": "https://github.com/Calysto/octave_kernel"
    },
    {
     "text": "MetaKernel Magics",
     "url": "https://github.com/calysto/metakernel/blob/master/metakernel/magics/README.md"
    }
   ],
   "mimetype": "text/x-octave",
   "name": "octave",
   "version": "5.1.0"
  }
 },
 "nbformat": 4,
 "nbformat_minor": 2
}
