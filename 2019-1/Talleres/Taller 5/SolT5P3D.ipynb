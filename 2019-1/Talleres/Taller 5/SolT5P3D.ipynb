{
 "cells": [
  {
   "cell_type": "markdown",
   "metadata": {},
   "source": [
    "# d) Para el rango encontrado en (c), grafique con Octave los ingresos totales de la fábrica para todos los valores posibles de costos de la plancha 1 y 2.  "
   ]
  },
  {
   "cell_type": "code",
   "execution_count": 1,
   "metadata": {},
   "outputs": [],
   "source": [
    "clear % eliminar todas las variables creadas previamente\n",
    "clc % limpiar consola"
   ]
  },
  {
   "cell_type": "markdown",
   "metadata": {},
   "source": [
    "## Función objetivo"
   ]
  },
  {
   "cell_type": "code",
   "execution_count": 2,
   "metadata": {},
   "outputs": [],
   "source": [
    "function z = funcionobjetivo(x1,x2,c1)\n",
    "\n",
    "    z = c1*x1+600*x2;\n",
    "\n",
    "end\n"
   ]
  },
  {
   "cell_type": "code",
   "execution_count": 3,
   "metadata": {},
   "outputs": [
    {
     "name": "stdout",
     "output_type": "stream",
     "text": [
      "solOpt =\n",
      "\n",
      "   30   30\n",
      "\n"
     ]
    }
   ],
   "source": [
    "solOpt = [30,30] % x1,x2"
   ]
  },
  {
   "cell_type": "markdown",
   "metadata": {},
   "source": [
    "## Utilidad óptima total para distintos valores de los ingresos netos asociados a la plancha de aluminio tipo 1"
   ]
  },
  {
   "cell_type": "code",
   "execution_count": 4,
   "metadata": {},
   "outputs": [
    {
     "data": {
      "image/svg+xml": [
       "<svg height=\"420px\" viewBox=\"0 0 560 420\" width=\"560px\" xmlns=\"http://www.w3.org/2000/svg\" xmlns:xlink=\"http://www.w3.org/1999/xlink\">\n",
       "\n",
       "<title>Gnuplot</title>\n",
       "<desc>Produced by GNUPLOT 5.2 patchlevel 6 </desc>\n",
       "\n",
       "<g id=\"gnuplot_canvas\">\n",
       "\n",
       "<rect fill=\"#ffffff\" height=\"420\" width=\"560\" x=\"0\" y=\"0\"/>\n",
       "<defs>\n",
       "\n",
       "\t<circle id=\"gpDot\" r=\"0.5\" stroke=\"currentColor\" stroke-width=\"0.5\"/>\n",
       "\t<path d=\"M-1,0 h2 M0,-1 v2\" id=\"gpPt0\" stroke=\"currentColor\" stroke-width=\"0.357\"/>\n",
       "\t<path d=\"M-1,-1 L1,1 M1,-1 L-1,1\" id=\"gpPt1\" stroke=\"currentColor\" stroke-width=\"0.357\"/>\n",
       "\t<path d=\"M-1,0 L1,0 M0,-1 L0,1 M-1,-1 L1,1 M-1,1 L1,-1\" id=\"gpPt2\" stroke=\"currentColor\" stroke-width=\"0.357\"/>\n",
       "\t<rect height=\"2\" id=\"gpPt3\" stroke=\"currentColor\" stroke-width=\"0.357\" width=\"2\" x=\"-1\" y=\"-1\"/>\n",
       "\t<rect fill=\"currentColor\" height=\"2\" id=\"gpPt4\" stroke=\"currentColor\" stroke-width=\"0.357\" width=\"2\" x=\"-1\" y=\"-1\"/>\n",
       "\t<circle cx=\"0\" cy=\"0\" id=\"gpPt5\" r=\"1\" stroke=\"currentColor\" stroke-width=\"0.357\"/>\n",
       "\t<use fill=\"currentColor\" id=\"gpPt6\" stroke=\"none\" xlink:href=\"#gpPt5\"/>\n",
       "\t<path d=\"M0,-1.33 L-1.33,0.67 L1.33,0.67 z\" id=\"gpPt7\" stroke=\"currentColor\" stroke-width=\"0.357\"/>\n",
       "\t<use fill=\"currentColor\" id=\"gpPt8\" stroke=\"none\" xlink:href=\"#gpPt7\"/>\n",
       "\t<use id=\"gpPt9\" stroke=\"currentColor\" transform=\"rotate(180)\" xlink:href=\"#gpPt7\"/>\n",
       "\t<use fill=\"currentColor\" id=\"gpPt10\" stroke=\"none\" xlink:href=\"#gpPt9\"/>\n",
       "\t<use id=\"gpPt11\" stroke=\"currentColor\" transform=\"rotate(45)\" xlink:href=\"#gpPt3\"/>\n",
       "\t<use fill=\"currentColor\" id=\"gpPt12\" stroke=\"none\" xlink:href=\"#gpPt11\"/>\n",
       "\t<path d=\"M0,1.330 L1.265,0.411 L0.782,-1.067 L-0.782,-1.076 L-1.265,0.411 z\" id=\"gpPt13\" stroke=\"currentColor\" stroke-width=\"0.357\"/>\n",
       "\t<use fill=\"currentColor\" id=\"gpPt14\" stroke=\"none\" xlink:href=\"#gpPt13\"/>\n",
       "\t<filter filterUnits=\"objectBoundingBox\" height=\"1\" id=\"textbox\" width=\"1\" x=\"0\" y=\"0\">\n",
       "\t  <feFlood flood-color=\"#FFFFFF\" flood-opacity=\"1\" result=\"bgnd\"/>\n",
       "\t  <feComposite in=\"SourceGraphic\" in2=\"bgnd\" operator=\"atop\"/>\n",
       "\t</filter>\n",
       "\t<filter filterUnits=\"objectBoundingBox\" height=\"1\" id=\"greybox\" width=\"1\" x=\"0\" y=\"0\">\n",
       "\t  <feFlood flood-color=\"lightgrey\" flood-opacity=\"1\" result=\"grey\"/>\n",
       "\t  <feComposite in=\"SourceGraphic\" in2=\"grey\" operator=\"atop\"/>\n",
       "\t</filter>\n",
       "</defs>\n",
       "<g color=\"#FFFFFF\" fill=\"none\" stroke=\"currentColor\" stroke-linecap=\"butt\" stroke-linejoin=\"miter\" stroke-width=\"1.00\">\n",
       "</g>\n",
       "<g color=\"black\" fill=\"none\" stroke=\"currentColor\" stroke-linecap=\"butt\" stroke-linejoin=\"miter\" stroke-width=\"1.00\">\n",
       "\t<g shape-rendering=\"crispEdges\" stroke=\"none\">\n",
       "\t\t<polygon fill=\"rgb(255, 255, 255)\" points=\"50.2,384.2 544.2,384.2 544.2,39.1 50.2,39.1 \"/>\n",
       "\t</g>\n",
       "</g>\n",
       "<g color=\"black\" fill=\"none\" stroke=\"currentColor\" stroke-linecap=\"butt\" stroke-linejoin=\"miter\" stroke-width=\"1.00\">\n",
       "\t<path d=\"M50.2,384.2 L58.0,384.2 M544.3,384.2 L536.5,384.2  \" stroke=\"rgb(  0,   0,   0)\"/>\t<g fill=\"rgb(38,38,38)\" font-family=\"Arial\" font-size=\"10.00\" stroke=\"none\" text-anchor=\"end\" transform=\"translate(45.0,387.5)\">\n",
       "\t\t<text><tspan font-family=\"Arial\">20000</tspan></text>\n",
       "\t</g>\n",
       "</g>\n",
       "<g color=\"black\" fill=\"none\" stroke=\"currentColor\" stroke-linecap=\"butt\" stroke-linejoin=\"miter\" stroke-width=\"1.00\">\n",
       "\t<path d=\"M50.2,326.7 L58.0,326.7 M544.3,326.7 L536.5,326.7  \" stroke=\"rgb(  0,   0,   0)\"/>\t<g fill=\"rgb(38,38,38)\" font-family=\"Arial\" font-size=\"10.00\" stroke=\"none\" text-anchor=\"end\" transform=\"translate(45.0,330.0)\">\n",
       "\t\t<text><tspan font-family=\"Arial\">25000</tspan></text>\n",
       "\t</g>\n",
       "</g>\n",
       "<g color=\"black\" fill=\"none\" stroke=\"currentColor\" stroke-linecap=\"butt\" stroke-linejoin=\"miter\" stroke-width=\"1.00\">\n",
       "\t<path d=\"M50.2,269.1 L58.0,269.1 M544.3,269.1 L536.5,269.1  \" stroke=\"rgb(  0,   0,   0)\"/>\t<g fill=\"rgb(38,38,38)\" font-family=\"Arial\" font-size=\"10.00\" stroke=\"none\" text-anchor=\"end\" transform=\"translate(45.0,272.4)\">\n",
       "\t\t<text><tspan font-family=\"Arial\">30000</tspan></text>\n",
       "\t</g>\n",
       "</g>\n",
       "<g color=\"black\" fill=\"none\" stroke=\"currentColor\" stroke-linecap=\"butt\" stroke-linejoin=\"miter\" stroke-width=\"1.00\">\n",
       "\t<path d=\"M50.2,211.6 L58.0,211.6 M544.3,211.6 L536.5,211.6  \" stroke=\"rgb(  0,   0,   0)\"/>\t<g fill=\"rgb(38,38,38)\" font-family=\"Arial\" font-size=\"10.00\" stroke=\"none\" text-anchor=\"end\" transform=\"translate(45.0,214.9)\">\n",
       "\t\t<text><tspan font-family=\"Arial\">35000</tspan></text>\n",
       "\t</g>\n",
       "</g>\n",
       "<g color=\"black\" fill=\"none\" stroke=\"currentColor\" stroke-linecap=\"butt\" stroke-linejoin=\"miter\" stroke-width=\"1.00\">\n",
       "\t<path d=\"M50.2,154.1 L58.0,154.1 M544.3,154.1 L536.5,154.1  \" stroke=\"rgb(  0,   0,   0)\"/>\t<g fill=\"rgb(38,38,38)\" font-family=\"Arial\" font-size=\"10.00\" stroke=\"none\" text-anchor=\"end\" transform=\"translate(45.0,157.4)\">\n",
       "\t\t<text><tspan font-family=\"Arial\">40000</tspan></text>\n",
       "\t</g>\n",
       "</g>\n",
       "<g color=\"black\" fill=\"none\" stroke=\"currentColor\" stroke-linecap=\"butt\" stroke-linejoin=\"miter\" stroke-width=\"1.00\">\n",
       "\t<path d=\"M50.2,96.5 L58.0,96.5 M544.3,96.5 L536.5,96.5  \" stroke=\"rgb(  0,   0,   0)\"/>\t<g fill=\"rgb(38,38,38)\" font-family=\"Arial\" font-size=\"10.00\" stroke=\"none\" text-anchor=\"end\" transform=\"translate(45.0,99.8)\">\n",
       "\t\t<text><tspan font-family=\"Arial\">45000</tspan></text>\n",
       "\t</g>\n",
       "</g>\n",
       "<g color=\"black\" fill=\"none\" stroke=\"currentColor\" stroke-linecap=\"butt\" stroke-linejoin=\"miter\" stroke-width=\"1.00\">\n",
       "\t<path d=\"M50.2,39.0 L58.0,39.0 M544.3,39.0 L536.5,39.0  \" stroke=\"rgb(  0,   0,   0)\"/>\t<g fill=\"rgb(38,38,38)\" font-family=\"Arial\" font-size=\"10.00\" stroke=\"none\" text-anchor=\"end\" transform=\"translate(45.0,42.3)\">\n",
       "\t\t<text><tspan font-family=\"Arial\">50000</tspan></text>\n",
       "\t</g>\n",
       "</g>\n",
       "<g color=\"black\" fill=\"none\" stroke=\"currentColor\" stroke-linecap=\"butt\" stroke-linejoin=\"miter\" stroke-width=\"1.00\">\n",
       "\t<path d=\"M50.2,384.2 L50.2,376.4 M50.2,39.0 L50.2,46.8  \" stroke=\"rgb(  0,   0,   0)\"/>\t<g fill=\"rgb(38,38,38)\" font-family=\"Arial\" font-size=\"10.00\" stroke=\"none\" text-anchor=\"middle\" transform=\"translate(50.2,398.7)\">\n",
       "\t\t<text><tspan font-family=\"Arial\">300</tspan></text>\n",
       "\t</g>\n",
       "</g>\n",
       "<g color=\"black\" fill=\"none\" stroke=\"currentColor\" stroke-linecap=\"butt\" stroke-linejoin=\"miter\" stroke-width=\"1.00\">\n",
       "\t<path d=\"M149.0,384.2 L149.0,376.4 M149.0,39.0 L149.0,46.8  \" stroke=\"rgb(  0,   0,   0)\"/>\t<g fill=\"rgb(38,38,38)\" font-family=\"Arial\" font-size=\"10.00\" stroke=\"none\" text-anchor=\"middle\" transform=\"translate(149.0,398.7)\">\n",
       "\t\t<text><tspan font-family=\"Arial\">400</tspan></text>\n",
       "\t</g>\n",
       "</g>\n",
       "<g color=\"black\" fill=\"none\" stroke=\"currentColor\" stroke-linecap=\"butt\" stroke-linejoin=\"miter\" stroke-width=\"1.00\">\n",
       "\t<path d=\"M247.8,384.2 L247.8,376.4 M247.8,39.0 L247.8,46.8  \" stroke=\"rgb(  0,   0,   0)\"/>\t<g fill=\"rgb(38,38,38)\" font-family=\"Arial\" font-size=\"10.00\" stroke=\"none\" text-anchor=\"middle\" transform=\"translate(247.8,398.7)\">\n",
       "\t\t<text><tspan font-family=\"Arial\">500</tspan></text>\n",
       "\t</g>\n",
       "</g>\n",
       "<g color=\"black\" fill=\"none\" stroke=\"currentColor\" stroke-linecap=\"butt\" stroke-linejoin=\"miter\" stroke-width=\"1.00\">\n",
       "\t<path d=\"M346.7,384.2 L346.7,376.4 M346.7,39.0 L346.7,46.8  \" stroke=\"rgb(  0,   0,   0)\"/>\t<g fill=\"rgb(38,38,38)\" font-family=\"Arial\" font-size=\"10.00\" stroke=\"none\" text-anchor=\"middle\" transform=\"translate(346.7,398.7)\">\n",
       "\t\t<text><tspan font-family=\"Arial\">600</tspan></text>\n",
       "\t</g>\n",
       "</g>\n",
       "<g color=\"black\" fill=\"none\" stroke=\"currentColor\" stroke-linecap=\"butt\" stroke-linejoin=\"miter\" stroke-width=\"1.00\">\n",
       "\t<path d=\"M445.5,384.2 L445.5,376.4 M445.5,39.0 L445.5,46.8  \" stroke=\"rgb(  0,   0,   0)\"/>\t<g fill=\"rgb(38,38,38)\" font-family=\"Arial\" font-size=\"10.00\" stroke=\"none\" text-anchor=\"middle\" transform=\"translate(445.5,398.7)\">\n",
       "\t\t<text><tspan font-family=\"Arial\">700</tspan></text>\n",
       "\t</g>\n",
       "</g>\n",
       "<g color=\"black\" fill=\"none\" stroke=\"currentColor\" stroke-linecap=\"butt\" stroke-linejoin=\"miter\" stroke-width=\"1.00\">\n",
       "\t<path d=\"M544.3,384.2 L544.3,376.4 M544.3,39.0 L544.3,46.8  \" stroke=\"rgb(  0,   0,   0)\"/>\t<g fill=\"rgb(38,38,38)\" font-family=\"Arial\" font-size=\"10.00\" stroke=\"none\" text-anchor=\"middle\" transform=\"translate(544.3,398.7)\">\n",
       "\t\t<text><tspan font-family=\"Arial\">800</tspan></text>\n",
       "\t</g>\n",
       "</g>\n",
       "<g color=\"black\" fill=\"none\" stroke=\"currentColor\" stroke-linecap=\"butt\" stroke-linejoin=\"miter\" stroke-width=\"1.00\">\n",
       "</g>\n",
       "<g color=\"black\" fill=\"none\" stroke=\"currentColor\" stroke-linecap=\"butt\" stroke-linejoin=\"miter\" stroke-width=\"1.00\">\n",
       "\t<g fill=\"rgb(38,38,38)\" font-family=\"Arial\" font-size=\"11.00\" stroke=\"none\" text-anchor=\"middle\" transform=\"translate(11.3,211.6) rotate(-90)\">\n",
       "\t\t<text><tspan font-family=\"Arial\">Utilidad total ($)</tspan></text>\n",
       "\t</g>\n",
       "</g>\n",
       "<g color=\"black\" fill=\"none\" stroke=\"currentColor\" stroke-linecap=\"butt\" stroke-linejoin=\"miter\" stroke-width=\"1.00\">\n",
       "\t<g fill=\"rgb(38,38,38)\" font-family=\"Arial\" font-size=\"11.00\" stroke=\"none\" text-anchor=\"middle\" transform=\"translate(297.2,415.8)\">\n",
       "\t\t<text><tspan font-family=\"Arial\">Ingreso neto asociado a plancha de aluminio tipo 1 ($/plancha)</tspan></text>\n",
       "\t</g>\n",
       "</g>\n",
       "<g color=\"black\" fill=\"none\" stroke=\"currentColor\" stroke-linecap=\"butt\" stroke-linejoin=\"miter\" stroke-width=\"1.00\">\n",
       "\t<g fill=\"rgb(0,0,0)\" font-family=\":Bold\" font-size=\"11.00\" stroke=\"none\" text-anchor=\"middle\" transform=\"translate(297.2,20.5)\">\n",
       "\t\t<text><tspan font-family=\"\" font-weight=\"bold\">Utilidad óptima total para distintos valores del ingreso neto de plancha de aluminio tipo 1</tspan></text>\n",
       "\t</g>\n",
       "</g>\n",
       "<g color=\"black\" fill=\"none\" stroke=\"currentColor\" stroke-linecap=\"butt\" stroke-linejoin=\"miter\" stroke-width=\"1.00\">\n",
       "</g>\n",
       "\t<g id=\"gnuplot_plot_1a\"><title>gnuplot_plot_1a</title>\n",
       "<g color=\"#FFFFFF\" fill=\"none\" stroke=\"currentColor\" stroke-linecap=\"butt\" stroke-linejoin=\"miter\" stroke-width=\"0.50\">\n",
       "</g>\n",
       "<g color=\"black\" fill=\"none\" stroke=\"currentColor\" stroke-linecap=\"butt\" stroke-linejoin=\"miter\" stroke-width=\"0.50\">\n",
       "\t<path d=\"M50.2,303.7 L65.2,298.4 L80.1,293.2 L95.1,288.0 L110.1,282.7 L125.1,277.5 L140.0,272.3 L155.0,267.0   L170.0,261.8 L185.0,256.6 L199.9,251.4 L214.9,246.1 L229.9,240.9 L244.8,235.7 L259.8,230.4 L274.8,225.2   L289.8,220.0 L304.7,214.7 L319.7,209.5 L334.7,204.3 L349.7,199.0 L364.6,193.8 L379.6,188.6 L394.6,183.4   L409.5,178.1 L424.5,172.9 L439.5,167.7 L454.5,162.4 L469.4,157.2 L484.4,152.0 L499.4,146.7 L514.4,141.5   L529.3,136.3 L544.3,131.1  \" stroke=\"rgb(  0,   0,   0)\" stroke-dasharray=\"5.0,5.0\"/></g>\n",
       "\t</g>\n",
       "<g color=\"#FFFFFF\" fill=\"none\" stroke=\"rgb(  0,   0,   0)\" stroke-linecap=\"butt\" stroke-linejoin=\"miter\" stroke-width=\"2.00\">\n",
       "</g>\n",
       "<g color=\"black\" fill=\"none\" stroke=\"currentColor\" stroke-linecap=\"butt\" stroke-linejoin=\"miter\" stroke-width=\"2.00\">\n",
       "</g>\n",
       "<g color=\"black\" fill=\"none\" stroke=\"black\" stroke-linecap=\"butt\" stroke-linejoin=\"miter\" stroke-width=\"0.50\">\n",
       "\t<path d=\"M50.2,384.2 L544.3,384.2 M50.2,39.0 L544.3,39.0 M50.2,384.2 L50.2,39.0 M544.3,384.2 L544.3,39.0    \" stroke=\"rgb( 38,  38,  38)\"/></g>\n",
       "<g color=\"black\" fill=\"none\" stroke=\"rgb( 38,  38,  38)\" stroke-linecap=\"butt\" stroke-linejoin=\"miter\" stroke-width=\"1.00\">\n",
       "</g>\n",
       "<g color=\"black\" fill=\"none\" stroke=\"currentColor\" stroke-linecap=\"butt\" stroke-linejoin=\"miter\" stroke-width=\"1.00\">\n",
       "</g>\n",
       "</g>\n",
       "</svg>"
      ],
      "text/plain": [
       "<IPython.core.display.SVG object>"
      ]
     },
     "metadata": {},
     "output_type": "display_data"
    }
   ],
   "source": [
    "x1 = linspace(300,1800); %Rango de valores de input para las funciones\n",
    "\n",
    "c1 = plot(x1,funcionobjetivo(solOpt(1),solOpt(2),x1),'--k'); \n",
    "hold on\n",
    "title ('Utilidad óptima total para distintos valores del ingreso neto de plancha de aluminio tipo 1')\n",
    "xlabel ('Ingreso neto asociado a plancha de aluminio tipo 1 ($/plancha)')\n",
    "ylabel ('Utilidad total ($)')\n",
    "xlim([300 800])\n",
    "ylim([20000 50000])\n",
    "hold off"
   ]
  },
  {
   "cell_type": "markdown",
   "metadata": {},
   "source": [
    "## Con el optimizador de octave se verificará lo que ocurre para valores de ingresos netos fuera o dentro del rango utilizado para graficar"
   ]
  },
  {
   "cell_type": "markdown",
   "metadata": {},
   "source": [
    "### Parámetros optimizador"
   ]
  },
  {
   "cell_type": "code",
   "execution_count": 5,
   "metadata": {},
   "outputs": [
    {
     "name": "stdout",
     "output_type": "stream",
     "text": [
      "A =\n",
      "\n",
      "    7.00000   14.00000    1.00000    0.00000    0.00000\n",
      "    0.30000    0.30000    0.00000   -1.00000    0.00000\n",
      "   15.00000    5.00000    0.00000    0.00000    1.00000\n",
      "\n",
      "b =\n",
      "\n",
      "   630\n",
      "    15\n",
      "   600\n",
      "\n",
      "lb =\n",
      "\n",
      "   0   0   0   0   0\n",
      "\n",
      "ub = [](0x0)\n",
      "ctype = SSS\n",
      "vartype = CCCCC\n"
     ]
    }
   ],
   "source": [
    "%Matriz de restricciones\n",
    "A=[7 14 1 0 0; 0.3 0.3 0 -1 0;15 5 0 0 1] \n",
    "%Vector con lado derecho de restricciones\n",
    "b=[630;15;600]\n",
    "%Límite inferior variables\n",
    "lb=[0,0,0,0,0]  \n",
    "%Límite superior variables\n",
    "ub=[]\n",
    "%Tipo de restricciones\n",
    "ctype='SSS'\n",
    "%Tipo de variables\n",
    "vartype='CCCCC'\n",
    "%Opción para el tipo de output del optimizador\n",
    "param.msglev=2;"
   ]
  },
  {
   "cell_type": "markdown",
   "metadata": {},
   "source": [
    "### A continuación se verificará que para ingresos netos de la plancha 1 que están dentro del rango encontrado, la base óptima no cambia."
   ]
  },
  {
   "cell_type": "markdown",
   "metadata": {},
   "source": [
    "i) $c_1= 1799$"
   ]
  },
  {
   "cell_type": "code",
   "execution_count": 6,
   "metadata": {},
   "outputs": [
    {
     "name": "stdout",
     "output_type": "stream",
     "text": [
      "c =\n",
      "\n",
      "   1799    600      0      0      0\n",
      "\n",
      "      0: obj =  -0.000000000e+00 inf =   4.518e+01 (1)\n",
      "      2: obj =   4.199000000e+04 inf =   0.000e+00 (0)\n",
      "*     3: obj =   7.197000000e+04 inf =   0.000e+00 (0)\n",
      "xOpt =\n",
      "\n",
      "   30.00000\n",
      "   30.00000\n",
      "    0.00000\n",
      "    3.00000\n",
      "    0.00000\n",
      "\n",
      "fOpt =  71970\n"
     ]
    }
   ],
   "source": [
    "%Vector de costos de función objetivo\n",
    "c=[1799 600 0 0 0]  \n",
    "#Ejecución del optimizador\n",
    "[xOpt,fOpt]= glpk(c=c,A=A,B=b,lb=lb,ub=ub,ctype=ctype,vartype=vartype,s=-1,param=param)"
   ]
  },
  {
   "cell_type": "markdown",
   "metadata": {},
   "source": [
    "ii) $c_1= 301$"
   ]
  },
  {
   "cell_type": "code",
   "execution_count": 7,
   "metadata": {},
   "outputs": [
    {
     "name": "stdout",
     "output_type": "stream",
     "text": [
      "c =\n",
      "\n",
      "   301   600     0     0     0\n",
      "\n",
      "      0: obj =  -0.000000000e+00 inf =   4.518e+01 (1)\n",
      "      2: obj =   2.701000000e+04 inf =   0.000e+00 (0)\n",
      "*     3: obj =   2.703000000e+04 inf =   0.000e+00 (0)\n",
      "xOpt =\n",
      "\n",
      "   30.00000\n",
      "   30.00000\n",
      "    0.00000\n",
      "    3.00000\n",
      "    0.00000\n",
      "\n",
      "fOpt =  27030.00000\n"
     ]
    }
   ],
   "source": [
    "%Vector de costos de función objetivo\n",
    "c=[301 600 0 0 0]  \n",
    "#Ejecución del optimizador\n",
    "[xOpt,fOpt]= glpk(c=c,A=A,B=b,lb=lb,ub=ub,ctype=ctype,vartype=vartype,s=-1,param=param)"
   ]
  },
  {
   "cell_type": "markdown",
   "metadata": {},
   "source": [
    "* Ahora se verificará que para ingreso netos de la plancha 1 fuera del rango encontrado, la base óptima cambia."
   ]
  },
  {
   "cell_type": "markdown",
   "metadata": {},
   "source": [
    "iii) $c_1 = 1801$"
   ]
  },
  {
   "cell_type": "code",
   "execution_count": 8,
   "metadata": {},
   "outputs": [
    {
     "name": "stdout",
     "output_type": "stream",
     "text": [
      "c =\n",
      "\n",
      "   1801    600      0      0      0\n",
      "\n",
      "      0: obj =  -0.000000000e+00 inf =   4.518e+01 (1)\n",
      "      2: obj =   4.201000000e+04 inf =   0.000e+00 (0)\n",
      "*     4: obj =   7.203500000e+04 inf =   0.000e+00 (0)\n",
      "xOpt =\n",
      "\n",
      "    35.00000\n",
      "    15.00000\n",
      "   175.00000\n",
      "     0.00000\n",
      "     0.00000\n",
      "\n",
      "fOpt =  72035\n"
     ]
    }
   ],
   "source": [
    "c=[1801 600 0 0 0]  \n",
    "#Ejecución del optimizador\n",
    "[xOpt,fOpt]= glpk(c=c,A=A,B=b,lb=lb,ub=ub,ctype=ctype,vartype=vartype,s=-1,param=param)"
   ]
  },
  {
   "cell_type": "markdown",
   "metadata": {},
   "source": [
    "Si el ingreso neto es mayor a 1800 (1801 > 1800), $x_4$ sale de la base y $x_3$ entra a la base <br/> Es decir, respecto al caso original, la restricción asociada a la pintura se vuelve activa <br/> y la restricción asociada a la disponibilidad de aluminio bruto deja de ser activa "
   ]
  },
  {
   "cell_type": "markdown",
   "metadata": {},
   "source": [
    "iv) $c_1 = 299$"
   ]
  },
  {
   "cell_type": "code",
   "execution_count": 9,
   "metadata": {},
   "outputs": [
    {
     "name": "stdout",
     "output_type": "stream",
     "text": [
      "c =\n",
      "\n",
      "   299   600     0     0     0\n",
      "\n",
      "      0: obj =  -0.000000000e+00 inf =   4.518e+01 (1)\n",
      "      2: obj =   2.699000000e+04 inf =   0.000e+00 (0)\n",
      "xOpt =\n",
      "\n",
      "    10.00000\n",
      "    40.00000\n",
      "     0.00000\n",
      "     0.00000\n",
      "   250.00000\n",
      "\n",
      "fOpt =  26990\n"
     ]
    }
   ],
   "source": [
    "c=[299 600 0 0 0]  \n",
    "#Ejecución del optimizador\n",
    "[xOpt,fOpt]= glpk(c=c,A=A,B=b,lb=lb,ub=ub,ctype=ctype,vartype=vartype,s=-1,param=param)"
   ]
  },
  {
   "cell_type": "markdown",
   "metadata": {},
   "source": [
    "Si el ingreso neto es menor a 300 (299 < 300), $x_4$ sale de la base y $x_5$ entra a la base <br/> Es decir, respecto al caso original, la restricción ascoiada a la pintura se vuelve activa <br/> y la restricción asociada a la mano de obra (o trabajo) deja de ser activa"
   ]
  },
  {
   "cell_type": "markdown",
   "metadata": {},
   "source": [
    "## * Repita el ejercicio de forma personal para los ingresos netos asociados a la plancha de aluminio tipo 2"
   ]
  }
 ],
 "metadata": {
  "kernelspec": {
   "display_name": "Octave",
   "language": "octave",
   "name": "octave"
  },
  "language_info": {
   "file_extension": ".m",
   "help_links": [
    {
     "text": "GNU Octave",
     "url": "https://www.gnu.org/software/octave/support.html"
    },
    {
     "text": "Octave Kernel",
     "url": "https://github.com/Calysto/octave_kernel"
    },
    {
     "text": "MetaKernel Magics",
     "url": "https://github.com/calysto/metakernel/blob/master/metakernel/magics/README.md"
    }
   ],
   "mimetype": "text/x-octave",
   "name": "octave",
   "version": "5.1.0"
  }
 },
 "nbformat": 4,
 "nbformat_minor": 2
}
