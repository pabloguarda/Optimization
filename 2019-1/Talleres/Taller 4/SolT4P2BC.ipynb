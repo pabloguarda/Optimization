{
 "cells": [
  {
   "cell_type": "markdown",
   "metadata": {},
   "source": [
    "# b) Determine la solución óptima para la formulación equivalente del problema de optimización encontrada en (a) (ayuda: utilice Octave)."
   ]
  },
  {
   "cell_type": "code",
   "execution_count": null,
   "metadata": {},
   "outputs": [],
   "source": [
    "clear"
   ]
  },
  {
   "cell_type": "code",
   "execution_count": 5,
   "metadata": {},
   "outputs": [
    {
     "name": "stdout",
     "output_type": "stream",
     "text": [
      "*     0: obj =  -0.000000000e+00 inf =   0.000e+00 (2)\n",
      "*     3: obj =   7.000000000e+00 inf =   0.000e+00 (0)\n",
      "ans =\n",
      "\n",
      "    4.00000\n",
      "    4.00000\n",
      "    0.00000\n",
      "    0.00000\n",
      "   10.00000\n",
      "\n"
     ]
    }
   ],
   "source": [
    "A=[2 0 1 0 1;1/2 0 0 1 3/2;1/2 1 0 0 -1/2];\n",
    "b=[18;17;1]';\n",
    "c=[1/2 0 0 0 1/2];\n",
    "lb=[0 0 0 0 0];\n",
    "ub=[];\n",
    "ctype='SSS';\n",
    "vtype='CCCCC';\n",
    "param.msglev=2;\n",
    "glpk(c, A, b, lb, ub,ctype,vtype,s=-1,param)"
   ]
  },
  {
   "cell_type": "markdown",
   "metadata": {},
   "source": [
    "## Solución optima"
   ]
  },
  {
   "cell_type": "markdown",
   "metadata": {},
   "source": [
    "* Variables de decisión: $x_1 = 4, x_2 = 4, x_3 = 0, x_4 = 0, x_5 = 10$\n",
    "\n",
    "* En la formulación inicial del problema de fase 1 la función objetivo tiene una constante igual a 1. Por ello, hay que sumar 1 al valor entregado por el optimizador (7+1=8)"
   ]
  },
  {
   "cell_type": "markdown",
   "metadata": {},
   "source": [
    "%%latex\n",
    "\\newpage"
   ]
  },
  {
   "cell_type": "markdown",
   "metadata": {},
   "source": [
    "# c) Determine la solución óptima del problema de optimización original con Octave. ¿Coincide con la solución encontrada en (b)? Fundamente"
   ]
  },
  {
   "cell_type": "code",
   "execution_count": 8,
   "metadata": {},
   "outputs": [],
   "source": [
    "clear"
   ]
  },
  {
   "cell_type": "code",
   "execution_count": 2,
   "metadata": {},
   "outputs": [
    {
     "name": "stdout",
     "output_type": "stream",
     "text": [
      "      0: obj =  -0.000000000e+00 inf =   2.000e+00 (1)\n",
      "      1: obj =   1.000000000e+00 inf =   0.000e+00 (0)\n",
      "*     3: obj =   8.000000000e+00 inf =   0.000e+00 (0)\n",
      "ans =\n",
      "\n",
      "   4.0000\n",
      "   4.0000\n",
      "\n"
     ]
    }
   ],
   "source": [
    "A=[3 2;2 3;1 2];\n",
    "b=[20;20;2];\n",
    "c=[1 1];\n",
    "lb=[0 0];\n",
    "ub=[];\n",
    "ctype='UUL';\n",
    "vtype='CC';\n",
    "param.msglev=2;\n",
    "glpk(c, A, b, lb, ub,ctype,vtype,s=-1,param)"
   ]
  },
  {
   "cell_type": "markdown",
   "metadata": {},
   "source": [
    "## Solución optima"
   ]
  },
  {
   "cell_type": "markdown",
   "metadata": {},
   "source": [
    "* Función objetivo: 8  <br />\n",
    "* Variables de decisión: $x_1 = 4, x_2 = 4$"
   ]
  },
  {
   "cell_type": "markdown",
   "metadata": {},
   "source": [
    "Se verifica que la solución coincide con la encontrada en la parte b)"
   ]
  }
 ],
 "metadata": {
  "kernelspec": {
   "display_name": "Octave",
   "language": "octave",
   "name": "octave"
  },
  "language_info": {
   "file_extension": ".m",
   "help_links": [
    {
     "text": "GNU Octave",
     "url": "https://www.gnu.org/software/octave/support.html"
    },
    {
     "text": "Octave Kernel",
     "url": "https://github.com/Calysto/octave_kernel"
    },
    {
     "text": "MetaKernel Magics",
     "url": "https://github.com/calysto/metakernel/blob/master/metakernel/magics/README.md"
    }
   ],
   "mimetype": "text/x-octave",
   "name": "octave",
   "version": "5.1.0"
  }
 },
 "nbformat": 4,
 "nbformat_minor": 2
}
