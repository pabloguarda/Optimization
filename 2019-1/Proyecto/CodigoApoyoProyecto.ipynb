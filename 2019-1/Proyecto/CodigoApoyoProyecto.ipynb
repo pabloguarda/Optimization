{
 "cells": [
  {
   "cell_type": "markdown",
   "metadata": {},
   "source": [
    "# Final Project"
   ]
  },
  {
   "cell_type": "markdown",
   "metadata": {},
   "source": [
    "* The code and explanations provided in this notebook will be helpful to develop the course final project. \n",
    "\n",
    "* The first section includes various functions that are used in the main function of the genetic algorithm (section 2)\n",
    "\n",
    "* Section 3 apply the GA function using one and two generations of individuals"
   ]
  },
  {
   "cell_type": "markdown",
   "metadata": {},
   "source": [
    "### 1) Functions implemented in the genetic algorithm (GA)"
   ]
  },
  {
   "cell_type": "markdown",
   "metadata": {},
   "source": [
    "### Number of cities"
   ]
  },
  {
   "cell_type": "code",
   "execution_count": 1,
   "metadata": {},
   "outputs": [
    {
     "name": "stdout",
     "output_type": "stream",
     "text": [
      "n =  6\n"
     ]
    }
   ],
   "source": [
    "n = 6"
   ]
  },
  {
   "cell_type": "markdown",
   "metadata": {},
   "source": [
    "### Matrix of distance between cities (randomly generated)"
   ]
  },
  {
   "cell_type": "code",
   "execution_count": 2,
   "metadata": {},
   "outputs": [],
   "source": [
    "function d = distanceMatrixCities(n)\n",
    "\n",
    "    d = 100*rand(n);\n",
    "\n",
    "    ## Fill diagonal with zeros\n",
    "    i = 1;\n",
    "    \n",
    "    while(i<=n)\n",
    "        d(i,i) = 0;\n",
    "        i++;\n",
    "    end\n",
    "    \n",
    "end"
   ]
  },
  {
   "cell_type": "code",
   "execution_count": 3,
   "metadata": {},
   "outputs": [
    {
     "name": "stdout",
     "output_type": "stream",
     "text": [
      "d =\n",
      "\n",
      "    0.00000   94.44586   93.85428   12.14776    4.95983   15.67047\n",
      "   75.76300    0.00000   80.46524   81.91093   93.05000   90.76333\n",
      "   97.26600   98.77020    0.00000   42.85782   13.34514   80.21638\n",
      "   97.69871   61.25826   87.12197    0.00000   45.28902   98.83853\n",
      "   89.97178   67.60073   16.38991    7.28028    0.00000   90.94445\n",
      "   59.96915   76.57118   52.24841   75.88961   92.57202    0.00000\n",
      "\n"
     ]
    }
   ],
   "source": [
    "d = distanceMatrixCities(n)"
   ]
  },
  {
   "cell_type": "markdown",
   "metadata": {},
   "source": [
    "## a) Initial population"
   ]
  },
  {
   "cell_type": "markdown",
   "metadata": {},
   "source": [
    "### Total population"
   ]
  },
  {
   "cell_type": "code",
   "execution_count": 4,
   "metadata": {},
   "outputs": [],
   "source": [
    "totalPop = perms([1:n]); #This built-in function allows to generate the total population of individuals"
   ]
  },
  {
   "cell_type": "code",
   "execution_count": 5,
   "metadata": {},
   "outputs": [
    {
     "name": "stdout",
     "output_type": "stream",
     "text": [
      "ans =\n",
      "\n",
      "   6   5   4   3   2   1\n",
      "   6   5   4   3   1   2\n",
      "   6   5   4   2   3   1\n",
      "   6   5   4   2   1   3\n",
      "   6   5   4   1   3   2\n",
      "   6   5   4   1   2   3\n",
      "   6   5   3   4   2   1\n",
      "   6   5   3   4   1   2\n",
      "   6   5   3   2   4   1\n",
      "   6   5   3   2   1   4\n",
      "\n"
     ]
    }
   ],
   "source": [
    "totalPop(1:10,:) #First 10 individuals of the total population"
   ]
  },
  {
   "cell_type": "code",
   "execution_count": 6,
   "metadata": {},
   "outputs": [
    {
     "name": "stdout",
     "output_type": "stream",
     "text": [
      "ans =  720\n"
     ]
    }
   ],
   "source": [
    "size(totalPop)(1) #Size of the total population"
   ]
  },
  {
   "cell_type": "markdown",
   "metadata": {},
   "source": [
    "### Size of the initial population (\"generation 0\")"
   ]
  },
  {
   "cell_type": "code",
   "execution_count": 7,
   "metadata": {},
   "outputs": [
    {
     "name": "stdout",
     "output_type": "stream",
     "text": [
      "sizeGeneration0 =  20\n"
     ]
    }
   ],
   "source": [
    "sizeGeneration0 = 20 "
   ]
  },
  {
   "cell_type": "markdown",
   "metadata": {},
   "source": [
    "### Select individuals randomly from the total population "
   ]
  },
  {
   "cell_type": "code",
   "execution_count": 8,
   "metadata": {},
   "outputs": [],
   "source": [
    "function subPop = createGeneration(totalPop,sizeGen)\n",
    "    \n",
    "    # This function returns a list with one element.\n",
    "    # The element contains a matrix with the sequence of cities associated to each individual of the generation\n",
    "    \n",
    "    subPop = totalPop(randi(size(totalPop)(1),sizeGen,1),:);\n",
    "\n",
    "end"
   ]
  },
  {
   "cell_type": "code",
   "execution_count": 9,
   "metadata": {},
   "outputs": [],
   "source": [
    "# Creation of the generation 0"
   ]
  },
  {
   "cell_type": "code",
   "execution_count": 10,
   "metadata": {},
   "outputs": [
    {
     "name": "stdout",
     "output_type": "stream",
     "text": [
      "generation0 =\n",
      "\n",
      "   2   4   6   5   1   3\n",
      "   6   2   5   1   4   3\n",
      "   6   3   2   4   5   1\n",
      "   1   6   3   4   5   2\n",
      "   2   6   5   4   1   3\n",
      "   5   1   3   2   6   4\n",
      "   5   2   6   3   1   4\n",
      "   4   1   2   5   3   6\n",
      "   1   2   4   5   6   3\n",
      "   1   2   3   5   4   6\n",
      "   6   5   2   3   1   4\n",
      "   5   6   4   2   3   1\n",
      "   3   2   5   6   1   4\n",
      "   2   1   5   4   3   6\n",
      "   5   6   1   2   4   3\n",
      "   4   1   6   5   2   3\n",
      "   1   6   2   4   3   5\n",
      "   4   2   5   1   3   6\n",
      "   3   5   6   2   4   1\n",
      "   3   2   6   1   4   5\n",
      "\n"
     ]
    }
   ],
   "source": [
    "generation0 = createGeneration(totalPop = totalPop,sizeGen = sizeGeneration0)"
   ]
  },
  {
   "cell_type": "markdown",
   "metadata": {},
   "source": [
    "## b) Fitness calculation"
   ]
  },
  {
   "cell_type": "markdown",
   "metadata": {},
   "source": [
    "### Total travel distance for each possible sequence of cities"
   ]
  },
  {
   "cell_type": "code",
   "execution_count": 11,
   "metadata": {},
   "outputs": [],
   "source": [
    "function individuals = distanceCalculation(pop,d)\n",
    "    \n",
    "    # This function returns a list with two elements.\n",
    "    # The first 1 element contains the list that is received as input.\n",
    "    # The second element contains a vector withthe total distance between cities\n",
    "\n",
    "    \n",
    "    daccs = zeros([size(pop)(1),size(pop)(2)+1]);\n",
    "\n",
    "        for i = 1:(size(pop)(1))\n",
    "            dacc = 0;\n",
    "\n",
    "            for j = 1:(size(pop)(2)-1)\n",
    "                dacc += d(pop(i,j),pop(i,j+1));\n",
    "            end\n",
    "\n",
    "            daccs(i,:) = [pop(i,:),dacc];\n",
    "            \n",
    "        end\n",
    "    \n",
    "    individuals{1} = pop;\n",
    "    individuals{2} = daccs(:,size(daccs)(2));\n",
    "\n",
    "end"
   ]
  },
  {
   "cell_type": "code",
   "execution_count": 12,
   "metadata": {},
   "outputs": [
    {
     "name": "stdout",
     "output_type": "stream",
     "text": [
      "generation0 =\n",
      "{\n",
      "  [1,1] =\n",
      "\n",
      "     2   4   6   5   1   3\n",
      "     6   2   5   1   4   3\n",
      "     6   3   2   4   5   1\n",
      "     1   6   3   4   5   2\n",
      "     2   6   5   4   1   3\n",
      "     5   1   3   2   6   4\n",
      "     5   2   6   3   1   4\n",
      "     4   1   2   5   3   6\n",
      "     1   2   4   5   6   3\n",
      "     1   2   3   5   4   6\n",
      "     6   5   2   3   1   4\n",
      "     5   6   4   2   3   1\n",
      "     3   2   5   6   1   4\n",
      "     2   1   5   4   3   6\n",
      "     5   6   1   2   4   3\n",
      "     4   1   6   5   2   3\n",
      "     1   6   2   4   3   5\n",
      "     4   2   5   1   3   6\n",
      "     3   5   6   2   4   1\n",
      "     3   2   6   1   4   5\n",
      "\n",
      "  [1,2] =\n",
      "\n",
      "     457.15\n",
      "     358.86\n",
      "     368.19\n",
      "     223.67\n",
      "     382.17\n",
      "     449.25\n",
      "     320.03\n",
      "     381.80\n",
      "     364.84\n",
      "     294.38\n",
      "     350.05\n",
      "     405.82\n",
      "     354.88\n",
      "     255.34\n",
      "     414.39\n",
      "     354.01\n",
      "     274.62\n",
      "     418.35\n",
      "     360.47\n",
      "     306.94\n",
      "\n",
      "}\n",
      "\n"
     ]
    }
   ],
   "source": [
    "generation0 = distanceCalculation(pop = generation0, d = d)"
   ]
  },
  {
   "cell_type": "markdown",
   "metadata": {},
   "source": [
    "### Computation of the fitness of each individual (1/distance)"
   ]
  },
  {
   "cell_type": "code",
   "execution_count": 13,
   "metadata": {},
   "outputs": [],
   "source": [
    "function individuals = fitness(individuals)\n",
    "    \n",
    "    # This function returns a list with three elements.\n",
    "    # The first two elements corresponds are the same elements of the list received as an input.\n",
    "    # The third element of the list includes a vector with the fitness of each individual. \n",
    "\n",
    "    individuals{3} = individuals{2};\n",
    "\n",
    "    for i=1:size(individuals{1})(1)\n",
    "\n",
    "        individuals{3}(i,1) = 1/individuals{2}(i);\n",
    "\n",
    "    end \n",
    "\n",
    "end"
   ]
  },
  {
   "cell_type": "code",
   "execution_count": 14,
   "metadata": {},
   "outputs": [
    {
     "name": "stdout",
     "output_type": "stream",
     "text": [
      "generation0 =\n",
      "{\n",
      "  [1,1] =\n",
      "\n",
      "     2   4   6   5   1   3\n",
      "     6   2   5   1   4   3\n",
      "     6   3   2   4   5   1\n",
      "     1   6   3   4   5   2\n",
      "     2   6   5   4   1   3\n",
      "     5   1   3   2   6   4\n",
      "     5   2   6   3   1   4\n",
      "     4   1   2   5   3   6\n",
      "     1   2   4   5   6   3\n",
      "     1   2   3   5   4   6\n",
      "     6   5   2   3   1   4\n",
      "     5   6   4   2   3   1\n",
      "     3   2   5   6   1   4\n",
      "     2   1   5   4   3   6\n",
      "     5   6   1   2   4   3\n",
      "     4   1   6   5   2   3\n",
      "     1   6   2   4   3   5\n",
      "     4   2   5   1   3   6\n",
      "     3   5   6   2   4   1\n",
      "     3   2   6   1   4   5\n",
      "\n",
      "  [1,2] =\n",
      "\n",
      "     457.15\n",
      "     358.86\n",
      "     368.19\n",
      "     223.67\n",
      "     382.17\n",
      "     449.25\n",
      "     320.03\n",
      "     381.80\n",
      "     364.84\n",
      "     294.38\n",
      "     350.05\n",
      "     405.82\n",
      "     354.88\n",
      "     255.34\n",
      "     414.39\n",
      "     354.01\n",
      "     274.62\n",
      "     418.35\n",
      "     360.47\n",
      "     306.94\n",
      "\n",
      "  [1,3] =\n",
      "\n",
      "     0.0021875\n",
      "     0.0027866\n",
      "     0.0027160\n",
      "     0.0044709\n",
      "     0.0026166\n",
      "     0.0022259\n",
      "     0.0031247\n",
      "     0.0026192\n",
      "     0.0027409\n",
      "     0.0033970\n",
      "     0.0028567\n",
      "     0.0024641\n",
      "     0.0028178\n",
      "     0.0039163\n",
      "     0.0024132\n",
      "     0.0028248\n",
      "     0.0036414\n",
      "     0.0023903\n",
      "     0.0027742\n",
      "     0.0032580\n",
      "\n",
      "}\n",
      "\n"
     ]
    }
   ],
   "source": [
    "generation0 = fitness(generation0)"
   ]
  },
  {
   "cell_type": "markdown",
   "metadata": {},
   "source": [
    "## c) Choice of parents to create the next generation of individuals"
   ]
  },
  {
   "cell_type": "code",
   "execution_count": 15,
   "metadata": {},
   "outputs": [],
   "source": [
    "function [individuals,parents] = chooseParents(individuals)\n",
    "    \n",
    "    # This function returns a list with four elements.\n",
    "    # The first three elements corresponds are the same elements of the list received as an input.\n",
    "    #The fourth element contains a vector with 0's and 1's. Individuals selected as parents receives the value 1.\n",
    "\n",
    "    individuals{4} = individuals{3};\n",
    "\n",
    "    individualsCopy = individuals;\n",
    "\n",
    "    #probParent = individuals{3}/sum(individuals{3})\n",
    "\n",
    "    #First best-fitted individual\n",
    "\n",
    "    [maxVal1,maxIndex1] = max(individuals{3});\n",
    "\n",
    "    #Second best-fitted individual\n",
    "    individualsCopy{3}(maxIndex1) = -1*individualsCopy{3}(maxIndex1);\n",
    "    [maxVal2,maxIndex2] = max(individualsCopy{3});\n",
    "\n",
    "    #Create a column with binary variables that takes the value 1 if the individual is parent or zero, otherwise. \n",
    "    individuals{4}=zeros(size(individuals{1})(1),1);\n",
    "\n",
    "    individuals{4}(maxIndex1) = 1;\n",
    "    individuals{4}(maxIndex2) = 1;\n",
    "\n",
    "end"
   ]
  },
  {
   "cell_type": "code",
   "execution_count": 16,
   "metadata": {},
   "outputs": [
    {
     "name": "stdout",
     "output_type": "stream",
     "text": [
      "ans =\n",
      "{\n",
      "  [1,1] =\n",
      "\n",
      "     2   4   6   5   1   3\n",
      "     6   2   5   1   4   3\n",
      "     6   3   2   4   5   1\n",
      "     1   6   3   4   5   2\n",
      "     2   6   5   4   1   3\n",
      "     5   1   3   2   6   4\n",
      "     5   2   6   3   1   4\n",
      "     4   1   2   5   3   6\n",
      "     1   2   4   5   6   3\n",
      "     1   2   3   5   4   6\n",
      "     6   5   2   3   1   4\n",
      "     5   6   4   2   3   1\n",
      "     3   2   5   6   1   4\n",
      "     2   1   5   4   3   6\n",
      "     5   6   1   2   4   3\n",
      "     4   1   6   5   2   3\n",
      "     1   6   2   4   3   5\n",
      "     4   2   5   1   3   6\n",
      "     3   5   6   2   4   1\n",
      "     3   2   6   1   4   5\n",
      "\n",
      "  [1,2] =\n",
      "\n",
      "     457.15\n",
      "     358.86\n",
      "     368.19\n",
      "     223.67\n",
      "     382.17\n",
      "     449.25\n",
      "     320.03\n",
      "     381.80\n",
      "     364.84\n",
      "     294.38\n",
      "     350.05\n",
      "     405.82\n",
      "     354.88\n",
      "     255.34\n",
      "     414.39\n",
      "     354.01\n",
      "     274.62\n",
      "     418.35\n",
      "     360.47\n",
      "     306.94\n",
      "\n",
      "  [1,3] =\n",
      "\n",
      "     0.0021875\n",
      "     0.0027866\n",
      "     0.0027160\n",
      "     0.0044709\n",
      "     0.0026166\n",
      "     0.0022259\n",
      "     0.0031247\n",
      "     0.0026192\n",
      "     0.0027409\n",
      "     0.0033970\n",
      "     0.0028567\n",
      "     0.0024641\n",
      "     0.0028178\n",
      "     0.0039163\n",
      "     0.0024132\n",
      "     0.0028248\n",
      "     0.0036414\n",
      "     0.0023903\n",
      "     0.0027742\n",
      "     0.0032580\n",
      "\n",
      "  [1,4] =\n",
      "\n",
      "     0\n",
      "     0\n",
      "     0\n",
      "     1\n",
      "     0\n",
      "     0\n",
      "     0\n",
      "     0\n",
      "     0\n",
      "     0\n",
      "     0\n",
      "     0\n",
      "     0\n",
      "     1\n",
      "     0\n",
      "     0\n",
      "     0\n",
      "     0\n",
      "     0\n",
      "     0\n",
      "\n",
      "}\n",
      "\n"
     ]
    }
   ],
   "source": [
    "chooseParents(generation0)"
   ]
  },
  {
   "cell_type": "code",
   "execution_count": 17,
   "metadata": {},
   "outputs": [],
   "source": [
    "function parents = createParents(individuals)\n",
    "\n",
    "# This function returns a list with three elements that refer to the individuals selected as parents.\n",
    "# (element 1: sequence of cities, element 2: total distance, element 3: fitness)\n",
    "\n",
    "individuals = chooseParents(individuals);\n",
    "\n",
    "parents = {:};\n",
    "\n",
    "count = 1;\n",
    "\n",
    "for i = 1:size(individuals{4})(1)\n",
    "\n",
    "    if individuals{4}(i) == 1\n",
    "\n",
    "    parents{1}(count,:) = individuals{1}(i,:);\n",
    "    parents{2}(count,:) = individuals{2}(i,:);\n",
    "    parents{3}(count,:) = individuals{3}(i,:);\n",
    "    \n",
    "    count++;\n",
    "\n",
    "    end\n",
    "\n",
    "end\n",
    "\n",
    "\n",
    "end"
   ]
  },
  {
   "cell_type": "code",
   "execution_count": 18,
   "metadata": {},
   "outputs": [
    {
     "name": "stdout",
     "output_type": "stream",
     "text": [
      "parentsG0 =\n",
      "{\n",
      "  [1,1] =\n",
      "\n",
      "     1   6   3   4   5   2\n",
      "     2   1   5   4   3   6\n",
      "\n",
      "  [1,2] =\n",
      "\n",
      "     223.67\n",
      "     255.34\n",
      "\n",
      "  [1,3] =\n",
      "\n",
      "     0.0044709\n",
      "     0.0039163\n",
      "\n",
      "}\n",
      "\n"
     ]
    }
   ],
   "source": [
    "parentsG0 = createParents(generation0)"
   ]
  },
  {
   "cell_type": "markdown",
   "metadata": {},
   "source": [
    "## d) Crossover"
   ]
  },
  {
   "cell_type": "markdown",
   "metadata": {},
   "source": [
    "### Check if a gene (city) exist in a chromosome (sequence of cities)"
   ]
  },
  {
   "cell_type": "code",
   "execution_count": 19,
   "metadata": {},
   "outputs": [],
   "source": [
    "function geneExist = containGene(child,gene)\n",
    "    \n",
    "    # This function is used by the function crossover()\n",
    "    \n",
    "    geneExist = false;\n",
    "\n",
    "    for i=1:length(child)\n",
    "\n",
    "        if child(i) == gene\n",
    "\n",
    "            geneExist = true;\n",
    "\n",
    "        end\n",
    "\n",
    "    end\n",
    "\n",
    "end"
   ]
  },
  {
   "cell_type": "markdown",
   "metadata": {},
   "source": [
    "### Crossover between the two parents"
   ]
  },
  {
   "cell_type": "code",
   "execution_count": 20,
   "metadata": {},
   "outputs": [],
   "source": [
    "function child = crossover(parents)\n",
    "    \n",
    "    #This function received a list with the parents' characteristics and performs the crossover operation to return a child\n",
    "\n",
    "    nParents = size(parents{1})(1);\n",
    "    chromosomeSize = size(parents{1})(2);\n",
    "\n",
    "    %Select a random crossover point\n",
    "    indexCO = randi([2,chromosomeSize],1,1);\n",
    "\n",
    "    %Select the parent (parentChromosome1) that is used to start the crossover\n",
    "    parentCO = randi(nParents,1,1);\n",
    "    chromosomeParent1 = parents{1}(parentCO,:);\n",
    "    chromosomeParent2 = parents{1}(1,:);\n",
    "\n",
    "    if parentCO == 1\n",
    "        chromosomeParent2 = parents{1}(2,:);\n",
    "    end\n",
    "\n",
    "    child = chromosomeParent1;\n",
    "\n",
    "    #Genes from parent 1\n",
    "    for i=1:length(child)\n",
    "\n",
    "        if i < indexCO\n",
    "            child(i) = 0;\n",
    "        end\n",
    "\n",
    "    end\n",
    "\n",
    "    #Genes from parent 2\n",
    "    genePosition = 1;\n",
    "    for i=1:(indexCO-1)\n",
    "\n",
    "        implant = false;\n",
    "\n",
    "        while implant == false \n",
    "            geneExist = containGene(child,chromosomeParent2(genePosition));\n",
    "\n",
    "            if geneExist == true\n",
    "                genePosition++;\n",
    "                implant = false;\n",
    "\n",
    "            else\n",
    "                child(i) = chromosomeParent2(genePosition);\n",
    "                implant = true;\n",
    "                genePosition++;\n",
    "            end\n",
    "\n",
    "        end\n",
    "\n",
    "    end\n",
    "    \n",
    "end"
   ]
  },
  {
   "cell_type": "code",
   "execution_count": 21,
   "metadata": {},
   "outputs": [
    {
     "name": "stdout",
     "output_type": "stream",
     "text": [
      "childG0 =\n",
      "\n",
      "   1   6   3   4   5   2\n",
      "\n"
     ]
    }
   ],
   "source": [
    "childG0 = crossover(parentsG0)"
   ]
  },
  {
   "cell_type": "markdown",
   "metadata": {},
   "source": [
    "## e) Mutation"
   ]
  },
  {
   "cell_type": "code",
   "execution_count": 22,
   "metadata": {},
   "outputs": [],
   "source": [
    "function child = mutation(child, pm)\n",
    "    \n",
    "    #This function received a child and then performs the mutation operation on that child\n",
    "    \n",
    "    childCopy = child;\n",
    "    chromosomeSize = length(child);\n",
    "\n",
    "    %Select two random mutation points\n",
    "    indexM1 = randi([1,chromosomeSize],1,1);\n",
    "    indexM2 = randi([1,chromosomeSize],1,1);\n",
    "    \n",
    "    %Mutation is done with a 'pm'% chance\n",
    "    mutationProbThreshold = rand(1);\n",
    "    \n",
    "    if mutationProbThreshold < pm\n",
    "    \n",
    "        childCopy(indexM1) = child(indexM2);\n",
    "        childCopy(indexM2) = child(indexM1);\n",
    "        \n",
    "    end\n",
    "    \n",
    "    child = childCopy;\n",
    "\n",
    "end"
   ]
  },
  {
   "cell_type": "code",
   "execution_count": 23,
   "metadata": {},
   "outputs": [
    {
     "name": "stdout",
     "output_type": "stream",
     "text": [
      "childG0 =\n",
      "\n",
      "   1   6   3   4   5   2\n",
      "\n",
      "childG0 =\n",
      "\n",
      "   1   6   3   4   5   2\n",
      "\n"
     ]
    }
   ],
   "source": [
    "childG0 #With no mutation\n",
    "childG0 = mutation(childG0, pm = 0.5) # Child with mutation (setting a 50% probability of mutation)"
   ]
  },
  {
   "cell_type": "markdown",
   "metadata": {},
   "source": [
    "## f) Next Generation"
   ]
  },
  {
   "cell_type": "markdown",
   "metadata": {},
   "source": [
    "### Size of the next generations "
   ]
  },
  {
   "cell_type": "code",
   "execution_count": 24,
   "metadata": {},
   "outputs": [
    {
     "name": "stdout",
     "output_type": "stream",
     "text": [
      "sizeNextGenerations =  20\n"
     ]
    }
   ],
   "source": [
    "sizeNextGenerations = 1*size(generation0{1})(1) #Define the same size of the initial generation (generation 0)"
   ]
  },
  {
   "cell_type": "markdown",
   "metadata": {},
   "source": [
    "### f) Check if the child exists in a generation"
   ]
  },
  {
   "cell_type": "code",
   "execution_count": 25,
   "metadata": {},
   "outputs": [],
   "source": [
    "function childExist = containChild(child,children)\n",
    "    \n",
    "    # This function prevents to have two identical childs in a generation \n",
    "    \n",
    "    childExist = false;\n",
    "    \n",
    "    for i=1:size(children)(1)\n",
    "    \n",
    "        counterEqualGenes = 0;\n",
    "        \n",
    "        for j= 1:length(children(i,:))\n",
    "        \n",
    "            if children(i,:)(j) == child(j)\n",
    "                counterEqualGenes++;\n",
    "            end\n",
    "     \n",
    "        end\n",
    "        \n",
    "        if counterEqualGenes == length(child)\n",
    "            childExist = true;\n",
    "        end\n",
    "\n",
    "\n",
    "    end\n",
    "\n",
    "end"
   ]
  },
  {
   "cell_type": "markdown",
   "metadata": {},
   "source": [
    "# 2) Genetic algorithm "
   ]
  },
  {
   "cell_type": "code",
   "execution_count": 26,
   "metadata": {},
   "outputs": [],
   "source": [
    "function generations = GA(initialGeneration, nGenerations,sizeNextGenerations,d,pm)\n",
    "    \n",
    "    #This function uses almost all the previous functions and it requires the following inputs:\n",
    "    \n",
    "    # initialGeneration: Matrix with the sequence of cities associated to the individuals of the initial generation (generation 0)\n",
    "    # nGenerations: Number of the generations. if nGenerations is equal to 1, this function returns a list describing generation 0\n",
    "    # sizeGeneration: number of individuals in each of the next generations\n",
    "    # d: matrix of distance between cities\n",
    "    # pm: probability of mutation\n",
    "    \n",
    "    #It returns a list (\"generations\"). The first element contains a list the characteristics of the individuals of generation 0\n",
    "    # The next elements of the list contains a list with the characteristics of one of the next generations. \n",
    "    # The elements of the list of each generation contains the following:\n",
    "    \n",
    "    #1: Matrix of individuals of the generation \n",
    "    #2: Vector with total distance of each individual\n",
    "    #3: Vector with fitness of each individual (1/d)\n",
    "    #4: Vector with the sequence of cities associated to the best individual of the generation\n",
    "    #5: Scalar with total distance of the best individual\n",
    "    #6: Computation time of the functions executed to generate the list of each generation (in seconds)\n",
    "    \n",
    "    generations = {:};\n",
    "    \n",
    "    currentGeneration{1} = initialGeneration;\n",
    "    \n",
    "    #This process is iteratively repeated for each generation\n",
    "    \n",
    "    for i=0:(nGenerations)      \n",
    "        \n",
    "        t=cputime;\n",
    "                \n",
    "        if i == 0\n",
    "            \n",
    "            #Information about the initial generation\n",
    "            currentGeneration  = distanceCalculation(currentGeneration{1},d);\n",
    "            currentGeneration = fitness(currentGeneration);\n",
    "            [maxVal,maxIndex] = max(currentGeneration{3});\n",
    "            currentGeneration(4) = currentGeneration{1}(maxIndex,:); #Best individual\n",
    "            currentGeneration(5) = currentGeneration{2}(maxIndex); #Total distance of Best individual\n",
    "            currentGeneration(6) = cputime-t;\n",
    "            \n",
    "        end\n",
    "               \n",
    "        if i > 0        \n",
    "\n",
    "            parents = createParents(previousGeneration);\n",
    "            \n",
    "            #Include parents in the next generation\n",
    "            currentGeneration{1}(1,:) = parents{1}(1,:);\n",
    "            currentGeneration{1}(2,:) = parents{1}(2,:);\n",
    "            \n",
    "            #Create child from parents\n",
    "            child = crossover(parents);\n",
    "            child = mutation(child,pm);\n",
    "            \n",
    "            #Include first child in the next generation\n",
    "            currentGeneration{1}(3,:) = child;\n",
    "\n",
    "            #This loop is repeated until reaching the number of individuals in a generation\n",
    "            \n",
    "            for j=4:sizeNextGenerations\n",
    "\n",
    "                 newChild = mutation(crossover(parents),pm);\n",
    "\n",
    "                 #Verify whether a new child is different to the existing children in the generation\n",
    "                 while(containChild(child = newChild, children = currentGeneration{1}) == true)\n",
    "\n",
    "                     newChild = mutation(crossover(parents),pm);\n",
    "\n",
    "                 end\n",
    "\n",
    "                 currentGeneration{1}(j,:) = newChild;\n",
    "                 \n",
    "                #Information about the new generation\n",
    "                currentGeneration  = distanceCalculation(currentGeneration{1},d);\n",
    "                currentGeneration = fitness(currentGeneration);\n",
    "                [maxVal,maxIndex] = max(currentGeneration{3});\n",
    "                currentGeneration(4) = currentGeneration{1}(maxIndex,:); #Best individual\n",
    "                currentGeneration(5) = currentGeneration{2}(maxIndex); #Total distance of Best individual\n",
    "                currentGeneration(6) = cputime-t;\n",
    "\n",
    "            end\n",
    "        \n",
    "        end\n",
    "        \n",
    "        generations{i+1} = currentGeneration;\n",
    "            \n",
    "        previousGeneration = currentGeneration;\n",
    "            \n",
    "        currentGeneration = {};\n",
    "        \n",
    "    end\n",
    "\n",
    "end"
   ]
  },
  {
   "cell_type": "markdown",
   "metadata": {},
   "source": [
    "# 3) Application of the genetic algorithm using different numbers of generations"
   ]
  },
  {
   "cell_type": "markdown",
   "metadata": {},
   "source": [
    "## a) Generation 0"
   ]
  },
  {
   "cell_type": "code",
   "execution_count": 27,
   "metadata": {},
   "outputs": [],
   "source": [
    "generation0 = createGeneration(totalPop = totalPop,sizeGen = sizeGeneration0);"
   ]
  },
  {
   "cell_type": "markdown",
   "metadata": {},
   "source": [
    "## b) Genetic algorithm using one generation (first element of the list is generation 0, second element is generation 1)"
   ]
  },
  {
   "cell_type": "code",
   "execution_count": 28,
   "metadata": {},
   "outputs": [
    {
     "name": "stdout",
     "output_type": "stream",
     "text": [
      "generations01 =\n",
      "{\n",
      "  [1,1] =\n",
      "  {\n",
      "    [1,1] =\n",
      "\n",
      "       4   5   6   2   1   3\n",
      "       5   2   1   4   6   3\n",
      "       1   4   3   5   2   6\n",
      "       3   2   4   6   1   5\n",
      "       6   3   5   1   2   4\n",
      "       5   6   2   1   3   4\n",
      "       2   3   1   6   5   4\n",
      "       3   1   5   4   6   2\n",
      "       4   1   2   6   3   5\n",
      "       5   6   3   4   1   2\n",
      "       2   6   5   1   4   3\n",
      "       3   5   1   6   2   4\n",
      "       1   4   6   2   3   5\n",
      "       4   2   3   1   6   5\n",
      "       5   4   6   1   3   2\n",
      "       4   1   6   2   3   5\n",
      "       6   4   3   1   5   2\n",
      "       6   3   4   1   2   5\n",
      "       3   1   6   5   4   2\n",
      "       2   1   6   5   4   3\n",
      "\n",
      "    [1,2] =\n",
      "\n",
      "       382.42\n",
      "       306.60\n",
      "       270.98\n",
      "       344.45\n",
      "       331.92\n",
      "       379.99\n",
      "       293.25\n",
      "       284.92\n",
      "       348.50\n",
      "       378.20\n",
      "       372.58\n",
      "       277.47\n",
      "       281.37\n",
      "       347.23\n",
      "       358.71\n",
      "       283.75\n",
      "       332.84\n",
      "       380.30\n",
      "       274.05\n",
      "       278.41\n",
      "\n",
      "    [1,3] =\n",
      "\n",
      "       0.0026149\n",
      "       0.0032616\n",
      "       0.0036903\n",
      "       0.0029032\n",
      "       0.0030128\n",
      "       0.0026316\n",
      "       0.0034100\n",
      "       0.0035098\n",
      "       0.0028694\n",
      "       0.0026441\n",
      "       0.0026840\n",
      "       0.0036040\n",
      "       0.0035541\n",
      "       0.0028799\n",
      "       0.0027877\n",
      "       0.0035242\n",
      "       0.0030045\n",
      "       0.0026295\n",
      "       0.0036490\n",
      "       0.0035919\n",
      "\n",
      "    [1,4] =\n",
      "\n",
      "       1   4   3   5   2   6\n",
      "\n",
      "    [1,5] =  270.98\n",
      "    [1,6] =  0.0065210\n",
      "  }\n",
      "\n",
      "  [1,2] =\n",
      "  {\n",
      "    [1,1] =\n",
      "\n",
      "       1   4   3   5   2   6\n",
      "       3   1   6   5   4   2\n",
      "       1   3   6   5   4   2\n",
      "       3   1   5   4   2   6\n",
      "       1   3   5   6   4   2\n",
      "       6   1   4   5   2   3\n",
      "       3   1   4   5   6   2\n",
      "       5   1   6   3   4   2\n",
      "       4   3   6   5   1   2\n",
      "       3   1   4   5   2   6\n",
      "\n",
      "    [1,2] =\n",
      "\n",
      "       270.98\n",
      "       274.05\n",
      "       335.18\n",
      "       261.53\n",
      "       335.29\n",
      "       265.47\n",
      "       322.22\n",
      "       262.01\n",
      "       444.33\n",
      "       313.07\n",
      "\n",
      "    [1,3] =\n",
      "\n",
      "       0.0036903\n",
      "       0.0036490\n",
      "       0.0029835\n",
      "       0.0038237\n",
      "       0.0029825\n",
      "       0.0037669\n",
      "       0.0031035\n",
      "       0.0038167\n",
      "       0.0022506\n",
      "       0.0031942\n",
      "\n",
      "    [1,4] =\n",
      "\n",
      "       3   1   5   4   2   6\n",
      "\n",
      "    [1,5] =  261.53\n",
      "    [1,6] =  0.076093\n",
      "  }\n",
      "\n",
      "}\n",
      "\n"
     ]
    }
   ],
   "source": [
    "generations01 = GA(initialGeneration = generation0, nGenerations = 1, sizeNextGenerations = 10, d = d, pm = 0.4)"
   ]
  },
  {
   "cell_type": "markdown",
   "metadata": {},
   "source": [
    "## c) Genetic algorithm using two generations"
   ]
  },
  {
   "cell_type": "code",
   "execution_count": 29,
   "metadata": {},
   "outputs": [
    {
     "name": "stdout",
     "output_type": "stream",
     "text": [
      "generations012 =\n",
      "{\n",
      "  [1,1] =\n",
      "  {\n",
      "    [1,1] =\n",
      "\n",
      "       4   5   6   2   1   3\n",
      "       5   2   1   4   6   3\n",
      "       1   4   3   5   2   6\n",
      "       3   2   4   6   1   5\n",
      "       6   3   5   1   2   4\n",
      "       5   6   2   1   3   4\n",
      "       2   3   1   6   5   4\n",
      "       3   1   5   4   6   2\n",
      "       4   1   2   6   3   5\n",
      "       5   6   3   4   1   2\n",
      "       2   6   5   1   4   3\n",
      "       3   5   1   6   2   4\n",
      "       1   4   6   2   3   5\n",
      "       4   2   3   1   6   5\n",
      "       5   4   6   1   3   2\n",
      "       4   1   6   2   3   5\n",
      "       6   4   3   1   5   2\n",
      "       6   3   4   1   2   5\n",
      "       3   1   6   5   4   2\n",
      "       2   1   6   5   4   3\n",
      "\n",
      "    [1,2] =\n",
      "\n",
      "       382.42\n",
      "       306.60\n",
      "       270.98\n",
      "       344.45\n",
      "       331.92\n",
      "       379.99\n",
      "       293.25\n",
      "       284.92\n",
      "       348.50\n",
      "       378.20\n",
      "       372.58\n",
      "       277.47\n",
      "       281.37\n",
      "       347.23\n",
      "       358.71\n",
      "       283.75\n",
      "       332.84\n",
      "       380.30\n",
      "       274.05\n",
      "       278.41\n",
      "\n",
      "    [1,3] =\n",
      "\n",
      "       0.0026149\n",
      "       0.0032616\n",
      "       0.0036903\n",
      "       0.0029032\n",
      "       0.0030128\n",
      "       0.0026316\n",
      "       0.0034100\n",
      "       0.0035098\n",
      "       0.0028694\n",
      "       0.0026441\n",
      "       0.0026840\n",
      "       0.0036040\n",
      "       0.0035541\n",
      "       0.0028799\n",
      "       0.0027877\n",
      "       0.0035242\n",
      "       0.0030045\n",
      "       0.0026295\n",
      "       0.0036490\n",
      "       0.0035919\n",
      "\n",
      "    [1,4] =\n",
      "\n",
      "       1   4   3   5   2   6\n",
      "\n",
      "    [1,5] =  270.98\n",
      "    [1,6] =  0.0063390\n",
      "  }\n",
      "\n",
      "  [1,2] =\n",
      "  {\n",
      "    [1,1] =\n",
      "\n",
      "       1   4   3   5   2   6\n",
      "       3   1   6   5   4   2\n",
      "       3   1   6   5   4   2\n",
      "       5   1   6   3   4   2\n",
      "       3   1   5   4   2   6\n",
      "       1   3   6   5   4   2\n",
      "       1   3   5   6   4   2\n",
      "       1   4   3   5   6   2\n",
      "       3   1   2   4   5   6\n",
      "       3   1   4   5   2   6\n",
      "\n",
      "    [1,2] =\n",
      "\n",
      "       270.98\n",
      "       274.05\n",
      "       274.05\n",
      "       262.01\n",
      "       261.53\n",
      "       335.18\n",
      "       335.29\n",
      "       280.13\n",
      "       409.86\n",
      "       313.07\n",
      "\n",
      "    [1,3] =\n",
      "\n",
      "       0.0036903\n",
      "       0.0036490\n",
      "       0.0036490\n",
      "       0.0038167\n",
      "       0.0038237\n",
      "       0.0029835\n",
      "       0.0029825\n",
      "       0.0035698\n",
      "       0.0024399\n",
      "       0.0031942\n",
      "\n",
      "    [1,4] =\n",
      "\n",
      "       3   1   5   4   2   6\n",
      "\n",
      "    [1,5] =  261.53\n",
      "    [1,6] =  0.16482\n",
      "  }\n",
      "\n",
      "  [1,3] =\n",
      "  {\n",
      "    [1,1] =\n",
      "\n",
      "       5   1   6   3   4   2\n",
      "       3   1   5   4   2   6\n",
      "       5   1   3   4   2   6\n",
      "       1   5   6   3   4   2\n",
      "       1   5   3   6   4   2\n",
      "       1   3   5   4   2   6\n",
      "       5   1   3   2   4   6\n",
      "       3   1   5   4   6   2\n",
      "       3   1   5   6   4   2\n",
      "       4   1   6   3   5   2\n",
      "\n",
      "    [1,2] =\n",
      "\n",
      "       262.01\n",
      "       261.53\n",
      "       378.71\n",
      "       252.27\n",
      "       238.71\n",
      "       266.50\n",
      "       463.35\n",
      "       284.92\n",
      "       330.32\n",
      "       246.56\n",
      "\n",
      "    [1,3] =\n",
      "\n",
      "       0.0038167\n",
      "       0.0038237\n",
      "       0.0026406\n",
      "       0.0039640\n",
      "       0.0041891\n",
      "       0.0037523\n",
      "       0.0021582\n",
      "       0.0035098\n",
      "       0.0030274\n",
      "       0.0040558\n",
      "\n",
      "    [1,4] =\n",
      "\n",
      "       1   5   3   6   4   2\n",
      "\n",
      "    [1,5] =  238.71\n",
      "    [1,6] =  0.13812\n",
      "  }\n",
      "\n",
      "}\n",
      "\n"
     ]
    }
   ],
   "source": [
    "generations012 = GA(initialGeneration = generation0, nGenerations = 2, sizeNextGenerations = 10, d = d, pm = 0.2)"
   ]
  }
 ],
 "metadata": {
  "kernelspec": {
   "display_name": "Octave",
   "language": "octave",
   "name": "octave"
  },
  "language_info": {
   "file_extension": ".m",
   "help_links": [
    {
     "text": "GNU Octave",
     "url": "https://www.gnu.org/software/octave/support.html"
    },
    {
     "text": "Octave Kernel",
     "url": "https://github.com/Calysto/octave_kernel"
    },
    {
     "text": "MetaKernel Magics",
     "url": "https://github.com/calysto/metakernel/blob/master/metakernel/magics/README.md"
    }
   ],
   "mimetype": "text/x-octave",
   "name": "octave",
   "version": "5.1.0"
  }
 },
 "nbformat": 4,
 "nbformat_minor": 2
}
