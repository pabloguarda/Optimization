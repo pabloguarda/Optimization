{
 "cells": [
  {
   "cell_type": "markdown",
   "metadata": {},
   "source": [
    "# 1) Construya una red de 5 ciudades y una matriz de distancias de viajes usando nu ́meros aleatorios entre 1 y 100. Imprima la matriz de distancias de viaje entre ciudades."
   ]
  },
  {
   "cell_type": "markdown",
   "metadata": {},
   "source": [
    "## Number of cities to be visited"
   ]
  },
  {
   "cell_type": "code",
   "execution_count": null,
   "metadata": {},
   "outputs": [],
   "source": [
    "n = 5"
   ]
  },
  {
   "cell_type": "markdown",
   "metadata": {},
   "source": [
    "## Matrix of distances between cities with random numbers"
   ]
  },
  {
   "cell_type": "code",
   "execution_count": null,
   "metadata": {},
   "outputs": [],
   "source": [
    "function d = distanceMatrixCities(n)\n",
    "\n",
    "    d = 100*rand(n);\n",
    "\n",
    "    ## Fill diagonal with zeros\n",
    "    i = 1;\n",
    "    while(i<=n)\n",
    "        d(i,i) = 0;\n",
    "        i++;\n",
    "    end\n",
    "\n",
    "end\n",
    "\n",
    "d = distanceMatrixCities(n)"
   ]
  },
  {
   "cell_type": "markdown",
   "metadata": {},
   "source": [
    "# 2) Genere una lista con todas las posibles formas de viajar entre todas las ciudades. Impriman en consola la secuencia de ciudades y la distancia total recorrida en cada caso. Por u ́ltimo, imprima la distancia m ́ınima."
   ]
  },
  {
   "cell_type": "markdown",
   "metadata": {},
   "source": [
    "## Possible sequences of visited cities (e.g. 1,2,3,4,5 and 1,3,2,4,5)"
   ]
  },
  {
   "cell_type": "code",
   "execution_count": null,
   "metadata": {},
   "outputs": [],
   "source": [
    "p = perms([1:n]);"
   ]
  },
  {
   "cell_type": "code",
   "execution_count": null,
   "metadata": {},
   "outputs": [],
   "source": [
    "size(p)"
   ]
  },
  {
   "cell_type": "markdown",
   "metadata": {},
   "source": [
    "## Total travelled distance in each sequence of cities"
   ]
  },
  {
   "cell_type": "code",
   "execution_count": null,
   "metadata": {},
   "outputs": [],
   "source": [
    "function daccs = distanceCalculation(cities,d)\n",
    "\n",
    "    daccs = zeros([size(cities)(1),size(cities)(2)+1]);\n",
    "\n",
    "    for i = 1:(size(cities)(1))\n",
    "        dacc = 0;\n",
    "        \n",
    "        for j = 1:(size(cities)(2)-1)\n",
    "            dacc += d(cities(i,j),cities(i,j+1));\n",
    "        end\n",
    "        \n",
    "        daccs(i,:) = [cities(i,:),dacc];\n",
    "    \n",
    "    end\n",
    "end"
   ]
  },
  {
   "cell_type": "code",
   "execution_count": null,
   "metadata": {},
   "outputs": [],
   "source": [
    "daccs = distanceCalculation(cities = p, d = d)"
   ]
  },
  {
   "cell_type": "markdown",
   "metadata": {},
   "source": [
    "## Sequence of cities with the minimum total distance (optimal solution)"
   ]
  },
  {
   "cell_type": "markdown",
   "metadata": {},
   "source": [
    "### Function that returns the index of the sequence of cities with the minimim total distance"
   ]
  },
  {
   "cell_type": "code",
   "execution_count": null,
   "metadata": {},
   "outputs": [],
   "source": [
    "function minS = minimumTotalDistance(daccs,nCities)\n",
    "\n",
    "    minD = min(daccs(:,nCities+1));\n",
    "    minS = 1;\n",
    "\n",
    "    for i = 1:size(daccs)(1)\n",
    "        if(daccs(i,size(daccs)(2))==minD)\n",
    "            minS = i;\n",
    "        end\n",
    "    end\n",
    "\n",
    "end"
   ]
  },
  {
   "cell_type": "code",
   "execution_count": null,
   "metadata": {},
   "outputs": [],
   "source": [
    "minS = minimumTotalDistance(daccs,nCities = n)"
   ]
  },
  {
   "cell_type": "code",
   "execution_count": null,
   "metadata": {},
   "outputs": [],
   "source": [
    "fprintf('Sequence of cities: %s\\n',sprintf('%d ', daccs(minS,1:size(daccs)(2)-1)))\n",
    "fprintf('Minimum distance: %s\\n',sprintf('%d ', daccs(minS,size(daccs)(2))))"
   ]
  },
  {
   "cell_type": "markdown",
   "metadata": {},
   "source": [
    "# 3) Repita el ejercicio para 100 ciudades. ¿Cu ́anto tarda su algoritmo en encontrar la distancia m ́ınima?"
   ]
  },
  {
   "cell_type": "markdown",
   "metadata": {},
   "source": [
    "## Function that solve the TSP for any number of cities"
   ]
  },
  {
   "cell_type": "code",
   "execution_count": null,
   "metadata": {},
   "outputs": [],
   "source": [
    "function [n,minSeq,minDist,cpuTime] = TSP(nCities)\n",
    "\n",
    "    n = nCities;\n",
    "    d = distanceMatrixCities(n);\n",
    "    t=cputime;\n",
    "\n",
    "    p = perms([1:n]);\n",
    "\n",
    "    daccs = distanceCalculation(cities = p, d = d);\n",
    "\n",
    "    minS = minimumTotalDistance(daccs,nCities = nCities)\n",
    "\n",
    "    minSeq = daccs(minS,1:(size(daccs)(2)-1));\n",
    "    minDist = daccs(minS,size(daccs)(2));\n",
    "    cpuTime = cputime-t;\n",
    "\n",
    "\n",
    "end"
   ]
  },
  {
   "cell_type": "markdown",
   "metadata": {},
   "source": [
    "## Function to print results"
   ]
  },
  {
   "cell_type": "code",
   "execution_count": null,
   "metadata": {},
   "outputs": [],
   "source": [
    "function printResults(n,minSeq,minDist,cpuTime)\n",
    "\n",
    "    fprintf('Number of cities: %s\\n',sprintf('%d ',n))\n",
    "    fprintf('Sequence of cities: %s\\n',sprintf('%d ',minSeq))\n",
    "    fprintf('Minimum distance: %s\\n',sprintf('%d ', minDist))\n",
    "    printf('Total cpu time: %f seconds\\n', cpuTime)\n",
    "\n",
    "end"
   ]
  },
  {
   "cell_type": "markdown",
   "metadata": {},
   "source": [
    "## Executing our algorithm to solve the TSP for 4,5,6,7 and 8 cities"
   ]
  },
  {
   "cell_type": "markdown",
   "metadata": {},
   "source": [
    "### 4 Cities"
   ]
  },
  {
   "cell_type": "code",
   "execution_count": null,
   "metadata": {},
   "outputs": [],
   "source": [
    "[a1,a2,a3,a4] = TSP(nCities = 4); printResults(a1,a2,a3,a4)"
   ]
  },
  {
   "cell_type": "markdown",
   "metadata": {},
   "source": [
    "### 5 Cities"
   ]
  },
  {
   "cell_type": "code",
   "execution_count": null,
   "metadata": {},
   "outputs": [],
   "source": [
    "[a1,a2,a3,a4] = TSP(nCities = 5); printResults(a1,a2,a3,a4)"
   ]
  },
  {
   "cell_type": "markdown",
   "metadata": {},
   "source": [
    "### 6 Cities"
   ]
  },
  {
   "cell_type": "code",
   "execution_count": null,
   "metadata": {},
   "outputs": [],
   "source": [
    "[a1,a2,a3,a4] = TSP(nCities = 6); printResults(a1,a2,a3,a4)"
   ]
  },
  {
   "cell_type": "markdown",
   "metadata": {},
   "source": [
    "### 7 Cities"
   ]
  },
  {
   "cell_type": "code",
   "execution_count": null,
   "metadata": {},
   "outputs": [],
   "source": [
    "[a1,a2,a3,a4] = TSP(nCities = 7); printResults(a1,a2,a3,a4)"
   ]
  },
  {
   "cell_type": "markdown",
   "metadata": {},
   "source": [
    "### 8 Cities"
   ]
  },
  {
   "cell_type": "code",
   "execution_count": null,
   "metadata": {},
   "outputs": [],
   "source": [
    "[a1,a2,a3,a4] = TSP(nCities = 8); printResults(a1,a2,a3,a4)"
   ]
  },
  {
   "cell_type": "markdown",
   "metadata": {},
   "source": [
    "#### From the previous results, we expect that for 100 cities the algorithm will take a huge amount of time. The computational time by using a brute force approach to solve the travelling salesman problem growth at non-polynomial time.Indeed, if you execute this function for 100 cities, Octave will crash or your computer will shutdown."
   ]
  },
  {
   "cell_type": "markdown",
   "metadata": {},
   "source": [
    "# 4. Programe el algoritmo de Dijkstra para encontrar la distancia mínima entre una ciudad y el resto de las ciudades"
   ]
  },
  {
   "cell_type": "markdown",
   "metadata": {},
   "source": [
    "### Distances matrix"
   ]
  },
  {
   "cell_type": "markdown",
   "metadata": {},
   "source": [
    "* We first create a matrix with the distance between nodes. If there is no arcs between two nodes, the distance will be equal to infinity . The distance between a node and itself is 0. "
   ]
  },
  {
   "cell_type": "code",
   "execution_count": 161,
   "metadata": {},
   "outputs": [
    {
     "name": "stdout",
     "output_type": "stream",
     "text": [
      "d =\n",
      "\n",
      "     0     5     1   Inf     1   Inf   Inf\n",
      "   Inf     0   Inf   Inf     2   Inf   Inf\n",
      "   Inf   Inf     0   Inf     4     2   Inf\n",
      "   Inf     1   Inf     0   Inf   Inf     5\n",
      "   Inf   Inf   Inf     2     0     1     9\n",
      "   Inf   Inf   Inf   Inf   Inf     0     7\n",
      "   Inf   Inf   Inf   Inf   Inf   Inf     0\n",
      "\n"
     ]
    }
   ],
   "source": [
    "d = [\n",
    "0   5   1   inf 1   inf  inf; #Node 1\n",
    "inf 0   inf inf 2   inf  inf; #Node 2\n",
    "inf inf 0   inf 4   2    inf; #Node 3\n",
    "inf 1   inf 0   inf inf  5  ; #Node 4\n",
    "inf inf inf 2   0   1    9  ; #Node 5\n",
    "inf inf inf inf inf 0    7  ; #Node 6\n",
    "inf inf inf inf inf inf  0  ; #Node 7\n",
    "] "
   ]
  },
  {
   "cell_type": "markdown",
   "metadata": {},
   "source": [
    "## Visited and non-visited nodes"
   ]
  },
  {
   "cell_type": "markdown",
   "metadata": {},
   "source": [
    "* A vector stores the information on visited nodes.\n",
    "* The vector of visited nodes contains no values initially\n",
    "* The vector of non-visited nodes contains all nodes initially"
   ]
  },
  {
   "cell_type": "code",
   "execution_count": 162,
   "metadata": {},
   "outputs": [
    {
     "name": "stdout",
     "output_type": "stream",
     "text": [
      "visitedNodes = [](0x1)\n",
      "nonVisitedNodes =\n",
      "\n",
      "   1   2   3   4   5   6   7\n",
      "\n"
     ]
    }
   ],
   "source": [
    "visitedNodes = zeros(0,1)\n",
    "nonVisitedNodes = (1:size(d)(1))"
   ]
  },
  {
   "cell_type": "markdown",
   "metadata": {},
   "source": [
    "### Predecessor nodes"
   ]
  },
  {
   "cell_type": "markdown",
   "metadata": {},
   "source": [
    "* The predecesor of each node is stored in a vector with length equal to the number of nodes of the network. \n",
    "* The initial values in this vector are -1 and it is updated when a node is added to the list of visited nodes"
   ]
  },
  {
   "cell_type": "code",
   "execution_count": 163,
   "metadata": {},
   "outputs": [
    {
     "name": "stdout",
     "output_type": "stream",
     "text": [
      "predecessors =\n",
      "\n",
      "  -1  -1  -1  -1  -1  -1  -1\n",
      "\n"
     ]
    }
   ],
   "source": [
    "predecessors =  -1*ones(1,size(d)(1))"
   ]
  },
  {
   "cell_type": "markdown",
   "metadata": {},
   "source": [
    "## Current minimum distances"
   ]
  },
  {
   "cell_type": "markdown",
   "metadata": {},
   "source": [
    "* A vector stores the current value of the minimum distance to each node\n",
    "* The initial values in this vector are infinity and the elements are updated along the iterations of the algorithm"
   ]
  },
  {
   "cell_type": "code",
   "execution_count": 164,
   "metadata": {},
   "outputs": [
    {
     "name": "stdout",
     "output_type": "stream",
     "text": [
      "minDistances =\n",
      "\n",
      "   Inf   Inf   Inf   Inf   Inf   Inf   Inf\n",
      "\n"
     ]
    }
   ],
   "source": [
    "minDistances = inf*ones(1,size(d)(1))"
   ]
  },
  {
   "cell_type": "markdown",
   "metadata": {},
   "source": [
    "## Dijkstra Algorithm "
   ]
  },
  {
   "cell_type": "code",
   "execution_count": 165,
   "metadata": {},
   "outputs": [],
   "source": [
    "function [nodes, predecessors, minDistances] = dijkstra(d,nodeI,nodeM)\n",
    "    \n",
    "    nNodes = size(d)(1);\n",
    "    nodes = (1:nNodes);\n",
    "    \n",
    "    visitedNodes = zeros(0,1); #Empty row vector with zeros\n",
    "    nonVisitedNodes = (1:nNodes); #Row vector with nonVisitedNodes\n",
    "    predecessors =  -1*ones(1,nNodes);\n",
    "    minDistances = inf*ones(1,nNodes);\n",
    "    nIteration = 0;\n",
    "    minNodeIteration = 0;\n",
    " \n",
    " \n",
    "    while (minNodeIteration != nodeM) #The algorithm finishes when the destination node is added to the list of visited nodes\n",
    "        \n",
    "        #Iteration 0 \n",
    "        if nIteration == 0\n",
    "            visitedNodes(1) = nodeI;\n",
    "            nonVisitedNodes = nonVisitedNodes(nonVisitedNodes~=nodeI); #Remove the origin node from the list nonVisitedNodes \n",
    "            predecessors(nodeI) = -1;\n",
    "            minDistances(nodeI) = d(nodeI,nodeI); #Equal to 0\n",
    "            nIteration = nIteration + 1;\n",
    "            \n",
    "        else #Next iterations\n",
    "            \n",
    "            minNodeIteration = 0;\n",
    "            minDistIteration = inf;\n",
    "            \n",
    "            for i = 1:(size(visitedNodes)(2))\n",
    "            \n",
    "                for j = 1:size(nonVisitedNodes)(2)\n",
    "                    \n",
    "                    \n",
    "                    if (minDistances(visitedNodes(i))+d(visitedNodes(i),nonVisitedNodes(j)))<=minDistances(nonVisitedNodes(j))\n",
    "                        \n",
    "                        if minDistances(visitedNodes(i))+d(visitedNodes(i),nonVisitedNodes(j)) != inf \n",
    "                            minDistances(nonVisitedNodes(j)) = minDistances(visitedNodes(i))+d(visitedNodes(i),nonVisitedNodes(j));\n",
    "                            predecessors(nonVisitedNodes(j)) = visitedNodes(i);\n",
    "                        end\n",
    "                        \n",
    "                        if minDistances(nonVisitedNodes(j))<=minDistIteration #Store information on the node with minimum distance\n",
    "                            \n",
    "                            minDistIteration = minDistances(nonVisitedNodes(j));\n",
    "                            minNodeIteration = nonVisitedNodes(j);\n",
    "                        end                        \n",
    "                    end\n",
    "            \n",
    "                end\n",
    "                \n",
    "            end\n",
    "            \n",
    "            if minNodeIteration != 0 #When the node is accesible f\n",
    "                \n",
    "                visitedNodes(size(visitedNodes)(2)+1) = minNodeIteration; #Add node with minimum distance to the list of the visited nodes\n",
    "                nonVisitedNodes = nonVisitedNodes(nonVisitedNodes~=minNodeIteration); #Remove the visited node from the list nonVisitedNodes\n",
    "            end\n",
    "            \n",
    "            nIteration = nIteration + 1; #next iteration\n",
    "            \n",
    "        end\n",
    "        \n",
    "    end\n",
    "\n",
    "end"
   ]
  },
  {
   "cell_type": "markdown",
   "metadata": {},
   "source": [
    "## To test the algorithm, we will use the same network provided in problem 2, homework 11"
   ]
  },
  {
   "cell_type": "markdown",
   "metadata": {},
   "source": [
    "* Distance from node 1 to node 7"
   ]
  },
  {
   "cell_type": "code",
   "execution_count": 166,
   "metadata": {},
   "outputs": [
    {
     "name": "stdout",
     "output_type": "stream",
     "text": [
      "nodes =\n",
      "\n",
      "   1   2   3   4   5   6   7\n",
      "\n",
      "predecessors =\n",
      "\n",
      "  -1   4   1   5   1   5   4\n",
      "\n",
      "minDistances =\n",
      "\n",
      "   0   4   1   3   1   2   8\n",
      "\n"
     ]
    }
   ],
   "source": [
    "[nodes, predecessors, minDistances] = dijkstra(d=d,nodeI = 1, nodeM = 7)"
   ]
  },
  {
   "cell_type": "markdown",
   "metadata": {},
   "source": [
    "* Distance from node 3 to node 7"
   ]
  },
  {
   "cell_type": "code",
   "execution_count": 167,
   "metadata": {},
   "outputs": [
    {
     "name": "stdout",
     "output_type": "stream",
     "text": [
      "nodes =\n",
      "\n",
      "   1   2   3   4   5   6   7\n",
      "\n",
      "predecessors =\n",
      "\n",
      "  -1   4  -1  -1   2   5   4\n",
      "\n",
      "minDistances =\n",
      "\n",
      "   Inf     1   Inf     0     3     4     5\n",
      "\n"
     ]
    }
   ],
   "source": [
    "[nodes, predecessors, minDistances] = dijkstra(d=d,nodeI = 4, nodeM = 7)"
   ]
  },
  {
   "cell_type": "markdown",
   "metadata": {},
   "source": [
    "Note that node 1 and 3 are not accessible from node 4 so their distances are infinity and their predecessors are -1"
   ]
  }
 ],
 "metadata": {
  "kernelspec": {
   "display_name": "Octave",
   "language": "octave",
   "name": "octave"
  },
  "language_info": {
   "file_extension": ".m",
   "help_links": [
    {
     "text": "GNU Octave",
     "url": "https://www.gnu.org/software/octave/support.html"
    },
    {
     "text": "Octave Kernel",
     "url": "https://github.com/Calysto/octave_kernel"
    },
    {
     "text": "MetaKernel Magics",
     "url": "https://github.com/calysto/metakernel/blob/master/metakernel/magics/README.md"
    }
   ],
   "mimetype": "text/x-octave",
   "name": "octave",
   "version": "5.1.0"
  }
 },
 "nbformat": 4,
 "nbformat_minor": 2
}
