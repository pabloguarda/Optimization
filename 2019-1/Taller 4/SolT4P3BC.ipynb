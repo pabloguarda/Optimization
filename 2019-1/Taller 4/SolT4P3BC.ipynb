{
 "cells": [
  {
   "cell_type": "markdown",
   "metadata": {},
   "source": [
    "# b) Encuentre una solución básica inicial factible para el PPL (ayuda: formule el problema de optimización de la Fase I de Simplex y luego encuentre el valor óptimo con Octave)"
   ]
  },
  {
   "cell_type": "code",
   "execution_count": 1,
   "metadata": {},
   "outputs": [],
   "source": [
    "clear"
   ]
  },
  {
   "cell_type": "code",
   "execution_count": 2,
   "metadata": {},
   "outputs": [
    {
     "name": "stdout",
     "output_type": "stream",
     "text": [
      "c =\n",
      "\n",
      "   0   0   0   0   0   0   0   0   0   0   1   1\n",
      "\n",
      "A =\n",
      "\n",
      " Columns 1 through 6:\n",
      "\n",
      "     0.00033     0.00167     0.00100     1.00000     0.00000     0.00000\n",
      "    40.00000   210.00000    45.00000     0.00000     1.00000     0.00000\n",
      "     1.00000     0.00000     0.00000     0.00000     0.00000    -1.00000\n",
      "     0.00000     1.00000     0.00000     0.00000     0.00000     0.00000\n",
      "     1.00000     0.00000     0.00000     0.00000     0.00000     0.00000\n",
      "     0.00000     1.00000     0.00000     0.00000     0.00000     0.00000\n",
      "     0.00000     0.00000     1.00000     0.00000     0.00000     0.00000\n",
      "\n",
      " Columns 7 through 12:\n",
      "\n",
      "     0.00000     0.00000     0.00000     0.00000     0.00000     0.00000\n",
      "     0.00000     0.00000     0.00000     0.00000     0.00000     0.00000\n",
      "     0.00000     0.00000     0.00000     0.00000     1.00000     0.00000\n",
      "    -1.00000     0.00000     0.00000     0.00000     0.00000     1.00000\n",
      "     0.00000     1.00000     0.00000     0.00000     0.00000     0.00000\n",
      "     0.00000     0.00000     1.00000     0.00000     0.00000     0.00000\n",
      "     0.00000     0.00000     0.00000     1.00000     0.00000     0.00000\n",
      "\n",
      "b =\n",
      "\n",
      "        5\n",
      "   400000\n",
      "     5000\n",
      "      400\n",
      "    10000\n",
      "     1000\n",
      "     2000\n",
      "\n",
      "lb =\n",
      "\n",
      "   0   0   0   0   0   0   0   0   0   0   0   0\n",
      "\n",
      "ub = [](0x0)\n",
      "ctype = SSSSSSS\n",
      "vtype = CCCCCCCCCCCC\n"
     ]
    }
   ],
   "source": [
    "%Vector de costos de función objetivo\n",
    "c=[0 0 0 0 0 0 0 0 0 0 1 1]\n",
    "%Matriz de restricciones\n",
    "A=[1/3000 1/600 1/1000 1 0 0 0 0 0 0 0 0; 40 210 45 0 1 0 0 0 0 0 0 0; \n",
    "1 0 0 0 0 -1 0 0 0 0 1 0; 0 1 0 0 0 0 -1 0 0 0 0 1;\n",
    "1 0 0 0 0 0 0 1 0 0 0 0; 0 1 0 0 0 0 0 0 1 0 0 0;\n",
    "0 0 1 0 0 0 0 0 0 1 0 0]\n",
    "%Vector con lado derecho de restricciones\n",
    "b=[5;400000;5000;400;10000;1000;2000]\n",
    "%Límite inferior variables\n",
    "lb=[0 0 0 0 0 0 0 0 0 0 0 0]\n",
    "%Límite superior variables\n",
    "ub=[]\n",
    "%Tipo de restricciones\n",
    "ctype='SSSSSSS'\n",
    "%Tipo de variables\n",
    "vtype='CCCCCCCCCCCC'\n",
    "%Opción para el tipo de output del optimizador\n",
    "param.msglev=2;"
   ]
  },
  {
   "cell_type": "code",
   "execution_count": 3,
   "metadata": {},
   "outputs": [
    {
     "name": "stdout",
     "output_type": "stream",
     "text": [
      "      0: obj =   0.000000000e+00 inf =   3.423e+03 (2)\n",
      "      2: obj =   5.400000000e+03 inf =   0.000e+00 (0)\n",
      "*     4: obj =   0.000000000e+00 inf =   0.000e+00 (0)\n",
      "ans =\n",
      "\n",
      "     5000.00000\n",
      "      400.00000\n",
      "        0.00000\n",
      "        2.66667\n",
      "   116000.00000\n",
      "        0.00000\n",
      "        0.00000\n",
      "     5000.00000\n",
      "      600.00000\n",
      "     2000.00000\n",
      "        0.00000\n",
      "        0.00000\n",
      "\n"
     ]
    }
   ],
   "source": [
    "#Ejecución del optimizador\n",
    "glpk(c, A, b, lb, ub,ctype,vtype,s=1,param)"
   ]
  },
  {
   "cell_type": "markdown",
   "metadata": {},
   "source": [
    "## Solución optima"
   ]
  },
  {
   "cell_type": "markdown",
   "metadata": {},
   "source": [
    "* Función objetivo: 0  <br />\n",
    "* Variables de decisión del problema original: $x_1 = 5000, x_2 = 400, x_3 = 0$ <br />\n",
    "* Variales de holgura: $x_4 = 2.67, x_5 = 116000, x_6 = 0,x_7 = 0, x_8 = 5000, x_9 = 600, x_{10} = 2000$ <br />\n",
    "* Variables artificales: $y_{1} = 0$, $y_{2} = 0 $"
   ]
  },
  {
   "cell_type": "markdown",
   "metadata": {},
   "source": [
    "# c) Determine la solución óptima del PPL con Octave."
   ]
  },
  {
   "cell_type": "code",
   "execution_count": 4,
   "metadata": {},
   "outputs": [],
   "source": [
    "clear"
   ]
  },
  {
   "cell_type": "code",
   "execution_count": 5,
   "metadata": {},
   "outputs": [
    {
     "name": "stdout",
     "output_type": "stream",
     "text": [
      "c =\n",
      "\n",
      "    4000    6000   10000\n",
      "\n",
      "A =\n",
      "\n",
      "     0.00033     0.00167     0.00100\n",
      "    40.00000   210.00000    45.00000\n",
      "     1.00000     0.00000     0.00000\n",
      "     0.00000     1.00000     0.00000\n",
      "     1.00000     0.00000     0.00000\n",
      "     0.00000     1.00000     0.00000\n",
      "     0.00000     0.00000     1.00000\n",
      "\n",
      "B =\n",
      "\n",
      "        5\n",
      "   400000\n",
      "     5000\n",
      "      400\n",
      "    10000\n",
      "     1000\n",
      "     2000\n",
      "\n",
      "lb =\n",
      "\n",
      "   0   0   0\n",
      "\n",
      "ub = [](0x0)\n",
      "ctype = UULLUUU\n",
      "vartype = CCC\n"
     ]
    }
   ],
   "source": [
    "%Vector de costos de función objetivo\n",
    "c=[4000 6000 10000]  \n",
    "%Matriz de restricciones\n",
    "A=[1/3000 1/600 1/1000; 40 210 45;1 0 0;0 1 0;1 0 0;0 1 0;0 0 1] \n",
    "%Vector con lado derecho de restricciones\n",
    "B=[5;400000;5000; 400; 10000;1000;2000]\n",
    "%Límite inferior variables\n",
    "lb=[0,0,0]  \n",
    "%Límite superior variables\n",
    "ub=[]\n",
    "%Tipo de restricciones\n",
    "ctype='UULLUUU'\n",
    "%Tipo de variables\n",
    "vartype='CCC'\n",
    "%Opción para el tipo de output del optimizador\n",
    "param.msglev=2;"
   ]
  },
  {
   "cell_type": "code",
   "execution_count": 6,
   "metadata": {},
   "outputs": [
    {
     "name": "stdout",
     "output_type": "stream",
     "text": [
      "*     0: obj =   2.240000000e+07 inf =   0.000e+00 (3)\n",
      "*     2: obj =   4.500000000e+07 inf =   0.000e+00 (0)\n",
      "ans =\n",
      "\n",
      "   5650.00\n",
      "    400.00\n",
      "   2000.00\n",
      "\n"
     ]
    }
   ],
   "source": [
    "#Ejecución del optimizador\n",
    "glpk(c=c,A=A,B=B,lb=lb,ub=ub,ctype=ctype,vartype=vartype,s=-1,param=param)"
   ]
  },
  {
   "cell_type": "markdown",
   "metadata": {},
   "source": [
    "## Solución optima"
   ]
  },
  {
   "cell_type": "markdown",
   "metadata": {},
   "source": [
    "* Función objetivo: 45000000  <br />\n",
    "* Variables de decisión: $x_1 = 5650, x_2 = 400, x_3 = 2000$"
   ]
  }
 ],
 "metadata": {
  "kernelspec": {
   "display_name": "Octave",
   "language": "octave",
   "name": "octave"
  },
  "language_info": {
   "file_extension": ".m",
   "help_links": [
    {
     "text": "GNU Octave",
     "url": "https://www.gnu.org/software/octave/support.html"
    },
    {
     "text": "Octave Kernel",
     "url": "https://github.com/Calysto/octave_kernel"
    },
    {
     "text": "MetaKernel Magics",
     "url": "https://github.com/calysto/metakernel/blob/master/metakernel/magics/README.md"
    }
   ],
   "mimetype": "text/x-octave",
   "name": "octave",
   "version": "5.1.0"
  }
 },
 "nbformat": 4,
 "nbformat_minor": 2
}
