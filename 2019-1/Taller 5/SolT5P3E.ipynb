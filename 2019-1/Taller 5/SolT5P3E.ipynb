{
 "cells": [
  {
   "cell_type": "markdown",
   "metadata": {},
   "source": [
    "# e) Realice un análisis de sensibilidad respecto a la máxima variación posible de aluminio, pintura y trabajo, tal que no cambie la solución actual. Utilice el enfoque matricial y gráfico para determinar el rango de valores."
   ]
  },
  {
   "cell_type": "code",
   "execution_count": 2,
   "metadata": {},
   "outputs": [],
   "source": [
    "clear % eliminar todas las variables creadas previamente\n",
    "clc % limpiar consola"
   ]
  },
  {
   "cell_type": "markdown",
   "metadata": {},
   "source": [
    "## Función objetivo"
   ]
  },
  {
   "cell_type": "code",
   "execution_count": 3,
   "metadata": {},
   "outputs": [],
   "source": [
    "function z = funcionobjetivo(x1,x2,c1)\n",
    "\n",
    "    z = c1*x1+600*x2;\n",
    "\n",
    "end\n"
   ]
  },
  {
   "cell_type": "code",
   "execution_count": 4,
   "metadata": {},
   "outputs": [
    {
     "name": "stdout",
     "output_type": "stream",
     "text": [
      "solOpt =\n",
      "\n",
      "   30   30\n",
      "\n"
     ]
    }
   ],
   "source": [
    "solOpt = [30,30] % x1,x2"
   ]
  },
  {
   "cell_type": "markdown",
   "metadata": {},
   "source": [
    "## Con el optimizador de octave se verificará lo que ocurre para valores de disponibilidad de recursos fuera o dentro del rango admisible"
   ]
  },
  {
   "cell_type": "markdown",
   "metadata": {},
   "source": [
    "### Parámetros optimizador"
   ]
  },
  {
   "cell_type": "code",
   "execution_count": 5,
   "metadata": {},
   "outputs": [
    {
     "name": "stdout",
     "output_type": "stream",
     "text": [
      "c =\n",
      "\n",
      "   800   600     0     0     0\n",
      "\n",
      "A =\n",
      "\n",
      "    7.00000   14.00000    1.00000    0.00000    0.00000\n",
      "    0.30000    0.30000    0.00000   -1.00000    0.00000\n",
      "   15.00000    5.00000    0.00000    0.00000    1.00000\n",
      "\n",
      "b =\n",
      "\n",
      "   630\n",
      "    15\n",
      "   600\n",
      "\n",
      "lb =\n",
      "\n",
      "   0   0   0   0   0\n",
      "\n",
      "ub = [](0x0)\n",
      "ctype = SSS\n",
      "vartype = CCCCC\n"
     ]
    }
   ],
   "source": [
    "%Vector de costos de función objetivo\n",
    "c=[800 600 0 0 0]  \n",
    "%Matriz de restricciones\n",
    "A=[7 14 1 0 0; 0.3 0.3 0 -1 0;15 5 0 0 1] \n",
    "%Vector con lado derecho de restricciones\n",
    "b=[630;15;600]\n",
    "%Límite inferior variables\n",
    "lb=[0,0,0,0,0]  \n",
    "%Límite superior variables\n",
    "ub=[]\n",
    "%Tipo de restricciones\n",
    "ctype='SSS'\n",
    "%Tipo de variables\n",
    "vartype='CCCCC'\n",
    "%Opción para el tipo de output del optimizador\n",
    "param.msglev=2;"
   ]
  },
  {
   "cell_type": "markdown",
   "metadata": {},
   "source": [
    "### A continuación se verificará que para disponibilidad de recursos que están dentro del rango encontrado, la base óptima no cambia."
   ]
  },
  {
   "cell_type": "markdown",
   "metadata": {},
   "source": [
    "i) $b_1= 1679$"
   ]
  },
  {
   "cell_type": "code",
   "execution_count": 24,
   "metadata": {},
   "outputs": [
    {
     "name": "stdout",
     "output_type": "stream",
     "text": [
      "b =\n",
      "\n",
      "   1679\n",
      "     15\n",
      "    600\n",
      "\n",
      "      0: obj =  -0.000000000e+00 inf =   4.518e+01 (1)\n",
      "      1: obj =   3.000000000e+04 inf =   0.000e+00 (0)\n",
      "*     3: obj =   7.197142857e+04 inf =   0.000e+00 (0)\n",
      "xOpt =\n",
      "\n",
      "     0.02857\n",
      "   119.91429\n",
      "     0.00000\n",
      "    20.98286\n",
      "     0.00000\n",
      "\n",
      "fOpt =  71971.42857\n"
     ]
    }
   ],
   "source": [
    "%Vector con lado derecho de restricciones\n",
    "b=[1679;15;600]\n",
    "#Ejecución del optimizador\n",
    "[xOpt,fOpt]= glpk(c=c,A=A,B=b,lb=lb,ub=ub,ctype=ctype,vartype=vartype,s=-1,param=param)"
   ]
  },
  {
   "cell_type": "markdown",
   "metadata": {},
   "source": [
    "ii) $b_1= 456$"
   ]
  },
  {
   "cell_type": "code",
   "execution_count": 26,
   "metadata": {},
   "outputs": [
    {
     "name": "stdout",
     "output_type": "stream",
     "text": [
      "b =\n",
      "\n",
      "   456\n",
      "    15\n",
      "   600\n",
      "\n",
      "      0: obj =  -0.000000000e+00 inf =   4.518e+01 (1)\n",
      "      2: obj =   3.697142857e+04 inf =   0.000e+00 (0)\n",
      "*     3: obj =   3.702857143e+04 inf =   0.000e+00 (0)\n",
      "xOpt =\n",
      "\n",
      "   34.97143\n",
      "   15.08571\n",
      "    0.00000\n",
      "    0.01714\n",
      "    0.00000\n",
      "\n",
      "fOpt =  37028.57143\n"
     ]
    }
   ],
   "source": [
    "%Vector con lado derecho de restricciones\n",
    "b=[456;15;600]\n",
    "#Ejecución del optimizador\n",
    "[xOpt,fOpt]= glpk(c=c,A=A,B=b,lb=lb,ub=ub,ctype=ctype,vartype=vartype,s=-1,param=param)"
   ]
  },
  {
   "cell_type": "markdown",
   "metadata": {},
   "source": [
    "* Ahora se verificará que disponibilidad de recursos fuera del rango encontrado, la base óptima cambia o no es factible"
   ]
  },
  {
   "cell_type": "markdown",
   "metadata": {},
   "source": [
    "iii) $b_1 = 434$"
   ]
  },
  {
   "cell_type": "code",
   "execution_count": 29,
   "metadata": {},
   "outputs": [
    {
     "name": "stdout",
     "output_type": "stream",
     "text": [
      "b =\n",
      "\n",
      "   434\n",
      "    15\n",
      "   600\n",
      "\n",
      "      0: obj =  -0.000000000e+00 inf =   4.518e+01 (1)\n",
      "      2: obj =   3.640000000e+04 inf =   1.084e+00 (1)\n",
      "glp_simplex: unable to recover undefined or non-optimal solution\n",
      "xOpt =\n",
      "\n",
      "    NA\n",
      "    NA\n",
      "    NA\n",
      "    NA\n",
      "    NA\n",
      "\n",
      "fOpt =   NA\n"
     ]
    }
   ],
   "source": [
    "b=[434;15;600]\n",
    "#Ejecución del optimizador\n",
    "[xOpt,fOpt]= glpk(c=c,A=A,B=b,lb=lb,ub=ub,ctype=ctype,vartype=vartype,s=-1,param=param)"
   ]
  },
  {
   "cell_type": "markdown",
   "metadata": {},
   "source": [
    "Si la disponibilidad de recursos de aluminio bruto es menor a 435 (434 < 435), no hay solución factible"
   ]
  },
  {
   "cell_type": "markdown",
   "metadata": {},
   "source": [
    "iv) $b_1 = 1681$"
   ]
  },
  {
   "cell_type": "code",
   "execution_count": 30,
   "metadata": {},
   "outputs": [
    {
     "name": "stdout",
     "output_type": "stream",
     "text": [
      "b =\n",
      "\n",
      "   1681\n",
      "     15\n",
      "    600\n",
      "\n",
      "      0: obj =  -0.000000000e+00 inf =   4.518e+01 (1)\n",
      "      1: obj =   3.000000000e+04 inf =   0.000e+00 (0)\n",
      "*     2: obj =   7.200000000e+04 inf =   0.000e+00 (0)\n",
      "xOpt =\n",
      "\n",
      "     0\n",
      "   120\n",
      "     1\n",
      "    21\n",
      "     0\n",
      "\n",
      "fOpt =  72000\n"
     ]
    }
   ],
   "source": [
    "b=[1681;15;600]\n",
    "#Ejecución del optimizador\n",
    "[xOpt,fOpt]= glpk(c=c,A=A,B=b,lb=lb,ub=ub,ctype=ctype,vartype=vartype,s=-1,param=param)"
   ]
  },
  {
   "cell_type": "markdown",
   "metadata": {},
   "source": [
    "Si la disponibilidad de recursos de aluminio bruto es mayor a 1680 (1681 < 1680), $x_1$ sale de la base y $x_3$ entra a la base <br/> Es decir, respecto al caso original, no se producen planchas de aluminio tipo 1 y la restricción asociada a la disponibilidad de aluminio bruto deja de ser activa"
   ]
  },
  {
   "cell_type": "markdown",
   "metadata": {},
   "source": [
    "## * Repita el ejercicio de forma personal para los ingresos netos asociados a la plancha de aluminio tipo 2"
   ]
  }
 ],
 "metadata": {
  "kernelspec": {
   "display_name": "Octave",
   "language": "octave",
   "name": "octave"
  },
  "language_info": {
   "file_extension": ".m",
   "help_links": [
    {
     "text": "GNU Octave",
     "url": "https://www.gnu.org/software/octave/support.html"
    },
    {
     "text": "Octave Kernel",
     "url": "https://github.com/Calysto/octave_kernel"
    },
    {
     "text": "MetaKernel Magics",
     "url": "https://github.com/calysto/metakernel/blob/master/metakernel/magics/README.md"
    }
   ],
   "mimetype": "text/x-octave",
   "name": "octave",
   "version": "5.1.0"
  }
 },
 "nbformat": 4,
 "nbformat_minor": 2
}
