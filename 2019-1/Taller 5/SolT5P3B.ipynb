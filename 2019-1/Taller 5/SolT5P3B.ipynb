{
 "cells": [
  {
   "cell_type": "markdown",
   "metadata": {},
   "source": [
    "# b) Identifique la solución óptima del problema con Octave"
   ]
  },
  {
   "cell_type": "code",
   "execution_count": 2,
   "metadata": {},
   "outputs": [],
   "source": [
    "clear % eliminar todas las variables creadas previamente\n",
    "clc % limpiar consola"
   ]
  },
  {
   "cell_type": "markdown",
   "metadata": {},
   "source": [
    "## Optimizador de Octave. "
   ]
  },
  {
   "cell_type": "markdown",
   "metadata": {},
   "source": [
    "### Variables de decisión: "
   ]
  },
  {
   "cell_type": "markdown",
   "metadata": {},
   "source": [
    "$x_{1}$: cantidad de planchas de aluminio tipo 1 <br />\n",
    "$x_{2}$: cantidad de planchas de aluminio tipo 2"
   ]
  },
  {
   "cell_type": "markdown",
   "metadata": {},
   "source": [
    "### Ejecución de optimizador"
   ]
  },
  {
   "cell_type": "code",
   "execution_count": 3,
   "metadata": {},
   "outputs": [
    {
     "name": "stdout",
     "output_type": "stream",
     "text": [
      "c =\n",
      "\n",
      "   800   600     0     0     0\n",
      "\n",
      "A =\n",
      "\n",
      "    7.00000   14.00000    1.00000    0.00000    0.00000\n",
      "    0.30000    0.30000    0.00000   -1.00000    0.00000\n",
      "   15.00000    5.00000    0.00000    0.00000    1.00000\n",
      "\n",
      "b =\n",
      "\n",
      "   630\n",
      "    15\n",
      "   600\n",
      "\n",
      "lb =\n",
      "\n",
      "   0   0   0   0   0\n",
      "\n",
      "ub = [](0x0)\n",
      "ctype = SSS\n",
      "vartype = CCCCC\n"
     ]
    }
   ],
   "source": [
    "%Vector de costos de función objetivo\n",
    "c=[800 600 0 0 0]  \n",
    "%Matriz de restricciones\n",
    "A=[7 14 1 0 0; 0.3 0.3 0 -1 0;15 5 0 0 1] \n",
    "%Vector con lado derecho de restricciones\n",
    "b=[630;15;600]\n",
    "%Límite inferior variables\n",
    "lb=[0,0,0,0,0]  \n",
    "%Límite superior variables\n",
    "ub=[]\n",
    "%Tipo de restricciones\n",
    "ctype='SSS'\n",
    "%Tipo de variables\n",
    "vartype='CCCCC'\n",
    "%Opción para el tipo de output del optimizador\n",
    "param.msglev=2;"
   ]
  },
  {
   "cell_type": "code",
   "execution_count": 4,
   "metadata": {},
   "outputs": [
    {
     "name": "stdout",
     "output_type": "stream",
     "text": [
      "      0: obj =  -0.000000000e+00 inf =   4.518e+01 (1)\n",
      "      2: obj =   3.200000000e+04 inf =   0.000e+00 (0)\n",
      "*     3: obj =   4.200000000e+04 inf =   0.000e+00 (0)\n",
      "xOpt =\n",
      "\n",
      "   30.00000\n",
      "   30.00000\n",
      "    0.00000\n",
      "    3.00000\n",
      "    0.00000\n",
      "\n",
      "fOpt =  42000\n"
     ]
    }
   ],
   "source": [
    "#Ejecución del optimizador\n",
    "[xOpt,fOpt]= glpk(c=c,A=A,B=b,lb=lb,ub=ub,ctype=ctype,vartype=vartype,s=-1,param=param)"
   ]
  },
  {
   "cell_type": "markdown",
   "metadata": {},
   "source": [
    "### Solución óptima"
   ]
  },
  {
   "cell_type": "markdown",
   "metadata": {},
   "source": [
    "* Función objetivo: 42000  <br />\n",
    "* Variables: $x_1 = 30$, $x_2 = 30$, $x_3 = 0$, $x_4 = 3$, $x_5 = 0$"
   ]
  }
 ],
 "metadata": {
  "kernelspec": {
   "display_name": "Octave",
   "language": "octave",
   "name": "octave"
  },
  "language_info": {
   "file_extension": ".m",
   "help_links": [
    {
     "text": "GNU Octave",
     "url": "https://www.gnu.org/software/octave/support.html"
    },
    {
     "text": "Octave Kernel",
     "url": "https://github.com/Calysto/octave_kernel"
    },
    {
     "text": "MetaKernel Magics",
     "url": "https://github.com/calysto/metakernel/blob/master/metakernel/magics/README.md"
    }
   ],
   "mimetype": "text/x-octave",
   "name": "octave",
   "version": "5.1.0"
  }
 },
 "nbformat": 4,
 "nbformat_minor": 2
}
