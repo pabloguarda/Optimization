{
 "cells": [
  {
   "cell_type": "markdown",
   "metadata": {},
   "source": [
    "# 1) Solving the travelling salesman problem (TSP) for 7 cities"
   ]
  },
  {
   "cell_type": "markdown",
   "metadata": {},
   "source": [
    "### Number of cities"
   ]
  },
  {
   "cell_type": "code",
   "execution_count": 1,
   "metadata": {},
   "outputs": [
    {
     "name": "stdout",
     "output_type": "stream",
     "text": [
      "n =  7\n"
     ]
    }
   ],
   "source": [
    "n = 7"
   ]
  },
  {
   "cell_type": "markdown",
   "metadata": {},
   "source": [
    "### Distance between cities"
   ]
  },
  {
   "cell_type": "code",
   "execution_count": 2,
   "metadata": {},
   "outputs": [
    {
     "name": "stdout",
     "output_type": "stream",
     "text": [
      "d =\n",
      "\n",
      "    0.00000   45.45901   79.70418    2.44414    2.59352   64.58898   51.87221\n",
      "   28.61528    0.00000   27.63501   20.05865   45.08931    9.79113    3.38557\n",
      "   18.46939   49.78754    0.00000   22.96933    4.66986   67.16026    6.22584\n",
      "   87.87725   68.26087   60.27478    0.00000   19.95914   12.24740   62.18166\n",
      "   43.76823   71.49199   49.60685    2.12623    0.00000   72.80493   47.62835\n",
      "   20.85455   45.29108   69.50914   70.71264    7.14119    0.00000   40.51768\n",
      "   59.74109   55.09541    9.46230    0.64734   40.91208   52.49587    0.00000\n",
      "\n"
     ]
    }
   ],
   "source": [
    "function d = distanceMatrixCities(n)\n",
    "\n",
    "    d = 100*rand(n);\n",
    "\n",
    "    ## Fill diagonal with zeros\n",
    "    i = 1;\n",
    "    \n",
    "    while(i<=n)\n",
    "        d(i,i) = 0;\n",
    "        i++;\n",
    "    end\n",
    "    \n",
    "end\n",
    "\n",
    "d = distanceMatrixCities(n)"
   ]
  },
  {
   "cell_type": "markdown",
   "metadata": {},
   "source": [
    "## a) Initial population"
   ]
  },
  {
   "cell_type": "markdown",
   "metadata": {},
   "source": [
    "### Population"
   ]
  },
  {
   "cell_type": "code",
   "execution_count": 3,
   "metadata": {},
   "outputs": [],
   "source": [
    "pop = perms([1:n]);"
   ]
  },
  {
   "cell_type": "code",
   "execution_count": 4,
   "metadata": {},
   "outputs": [
    {
     "name": "stdout",
     "output_type": "stream",
     "text": [
      "ans =  5040\n"
     ]
    }
   ],
   "source": [
    "size(pop)(1)"
   ]
  },
  {
   "cell_type": "code",
   "execution_count": 5,
   "metadata": {},
   "outputs": [],
   "source": [
    "totalPop = pop;"
   ]
  },
  {
   "cell_type": "markdown",
   "metadata": {},
   "source": [
    "### Size of the initial generation"
   ]
  },
  {
   "cell_type": "code",
   "execution_count": 6,
   "metadata": {},
   "outputs": [
    {
     "name": "stdout",
     "output_type": "stream",
     "text": [
      "sizeSubPop =  10\n"
     ]
    }
   ],
   "source": [
    "sizeSubPop = 10 "
   ]
  },
  {
   "cell_type": "markdown",
   "metadata": {},
   "source": [
    "### Select individuals randomly from the population (\"generation 0\")"
   ]
  },
  {
   "cell_type": "code",
   "execution_count": 7,
   "metadata": {},
   "outputs": [
    {
     "name": "stdout",
     "output_type": "stream",
     "text": [
      "generation0 =\n",
      "\n",
      "   1   2   7   5   4   3   6\n",
      "   2   7   3   5   4   6   1\n",
      "   4   7   5   6   1   2   3\n",
      "   6   4   7   1   2   3   5\n",
      "   4   1   5   3   6   7   2\n",
      "   5   7   6   1   4   3   2\n",
      "   6   3   7   2   1   5   4\n",
      "   5   2   7   3   4   6   1\n",
      "   1   6   2   4   5   7   3\n",
      "   4   1   5   7   3   6   2\n",
      "\n"
     ]
    }
   ],
   "source": [
    "function subPop = createSubPopulation(totalPop,sizeSubPop)\n",
    "\n",
    "    subPop = totalPop(randi(size(totalPop)(1),sizeSubPop,1),:);\n",
    "\n",
    "end\n",
    "\n",
    "generation0 = createSubPopulation(totalPop,sizeSubPop)\n"
   ]
  },
  {
   "cell_type": "markdown",
   "metadata": {},
   "source": [
    "## b) Fitness calculation"
   ]
  },
  {
   "cell_type": "markdown",
   "metadata": {},
   "source": [
    "### Total travel distance for each possible sequence of cities"
   ]
  },
  {
   "cell_type": "code",
   "execution_count": 8,
   "metadata": {},
   "outputs": [],
   "source": [
    "function individuals = distanceCalculation(pop,d)\n",
    "    \n",
    "    daccs = zeros([size(pop)(1),size(pop)(2)+1]);\n",
    "\n",
    "        for i = 1:(size(pop)(1))\n",
    "            dacc = 0;\n",
    "\n",
    "            for j = 1:(size(pop)(2)-1)\n",
    "                dacc += d(pop(i,j),pop(i,j+1));\n",
    "            end\n",
    "\n",
    "            daccs(i,:) = [pop(i,:),dacc];\n",
    "            \n",
    "        end\n",
    "    \n",
    "    individuals{1} = pop;\n",
    "    individuals{2} = daccs(:,size(daccs)(2));\n",
    "\n",
    "end\n",
    "\n"
   ]
  },
  {
   "cell_type": "code",
   "execution_count": 9,
   "metadata": {},
   "outputs": [
    {
     "name": "stdout",
     "output_type": "stream",
     "text": [
      "generation0 =\n",
      "{\n",
      "  [1,1] =\n",
      "\n",
      "     1   2   7   5   4   3   6\n",
      "     2   7   3   5   4   6   1\n",
      "     4   7   5   6   1   2   3\n",
      "     6   4   7   1   2   3   5\n",
      "     4   1   5   3   6   7   2\n",
      "     5   7   6   1   4   3   2\n",
      "     6   3   7   2   1   5   4\n",
      "     5   2   7   3   4   6   1\n",
      "     1   6   2   4   5   7   3\n",
      "     4   1   5   7   3   6   2\n",
      "\n",
      "  [1,2] =\n",
      "\n",
      "     219.318\n",
      "      52.746\n",
      "     269.847\n",
      "     270.399\n",
      "     302.851\n",
      "     233.485\n",
      "     164.165\n",
      "     140.411\n",
      "     206.988\n",
      "     260.013\n",
      "\n",
      "}\n",
      "\n"
     ]
    }
   ],
   "source": [
    "## The first position of the array has the sequence of cities and the second position the total distance between cities\n",
    "generation0 = distanceCalculation(pop = generation0,d = d)"
   ]
  },
  {
   "cell_type": "markdown",
   "metadata": {},
   "source": [
    "### Fitness function"
   ]
  },
  {
   "cell_type": "code",
   "execution_count": 10,
   "metadata": {},
   "outputs": [],
   "source": [
    "function individuals = fitness(individuals)\n",
    "\n",
    "    individuals{3} = individuals{2};\n",
    "\n",
    "    for i=1:size(individuals{1})(1)\n",
    "\n",
    "        individuals{3}(i,1) = 1/individuals{2}(i);\n",
    "\n",
    "    end \n",
    "\n",
    "end"
   ]
  },
  {
   "cell_type": "code",
   "execution_count": 11,
   "metadata": {},
   "outputs": [
    {
     "name": "stdout",
     "output_type": "stream",
     "text": [
      "generation0 =\n",
      "{\n",
      "  [1,1] =\n",
      "\n",
      "     1   2   7   5   4   3   6\n",
      "     2   7   3   5   4   6   1\n",
      "     4   7   5   6   1   2   3\n",
      "     6   4   7   1   2   3   5\n",
      "     4   1   5   3   6   7   2\n",
      "     5   7   6   1   4   3   2\n",
      "     6   3   7   2   1   5   4\n",
      "     5   2   7   3   4   6   1\n",
      "     1   6   2   4   5   7   3\n",
      "     4   1   5   7   3   6   2\n",
      "\n",
      "  [1,2] =\n",
      "\n",
      "     219.318\n",
      "      52.746\n",
      "     269.847\n",
      "     270.399\n",
      "     302.851\n",
      "     233.485\n",
      "     164.165\n",
      "     140.411\n",
      "     206.988\n",
      "     260.013\n",
      "\n",
      "  [1,3] =\n",
      "\n",
      "     0.0045596\n",
      "     0.0189588\n",
      "     0.0037058\n",
      "     0.0036982\n",
      "     0.0033020\n",
      "     0.0042829\n",
      "     0.0060914\n",
      "     0.0071219\n",
      "     0.0048312\n",
      "     0.0038460\n",
      "\n",
      "}\n",
      "\n"
     ]
    }
   ],
   "source": [
    "#The third position of the array includes the fitness of each individual\n",
    "generation0 = fitness(generation0)"
   ]
  },
  {
   "cell_type": "code",
   "execution_count": 12,
   "metadata": {},
   "outputs": [
    {
     "name": "stdout",
     "output_type": "stream",
     "text": [
      "generation0 =\n",
      "{\n",
      "  [1,1] =\n",
      "\n",
      "     1   2   7   5   4   3   6\n",
      "     2   7   3   5   4   6   1\n",
      "     4   7   5   6   1   2   3\n",
      "     6   4   7   1   2   3   5\n",
      "     4   1   5   3   6   7   2\n",
      "     5   7   6   1   4   3   2\n",
      "     6   3   7   2   1   5   4\n",
      "     5   2   7   3   4   6   1\n",
      "     1   6   2   4   5   7   3\n",
      "     4   1   5   7   3   6   2\n",
      "\n",
      "  [1,2] =\n",
      "\n",
      "     219.318\n",
      "      52.746\n",
      "     269.847\n",
      "     270.399\n",
      "     302.851\n",
      "     233.485\n",
      "     164.165\n",
      "     140.411\n",
      "     206.988\n",
      "     260.013\n",
      "\n",
      "  [1,3] =\n",
      "\n",
      "     0.0045596\n",
      "     0.0189588\n",
      "     0.0037058\n",
      "     0.0036982\n",
      "     0.0033020\n",
      "     0.0042829\n",
      "     0.0060914\n",
      "     0.0071219\n",
      "     0.0048312\n",
      "     0.0038460\n",
      "\n",
      "}\n",
      "\n"
     ]
    }
   ],
   "source": [
    "generation0"
   ]
  },
  {
   "cell_type": "markdown",
   "metadata": {},
   "source": [
    "## c) Choosing parents to create the next generation of individuals"
   ]
  },
  {
   "cell_type": "code",
   "execution_count": 13,
   "metadata": {},
   "outputs": [],
   "source": [
    "function [individuals,parents] = chooseParents(individuals)\n",
    "\n",
    "    individuals{4} = individuals{3};\n",
    "\n",
    "    individualsCopy = individuals;\n",
    "\n",
    "    #probParent = individuals{3}/sum(individuals{3})\n",
    "\n",
    "    #First best-fitted individual\n",
    "\n",
    "    [maxVal1,maxIndex1] = max(individuals{3});\n",
    "\n",
    "    #Second best-fitted individual\n",
    "    individualsCopy{3}(maxIndex1) = -1*individualsCopy{3}(maxIndex1);\n",
    "    [maxVal2,maxIndex2] = max(individualsCopy{3});\n",
    "\n",
    "    #Create a column with binary variables that takes the value 1 if the individual is parent or zero, otherwise. \n",
    "    individuals{4}=zeros(size(individuals{1})(1),1);\n",
    "\n",
    "    individuals{4}(maxIndex1) = 1;\n",
    "    individuals{4}(maxIndex2) = 1;\n",
    "\n",
    "end"
   ]
  },
  {
   "cell_type": "code",
   "execution_count": 14,
   "metadata": {},
   "outputs": [
    {
     "name": "stdout",
     "output_type": "stream",
     "text": [
      "ans =\n",
      "{\n",
      "  [1,1] =\n",
      "\n",
      "     1   2   7   5   4   3   6\n",
      "     2   7   3   5   4   6   1\n",
      "     4   7   5   6   1   2   3\n",
      "     6   4   7   1   2   3   5\n",
      "     4   1   5   3   6   7   2\n",
      "     5   7   6   1   4   3   2\n",
      "     6   3   7   2   1   5   4\n",
      "     5   2   7   3   4   6   1\n",
      "     1   6   2   4   5   7   3\n",
      "     4   1   5   7   3   6   2\n",
      "\n",
      "  [1,2] =\n",
      "\n",
      "     219.318\n",
      "      52.746\n",
      "     269.847\n",
      "     270.399\n",
      "     302.851\n",
      "     233.485\n",
      "     164.165\n",
      "     140.411\n",
      "     206.988\n",
      "     260.013\n",
      "\n",
      "  [1,3] =\n",
      "\n",
      "     0.0045596\n",
      "     0.0189588\n",
      "     0.0037058\n",
      "     0.0036982\n",
      "     0.0033020\n",
      "     0.0042829\n",
      "     0.0060914\n",
      "     0.0071219\n",
      "     0.0048312\n",
      "     0.0038460\n",
      "\n",
      "  [1,4] =\n",
      "\n",
      "     0\n",
      "     1\n",
      "     0\n",
      "     0\n",
      "     0\n",
      "     0\n",
      "     0\n",
      "     1\n",
      "     0\n",
      "     0\n",
      "\n",
      "}\n",
      "\n"
     ]
    }
   ],
   "source": [
    "#The fourth position of the array shows which individuals were selected as parents\n",
    "chooseParents(generation0)"
   ]
  },
  {
   "cell_type": "code",
   "execution_count": 15,
   "metadata": {},
   "outputs": [],
   "source": [
    "function parents = createParents(individuals)\n",
    "\n",
    "individuals = chooseParents(individuals);\n",
    "\n",
    "parents = {:};\n",
    "\n",
    "count = 1;\n",
    "\n",
    "for i = 1:size(individuals{4})(1)\n",
    "\n",
    "    if individuals{4}(i) == 1\n",
    "\n",
    "    parents{1}(count,:) = individuals{1}(i,:);\n",
    "    parents{2}(count,:) = individuals{2}(i,:);\n",
    "    parents{3}(count,:) = individuals{3}(i,:);\n",
    "    \n",
    "    count++;\n",
    "\n",
    "    end\n",
    "\n",
    "end\n",
    "\n",
    "\n",
    "end"
   ]
  },
  {
   "cell_type": "code",
   "execution_count": 16,
   "metadata": {},
   "outputs": [
    {
     "name": "stdout",
     "output_type": "stream",
     "text": [
      "parentsG0 =\n",
      "{\n",
      "  [1,1] =\n",
      "\n",
      "     2   7   3   5   4   6   1\n",
      "     5   2   7   3   4   6   1\n",
      "\n",
      "  [1,2] =\n",
      "\n",
      "      52.746\n",
      "     140.411\n",
      "\n",
      "  [1,3] =\n",
      "\n",
      "     0.0189588\n",
      "     0.0071219\n",
      "\n",
      "}\n",
      "\n"
     ]
    }
   ],
   "source": [
    "#This array includes information on the parents selected from generation 0 (1: sequence of cities, 2: total distance, 3: fitness)\n",
    "parentsG0 = createParents(generation0)"
   ]
  },
  {
   "cell_type": "markdown",
   "metadata": {},
   "source": [
    "## d) Crossover"
   ]
  },
  {
   "cell_type": "markdown",
   "metadata": {},
   "source": [
    "### Check if a gene (city) exist in a chromosome (sequence of cities)"
   ]
  },
  {
   "cell_type": "code",
   "execution_count": 17,
   "metadata": {},
   "outputs": [],
   "source": [
    "function geneExist = containGene(child,gene)\n",
    "\n",
    "    geneExist = false;\n",
    "\n",
    "    for i=1:length(child)\n",
    "\n",
    "        if child(i) == gene\n",
    "\n",
    "            geneExist = true;\n",
    "\n",
    "        end\n",
    "\n",
    "    end\n",
    "\n",
    "end"
   ]
  },
  {
   "cell_type": "markdown",
   "metadata": {},
   "source": [
    "### Crossover between the two parents"
   ]
  },
  {
   "cell_type": "code",
   "execution_count": 18,
   "metadata": {},
   "outputs": [],
   "source": [
    "function child = crossoverCertamen(parents)    \n",
    "    #Comentario 1\n",
    "    nParents = size(parents{1})(1);    \n",
    "    #Comentario 2\n",
    "    chromosomeSize = size(parents{1})(2);\n",
    "    #Comentario 3\n",
    "    indexCO = randi([2,chromosomeSize],1,1);  \n",
    "    #Comentario 4\n",
    "    parentCO = randi(nParents,1,1);\n",
    "    chromosomeParent1 = parents{1}(parentCO,:);\n",
    "    chromosomeParent2 = parents{1}(1,:);\n",
    "    if parentCO == 1\n",
    "        chromosomeParent2 = parents{1}(2,:);\n",
    "    end   \n",
    "    #Comentario 5\n",
    "    child = chromosomeParent1;\n",
    "\n",
    "    for i=1:length(child)\n",
    "        if i < indexCO\n",
    "            child(i) = 0;\n",
    "        end\n",
    "    end\n",
    "    #Comentario 6\n",
    "    genePosition = 1;\n",
    "    for i=1:(indexCO-1)      \n",
    "        child(i) = chromosomeParent2(genePosition);\n",
    "        genePosition++;\n",
    "    end   \n",
    "end"
   ]
  },
  {
   "cell_type": "code",
   "execution_count": null,
   "metadata": {},
   "outputs": [],
   "source": []
  },
  {
   "cell_type": "code",
   "execution_count": 19,
   "metadata": {},
   "outputs": [],
   "source": [
    "function child = crossover(parents)\n",
    "\n",
    "\n",
    "    nParents = size(parents{1})(1);\n",
    "    chromosomeSize = size(parents{1})(2);\n",
    "\n",
    "    %Select a random crossover point\n",
    "    indexCO = randi([2,chromosomeSize],1,1);\n",
    "\n",
    "    %Select the parent (parentChromosome1) that is used to start the crossover\n",
    "    parentCO = randi(nParents,1,1);\n",
    "    chromosomeParent1 = parents{1}(parentCO,:);\n",
    "    chromosomeParent2 = parents{1}(1,:);\n",
    "\n",
    "    if parentCO == 1\n",
    "        chromosomeParent2 = parents{1}(2,:);\n",
    "    end\n",
    "\n",
    "    child = chromosomeParent1;\n",
    "\n",
    "    #Genes from parent 1\n",
    "    for i=1:length(child)\n",
    "\n",
    "        if i < indexCO\n",
    "            child(i) = 0;\n",
    "        end\n",
    "\n",
    "    end\n",
    "\n",
    "    #Genes from parent 2\n",
    "    genePosition = 1;\n",
    "    for i=1:(indexCO-1)\n",
    "\n",
    "        implant = false;\n",
    "\n",
    "        while implant == false \n",
    "            geneExist = containGene(child,chromosomeParent2(genePosition));\n",
    "\n",
    "            if geneExist == true\n",
    "                genePosition++;\n",
    "                implant = false;\n",
    "\n",
    "            else\n",
    "                child(i) = chromosomeParent2(genePosition);\n",
    "                implant = true;\n",
    "                genePosition++;\n",
    "            end\n",
    "\n",
    "        end\n",
    "\n",
    "    end\n",
    "    \n",
    "end"
   ]
  },
  {
   "cell_type": "code",
   "execution_count": 20,
   "metadata": {},
   "outputs": [
    {
     "name": "stdout",
     "output_type": "stream",
     "text": [
      "childG0 =\n",
      "\n",
      "   5   2   7   3   4   6   1\n",
      "\n"
     ]
    }
   ],
   "source": [
    "childG0 = crossover(parentsG0)"
   ]
  },
  {
   "cell_type": "markdown",
   "metadata": {},
   "source": [
    "## e) Mutation"
   ]
  },
  {
   "cell_type": "code",
   "execution_count": 21,
   "metadata": {},
   "outputs": [],
   "source": [
    "function child = mutation(child, pm)\n",
    "    \n",
    "    childCopy = child;\n",
    "    chromosomeSize = length(child);\n",
    "\n",
    "    indexM1 = randi([1,chromosomeSize],1,1);\n",
    "    indexM2 = randi([1,chromosomeSize],1,1);\n",
    "    \n",
    "    probThreshold = rand(1);\n",
    "    \n",
    "    if probThreshold <= pm\n",
    "    \n",
    "        childCopy(indexM1) = child(indexM2);\n",
    "        childCopy(indexM2) = child(indexM1);\n",
    "        \n",
    "    end\n",
    "    \n",
    "    child = childCopy;\n",
    "\n",
    "end"
   ]
  },
  {
   "cell_type": "code",
   "execution_count": 22,
   "metadata": {},
   "outputs": [
    {
     "name": "stdout",
     "output_type": "stream",
     "text": [
      "childG0 =\n",
      "\n",
      "   5   2   7   3   4   6   1\n",
      "\n",
      "childG0 =\n",
      "\n",
      "   5   2   7   3   4   6   1\n",
      "\n"
     ]
    }
   ],
   "source": [
    "childG0\n",
    "childG0 = mutation(childG0, pm = 0.5) # Mutation with a 50% probability"
   ]
  },
  {
   "cell_type": "markdown",
   "metadata": {},
   "source": [
    "## f) Next Generation  (replacement)"
   ]
  },
  {
   "cell_type": "markdown",
   "metadata": {},
   "source": [
    "### Size of the next generation "
   ]
  },
  {
   "cell_type": "code",
   "execution_count": 23,
   "metadata": {},
   "outputs": [
    {
     "name": "stdout",
     "output_type": "stream",
     "text": [
      "sizeGeneration =  10\n"
     ]
    }
   ],
   "source": [
    "sizeGeneration = 1*size(generation0{1})(1)"
   ]
  },
  {
   "cell_type": "markdown",
   "metadata": {},
   "source": [
    "### Check if the child exists in a generation"
   ]
  },
  {
   "cell_type": "code",
   "execution_count": 24,
   "metadata": {},
   "outputs": [],
   "source": [
    "function childExist = containChild(child,children)\n",
    "    \n",
    "    childExist = false;\n",
    "    \n",
    "    for i=1:size(children)(1)\n",
    "    \n",
    "        counterEqualGenes = 0;\n",
    "        \n",
    "        for j= 1:length(children(i,:))\n",
    "        \n",
    "            if children(i,:)(j) == child(j)\n",
    "                counterEqualGenes++;\n",
    "            end\n",
    "     \n",
    "        end\n",
    "        \n",
    "        if counterEqualGenes == length(child)\n",
    "            childExist = true;\n",
    "        end\n",
    "\n",
    "\n",
    "    end\n",
    "\n",
    "end"
   ]
  },
  {
   "cell_type": "markdown",
   "metadata": {},
   "source": [
    "### Function to create the next generations of individuals"
   ]
  },
  {
   "cell_type": "code",
   "execution_count": 25,
   "metadata": {},
   "outputs": [],
   "source": [
    "function generations = createNewGeneration(nGenerations,sizeGeneration,individuals,d,pm)\n",
    "    \n",
    "    \n",
    "    #This process is iteratively repeated for each generation\n",
    "    generations = {:};\n",
    "    \n",
    "    t=cputime;\n",
    "    \n",
    "    for i=1:nGenerations      \n",
    "        \n",
    "        \n",
    "        \n",
    "        individuals = distanceCalculation(individuals{1},d);\n",
    "\n",
    "        individuals = fitness(individuals);\n",
    "\n",
    "        parents = createParents(individuals);\n",
    "\n",
    "        child = crossover(parents);\n",
    "\n",
    "        child = mutation(child,pm);\n",
    "        \n",
    "        if i == 1\n",
    "            \n",
    "            #Information about the new generation\n",
    "            individuals(4) = min(individuals{2});\n",
    "            individuals{5} = cputime-t;\n",
    "            generations{i} = individuals;\n",
    "            \n",
    "        end\n",
    "               \n",
    "        if i > 1\n",
    "        \n",
    "            #This process is repeated until reaching the number of individuals in a generation\n",
    "            newGeneration = {:};\n",
    "        \n",
    "            %newGeneration{2} = zeros(sizeGeneration,length(child));\n",
    "\n",
    "            newGeneration{1}(1,:) = child;\n",
    "\n",
    "            for j=1:sizeGeneration\n",
    "\n",
    "                 newChild = mutation(crossover(parents),pm);\n",
    "\n",
    "                 #Children are all different\n",
    "                 while(containChild(child = newChild, children = newGeneration{1}))\n",
    "\n",
    "                     newChild = mutation(crossover(parents),pm);\n",
    "\n",
    "                 end\n",
    "\n",
    "                 newGeneration{1}(j,:) = newChild;\n",
    "\n",
    "            end\n",
    "\n",
    "            #Information about the new generation\n",
    "            individuals  = distanceCalculation(newGeneration{1},d);\n",
    "            individuals = fitness(individuals);\n",
    "            individuals(4) = min(individuals{2});\n",
    "            individuals{5} = cputime-t;\n",
    "            generations{i} = individuals;\n",
    "        \n",
    "        end\n",
    "        \n",
    "\n",
    "        \n",
    "\n",
    "\n",
    "        \n",
    "    end\n",
    "\n",
    "end"
   ]
  },
  {
   "cell_type": "markdown",
   "metadata": {},
   "source": [
    "# 2) Analyses"
   ]
  },
  {
   "cell_type": "markdown",
   "metadata": {},
   "source": [
    "## Initial generation"
   ]
  },
  {
   "cell_type": "code",
   "execution_count": 26,
   "metadata": {},
   "outputs": [
    {
     "name": "stdout",
     "output_type": "stream",
     "text": [
      "ans =\n",
      "{\n",
      "  [1,1] =\n",
      "  {\n",
      "    [1,1] =\n",
      "\n",
      "       1   2   7   5   4   3   6\n",
      "       2   7   3   5   4   6   1\n",
      "       4   7   5   6   1   2   3\n",
      "       6   4   7   1   2   3   5\n",
      "       4   1   5   3   6   7   2\n",
      "       5   7   6   1   4   3   2\n",
      "       6   3   7   2   1   5   4\n",
      "       5   2   7   3   4   6   1\n",
      "       1   6   2   4   5   7   3\n",
      "       4   1   5   7   3   6   2\n",
      "\n",
      "    [1,2] =\n",
      "\n",
      "       219.318\n",
      "        52.746\n",
      "       269.847\n",
      "       270.399\n",
      "       302.851\n",
      "       233.485\n",
      "       164.165\n",
      "       140.411\n",
      "       206.988\n",
      "       260.013\n",
      "\n",
      "    [1,3] =\n",
      "\n",
      "       0.0045596\n",
      "       0.0189588\n",
      "       0.0037058\n",
      "       0.0036982\n",
      "       0.0033020\n",
      "       0.0042829\n",
      "       0.0060914\n",
      "       0.0071219\n",
      "       0.0048312\n",
      "       0.0038460\n",
      "\n",
      "    [1,4] =  52.746\n",
      "    [1,5] =  0.010206\n",
      "  }\n",
      "\n",
      "}\n",
      "\n"
     ]
    }
   ],
   "source": [
    "createNewGeneration(nGenerations = 1, sizeGeneration = sizeGeneration,individuals = generation0, d = d, pm = 0.2)"
   ]
  },
  {
   "cell_type": "code",
   "execution_count": null,
   "metadata": {},
   "outputs": [],
   "source": []
  },
  {
   "cell_type": "markdown",
   "metadata": {},
   "source": [
    "## First generation"
   ]
  },
  {
   "cell_type": "code",
   "execution_count": 27,
   "metadata": {},
   "outputs": [],
   "source": [
    "generation01 = createNewGeneration(nGenerations = 2, sizeGeneration = sizeGeneration,individuals = generation0, d = d, pm = 0.2);"
   ]
  },
  {
   "cell_type": "code",
   "execution_count": 28,
   "metadata": {},
   "outputs": [
    {
     "name": "stdout",
     "output_type": "stream",
     "text": [
      "ans =\n",
      "{\n",
      "  [1,1] =\n",
      "\n",
      "     2   5   7   3   4   6   1\n",
      "     2   7   3   5   4   6   1\n",
      "     5   2   7   3   4   6   1\n",
      "     2   7   4   5   3   6   1\n",
      "     2   4   3   5   7   6   1\n",
      "     2   7   5   3   4   6   1\n",
      "     2   6   7   3   4   5   1\n",
      "     5   1   7   3   4   6   2\n",
      "     5   4   7   3   2   6   1\n",
      "     2   3   5   7   4   6   1\n",
      "\n",
      "  [1,2] =\n",
      "\n",
      "     158.251\n",
      "      52.746\n",
      "     140.411\n",
      "     161.614\n",
      "     205.982\n",
      "     149.976\n",
      "     146.468\n",
      "     185.611\n",
      "     154.203\n",
      "     113.683\n",
      "\n",
      "  [1,3] =\n",
      "\n",
      "     0.0063191\n",
      "     0.0189588\n",
      "     0.0071219\n",
      "     0.0061876\n",
      "     0.0048548\n",
      "     0.0066677\n",
      "     0.0068274\n",
      "     0.0053876\n",
      "     0.0064849\n",
      "     0.0087964\n",
      "\n",
      "  [1,4] =  52.746\n",
      "  [1,5] =  0.24690\n",
      "}\n",
      "\n"
     ]
    }
   ],
   "source": [
    "generation01{2}"
   ]
  },
  {
   "cell_type": "markdown",
   "metadata": {},
   "source": [
    "## Second generation"
   ]
  },
  {
   "cell_type": "code",
   "execution_count": 29,
   "metadata": {},
   "outputs": [],
   "source": [
    "generation12 = createNewGeneration(nGenerations = 2, sizeGeneration = sizeGeneration,individuals = generation01{2}, d = d, pm = 0.8);"
   ]
  },
  {
   "cell_type": "code",
   "execution_count": 30,
   "metadata": {},
   "outputs": [
    {
     "name": "stdout",
     "output_type": "stream",
     "text": [
      "ans =\n",
      "{\n",
      "  [1,1] =\n",
      "\n",
      "     3   2   5   7   4   6   1\n",
      "     2   7   3   5   4   6   1\n",
      "     2   3   1   7   4   6   5\n",
      "     6   3   5   7   4   2   1\n",
      "     2   3   5   7   4   6   1\n",
      "     2   3   5   1   4   6   7\n",
      "     4   7   3   5   2   6   1\n",
      "     2   4   5   7   3   6   1\n",
      "     2   3   7   5   4   6   1\n",
      "     2   7   6   5   4   3   1\n",
      "\n",
      "  [1,2] =\n",
      "\n",
      "     176.254\n",
      "      52.746\n",
      "     118.013\n",
      "     219.331\n",
      "     113.683\n",
      "     131.282\n",
      "     178.451\n",
      "     185.123\n",
      "     110.001\n",
      "     143.893\n",
      "\n",
      "  [1,3] =\n",
      "\n",
      "     0.0056736\n",
      "     0.0189588\n",
      "     0.0084737\n",
      "     0.0045593\n",
      "     0.0087964\n",
      "     0.0076172\n",
      "     0.0056038\n",
      "     0.0054018\n",
      "     0.0090908\n",
      "     0.0069496\n",
      "\n",
      "  [1,4] =  52.746\n",
      "  [1,5] =  0.087491\n",
      "}\n",
      "\n"
     ]
    }
   ],
   "source": [
    "generation12{2}"
   ]
  },
  {
   "cell_type": "markdown",
   "metadata": {},
   "source": [
    "## 4 generations (generation 0, 1, 2 and 3)"
   ]
  },
  {
   "cell_type": "code",
   "execution_count": 31,
   "metadata": {},
   "outputs": [
    {
     "name": "stdout",
     "output_type": "stream",
     "text": [
      "generations1234 =\n",
      "{\n",
      "  [1,1] =\n",
      "  {\n",
      "    [1,1] =\n",
      "\n",
      "       1   2   7   5   4   3   6\n",
      "       2   7   3   5   4   6   1\n",
      "       4   7   5   6   1   2   3\n",
      "       6   4   7   1   2   3   5\n",
      "       4   1   5   3   6   7   2\n",
      "       5   7   6   1   4   3   2\n",
      "       6   3   7   2   1   5   4\n",
      "       5   2   7   3   4   6   1\n",
      "       1   6   2   4   5   7   3\n",
      "       4   1   5   7   3   6   2\n",
      "\n",
      "    [1,2] =\n",
      "\n",
      "       219.318\n",
      "        52.746\n",
      "       269.847\n",
      "       270.399\n",
      "       302.851\n",
      "       233.485\n",
      "       164.165\n",
      "       140.411\n",
      "       206.988\n",
      "       260.013\n",
      "\n",
      "    [1,3] =\n",
      "\n",
      "       0.0045596\n",
      "       0.0189588\n",
      "       0.0037058\n",
      "       0.0036982\n",
      "       0.0033020\n",
      "       0.0042829\n",
      "       0.0060914\n",
      "       0.0071219\n",
      "       0.0048312\n",
      "       0.0038460\n",
      "\n",
      "    [1,4] =  52.746\n",
      "    [1,5] =  0.0050350\n",
      "  }\n",
      "\n",
      "  [1,2] =\n",
      "  {\n",
      "    [1,1] =\n",
      "\n",
      "       2   3   7   5   4   6   1\n",
      "       5   2   7   3   4   6   1\n",
      "       2   7   3   5   4   1   6\n",
      "       7   2   3   5   4   6   1\n",
      "       2   5   7   3   4   6   1\n",
      "       5   7   2   3   4   6   1\n",
      "       2   7   3   4   5   6   1\n",
      "       2   7   6   5   4   3   1\n",
      "       2   7   3   5   4   6   1\n",
      "       2   1   3   5   4   6   7\n",
      "\n",
      "    [1,2] =\n",
      "\n",
      "       110.001\n",
      "       140.411\n",
      "       172.110\n",
      "       122.628\n",
      "       158.251\n",
      "       186.430\n",
      "       149.436\n",
      "       143.893\n",
      "        52.746\n",
      "       167.881\n",
      "\n",
      "    [1,3] =\n",
      "\n",
      "       0.0090908\n",
      "       0.0071219\n",
      "       0.0058102\n",
      "       0.0081547\n",
      "       0.0063191\n",
      "       0.0053639\n",
      "       0.0066918\n",
      "       0.0069496\n",
      "       0.0189588\n",
      "       0.0059566\n",
      "\n",
      "    [1,4] =  52.746\n",
      "    [1,5] =  0.082855\n",
      "  }\n",
      "\n",
      "}\n",
      "\n"
     ]
    }
   ],
   "source": [
    "generations1234 = createNewGeneration(nGenerations = 2, sizeGeneration = sizeGeneration,individuals = generation0, d = d, pm = 0.8);\n",
    "generations1234"
   ]
  },
  {
   "cell_type": "markdown",
   "metadata": {},
   "source": [
    "# 3) Plots"
   ]
  },
  {
   "cell_type": "markdown",
   "metadata": {},
   "source": [
    "## Computational time and number of cities using bruteforce"
   ]
  },
  {
   "cell_type": "markdown",
   "metadata": {},
   "source": [
    "### Auxiliary functions"
   ]
  },
  {
   "cell_type": "code",
   "execution_count": 32,
   "metadata": {},
   "outputs": [],
   "source": [
    "function daccs = distanceCalculation2(cities,d)\n",
    "\n",
    "    daccs = zeros([size(cities)(1),size(cities)(2)+1]);\n",
    "\n",
    "    for i = 1:(size(cities)(1))\n",
    "        dacc = 0;\n",
    "        \n",
    "        for j = 1:(size(cities)(2)-1)\n",
    "            dacc += d(cities(i,j),cities(i,j+1));\n",
    "        end\n",
    "        \n",
    "        daccs(i,:) = [cities(i,:),dacc];\n",
    "    \n",
    "    end\n",
    "end"
   ]
  },
  {
   "cell_type": "code",
   "execution_count": 33,
   "metadata": {},
   "outputs": [],
   "source": [
    "function minS = minimumTotalDistance2(daccs,nCities)\n",
    "\n",
    "    minD = min(daccs(:,nCities+1));\n",
    "    minS = 1;\n",
    "\n",
    "    for i = 1:size(daccs)(1)\n",
    "        if(daccs(i,size(daccs)(2))==minD)\n",
    "            minS = i;\n",
    "        end\n",
    "    end\n",
    "\n",
    "end\n",
    "\n",
    "function [n,minSeq,minDist,cpuTime] = TSP(nCities)\n",
    "\n",
    "    n = nCities;\n",
    "    d = distanceMatrixCities(n);\n",
    "    t=cputime;\n",
    "\n",
    "    p = perms([1:n]);\n",
    "\n",
    "    daccs = distanceCalculation2(cities = p, d = d);\n",
    "\n",
    "    minS = minimumTotalDistance2(daccs,nCities = nCities);\n",
    "\n",
    "    minSeq = daccs(minS,1:(size(daccs)(2)-1));\n",
    "    minDist = daccs(minS,size(daccs)(2));\n",
    "    cpuTime = cputime-t;\n",
    "\n",
    "\n",
    "end\n"
   ]
  },
  {
   "cell_type": "markdown",
   "metadata": {},
   "source": [
    "### Plot"
   ]
  },
  {
   "cell_type": "code",
   "execution_count": 34,
   "metadata": {},
   "outputs": [],
   "source": [
    "function CPUTimeAndCities = plotNCitiesCPUTime(minNCities,maxNCities)\n",
    "\n",
    "    CPUTimeAndCities = zeros(maxNCities-minNCities+1,2);\n",
    "\n",
    "    count = 1;\n",
    "        \n",
    "    for i = minNCities:maxNCities;\n",
    "\n",
    "        [nCities,minSeq,minDist,cpuTime] = TSP(nCities = i);\n",
    "        CPUTimeAndCities(count,1) = nCities;\n",
    "        CPUTimeAndCities(count,2) = cpuTime;\n",
    "        count++;\n",
    "\n",
    "    end\n",
    "\n",
    "end"
   ]
  },
  {
   "cell_type": "code",
   "execution_count": 35,
   "metadata": {},
   "outputs": [
    {
     "name": "stdout",
     "output_type": "stream",
     "text": [
      "CPUTimeAndCities28 =\n",
      "\n",
      "    2.0000000    0.0012180\n",
      "    3.0000000    0.0019820\n",
      "    4.0000000    0.0086490\n",
      "    5.0000000    0.0341850\n",
      "    6.0000000    0.1678420\n",
      "    7.0000000    1.0623040\n",
      "    8.0000000   10.2886870\n",
      "\n"
     ]
    }
   ],
   "source": [
    "CPUTimeAndCities28 = plotNCitiesCPUTime(minNCities=2,maxNCities=8)"
   ]
  },
  {
   "cell_type": "code",
   "execution_count": 36,
   "metadata": {},
   "outputs": [
    {
     "data": {
      "image/svg+xml": [
       "<svg height=\"420px\" viewBox=\"0 0 560 420\" width=\"560px\" xmlns=\"http://www.w3.org/2000/svg\" xmlns:xlink=\"http://www.w3.org/1999/xlink\">\n",
       "\n",
       "<title>Gnuplot</title>\n",
       "<desc>Produced by GNUPLOT 5.2 patchlevel 5 </desc>\n",
       "\n",
       "<g id=\"gnuplot_canvas\">\n",
       "\n",
       "<rect fill=\"#ffffff\" height=\"420\" width=\"560\" x=\"0\" y=\"0\"/>\n",
       "<defs>\n",
       "\n",
       "\t<circle id=\"gpDot\" r=\"0.5\" stroke=\"currentColor\" stroke-width=\"0.5\"/>\n",
       "\t<path d=\"M-1,0 h2 M0,-1 v2\" id=\"gpPt0\" stroke=\"currentColor\" stroke-width=\"0.357\"/>\n",
       "\t<path d=\"M-1,-1 L1,1 M1,-1 L-1,1\" id=\"gpPt1\" stroke=\"currentColor\" stroke-width=\"0.357\"/>\n",
       "\t<path d=\"M-1,0 L1,0 M0,-1 L0,1 M-1,-1 L1,1 M-1,1 L1,-1\" id=\"gpPt2\" stroke=\"currentColor\" stroke-width=\"0.357\"/>\n",
       "\t<rect height=\"2\" id=\"gpPt3\" stroke=\"currentColor\" stroke-width=\"0.357\" width=\"2\" x=\"-1\" y=\"-1\"/>\n",
       "\t<rect fill=\"currentColor\" height=\"2\" id=\"gpPt4\" stroke=\"currentColor\" stroke-width=\"0.357\" width=\"2\" x=\"-1\" y=\"-1\"/>\n",
       "\t<circle cx=\"0\" cy=\"0\" id=\"gpPt5\" r=\"1\" stroke=\"currentColor\" stroke-width=\"0.357\"/>\n",
       "\t<use fill=\"currentColor\" id=\"gpPt6\" stroke=\"none\" xlink:href=\"#gpPt5\"/>\n",
       "\t<path d=\"M0,-1.33 L-1.33,0.67 L1.33,0.67 z\" id=\"gpPt7\" stroke=\"currentColor\" stroke-width=\"0.357\"/>\n",
       "\t<use fill=\"currentColor\" id=\"gpPt8\" stroke=\"none\" xlink:href=\"#gpPt7\"/>\n",
       "\t<use id=\"gpPt9\" stroke=\"currentColor\" transform=\"rotate(180)\" xlink:href=\"#gpPt7\"/>\n",
       "\t<use fill=\"currentColor\" id=\"gpPt10\" stroke=\"none\" xlink:href=\"#gpPt9\"/>\n",
       "\t<use id=\"gpPt11\" stroke=\"currentColor\" transform=\"rotate(45)\" xlink:href=\"#gpPt3\"/>\n",
       "\t<use fill=\"currentColor\" id=\"gpPt12\" stroke=\"none\" xlink:href=\"#gpPt11\"/>\n",
       "\t<path d=\"M0,1.330 L1.265,0.411 L0.782,-1.067 L-0.782,-1.076 L-1.265,0.411 z\" id=\"gpPt13\" stroke=\"currentColor\" stroke-width=\"0.357\"/>\n",
       "\t<use fill=\"currentColor\" id=\"gpPt14\" stroke=\"none\" xlink:href=\"#gpPt13\"/>\n",
       "\t<filter filterUnits=\"objectBoundingBox\" height=\"1\" id=\"textbox\" width=\"1\" x=\"0\" y=\"0\">\n",
       "\t  <feFlood flood-color=\"#FFFFFF\" flood-opacity=\"1\" result=\"bgnd\"/>\n",
       "\t  <feComposite in=\"SourceGraphic\" in2=\"bgnd\" operator=\"atop\"/>\n",
       "\t</filter>\n",
       "\t<filter filterUnits=\"objectBoundingBox\" height=\"1\" id=\"greybox\" width=\"1\" x=\"0\" y=\"0\">\n",
       "\t  <feFlood flood-color=\"lightgrey\" flood-opacity=\"1\" result=\"grey\"/>\n",
       "\t  <feComposite in=\"SourceGraphic\" in2=\"grey\" operator=\"atop\"/>\n",
       "\t</filter>\n",
       "</defs>\n",
       "<g color=\"#FFFFFF\" fill=\"none\" stroke=\"currentColor\" stroke-linecap=\"butt\" stroke-linejoin=\"miter\" stroke-width=\"1.00\">\n",
       "</g>\n",
       "<g color=\"black\" fill=\"none\" stroke=\"currentColor\" stroke-linecap=\"butt\" stroke-linejoin=\"miter\" stroke-width=\"1.00\">\n",
       "\t<g shape-rendering=\"crispEdges\" stroke=\"none\">\n",
       "\t\t<polygon fill=\"rgb(255, 255, 255)\" points=\"34.6,384.2 544.2,384.2 544.2,39.1 34.6,39.1 \"/>\n",
       "\t</g>\n",
       "</g>\n",
       "<g color=\"black\" fill=\"none\" stroke=\"currentColor\" stroke-linecap=\"butt\" stroke-linejoin=\"miter\" stroke-width=\"1.00\">\n",
       "\t<path d=\"M34.6,384.2 L42.4,384.2 M544.3,384.2 L536.5,384.2  \" stroke=\"rgb(  0,   0,   0)\"/>\t<g fill=\"rgb(38,38,38)\" font-family=\"Arial\" font-size=\"10.00\" stroke=\"none\" text-anchor=\"end\" transform=\"translate(29.4,387.5)\">\n",
       "\t\t<text><tspan font-family=\"Arial\">0</tspan></text>\n",
       "\t</g>\n",
       "</g>\n",
       "<g color=\"black\" fill=\"none\" stroke=\"currentColor\" stroke-linecap=\"butt\" stroke-linejoin=\"miter\" stroke-width=\"1.00\">\n",
       "\t<path d=\"M34.6,326.7 L42.4,326.7 M544.3,326.7 L536.5,326.7  \" stroke=\"rgb(  0,   0,   0)\"/>\t<g fill=\"rgb(38,38,38)\" font-family=\"Arial\" font-size=\"10.00\" stroke=\"none\" text-anchor=\"end\" transform=\"translate(29.4,330.0)\">\n",
       "\t\t<text><tspan font-family=\"Arial\">2</tspan></text>\n",
       "\t</g>\n",
       "</g>\n",
       "<g color=\"black\" fill=\"none\" stroke=\"currentColor\" stroke-linecap=\"butt\" stroke-linejoin=\"miter\" stroke-width=\"1.00\">\n",
       "\t<path d=\"M34.6,269.1 L42.4,269.1 M544.3,269.1 L536.5,269.1  \" stroke=\"rgb(  0,   0,   0)\"/>\t<g fill=\"rgb(38,38,38)\" font-family=\"Arial\" font-size=\"10.00\" stroke=\"none\" text-anchor=\"end\" transform=\"translate(29.4,272.4)\">\n",
       "\t\t<text><tspan font-family=\"Arial\">4</tspan></text>\n",
       "\t</g>\n",
       "</g>\n",
       "<g color=\"black\" fill=\"none\" stroke=\"currentColor\" stroke-linecap=\"butt\" stroke-linejoin=\"miter\" stroke-width=\"1.00\">\n",
       "\t<path d=\"M34.6,211.6 L42.4,211.6 M544.3,211.6 L536.5,211.6  \" stroke=\"rgb(  0,   0,   0)\"/>\t<g fill=\"rgb(38,38,38)\" font-family=\"Arial\" font-size=\"10.00\" stroke=\"none\" text-anchor=\"end\" transform=\"translate(29.4,214.9)\">\n",
       "\t\t<text><tspan font-family=\"Arial\">6</tspan></text>\n",
       "\t</g>\n",
       "</g>\n",
       "<g color=\"black\" fill=\"none\" stroke=\"currentColor\" stroke-linecap=\"butt\" stroke-linejoin=\"miter\" stroke-width=\"1.00\">\n",
       "\t<path d=\"M34.6,154.1 L42.4,154.1 M544.3,154.1 L536.5,154.1  \" stroke=\"rgb(  0,   0,   0)\"/>\t<g fill=\"rgb(38,38,38)\" font-family=\"Arial\" font-size=\"10.00\" stroke=\"none\" text-anchor=\"end\" transform=\"translate(29.4,157.4)\">\n",
       "\t\t<text><tspan font-family=\"Arial\">8</tspan></text>\n",
       "\t</g>\n",
       "</g>\n",
       "<g color=\"black\" fill=\"none\" stroke=\"currentColor\" stroke-linecap=\"butt\" stroke-linejoin=\"miter\" stroke-width=\"1.00\">\n",
       "\t<path d=\"M34.6,96.5 L42.4,96.5 M544.3,96.5 L536.5,96.5  \" stroke=\"rgb(  0,   0,   0)\"/>\t<g fill=\"rgb(38,38,38)\" font-family=\"Arial\" font-size=\"10.00\" stroke=\"none\" text-anchor=\"end\" transform=\"translate(29.4,99.8)\">\n",
       "\t\t<text><tspan font-family=\"Arial\">10</tspan></text>\n",
       "\t</g>\n",
       "</g>\n",
       "<g color=\"black\" fill=\"none\" stroke=\"currentColor\" stroke-linecap=\"butt\" stroke-linejoin=\"miter\" stroke-width=\"1.00\">\n",
       "\t<path d=\"M34.6,39.0 L42.4,39.0 M544.3,39.0 L536.5,39.0  \" stroke=\"rgb(  0,   0,   0)\"/>\t<g fill=\"rgb(38,38,38)\" font-family=\"Arial\" font-size=\"10.00\" stroke=\"none\" text-anchor=\"end\" transform=\"translate(29.4,42.3)\">\n",
       "\t\t<text><tspan font-family=\"Arial\">12</tspan></text>\n",
       "\t</g>\n",
       "</g>\n",
       "<g color=\"black\" fill=\"none\" stroke=\"currentColor\" stroke-linecap=\"butt\" stroke-linejoin=\"miter\" stroke-width=\"1.00\">\n",
       "\t<path d=\"M34.6,384.2 L34.6,376.4 M34.6,39.0 L34.6,46.8  \" stroke=\"rgb(  0,   0,   0)\"/>\t<g fill=\"rgb(38,38,38)\" font-family=\"Arial\" font-size=\"10.00\" stroke=\"none\" text-anchor=\"middle\" transform=\"translate(34.6,398.7)\">\n",
       "\t\t<text><tspan font-family=\"Arial\">2</tspan></text>\n",
       "\t</g>\n",
       "</g>\n",
       "<g color=\"black\" fill=\"none\" stroke=\"currentColor\" stroke-linecap=\"butt\" stroke-linejoin=\"miter\" stroke-width=\"1.00\">\n",
       "\t<path d=\"M119.6,384.2 L119.6,376.4 M119.6,39.0 L119.6,46.8  \" stroke=\"rgb(  0,   0,   0)\"/>\t<g fill=\"rgb(38,38,38)\" font-family=\"Arial\" font-size=\"10.00\" stroke=\"none\" text-anchor=\"middle\" transform=\"translate(119.6,398.7)\">\n",
       "\t\t<text><tspan font-family=\"Arial\">3</tspan></text>\n",
       "\t</g>\n",
       "</g>\n",
       "<g color=\"black\" fill=\"none\" stroke=\"currentColor\" stroke-linecap=\"butt\" stroke-linejoin=\"miter\" stroke-width=\"1.00\">\n",
       "\t<path d=\"M204.5,384.2 L204.5,376.4 M204.5,39.0 L204.5,46.8  \" stroke=\"rgb(  0,   0,   0)\"/>\t<g fill=\"rgb(38,38,38)\" font-family=\"Arial\" font-size=\"10.00\" stroke=\"none\" text-anchor=\"middle\" transform=\"translate(204.5,398.7)\">\n",
       "\t\t<text><tspan font-family=\"Arial\">4</tspan></text>\n",
       "\t</g>\n",
       "</g>\n",
       "<g color=\"black\" fill=\"none\" stroke=\"currentColor\" stroke-linecap=\"butt\" stroke-linejoin=\"miter\" stroke-width=\"1.00\">\n",
       "\t<path d=\"M289.5,384.2 L289.5,376.4 M289.5,39.0 L289.5,46.8  \" stroke=\"rgb(  0,   0,   0)\"/>\t<g fill=\"rgb(38,38,38)\" font-family=\"Arial\" font-size=\"10.00\" stroke=\"none\" text-anchor=\"middle\" transform=\"translate(289.5,398.7)\">\n",
       "\t\t<text><tspan font-family=\"Arial\">5</tspan></text>\n",
       "\t</g>\n",
       "</g>\n",
       "<g color=\"black\" fill=\"none\" stroke=\"currentColor\" stroke-linecap=\"butt\" stroke-linejoin=\"miter\" stroke-width=\"1.00\">\n",
       "\t<path d=\"M374.4,384.2 L374.4,376.4 M374.4,39.0 L374.4,46.8  \" stroke=\"rgb(  0,   0,   0)\"/>\t<g fill=\"rgb(38,38,38)\" font-family=\"Arial\" font-size=\"10.00\" stroke=\"none\" text-anchor=\"middle\" transform=\"translate(374.4,398.7)\">\n",
       "\t\t<text><tspan font-family=\"Arial\">6</tspan></text>\n",
       "\t</g>\n",
       "</g>\n",
       "<g color=\"black\" fill=\"none\" stroke=\"currentColor\" stroke-linecap=\"butt\" stroke-linejoin=\"miter\" stroke-width=\"1.00\">\n",
       "\t<path d=\"M459.4,384.2 L459.4,376.4 M459.4,39.0 L459.4,46.8  \" stroke=\"rgb(  0,   0,   0)\"/>\t<g fill=\"rgb(38,38,38)\" font-family=\"Arial\" font-size=\"10.00\" stroke=\"none\" text-anchor=\"middle\" transform=\"translate(459.4,398.7)\">\n",
       "\t\t<text><tspan font-family=\"Arial\">7</tspan></text>\n",
       "\t</g>\n",
       "</g>\n",
       "<g color=\"black\" fill=\"none\" stroke=\"currentColor\" stroke-linecap=\"butt\" stroke-linejoin=\"miter\" stroke-width=\"1.00\">\n",
       "\t<path d=\"M544.3,384.2 L544.3,376.4 M544.3,39.0 L544.3,46.8  \" stroke=\"rgb(  0,   0,   0)\"/>\t<g fill=\"rgb(38,38,38)\" font-family=\"Arial\" font-size=\"10.00\" stroke=\"none\" text-anchor=\"middle\" transform=\"translate(544.3,398.7)\">\n",
       "\t\t<text><tspan font-family=\"Arial\">8</tspan></text>\n",
       "\t</g>\n",
       "</g>\n",
       "<g color=\"black\" fill=\"none\" stroke=\"currentColor\" stroke-linecap=\"butt\" stroke-linejoin=\"miter\" stroke-width=\"1.00\">\n",
       "</g>\n",
       "<g color=\"black\" fill=\"none\" stroke=\"currentColor\" stroke-linecap=\"butt\" stroke-linejoin=\"miter\" stroke-width=\"1.00\">\n",
       "\t<g fill=\"rgb(38,38,38)\" font-family=\"Arial\" font-size=\"11.00\" stroke=\"none\" text-anchor=\"middle\" transform=\"translate(11.3,211.6) rotate(-90)\">\n",
       "\t\t<text><tspan font-family=\"Arial\">Computational time (seconds)</tspan></text>\n",
       "\t</g>\n",
       "</g>\n",
       "<g color=\"black\" fill=\"none\" stroke=\"currentColor\" stroke-linecap=\"butt\" stroke-linejoin=\"miter\" stroke-width=\"1.00\">\n",
       "\t<g fill=\"rgb(38,38,38)\" font-family=\"Arial\" font-size=\"11.00\" stroke=\"none\" text-anchor=\"middle\" transform=\"translate(289.4,415.8)\">\n",
       "\t\t<text><tspan font-family=\"Arial\">Number of cities</tspan></text>\n",
       "\t</g>\n",
       "</g>\n",
       "<g color=\"black\" fill=\"none\" stroke=\"currentColor\" stroke-linecap=\"butt\" stroke-linejoin=\"miter\" stroke-width=\"1.00\">\n",
       "\t<g fill=\"rgb(0,0,0)\" font-family=\":Bold\" font-size=\"11.00\" stroke=\"none\" text-anchor=\"middle\" transform=\"translate(289.4,20.5)\">\n",
       "\t\t<text><tspan font-family=\"\" font-weight=\"bold\">Computational time vs number of cities using bruteforce method</tspan></text>\n",
       "\t</g>\n",
       "</g>\n",
       "<g color=\"black\" fill=\"none\" stroke=\"currentColor\" stroke-linecap=\"butt\" stroke-linejoin=\"miter\" stroke-width=\"1.00\">\n",
       "</g>\n",
       "\t<g id=\"gnuplot_plot_1a\"><title>gnuplot_plot_1a</title>\n",
       "<g color=\"#FFFFFF\" fill=\"none\" stroke=\"currentColor\" stroke-linecap=\"butt\" stroke-linejoin=\"miter\" stroke-width=\"0.50\">\n",
       "</g>\n",
       "<g color=\"black\" fill=\"none\" stroke=\"currentColor\" stroke-linecap=\"butt\" stroke-linejoin=\"miter\" stroke-width=\"0.50\">\n",
       "\t<path d=\"M34.6,384.2 L119.6,384.1 L204.5,384.0 L289.5,383.2 L374.4,379.4 L459.4,353.6 L544.3,88.2  \" stroke=\"rgb(255,   0,   0)\"/>\t<use color=\"rgb(255,   0,   0)\" transform=\"translate(34.6,384.2) scale(5.60)\" xlink:href=\"#gpPt5\"/>\n",
       "\t<use color=\"rgb(255,   0,   0)\" transform=\"translate(119.6,384.1) scale(5.60)\" xlink:href=\"#gpPt5\"/>\n",
       "\t<use color=\"rgb(255,   0,   0)\" transform=\"translate(204.5,384.0) scale(5.60)\" xlink:href=\"#gpPt5\"/>\n",
       "\t<use color=\"rgb(255,   0,   0)\" transform=\"translate(289.5,383.2) scale(5.60)\" xlink:href=\"#gpPt5\"/>\n",
       "\t<use color=\"rgb(255,   0,   0)\" transform=\"translate(374.4,379.4) scale(5.60)\" xlink:href=\"#gpPt5\"/>\n",
       "\t<use color=\"rgb(255,   0,   0)\" transform=\"translate(459.4,353.6) scale(5.60)\" xlink:href=\"#gpPt5\"/>\n",
       "\t<use color=\"rgb(255,   0,   0)\" transform=\"translate(544.3,88.2) scale(5.60)\" xlink:href=\"#gpPt5\"/>\n",
       "</g>\n",
       "\t</g>\n",
       "<g color=\"#FFFFFF\" fill=\"none\" stroke=\"rgb(255,   0,   0)\" stroke-linecap=\"butt\" stroke-linejoin=\"miter\" stroke-width=\"2.00\">\n",
       "</g>\n",
       "<g color=\"black\" fill=\"none\" stroke=\"currentColor\" stroke-linecap=\"butt\" stroke-linejoin=\"miter\" stroke-width=\"2.00\">\n",
       "</g>\n",
       "<g color=\"black\" fill=\"none\" stroke=\"black\" stroke-linecap=\"butt\" stroke-linejoin=\"miter\" stroke-width=\"0.50\">\n",
       "\t<path d=\"M34.6,384.2 L544.3,384.2 M34.6,39.0 L544.3,39.0 M34.6,384.2 L34.6,39.0 M544.3,384.2 L544.3,39.0    \" stroke=\"rgb( 38,  38,  38)\"/></g>\n",
       "<g color=\"black\" fill=\"none\" stroke=\"rgb( 38,  38,  38)\" stroke-linecap=\"butt\" stroke-linejoin=\"miter\" stroke-width=\"1.00\">\n",
       "</g>\n",
       "<g color=\"black\" fill=\"none\" stroke=\"currentColor\" stroke-linecap=\"butt\" stroke-linejoin=\"miter\" stroke-width=\"1.00\">\n",
       "</g>\n",
       "</g>\n",
       "</svg>"
      ],
      "text/plain": [
       "<IPython.core.display.SVG object>"
      ]
     },
     "metadata": {},
     "output_type": "display_data"
    }
   ],
   "source": [
    "plot([CPUTimeAndCities28(:,1)], [CPUTimeAndCities28(:,2)], 'o-r');\n",
    "title (\"Computational time vs number of cities using bruteforce method\");\n",
    "xlabel (\"Number of cities\");\n",
    "ylabel (\"Computational time (seconds)\");"
   ]
  },
  {
   "cell_type": "markdown",
   "metadata": {},
   "source": [
    "## Computational time and number of cities using genetic algorithm (TBC)"
   ]
  },
  {
   "cell_type": "code",
   "execution_count": null,
   "metadata": {},
   "outputs": [],
   "source": []
  },
  {
   "cell_type": "code",
   "execution_count": null,
   "metadata": {},
   "outputs": [],
   "source": []
  },
  {
   "cell_type": "code",
   "execution_count": null,
   "metadata": {},
   "outputs": [],
   "source": []
  },
  {
   "cell_type": "markdown",
   "metadata": {},
   "source": [
    "## Computational time and optimality using genetic algorithm"
   ]
  },
  {
   "cell_type": "markdown",
   "metadata": {},
   "source": [
    "### Optimal value"
   ]
  },
  {
   "cell_type": "code",
   "execution_count": 37,
   "metadata": {},
   "outputs": [],
   "source": [
    "function [opt,t]=OptimalDistanceCalculation(pop,d)\n",
    "\n",
    "    t=cputime;\n",
    "\n",
    "    opt = min(distanceCalculation(pop,d){2});\n",
    "\n",
    "    t = cputime-t;\n",
    "\n",
    "end"
   ]
  },
  {
   "cell_type": "code",
   "execution_count": 38,
   "metadata": {},
   "outputs": [
    {
     "name": "stdout",
     "output_type": "stream",
     "text": [
      "optimalDistance =  48.284\n",
      "cputime =  1.1957\n"
     ]
    }
   ],
   "source": [
    "[optimalDistance, cputime] = OptimalDistanceCalculation(pop = totalPop, d = d)"
   ]
  },
  {
   "cell_type": "markdown",
   "metadata": {},
   "source": [
    "### Plot"
   ]
  },
  {
   "cell_type": "code",
   "execution_count": 39,
   "metadata": {},
   "outputs": [],
   "source": [
    "function OptimalityAndGenerations = tableOptimalityAndNGenerations(minNGenerations,maxNGenerations, sizeGeneration,individuals,d,pm)\n",
    "\n",
    "    newGenerations = createNewGeneration(nGenerations = maxNGenerations, sizeGeneration = sizeGeneration,individuals = individuals, d = d, pm = pm);\n",
    "\n",
    "    OptimalityAndGenerations = zeros(maxNGenerations-minNGenerations+1,2);\n",
    "\n",
    "    count = 1;\n",
    "    \n",
    "    for i = minNGenerations:maxNGenerations;\n",
    "\n",
    "        OptimalityAndGenerations(count,1) = i;\n",
    "        OptimalityAndGenerations(count,2) = newGenerations{i}{4};\n",
    "        count++;\n",
    "\n",
    "    end\n",
    "\n",
    "end"
   ]
  },
  {
   "cell_type": "code",
   "execution_count": 40,
   "metadata": {},
   "outputs": [
    {
     "name": "stdout",
     "output_type": "stream",
     "text": [
      "OptimalityAndGenerations18 =\n",
      "\n",
      "    1.0000   52.7459\n",
      "    2.0000   52.7459\n",
      "    3.0000   52.7459\n",
      "    4.0000   52.7459\n",
      "    5.0000   52.7459\n",
      "    6.0000   52.7459\n",
      "    7.0000   90.1899\n",
      "    8.0000   90.1899\n",
      "\n"
     ]
    }
   ],
   "source": [
    "OptimalityAndGenerations18 = tableOptimalityAndNGenerations(minNGenerations = 1,maxNGenerations = 8, sizeGeneration = 15,individuals = generation0, d = d, pm = 0.5)"
   ]
  },
  {
   "cell_type": "code",
   "execution_count": 41,
   "metadata": {},
   "outputs": [
    {
     "data": {
      "image/svg+xml": [
       "<svg height=\"420px\" viewBox=\"0 0 560 420\" width=\"560px\" xmlns=\"http://www.w3.org/2000/svg\" xmlns:xlink=\"http://www.w3.org/1999/xlink\">\n",
       "\n",
       "<title>Gnuplot</title>\n",
       "<desc>Produced by GNUPLOT 5.2 patchlevel 5 </desc>\n",
       "\n",
       "<g id=\"gnuplot_canvas\">\n",
       "\n",
       "<rect fill=\"#ffffff\" height=\"420\" width=\"560\" x=\"0\" y=\"0\"/>\n",
       "<defs>\n",
       "\n",
       "\t<circle id=\"gpDot\" r=\"0.5\" stroke=\"currentColor\" stroke-width=\"0.5\"/>\n",
       "\t<path d=\"M-1,0 h2 M0,-1 v2\" id=\"gpPt0\" stroke=\"currentColor\" stroke-width=\"0.357\"/>\n",
       "\t<path d=\"M-1,-1 L1,1 M1,-1 L-1,1\" id=\"gpPt1\" stroke=\"currentColor\" stroke-width=\"0.357\"/>\n",
       "\t<path d=\"M-1,0 L1,0 M0,-1 L0,1 M-1,-1 L1,1 M-1,1 L1,-1\" id=\"gpPt2\" stroke=\"currentColor\" stroke-width=\"0.357\"/>\n",
       "\t<rect height=\"2\" id=\"gpPt3\" stroke=\"currentColor\" stroke-width=\"0.357\" width=\"2\" x=\"-1\" y=\"-1\"/>\n",
       "\t<rect fill=\"currentColor\" height=\"2\" id=\"gpPt4\" stroke=\"currentColor\" stroke-width=\"0.357\" width=\"2\" x=\"-1\" y=\"-1\"/>\n",
       "\t<circle cx=\"0\" cy=\"0\" id=\"gpPt5\" r=\"1\" stroke=\"currentColor\" stroke-width=\"0.357\"/>\n",
       "\t<use fill=\"currentColor\" id=\"gpPt6\" stroke=\"none\" xlink:href=\"#gpPt5\"/>\n",
       "\t<path d=\"M0,-1.33 L-1.33,0.67 L1.33,0.67 z\" id=\"gpPt7\" stroke=\"currentColor\" stroke-width=\"0.357\"/>\n",
       "\t<use fill=\"currentColor\" id=\"gpPt8\" stroke=\"none\" xlink:href=\"#gpPt7\"/>\n",
       "\t<use id=\"gpPt9\" stroke=\"currentColor\" transform=\"rotate(180)\" xlink:href=\"#gpPt7\"/>\n",
       "\t<use fill=\"currentColor\" id=\"gpPt10\" stroke=\"none\" xlink:href=\"#gpPt9\"/>\n",
       "\t<use id=\"gpPt11\" stroke=\"currentColor\" transform=\"rotate(45)\" xlink:href=\"#gpPt3\"/>\n",
       "\t<use fill=\"currentColor\" id=\"gpPt12\" stroke=\"none\" xlink:href=\"#gpPt11\"/>\n",
       "\t<path d=\"M0,1.330 L1.265,0.411 L0.782,-1.067 L-0.782,-1.076 L-1.265,0.411 z\" id=\"gpPt13\" stroke=\"currentColor\" stroke-width=\"0.357\"/>\n",
       "\t<use fill=\"currentColor\" id=\"gpPt14\" stroke=\"none\" xlink:href=\"#gpPt13\"/>\n",
       "\t<filter filterUnits=\"objectBoundingBox\" height=\"1\" id=\"textbox\" width=\"1\" x=\"0\" y=\"0\">\n",
       "\t  <feFlood flood-color=\"#FFFFFF\" flood-opacity=\"1\" result=\"bgnd\"/>\n",
       "\t  <feComposite in=\"SourceGraphic\" in2=\"bgnd\" operator=\"atop\"/>\n",
       "\t</filter>\n",
       "\t<filter filterUnits=\"objectBoundingBox\" height=\"1\" id=\"greybox\" width=\"1\" x=\"0\" y=\"0\">\n",
       "\t  <feFlood flood-color=\"lightgrey\" flood-opacity=\"1\" result=\"grey\"/>\n",
       "\t  <feComposite in=\"SourceGraphic\" in2=\"grey\" operator=\"atop\"/>\n",
       "\t</filter>\n",
       "</defs>\n",
       "<g color=\"#FFFFFF\" fill=\"none\" stroke=\"currentColor\" stroke-linecap=\"butt\" stroke-linejoin=\"miter\" stroke-width=\"1.00\">\n",
       "</g>\n",
       "<g color=\"black\" fill=\"none\" stroke=\"currentColor\" stroke-linecap=\"butt\" stroke-linejoin=\"miter\" stroke-width=\"1.00\">\n",
       "\t<g shape-rendering=\"crispEdges\" stroke=\"none\">\n",
       "\t\t<polygon fill=\"rgb(255, 255, 255)\" points=\"39.8,384.2 544.2,384.2 544.2,39.1 39.8,39.1 \"/>\n",
       "\t</g>\n",
       "</g>\n",
       "<g color=\"black\" fill=\"none\" stroke=\"currentColor\" stroke-linecap=\"butt\" stroke-linejoin=\"miter\" stroke-width=\"1.00\">\n",
       "\t<path d=\"M39.8,384.2 L47.6,384.2 M544.3,384.2 L536.5,384.2  \" stroke=\"rgb(  0,   0,   0)\"/>\t<g fill=\"rgb(38,38,38)\" font-family=\"Arial\" font-size=\"10.00\" stroke=\"none\" text-anchor=\"end\" transform=\"translate(34.6,387.5)\">\n",
       "\t\t<text><tspan font-family=\"Arial\">40</tspan></text>\n",
       "\t</g>\n",
       "</g>\n",
       "<g color=\"black\" fill=\"none\" stroke=\"currentColor\" stroke-linecap=\"butt\" stroke-linejoin=\"miter\" stroke-width=\"1.00\">\n",
       "\t<path d=\"M39.8,326.7 L47.6,326.7 M544.3,326.7 L536.5,326.7  \" stroke=\"rgb(  0,   0,   0)\"/>\t<g fill=\"rgb(38,38,38)\" font-family=\"Arial\" font-size=\"10.00\" stroke=\"none\" text-anchor=\"end\" transform=\"translate(34.6,330.0)\">\n",
       "\t\t<text><tspan font-family=\"Arial\">50</tspan></text>\n",
       "\t</g>\n",
       "</g>\n",
       "<g color=\"black\" fill=\"none\" stroke=\"currentColor\" stroke-linecap=\"butt\" stroke-linejoin=\"miter\" stroke-width=\"1.00\">\n",
       "\t<path d=\"M39.8,269.1 L47.6,269.1 M544.3,269.1 L536.5,269.1  \" stroke=\"rgb(  0,   0,   0)\"/>\t<g fill=\"rgb(38,38,38)\" font-family=\"Arial\" font-size=\"10.00\" stroke=\"none\" text-anchor=\"end\" transform=\"translate(34.6,272.4)\">\n",
       "\t\t<text><tspan font-family=\"Arial\">60</tspan></text>\n",
       "\t</g>\n",
       "</g>\n",
       "<g color=\"black\" fill=\"none\" stroke=\"currentColor\" stroke-linecap=\"butt\" stroke-linejoin=\"miter\" stroke-width=\"1.00\">\n",
       "\t<path d=\"M39.8,211.6 L47.6,211.6 M544.3,211.6 L536.5,211.6  \" stroke=\"rgb(  0,   0,   0)\"/>\t<g fill=\"rgb(38,38,38)\" font-family=\"Arial\" font-size=\"10.00\" stroke=\"none\" text-anchor=\"end\" transform=\"translate(34.6,214.9)\">\n",
       "\t\t<text><tspan font-family=\"Arial\">70</tspan></text>\n",
       "\t</g>\n",
       "</g>\n",
       "<g color=\"black\" fill=\"none\" stroke=\"currentColor\" stroke-linecap=\"butt\" stroke-linejoin=\"miter\" stroke-width=\"1.00\">\n",
       "\t<path d=\"M39.8,154.1 L47.6,154.1 M544.3,154.1 L536.5,154.1  \" stroke=\"rgb(  0,   0,   0)\"/>\t<g fill=\"rgb(38,38,38)\" font-family=\"Arial\" font-size=\"10.00\" stroke=\"none\" text-anchor=\"end\" transform=\"translate(34.6,157.4)\">\n",
       "\t\t<text><tspan font-family=\"Arial\">80</tspan></text>\n",
       "\t</g>\n",
       "</g>\n",
       "<g color=\"black\" fill=\"none\" stroke=\"currentColor\" stroke-linecap=\"butt\" stroke-linejoin=\"miter\" stroke-width=\"1.00\">\n",
       "\t<path d=\"M39.8,96.5 L47.6,96.5 M544.3,96.5 L536.5,96.5  \" stroke=\"rgb(  0,   0,   0)\"/>\t<g fill=\"rgb(38,38,38)\" font-family=\"Arial\" font-size=\"10.00\" stroke=\"none\" text-anchor=\"end\" transform=\"translate(34.6,99.8)\">\n",
       "\t\t<text><tspan font-family=\"Arial\">90</tspan></text>\n",
       "\t</g>\n",
       "</g>\n",
       "<g color=\"black\" fill=\"none\" stroke=\"currentColor\" stroke-linecap=\"butt\" stroke-linejoin=\"miter\" stroke-width=\"1.00\">\n",
       "\t<path d=\"M39.8,39.0 L47.6,39.0 M544.3,39.0 L536.5,39.0  \" stroke=\"rgb(  0,   0,   0)\"/>\t<g fill=\"rgb(38,38,38)\" font-family=\"Arial\" font-size=\"10.00\" stroke=\"none\" text-anchor=\"end\" transform=\"translate(34.6,42.3)\">\n",
       "\t\t<text><tspan font-family=\"Arial\">100</tspan></text>\n",
       "\t</g>\n",
       "</g>\n",
       "<g color=\"black\" fill=\"none\" stroke=\"currentColor\" stroke-linecap=\"butt\" stroke-linejoin=\"miter\" stroke-width=\"1.00\">\n",
       "\t<path d=\"M39.8,384.2 L39.8,376.4 M39.8,39.0 L39.8,46.8  \" stroke=\"rgb(  0,   0,   0)\"/>\t<g fill=\"rgb(38,38,38)\" font-family=\"Arial\" font-size=\"10.00\" stroke=\"none\" text-anchor=\"middle\" transform=\"translate(39.8,398.7)\">\n",
       "\t\t<text><tspan font-family=\"Arial\">1</tspan></text>\n",
       "\t</g>\n",
       "</g>\n",
       "<g color=\"black\" fill=\"none\" stroke=\"currentColor\" stroke-linecap=\"butt\" stroke-linejoin=\"miter\" stroke-width=\"1.00\">\n",
       "\t<path d=\"M111.9,384.2 L111.9,376.4 M111.9,39.0 L111.9,46.8  \" stroke=\"rgb(  0,   0,   0)\"/>\t<g fill=\"rgb(38,38,38)\" font-family=\"Arial\" font-size=\"10.00\" stroke=\"none\" text-anchor=\"middle\" transform=\"translate(111.9,398.7)\">\n",
       "\t\t<text><tspan font-family=\"Arial\">2</tspan></text>\n",
       "\t</g>\n",
       "</g>\n",
       "<g color=\"black\" fill=\"none\" stroke=\"currentColor\" stroke-linecap=\"butt\" stroke-linejoin=\"miter\" stroke-width=\"1.00\">\n",
       "\t<path d=\"M183.9,384.2 L183.9,376.4 M183.9,39.0 L183.9,46.8  \" stroke=\"rgb(  0,   0,   0)\"/>\t<g fill=\"rgb(38,38,38)\" font-family=\"Arial\" font-size=\"10.00\" stroke=\"none\" text-anchor=\"middle\" transform=\"translate(183.9,398.7)\">\n",
       "\t\t<text><tspan font-family=\"Arial\">3</tspan></text>\n",
       "\t</g>\n",
       "</g>\n",
       "<g color=\"black\" fill=\"none\" stroke=\"currentColor\" stroke-linecap=\"butt\" stroke-linejoin=\"miter\" stroke-width=\"1.00\">\n",
       "\t<path d=\"M256.0,384.2 L256.0,376.4 M256.0,39.0 L256.0,46.8  \" stroke=\"rgb(  0,   0,   0)\"/>\t<g fill=\"rgb(38,38,38)\" font-family=\"Arial\" font-size=\"10.00\" stroke=\"none\" text-anchor=\"middle\" transform=\"translate(256.0,398.7)\">\n",
       "\t\t<text><tspan font-family=\"Arial\">4</tspan></text>\n",
       "\t</g>\n",
       "</g>\n",
       "<g color=\"black\" fill=\"none\" stroke=\"currentColor\" stroke-linecap=\"butt\" stroke-linejoin=\"miter\" stroke-width=\"1.00\">\n",
       "\t<path d=\"M328.1,384.2 L328.1,376.4 M328.1,39.0 L328.1,46.8  \" stroke=\"rgb(  0,   0,   0)\"/>\t<g fill=\"rgb(38,38,38)\" font-family=\"Arial\" font-size=\"10.00\" stroke=\"none\" text-anchor=\"middle\" transform=\"translate(328.1,398.7)\">\n",
       "\t\t<text><tspan font-family=\"Arial\">5</tspan></text>\n",
       "\t</g>\n",
       "</g>\n",
       "<g color=\"black\" fill=\"none\" stroke=\"currentColor\" stroke-linecap=\"butt\" stroke-linejoin=\"miter\" stroke-width=\"1.00\">\n",
       "\t<path d=\"M400.2,384.2 L400.2,376.4 M400.2,39.0 L400.2,46.8  \" stroke=\"rgb(  0,   0,   0)\"/>\t<g fill=\"rgb(38,38,38)\" font-family=\"Arial\" font-size=\"10.00\" stroke=\"none\" text-anchor=\"middle\" transform=\"translate(400.2,398.7)\">\n",
       "\t\t<text><tspan font-family=\"Arial\">6</tspan></text>\n",
       "\t</g>\n",
       "</g>\n",
       "<g color=\"black\" fill=\"none\" stroke=\"currentColor\" stroke-linecap=\"butt\" stroke-linejoin=\"miter\" stroke-width=\"1.00\">\n",
       "\t<path d=\"M472.2,384.2 L472.2,376.4 M472.2,39.0 L472.2,46.8  \" stroke=\"rgb(  0,   0,   0)\"/>\t<g fill=\"rgb(38,38,38)\" font-family=\"Arial\" font-size=\"10.00\" stroke=\"none\" text-anchor=\"middle\" transform=\"translate(472.2,398.7)\">\n",
       "\t\t<text><tspan font-family=\"Arial\">7</tspan></text>\n",
       "\t</g>\n",
       "</g>\n",
       "<g color=\"black\" fill=\"none\" stroke=\"currentColor\" stroke-linecap=\"butt\" stroke-linejoin=\"miter\" stroke-width=\"1.00\">\n",
       "\t<path d=\"M544.3,384.2 L544.3,376.4 M544.3,39.0 L544.3,46.8  \" stroke=\"rgb(  0,   0,   0)\"/>\t<g fill=\"rgb(38,38,38)\" font-family=\"Arial\" font-size=\"10.00\" stroke=\"none\" text-anchor=\"middle\" transform=\"translate(544.3,398.7)\">\n",
       "\t\t<text><tspan font-family=\"Arial\">8</tspan></text>\n",
       "\t</g>\n",
       "</g>\n",
       "<g color=\"black\" fill=\"none\" stroke=\"currentColor\" stroke-linecap=\"butt\" stroke-linejoin=\"miter\" stroke-width=\"1.00\">\n",
       "</g>\n",
       "<g color=\"black\" fill=\"none\" stroke=\"currentColor\" stroke-linecap=\"butt\" stroke-linejoin=\"miter\" stroke-width=\"1.00\">\n",
       "\t<g fill=\"rgb(38,38,38)\" font-family=\"Arial\" font-size=\"11.00\" stroke=\"none\" text-anchor=\"middle\" transform=\"translate(11.3,211.6) rotate(-90)\">\n",
       "\t\t<text><tspan font-family=\"Arial\">Optimal distance [m]</tspan></text>\n",
       "\t</g>\n",
       "</g>\n",
       "<g color=\"black\" fill=\"none\" stroke=\"currentColor\" stroke-linecap=\"butt\" stroke-linejoin=\"miter\" stroke-width=\"1.00\">\n",
       "\t<g fill=\"rgb(38,38,38)\" font-family=\"Arial\" font-size=\"11.00\" stroke=\"none\" text-anchor=\"middle\" transform=\"translate(292.0,415.8)\">\n",
       "\t\t<text><tspan font-family=\"Arial\">Number of generations</tspan></text>\n",
       "\t</g>\n",
       "</g>\n",
       "<g color=\"black\" fill=\"none\" stroke=\"currentColor\" stroke-linecap=\"butt\" stroke-linejoin=\"miter\" stroke-width=\"1.00\">\n",
       "\t<g fill=\"rgb(0,0,0)\" font-family=\":Bold\" font-size=\"11.00\" stroke=\"none\" text-anchor=\"middle\" transform=\"translate(292.0,20.5)\">\n",
       "\t\t<text><tspan font-family=\"\" font-weight=\"bold\">Optimal distance vs number of generations using genetic algorithm</tspan></text>\n",
       "\t</g>\n",
       "</g>\n",
       "<g color=\"black\" fill=\"none\" stroke=\"currentColor\" stroke-linecap=\"butt\" stroke-linejoin=\"miter\" stroke-width=\"1.00\">\n",
       "</g>\n",
       "\t<g id=\"gnuplot_plot_1a\"><title>gnuplot_plot_1a</title>\n",
       "<g color=\"#FFFFFF\" fill=\"none\" stroke=\"currentColor\" stroke-linecap=\"butt\" stroke-linejoin=\"miter\" stroke-width=\"0.50\">\n",
       "</g>\n",
       "<g color=\"black\" fill=\"none\" stroke=\"currentColor\" stroke-linecap=\"butt\" stroke-linejoin=\"miter\" stroke-width=\"0.50\">\n",
       "\t<path d=\"M39.8,310.9 L111.9,310.9 L183.9,310.9 L256.0,310.9 L328.1,310.9 L400.2,310.9 L472.2,95.4 L544.3,95.4    \" stroke=\"rgb(255,   0,   0)\"/>\t<use color=\"rgb(255,   0,   0)\" transform=\"translate(39.8,310.9) scale(5.60)\" xlink:href=\"#gpPt5\"/>\n",
       "\t<use color=\"rgb(255,   0,   0)\" transform=\"translate(111.9,310.9) scale(5.60)\" xlink:href=\"#gpPt5\"/>\n",
       "\t<use color=\"rgb(255,   0,   0)\" transform=\"translate(183.9,310.9) scale(5.60)\" xlink:href=\"#gpPt5\"/>\n",
       "\t<use color=\"rgb(255,   0,   0)\" transform=\"translate(256.0,310.9) scale(5.60)\" xlink:href=\"#gpPt5\"/>\n",
       "\t<use color=\"rgb(255,   0,   0)\" transform=\"translate(328.1,310.9) scale(5.60)\" xlink:href=\"#gpPt5\"/>\n",
       "\t<use color=\"rgb(255,   0,   0)\" transform=\"translate(400.2,310.9) scale(5.60)\" xlink:href=\"#gpPt5\"/>\n",
       "\t<use color=\"rgb(255,   0,   0)\" transform=\"translate(472.2,95.4) scale(5.60)\" xlink:href=\"#gpPt5\"/>\n",
       "\t<use color=\"rgb(255,   0,   0)\" transform=\"translate(544.3,95.4) scale(5.60)\" xlink:href=\"#gpPt5\"/>\n",
       "</g>\n",
       "\t</g>\n",
       "\t<g id=\"gnuplot_plot_2a\"><title>gnuplot_plot_2a</title>\n",
       "<g color=\"black\" fill=\"none\" stroke=\"currentColor\" stroke-linecap=\"butt\" stroke-linejoin=\"miter\" stroke-width=\"0.50\">\n",
       "\t<path d=\"M39.8,336.5 L544.3,336.5  \" stroke=\"rgb(  0,   0, 255)\"/></g>\n",
       "\t</g>\n",
       "<g color=\"#FFFFFF\" fill=\"none\" stroke=\"rgb(  0,   0, 255)\" stroke-linecap=\"butt\" stroke-linejoin=\"miter\" stroke-width=\"2.00\">\n",
       "</g>\n",
       "<g color=\"black\" fill=\"none\" stroke=\"currentColor\" stroke-linecap=\"butt\" stroke-linejoin=\"miter\" stroke-width=\"2.00\">\n",
       "</g>\n",
       "<g color=\"black\" fill=\"none\" stroke=\"black\" stroke-linecap=\"butt\" stroke-linejoin=\"miter\" stroke-width=\"0.50\">\n",
       "\t<path d=\"M39.8,384.2 L544.3,384.2 M39.8,39.0 L544.3,39.0 M39.8,384.2 L39.8,39.0 M544.3,384.2 L544.3,39.0    \" stroke=\"rgb( 38,  38,  38)\"/></g>\n",
       "<g color=\"black\" fill=\"none\" stroke=\"rgb( 38,  38,  38)\" stroke-linecap=\"butt\" stroke-linejoin=\"miter\" stroke-width=\"1.00\">\n",
       "</g>\n",
       "<g color=\"black\" fill=\"none\" stroke=\"currentColor\" stroke-linecap=\"butt\" stroke-linejoin=\"miter\" stroke-width=\"1.00\">\n",
       "</g>\n",
       "</g>\n",
       "</svg>"
      ],
      "text/plain": [
       "<IPython.core.display.SVG object>"
      ]
     },
     "metadata": {},
     "output_type": "display_data"
    }
   ],
   "source": [
    "plot([OptimalityAndGenerations18(:,1)], [OptimalityAndGenerations18(:,2)], 'o-r');\n",
    "title (\"Optimal distance vs number of generations using genetic algorithm\");\n",
    "xlabel (\"Number of generations\");\n",
    "ylabel (\"Optimal distance [m]\");\n",
    "hold on;\n",
    "plot([min(OptimalityAndGenerations18(:,1)),max(OptimalityAndGenerations18(:,1))],[optimalDistance,optimalDistance], 'b')\n",
    "hold off;"
   ]
  },
  {
   "cell_type": "markdown",
   "metadata": {},
   "source": [
    "## Computational time and number of generations using genetic algorithm"
   ]
  },
  {
   "cell_type": "markdown",
   "metadata": {},
   "source": [
    "### Plot"
   ]
  },
  {
   "cell_type": "code",
   "execution_count": 42,
   "metadata": {},
   "outputs": [],
   "source": [
    "function CPUTimeAndGenerations = tableCPUTimeAndNGenerations(minNGenerations,maxNGenerations, sizeGeneration,individuals,d,pm)\n",
    "    \n",
    "    newGenerations = createNewGeneration(nGenerations = maxNGenerations, sizeGeneration = sizeGeneration,individuals = individuals, d = d, pm = pm);\n",
    "    \n",
    "    CPUTimeAndGenerations = zeros(maxNGenerations-minNGenerations+1,2);\n",
    "\n",
    "    count = 1;\n",
    "    \n",
    "    for i = minNGenerations:maxNGenerations;\n",
    "\n",
    "        CPUTimeAndGenerations(count,1) = i;\n",
    "        CPUTimeAndGenerations(count,2) = newGenerations{i}{5};\n",
    "        count++;\n",
    "\n",
    "    end\n",
    "\n",
    "end"
   ]
  },
  {
   "cell_type": "code",
   "execution_count": 43,
   "metadata": {},
   "outputs": [
    {
     "name": "stdout",
     "output_type": "stream",
     "text": [
      "CPUTimeAndGenerations18 =\n",
      "\n",
      "   1.0000000   0.0096440\n",
      "   2.0000000   0.1826460\n",
      "   3.0000000   0.3117850\n",
      "   4.0000000   0.4329100\n",
      "   5.0000000   0.5456920\n",
      "   6.0000000   0.7245250\n",
      "   7.0000000   0.8791140\n",
      "   8.0000000   0.9985470\n",
      "\n"
     ]
    }
   ],
   "source": [
    "CPUTimeAndGenerations18 = tableCPUTimeAndNGenerations(minNGenerations = 1,maxNGenerations = 8, sizeGeneration = 15,individuals = generation0, d = d, pm = 0.5)"
   ]
  },
  {
   "cell_type": "code",
   "execution_count": 44,
   "metadata": {},
   "outputs": [
    {
     "data": {
      "image/svg+xml": [
       "<svg height=\"420px\" viewBox=\"0 0 560 420\" width=\"560px\" xmlns=\"http://www.w3.org/2000/svg\" xmlns:xlink=\"http://www.w3.org/1999/xlink\">\n",
       "\n",
       "<title>Gnuplot</title>\n",
       "<desc>Produced by GNUPLOT 5.2 patchlevel 5 </desc>\n",
       "\n",
       "<g id=\"gnuplot_canvas\">\n",
       "\n",
       "<rect fill=\"#ffffff\" height=\"420\" width=\"560\" x=\"0\" y=\"0\"/>\n",
       "<defs>\n",
       "\n",
       "\t<circle id=\"gpDot\" r=\"0.5\" stroke=\"currentColor\" stroke-width=\"0.5\"/>\n",
       "\t<path d=\"M-1,0 h2 M0,-1 v2\" id=\"gpPt0\" stroke=\"currentColor\" stroke-width=\"0.357\"/>\n",
       "\t<path d=\"M-1,-1 L1,1 M1,-1 L-1,1\" id=\"gpPt1\" stroke=\"currentColor\" stroke-width=\"0.357\"/>\n",
       "\t<path d=\"M-1,0 L1,0 M0,-1 L0,1 M-1,-1 L1,1 M-1,1 L1,-1\" id=\"gpPt2\" stroke=\"currentColor\" stroke-width=\"0.357\"/>\n",
       "\t<rect height=\"2\" id=\"gpPt3\" stroke=\"currentColor\" stroke-width=\"0.357\" width=\"2\" x=\"-1\" y=\"-1\"/>\n",
       "\t<rect fill=\"currentColor\" height=\"2\" id=\"gpPt4\" stroke=\"currentColor\" stroke-width=\"0.357\" width=\"2\" x=\"-1\" y=\"-1\"/>\n",
       "\t<circle cx=\"0\" cy=\"0\" id=\"gpPt5\" r=\"1\" stroke=\"currentColor\" stroke-width=\"0.357\"/>\n",
       "\t<use fill=\"currentColor\" id=\"gpPt6\" stroke=\"none\" xlink:href=\"#gpPt5\"/>\n",
       "\t<path d=\"M0,-1.33 L-1.33,0.67 L1.33,0.67 z\" id=\"gpPt7\" stroke=\"currentColor\" stroke-width=\"0.357\"/>\n",
       "\t<use fill=\"currentColor\" id=\"gpPt8\" stroke=\"none\" xlink:href=\"#gpPt7\"/>\n",
       "\t<use id=\"gpPt9\" stroke=\"currentColor\" transform=\"rotate(180)\" xlink:href=\"#gpPt7\"/>\n",
       "\t<use fill=\"currentColor\" id=\"gpPt10\" stroke=\"none\" xlink:href=\"#gpPt9\"/>\n",
       "\t<use id=\"gpPt11\" stroke=\"currentColor\" transform=\"rotate(45)\" xlink:href=\"#gpPt3\"/>\n",
       "\t<use fill=\"currentColor\" id=\"gpPt12\" stroke=\"none\" xlink:href=\"#gpPt11\"/>\n",
       "\t<path d=\"M0,1.330 L1.265,0.411 L0.782,-1.067 L-0.782,-1.076 L-1.265,0.411 z\" id=\"gpPt13\" stroke=\"currentColor\" stroke-width=\"0.357\"/>\n",
       "\t<use fill=\"currentColor\" id=\"gpPt14\" stroke=\"none\" xlink:href=\"#gpPt13\"/>\n",
       "\t<filter filterUnits=\"objectBoundingBox\" height=\"1\" id=\"textbox\" width=\"1\" x=\"0\" y=\"0\">\n",
       "\t  <feFlood flood-color=\"#FFFFFF\" flood-opacity=\"1\" result=\"bgnd\"/>\n",
       "\t  <feComposite in=\"SourceGraphic\" in2=\"bgnd\" operator=\"atop\"/>\n",
       "\t</filter>\n",
       "\t<filter filterUnits=\"objectBoundingBox\" height=\"1\" id=\"greybox\" width=\"1\" x=\"0\" y=\"0\">\n",
       "\t  <feFlood flood-color=\"lightgrey\" flood-opacity=\"1\" result=\"grey\"/>\n",
       "\t  <feComposite in=\"SourceGraphic\" in2=\"grey\" operator=\"atop\"/>\n",
       "\t</filter>\n",
       "</defs>\n",
       "<g color=\"#FFFFFF\" fill=\"none\" stroke=\"currentColor\" stroke-linecap=\"butt\" stroke-linejoin=\"miter\" stroke-width=\"1.00\">\n",
       "</g>\n",
       "<g color=\"black\" fill=\"none\" stroke=\"currentColor\" stroke-linecap=\"butt\" stroke-linejoin=\"miter\" stroke-width=\"1.00\">\n",
       "\t<g shape-rendering=\"crispEdges\" stroke=\"none\">\n",
       "\t\t<polygon fill=\"rgb(255, 255, 255)\" points=\"39.8,384.2 544.2,384.2 544.2,39.1 39.8,39.1 \"/>\n",
       "\t</g>\n",
       "</g>\n",
       "<g color=\"black\" fill=\"none\" stroke=\"currentColor\" stroke-linecap=\"butt\" stroke-linejoin=\"miter\" stroke-width=\"1.00\">\n",
       "\t<path d=\"M39.8,384.2 L47.6,384.2 M544.3,384.2 L536.5,384.2  \" stroke=\"rgb(  0,   0,   0)\"/>\t<g fill=\"rgb(38,38,38)\" font-family=\"Arial\" font-size=\"10.00\" stroke=\"none\" text-anchor=\"end\" transform=\"translate(34.6,387.5)\">\n",
       "\t\t<text><tspan font-family=\"Arial\">0</tspan></text>\n",
       "\t</g>\n",
       "</g>\n",
       "<g color=\"black\" fill=\"none\" stroke=\"currentColor\" stroke-linecap=\"butt\" stroke-linejoin=\"miter\" stroke-width=\"1.00\">\n",
       "\t<path d=\"M39.8,297.9 L47.6,297.9 M544.3,297.9 L536.5,297.9  \" stroke=\"rgb(  0,   0,   0)\"/>\t<g fill=\"rgb(38,38,38)\" font-family=\"Arial\" font-size=\"10.00\" stroke=\"none\" text-anchor=\"end\" transform=\"translate(34.6,301.2)\">\n",
       "\t\t<text><tspan font-family=\"Arial\">0.5</tspan></text>\n",
       "\t</g>\n",
       "</g>\n",
       "<g color=\"black\" fill=\"none\" stroke=\"currentColor\" stroke-linecap=\"butt\" stroke-linejoin=\"miter\" stroke-width=\"1.00\">\n",
       "\t<path d=\"M39.8,211.6 L47.6,211.6 M544.3,211.6 L536.5,211.6  \" stroke=\"rgb(  0,   0,   0)\"/>\t<g fill=\"rgb(38,38,38)\" font-family=\"Arial\" font-size=\"10.00\" stroke=\"none\" text-anchor=\"end\" transform=\"translate(34.6,214.9)\">\n",
       "\t\t<text><tspan font-family=\"Arial\">1</tspan></text>\n",
       "\t</g>\n",
       "</g>\n",
       "<g color=\"black\" fill=\"none\" stroke=\"currentColor\" stroke-linecap=\"butt\" stroke-linejoin=\"miter\" stroke-width=\"1.00\">\n",
       "\t<path d=\"M39.8,125.3 L47.6,125.3 M544.3,125.3 L536.5,125.3  \" stroke=\"rgb(  0,   0,   0)\"/>\t<g fill=\"rgb(38,38,38)\" font-family=\"Arial\" font-size=\"10.00\" stroke=\"none\" text-anchor=\"end\" transform=\"translate(34.6,128.6)\">\n",
       "\t\t<text><tspan font-family=\"Arial\">1.5</tspan></text>\n",
       "\t</g>\n",
       "</g>\n",
       "<g color=\"black\" fill=\"none\" stroke=\"currentColor\" stroke-linecap=\"butt\" stroke-linejoin=\"miter\" stroke-width=\"1.00\">\n",
       "\t<path d=\"M39.8,39.0 L47.6,39.0 M544.3,39.0 L536.5,39.0  \" stroke=\"rgb(  0,   0,   0)\"/>\t<g fill=\"rgb(38,38,38)\" font-family=\"Arial\" font-size=\"10.00\" stroke=\"none\" text-anchor=\"end\" transform=\"translate(34.6,42.3)\">\n",
       "\t\t<text><tspan font-family=\"Arial\">2</tspan></text>\n",
       "\t</g>\n",
       "</g>\n",
       "<g color=\"black\" fill=\"none\" stroke=\"currentColor\" stroke-linecap=\"butt\" stroke-linejoin=\"miter\" stroke-width=\"1.00\">\n",
       "\t<path d=\"M39.8,384.2 L39.8,376.4 M39.8,39.0 L39.8,46.8  \" stroke=\"rgb(  0,   0,   0)\"/>\t<g fill=\"rgb(38,38,38)\" font-family=\"Arial\" font-size=\"10.00\" stroke=\"none\" text-anchor=\"middle\" transform=\"translate(39.8,398.7)\">\n",
       "\t\t<text><tspan font-family=\"Arial\">1</tspan></text>\n",
       "\t</g>\n",
       "</g>\n",
       "<g color=\"black\" fill=\"none\" stroke=\"currentColor\" stroke-linecap=\"butt\" stroke-linejoin=\"miter\" stroke-width=\"1.00\">\n",
       "\t<path d=\"M111.9,384.2 L111.9,376.4 M111.9,39.0 L111.9,46.8  \" stroke=\"rgb(  0,   0,   0)\"/>\t<g fill=\"rgb(38,38,38)\" font-family=\"Arial\" font-size=\"10.00\" stroke=\"none\" text-anchor=\"middle\" transform=\"translate(111.9,398.7)\">\n",
       "\t\t<text><tspan font-family=\"Arial\">2</tspan></text>\n",
       "\t</g>\n",
       "</g>\n",
       "<g color=\"black\" fill=\"none\" stroke=\"currentColor\" stroke-linecap=\"butt\" stroke-linejoin=\"miter\" stroke-width=\"1.00\">\n",
       "\t<path d=\"M183.9,384.2 L183.9,376.4 M183.9,39.0 L183.9,46.8  \" stroke=\"rgb(  0,   0,   0)\"/>\t<g fill=\"rgb(38,38,38)\" font-family=\"Arial\" font-size=\"10.00\" stroke=\"none\" text-anchor=\"middle\" transform=\"translate(183.9,398.7)\">\n",
       "\t\t<text><tspan font-family=\"Arial\">3</tspan></text>\n",
       "\t</g>\n",
       "</g>\n",
       "<g color=\"black\" fill=\"none\" stroke=\"currentColor\" stroke-linecap=\"butt\" stroke-linejoin=\"miter\" stroke-width=\"1.00\">\n",
       "\t<path d=\"M256.0,384.2 L256.0,376.4 M256.0,39.0 L256.0,46.8  \" stroke=\"rgb(  0,   0,   0)\"/>\t<g fill=\"rgb(38,38,38)\" font-family=\"Arial\" font-size=\"10.00\" stroke=\"none\" text-anchor=\"middle\" transform=\"translate(256.0,398.7)\">\n",
       "\t\t<text><tspan font-family=\"Arial\">4</tspan></text>\n",
       "\t</g>\n",
       "</g>\n",
       "<g color=\"black\" fill=\"none\" stroke=\"currentColor\" stroke-linecap=\"butt\" stroke-linejoin=\"miter\" stroke-width=\"1.00\">\n",
       "\t<path d=\"M328.1,384.2 L328.1,376.4 M328.1,39.0 L328.1,46.8  \" stroke=\"rgb(  0,   0,   0)\"/>\t<g fill=\"rgb(38,38,38)\" font-family=\"Arial\" font-size=\"10.00\" stroke=\"none\" text-anchor=\"middle\" transform=\"translate(328.1,398.7)\">\n",
       "\t\t<text><tspan font-family=\"Arial\">5</tspan></text>\n",
       "\t</g>\n",
       "</g>\n",
       "<g color=\"black\" fill=\"none\" stroke=\"currentColor\" stroke-linecap=\"butt\" stroke-linejoin=\"miter\" stroke-width=\"1.00\">\n",
       "\t<path d=\"M400.2,384.2 L400.2,376.4 M400.2,39.0 L400.2,46.8  \" stroke=\"rgb(  0,   0,   0)\"/>\t<g fill=\"rgb(38,38,38)\" font-family=\"Arial\" font-size=\"10.00\" stroke=\"none\" text-anchor=\"middle\" transform=\"translate(400.2,398.7)\">\n",
       "\t\t<text><tspan font-family=\"Arial\">6</tspan></text>\n",
       "\t</g>\n",
       "</g>\n",
       "<g color=\"black\" fill=\"none\" stroke=\"currentColor\" stroke-linecap=\"butt\" stroke-linejoin=\"miter\" stroke-width=\"1.00\">\n",
       "\t<path d=\"M472.2,384.2 L472.2,376.4 M472.2,39.0 L472.2,46.8  \" stroke=\"rgb(  0,   0,   0)\"/>\t<g fill=\"rgb(38,38,38)\" font-family=\"Arial\" font-size=\"10.00\" stroke=\"none\" text-anchor=\"middle\" transform=\"translate(472.2,398.7)\">\n",
       "\t\t<text><tspan font-family=\"Arial\">7</tspan></text>\n",
       "\t</g>\n",
       "</g>\n",
       "<g color=\"black\" fill=\"none\" stroke=\"currentColor\" stroke-linecap=\"butt\" stroke-linejoin=\"miter\" stroke-width=\"1.00\">\n",
       "\t<path d=\"M544.3,384.2 L544.3,376.4 M544.3,39.0 L544.3,46.8  \" stroke=\"rgb(  0,   0,   0)\"/>\t<g fill=\"rgb(38,38,38)\" font-family=\"Arial\" font-size=\"10.00\" stroke=\"none\" text-anchor=\"middle\" transform=\"translate(544.3,398.7)\">\n",
       "\t\t<text><tspan font-family=\"Arial\">8</tspan></text>\n",
       "\t</g>\n",
       "</g>\n",
       "<g color=\"black\" fill=\"none\" stroke=\"currentColor\" stroke-linecap=\"butt\" stroke-linejoin=\"miter\" stroke-width=\"1.00\">\n",
       "</g>\n",
       "<g color=\"black\" fill=\"none\" stroke=\"currentColor\" stroke-linecap=\"butt\" stroke-linejoin=\"miter\" stroke-width=\"1.00\">\n",
       "\t<g fill=\"rgb(38,38,38)\" font-family=\"Arial\" font-size=\"11.00\" stroke=\"none\" text-anchor=\"middle\" transform=\"translate(11.3,211.6) rotate(-90)\">\n",
       "\t\t<text><tspan font-family=\"Arial\">Computational time [s]</tspan></text>\n",
       "\t</g>\n",
       "</g>\n",
       "<g color=\"black\" fill=\"none\" stroke=\"currentColor\" stroke-linecap=\"butt\" stroke-linejoin=\"miter\" stroke-width=\"1.00\">\n",
       "\t<g fill=\"rgb(38,38,38)\" font-family=\"Arial\" font-size=\"11.00\" stroke=\"none\" text-anchor=\"middle\" transform=\"translate(292.0,415.8)\">\n",
       "\t\t<text><tspan font-family=\"Arial\">Number of generations</tspan></text>\n",
       "\t</g>\n",
       "</g>\n",
       "<g color=\"black\" fill=\"none\" stroke=\"currentColor\" stroke-linecap=\"butt\" stroke-linejoin=\"miter\" stroke-width=\"1.00\">\n",
       "\t<g fill=\"rgb(0,0,0)\" font-family=\":Bold\" font-size=\"11.00\" stroke=\"none\" text-anchor=\"middle\" transform=\"translate(292.0,20.5)\">\n",
       "\t\t<text><tspan font-family=\"\" font-weight=\"bold\">Computational time vs number of generations using genetic algorithm</tspan></text>\n",
       "\t</g>\n",
       "</g>\n",
       "<g color=\"black\" fill=\"none\" stroke=\"currentColor\" stroke-linecap=\"butt\" stroke-linejoin=\"miter\" stroke-width=\"1.00\">\n",
       "</g>\n",
       "\t<g id=\"gnuplot_plot_1a\"><title>gnuplot_plot_1a</title>\n",
       "<g color=\"#FFFFFF\" fill=\"none\" stroke=\"currentColor\" stroke-linecap=\"butt\" stroke-linejoin=\"miter\" stroke-width=\"0.50\">\n",
       "</g>\n",
       "<g color=\"black\" fill=\"none\" stroke=\"currentColor\" stroke-linecap=\"butt\" stroke-linejoin=\"miter\" stroke-width=\"0.50\">\n",
       "\t<path d=\"M39.8,382.5 L111.9,352.7 L183.9,330.4 L256.0,309.5 L328.1,290.0 L400.2,259.1 L472.2,232.5 L544.3,211.9    \" stroke=\"rgb(255,   0,   0)\"/>\t<use color=\"rgb(255,   0,   0)\" transform=\"translate(39.8,382.5) scale(5.60)\" xlink:href=\"#gpPt5\"/>\n",
       "\t<use color=\"rgb(255,   0,   0)\" transform=\"translate(111.9,352.7) scale(5.60)\" xlink:href=\"#gpPt5\"/>\n",
       "\t<use color=\"rgb(255,   0,   0)\" transform=\"translate(183.9,330.4) scale(5.60)\" xlink:href=\"#gpPt5\"/>\n",
       "\t<use color=\"rgb(255,   0,   0)\" transform=\"translate(256.0,309.5) scale(5.60)\" xlink:href=\"#gpPt5\"/>\n",
       "\t<use color=\"rgb(255,   0,   0)\" transform=\"translate(328.1,290.0) scale(5.60)\" xlink:href=\"#gpPt5\"/>\n",
       "\t<use color=\"rgb(255,   0,   0)\" transform=\"translate(400.2,259.1) scale(5.60)\" xlink:href=\"#gpPt5\"/>\n",
       "\t<use color=\"rgb(255,   0,   0)\" transform=\"translate(472.2,232.5) scale(5.60)\" xlink:href=\"#gpPt5\"/>\n",
       "\t<use color=\"rgb(255,   0,   0)\" transform=\"translate(544.3,211.9) scale(5.60)\" xlink:href=\"#gpPt5\"/>\n",
       "</g>\n",
       "\t</g>\n",
       "\t<g id=\"gnuplot_plot_2a\"><title>gnuplot_plot_2a</title>\n",
       "<g color=\"black\" fill=\"none\" stroke=\"currentColor\" stroke-linecap=\"butt\" stroke-linejoin=\"miter\" stroke-width=\"0.50\">\n",
       "\t<path d=\"M39.8,177.8 L544.3,177.8  \" stroke=\"rgb(  0,   0, 255)\"/></g>\n",
       "\t</g>\n",
       "<g color=\"#FFFFFF\" fill=\"none\" stroke=\"rgb(  0,   0, 255)\" stroke-linecap=\"butt\" stroke-linejoin=\"miter\" stroke-width=\"2.00\">\n",
       "</g>\n",
       "<g color=\"black\" fill=\"none\" stroke=\"currentColor\" stroke-linecap=\"butt\" stroke-linejoin=\"miter\" stroke-width=\"2.00\">\n",
       "</g>\n",
       "<g color=\"black\" fill=\"none\" stroke=\"black\" stroke-linecap=\"butt\" stroke-linejoin=\"miter\" stroke-width=\"0.50\">\n",
       "\t<path d=\"M39.8,384.2 L544.3,384.2 M39.8,39.0 L544.3,39.0 M39.8,384.2 L39.8,39.0 M544.3,384.2 L544.3,39.0    \" stroke=\"rgb( 38,  38,  38)\"/></g>\n",
       "<g color=\"black\" fill=\"none\" stroke=\"rgb( 38,  38,  38)\" stroke-linecap=\"butt\" stroke-linejoin=\"miter\" stroke-width=\"1.00\">\n",
       "</g>\n",
       "<g color=\"black\" fill=\"none\" stroke=\"currentColor\" stroke-linecap=\"butt\" stroke-linejoin=\"miter\" stroke-width=\"1.00\">\n",
       "</g>\n",
       "</g>\n",
       "</svg>"
      ],
      "text/plain": [
       "<IPython.core.display.SVG object>"
      ]
     },
     "metadata": {},
     "output_type": "display_data"
    }
   ],
   "source": [
    "plot([CPUTimeAndGenerations18(:,1)], [CPUTimeAndGenerations18(:,2)], 'o-r');\n",
    "title (\"Computational time vs number of generations using genetic algorithm\");\n",
    "xlabel (\"Number of generations\");\n",
    "ylabel (\"Computational time [s]\");\n",
    "hold on;\n",
    "plot([min(CPUTimeAndGenerations18(:,1)),max(CPUTimeAndGenerations18(:,1))],[cputime,cputime], 'b')\n",
    "axis([min(CPUTimeAndGenerations18(:,1)) max(CPUTimeAndGenerations18(:,1)) 0 2])\n",
    "hold off;"
   ]
  },
  {
   "cell_type": "markdown",
   "metadata": {},
   "source": [
    "## Computational time and individuals per generation using genetic algorithm"
   ]
  },
  {
   "cell_type": "code",
   "execution_count": 45,
   "metadata": {},
   "outputs": [],
   "source": [
    "function CPUTimeAndNIndividuals = tableCPUTimeAndNIndividuals(minSizeGeneration,maxSizeGeneration, nGenerations,totalPop,d,pm)\n",
    "\n",
    "    CPUTimeAndGNIndividuals = zeros(maxSizeGeneration-minSizeGeneration+1,3);\n",
    "\n",
    "    count = 1;\n",
    "    \n",
    "    for i = minSizeGeneration:maxSizeGeneration;\n",
    "        \n",
    "        t=cputime;        \n",
    "        generation0 = createSubPopulation(totalPop,i);\n",
    "        generation0 = distanceCalculation(pop = generation0,d = d);\n",
    "        generation0 = fitness(generation0);\n",
    "        newGenerations = createNewGeneration(nGenerations = nGenerations, sizeGeneration = i,individuals = generation0, d = d, pm = pm);\n",
    "        t = cputime-t;\n",
    "        \n",
    "        CPUTimeAndNIndividuals(count,1) = i;\n",
    "        CPUTimeAndNIndividuals(count,2) = newGenerations{nGenerations}{4};\n",
    "        CPUTimeAndNIndividuals(count,3) = t;\n",
    "        \n",
    "        count++;\n",
    "\n",
    "    end\n",
    "\n",
    "end"
   ]
  },
  {
   "cell_type": "code",
   "execution_count": 46,
   "metadata": {},
   "outputs": [
    {
     "name": "stdout",
     "output_type": "stream",
     "text": [
      "tableCPUTimeAndNIndividuals5To30 =\n",
      "\n",
      "     5.000000   163.007646     0.080070\n",
      "     6.000000   134.788649     0.085563\n",
      "     7.000000   118.871370     0.080789\n",
      "     8.000000   116.734655     0.122652\n",
      "     9.000000   112.837944     0.151248\n",
      "    10.000000    94.615263     0.248414\n",
      "    11.000000    89.719235     0.251124\n",
      "    12.000000    95.562400     0.353553\n",
      "    13.000000    91.449260     0.293304\n",
      "    14.000000   102.412146     0.278578\n",
      "    15.000000    77.500350     0.422642\n",
      "    16.000000    84.113186     0.367650\n",
      "    17.000000    95.562400     0.584207\n",
      "    18.000000   140.807953     0.539270\n",
      "    19.000000    92.449254     0.564782\n",
      "    20.000000    89.335232     0.501054\n",
      "    21.000000    82.960246     0.612054\n",
      "    22.000000    84.113186     0.599406\n",
      "    23.000000    77.500350     0.672171\n",
      "    24.000000    77.500350     1.199009\n",
      "    25.000000    89.719235     1.208402\n",
      "    26.000000    99.936229     0.985485\n",
      "    27.000000    77.500350     0.822969\n",
      "    28.000000    81.328087     1.350575\n",
      "    29.000000   112.026214     1.423569\n",
      "    30.000000    90.189913     1.075001\n",
      "\n"
     ]
    }
   ],
   "source": [
    "tableCPUTimeAndNIndividuals5To30 = tableCPUTimeAndNIndividuals(minSizeGeneration = 5,maxSizeGeneration = 30, nGenerations = 4,totalPop = totalPop,d,pm)"
   ]
  },
  {
   "cell_type": "code",
   "execution_count": 47,
   "metadata": {},
   "outputs": [
    {
     "name": "stdout",
     "output_type": "stream",
     "text": [
      "optimalDistanceNIndividuals =  48.284\n",
      "cputimeNIndividuals =  1.2238\n"
     ]
    }
   ],
   "source": [
    "[optimalDistanceNIndividuals, cputimeNIndividuals] = OptimalDistanceCalculation(pop = totalPop, d = d)"
   ]
  },
  {
   "cell_type": "markdown",
   "metadata": {},
   "source": [
    "#### Plot individuals per generation and computational time"
   ]
  },
  {
   "cell_type": "code",
   "execution_count": 48,
   "metadata": {},
   "outputs": [
    {
     "data": {
      "image/svg+xml": [
       "<svg height=\"420px\" viewBox=\"0 0 560 420\" width=\"560px\" xmlns=\"http://www.w3.org/2000/svg\" xmlns:xlink=\"http://www.w3.org/1999/xlink\">\n",
       "\n",
       "<title>Gnuplot</title>\n",
       "<desc>Produced by GNUPLOT 5.2 patchlevel 5 </desc>\n",
       "\n",
       "<g id=\"gnuplot_canvas\">\n",
       "\n",
       "<rect fill=\"#ffffff\" height=\"420\" width=\"560\" x=\"0\" y=\"0\"/>\n",
       "<defs>\n",
       "\n",
       "\t<circle id=\"gpDot\" r=\"0.5\" stroke=\"currentColor\" stroke-width=\"0.5\"/>\n",
       "\t<path d=\"M-1,0 h2 M0,-1 v2\" id=\"gpPt0\" stroke=\"currentColor\" stroke-width=\"0.357\"/>\n",
       "\t<path d=\"M-1,-1 L1,1 M1,-1 L-1,1\" id=\"gpPt1\" stroke=\"currentColor\" stroke-width=\"0.357\"/>\n",
       "\t<path d=\"M-1,0 L1,0 M0,-1 L0,1 M-1,-1 L1,1 M-1,1 L1,-1\" id=\"gpPt2\" stroke=\"currentColor\" stroke-width=\"0.357\"/>\n",
       "\t<rect height=\"2\" id=\"gpPt3\" stroke=\"currentColor\" stroke-width=\"0.357\" width=\"2\" x=\"-1\" y=\"-1\"/>\n",
       "\t<rect fill=\"currentColor\" height=\"2\" id=\"gpPt4\" stroke=\"currentColor\" stroke-width=\"0.357\" width=\"2\" x=\"-1\" y=\"-1\"/>\n",
       "\t<circle cx=\"0\" cy=\"0\" id=\"gpPt5\" r=\"1\" stroke=\"currentColor\" stroke-width=\"0.357\"/>\n",
       "\t<use fill=\"currentColor\" id=\"gpPt6\" stroke=\"none\" xlink:href=\"#gpPt5\"/>\n",
       "\t<path d=\"M0,-1.33 L-1.33,0.67 L1.33,0.67 z\" id=\"gpPt7\" stroke=\"currentColor\" stroke-width=\"0.357\"/>\n",
       "\t<use fill=\"currentColor\" id=\"gpPt8\" stroke=\"none\" xlink:href=\"#gpPt7\"/>\n",
       "\t<use id=\"gpPt9\" stroke=\"currentColor\" transform=\"rotate(180)\" xlink:href=\"#gpPt7\"/>\n",
       "\t<use fill=\"currentColor\" id=\"gpPt10\" stroke=\"none\" xlink:href=\"#gpPt9\"/>\n",
       "\t<use id=\"gpPt11\" stroke=\"currentColor\" transform=\"rotate(45)\" xlink:href=\"#gpPt3\"/>\n",
       "\t<use fill=\"currentColor\" id=\"gpPt12\" stroke=\"none\" xlink:href=\"#gpPt11\"/>\n",
       "\t<path d=\"M0,1.330 L1.265,0.411 L0.782,-1.067 L-0.782,-1.076 L-1.265,0.411 z\" id=\"gpPt13\" stroke=\"currentColor\" stroke-width=\"0.357\"/>\n",
       "\t<use fill=\"currentColor\" id=\"gpPt14\" stroke=\"none\" xlink:href=\"#gpPt13\"/>\n",
       "\t<filter filterUnits=\"objectBoundingBox\" height=\"1\" id=\"textbox\" width=\"1\" x=\"0\" y=\"0\">\n",
       "\t  <feFlood flood-color=\"#FFFFFF\" flood-opacity=\"1\" result=\"bgnd\"/>\n",
       "\t  <feComposite in=\"SourceGraphic\" in2=\"bgnd\" operator=\"atop\"/>\n",
       "\t</filter>\n",
       "\t<filter filterUnits=\"objectBoundingBox\" height=\"1\" id=\"greybox\" width=\"1\" x=\"0\" y=\"0\">\n",
       "\t  <feFlood flood-color=\"lightgrey\" flood-opacity=\"1\" result=\"grey\"/>\n",
       "\t  <feComposite in=\"SourceGraphic\" in2=\"grey\" operator=\"atop\"/>\n",
       "\t</filter>\n",
       "</defs>\n",
       "<g color=\"#FFFFFF\" fill=\"none\" stroke=\"currentColor\" stroke-linecap=\"butt\" stroke-linejoin=\"miter\" stroke-width=\"1.00\">\n",
       "</g>\n",
       "<g color=\"black\" fill=\"none\" stroke=\"currentColor\" stroke-linecap=\"butt\" stroke-linejoin=\"miter\" stroke-width=\"1.00\">\n",
       "\t<g shape-rendering=\"crispEdges\" stroke=\"none\">\n",
       "\t\t<polygon fill=\"rgb(255, 255, 255)\" points=\"39.8,384.2 544.2,384.2 544.2,39.1 39.8,39.1 \"/>\n",
       "\t</g>\n",
       "</g>\n",
       "<g color=\"black\" fill=\"none\" stroke=\"currentColor\" stroke-linecap=\"butt\" stroke-linejoin=\"miter\" stroke-width=\"1.00\">\n",
       "\t<path d=\"M39.8,384.2 L47.6,384.2 M544.3,384.2 L536.5,384.2  \" stroke=\"rgb(  0,   0,   0)\"/>\t<g fill=\"rgb(38,38,38)\" font-family=\"Arial\" font-size=\"10.00\" stroke=\"none\" text-anchor=\"end\" transform=\"translate(34.6,387.5)\">\n",
       "\t\t<text><tspan font-family=\"Arial\">0</tspan></text>\n",
       "\t</g>\n",
       "</g>\n",
       "<g color=\"black\" fill=\"none\" stroke=\"currentColor\" stroke-linecap=\"butt\" stroke-linejoin=\"miter\" stroke-width=\"1.00\">\n",
       "\t<path d=\"M39.8,297.9 L47.6,297.9 M544.3,297.9 L536.5,297.9  \" stroke=\"rgb(  0,   0,   0)\"/>\t<g fill=\"rgb(38,38,38)\" font-family=\"Arial\" font-size=\"10.00\" stroke=\"none\" text-anchor=\"end\" transform=\"translate(34.6,301.2)\">\n",
       "\t\t<text><tspan font-family=\"Arial\">0.5</tspan></text>\n",
       "\t</g>\n",
       "</g>\n",
       "<g color=\"black\" fill=\"none\" stroke=\"currentColor\" stroke-linecap=\"butt\" stroke-linejoin=\"miter\" stroke-width=\"1.00\">\n",
       "\t<path d=\"M39.8,211.6 L47.6,211.6 M544.3,211.6 L536.5,211.6  \" stroke=\"rgb(  0,   0,   0)\"/>\t<g fill=\"rgb(38,38,38)\" font-family=\"Arial\" font-size=\"10.00\" stroke=\"none\" text-anchor=\"end\" transform=\"translate(34.6,214.9)\">\n",
       "\t\t<text><tspan font-family=\"Arial\">1</tspan></text>\n",
       "\t</g>\n",
       "</g>\n",
       "<g color=\"black\" fill=\"none\" stroke=\"currentColor\" stroke-linecap=\"butt\" stroke-linejoin=\"miter\" stroke-width=\"1.00\">\n",
       "\t<path d=\"M39.8,125.3 L47.6,125.3 M544.3,125.3 L536.5,125.3  \" stroke=\"rgb(  0,   0,   0)\"/>\t<g fill=\"rgb(38,38,38)\" font-family=\"Arial\" font-size=\"10.00\" stroke=\"none\" text-anchor=\"end\" transform=\"translate(34.6,128.6)\">\n",
       "\t\t<text><tspan font-family=\"Arial\">1.5</tspan></text>\n",
       "\t</g>\n",
       "</g>\n",
       "<g color=\"black\" fill=\"none\" stroke=\"currentColor\" stroke-linecap=\"butt\" stroke-linejoin=\"miter\" stroke-width=\"1.00\">\n",
       "\t<path d=\"M39.8,39.0 L47.6,39.0 M544.3,39.0 L536.5,39.0  \" stroke=\"rgb(  0,   0,   0)\"/>\t<g fill=\"rgb(38,38,38)\" font-family=\"Arial\" font-size=\"10.00\" stroke=\"none\" text-anchor=\"end\" transform=\"translate(34.6,42.3)\">\n",
       "\t\t<text><tspan font-family=\"Arial\">2</tspan></text>\n",
       "\t</g>\n",
       "</g>\n",
       "<g color=\"black\" fill=\"none\" stroke=\"currentColor\" stroke-linecap=\"butt\" stroke-linejoin=\"miter\" stroke-width=\"1.00\">\n",
       "\t<path d=\"M39.8,384.2 L39.8,376.4 M39.8,39.0 L39.8,46.8  \" stroke=\"rgb(  0,   0,   0)\"/>\t<g fill=\"rgb(38,38,38)\" font-family=\"Arial\" font-size=\"10.00\" stroke=\"none\" text-anchor=\"middle\" transform=\"translate(39.8,398.7)\">\n",
       "\t\t<text><tspan font-family=\"Arial\">5</tspan></text>\n",
       "\t</g>\n",
       "</g>\n",
       "<g color=\"black\" fill=\"none\" stroke=\"currentColor\" stroke-linecap=\"butt\" stroke-linejoin=\"miter\" stroke-width=\"1.00\">\n",
       "\t<path d=\"M140.7,384.2 L140.7,376.4 M140.7,39.0 L140.7,46.8  \" stroke=\"rgb(  0,   0,   0)\"/>\t<g fill=\"rgb(38,38,38)\" font-family=\"Arial\" font-size=\"10.00\" stroke=\"none\" text-anchor=\"middle\" transform=\"translate(140.7,398.7)\">\n",
       "\t\t<text><tspan font-family=\"Arial\">10</tspan></text>\n",
       "\t</g>\n",
       "</g>\n",
       "<g color=\"black\" fill=\"none\" stroke=\"currentColor\" stroke-linecap=\"butt\" stroke-linejoin=\"miter\" stroke-width=\"1.00\">\n",
       "\t<path d=\"M241.6,384.2 L241.6,376.4 M241.6,39.0 L241.6,46.8  \" stroke=\"rgb(  0,   0,   0)\"/>\t<g fill=\"rgb(38,38,38)\" font-family=\"Arial\" font-size=\"10.00\" stroke=\"none\" text-anchor=\"middle\" transform=\"translate(241.6,398.7)\">\n",
       "\t\t<text><tspan font-family=\"Arial\">15</tspan></text>\n",
       "\t</g>\n",
       "</g>\n",
       "<g color=\"black\" fill=\"none\" stroke=\"currentColor\" stroke-linecap=\"butt\" stroke-linejoin=\"miter\" stroke-width=\"1.00\">\n",
       "\t<path d=\"M342.5,384.2 L342.5,376.4 M342.5,39.0 L342.5,46.8  \" stroke=\"rgb(  0,   0,   0)\"/>\t<g fill=\"rgb(38,38,38)\" font-family=\"Arial\" font-size=\"10.00\" stroke=\"none\" text-anchor=\"middle\" transform=\"translate(342.5,398.7)\">\n",
       "\t\t<text><tspan font-family=\"Arial\">20</tspan></text>\n",
       "\t</g>\n",
       "</g>\n",
       "<g color=\"black\" fill=\"none\" stroke=\"currentColor\" stroke-linecap=\"butt\" stroke-linejoin=\"miter\" stroke-width=\"1.00\">\n",
       "\t<path d=\"M443.4,384.2 L443.4,376.4 M443.4,39.0 L443.4,46.8  \" stroke=\"rgb(  0,   0,   0)\"/>\t<g fill=\"rgb(38,38,38)\" font-family=\"Arial\" font-size=\"10.00\" stroke=\"none\" text-anchor=\"middle\" transform=\"translate(443.4,398.7)\">\n",
       "\t\t<text><tspan font-family=\"Arial\">25</tspan></text>\n",
       "\t</g>\n",
       "</g>\n",
       "<g color=\"black\" fill=\"none\" stroke=\"currentColor\" stroke-linecap=\"butt\" stroke-linejoin=\"miter\" stroke-width=\"1.00\">\n",
       "\t<path d=\"M544.3,384.2 L544.3,376.4 M544.3,39.0 L544.3,46.8  \" stroke=\"rgb(  0,   0,   0)\"/>\t<g fill=\"rgb(38,38,38)\" font-family=\"Arial\" font-size=\"10.00\" stroke=\"none\" text-anchor=\"middle\" transform=\"translate(544.3,398.7)\">\n",
       "\t\t<text><tspan font-family=\"Arial\">30</tspan></text>\n",
       "\t</g>\n",
       "</g>\n",
       "<g color=\"black\" fill=\"none\" stroke=\"currentColor\" stroke-linecap=\"butt\" stroke-linejoin=\"miter\" stroke-width=\"1.00\">\n",
       "</g>\n",
       "<g color=\"black\" fill=\"none\" stroke=\"currentColor\" stroke-linecap=\"butt\" stroke-linejoin=\"miter\" stroke-width=\"1.00\">\n",
       "\t<g fill=\"rgb(38,38,38)\" font-family=\"Arial\" font-size=\"11.00\" stroke=\"none\" text-anchor=\"middle\" transform=\"translate(11.3,211.6) rotate(-90)\">\n",
       "\t\t<text><tspan font-family=\"Arial\">Computational time [s]</tspan></text>\n",
       "\t</g>\n",
       "</g>\n",
       "<g color=\"black\" fill=\"none\" stroke=\"currentColor\" stroke-linecap=\"butt\" stroke-linejoin=\"miter\" stroke-width=\"1.00\">\n",
       "\t<g fill=\"rgb(38,38,38)\" font-family=\"Arial\" font-size=\"11.00\" stroke=\"none\" text-anchor=\"middle\" transform=\"translate(292.0,415.8)\">\n",
       "\t\t<text><tspan font-family=\"Arial\">Number of individuals per generation</tspan></text>\n",
       "\t</g>\n",
       "</g>\n",
       "<g color=\"black\" fill=\"none\" stroke=\"currentColor\" stroke-linecap=\"butt\" stroke-linejoin=\"miter\" stroke-width=\"1.00\">\n",
       "\t<g fill=\"rgb(0,0,0)\" font-family=\":Bold\" font-size=\"11.00\" stroke=\"none\" text-anchor=\"middle\" transform=\"translate(292.0,20.5)\">\n",
       "\t\t<text><tspan font-family=\"\" font-weight=\"bold\">Number of individuals per generation vs computational using genetic algorithm</tspan></text>\n",
       "\t</g>\n",
       "</g>\n",
       "<g color=\"black\" fill=\"none\" stroke=\"currentColor\" stroke-linecap=\"butt\" stroke-linejoin=\"miter\" stroke-width=\"1.00\">\n",
       "</g>\n",
       "\t<g id=\"gnuplot_plot_1a\"><title>gnuplot_plot_1a</title>\n",
       "<g color=\"#FFFFFF\" fill=\"none\" stroke=\"currentColor\" stroke-linecap=\"butt\" stroke-linejoin=\"miter\" stroke-width=\"0.50\">\n",
       "</g>\n",
       "<g color=\"black\" fill=\"none\" stroke=\"currentColor\" stroke-linecap=\"butt\" stroke-linejoin=\"miter\" stroke-width=\"0.50\">\n",
       "\t<path d=\"M39.8,370.4 L60.0,369.4 L80.2,370.3 L100.3,363.0 L120.5,358.1 L140.7,341.3 L160.9,340.9 L181.1,323.2   L201.2,333.6 L221.4,336.1 L241.6,311.3 L261.8,320.7 L282.0,283.4 L302.1,291.1 L322.3,286.7 L342.5,297.7   L362.7,278.6 L382.9,280.7 L403.0,268.2 L423.2,177.3 L443.4,175.6 L463.6,214.1 L483.8,242.2 L503.9,151.1   L524.1,138.5 L544.3,198.7  \" stroke=\"rgb(255,   0,   0)\"/>\t<use color=\"rgb(255,   0,   0)\" transform=\"translate(39.8,370.4) scale(5.60)\" xlink:href=\"#gpPt5\"/>\n",
       "\t<use color=\"rgb(255,   0,   0)\" transform=\"translate(60.0,369.4) scale(5.60)\" xlink:href=\"#gpPt5\"/>\n",
       "\t<use color=\"rgb(255,   0,   0)\" transform=\"translate(80.2,370.3) scale(5.60)\" xlink:href=\"#gpPt5\"/>\n",
       "\t<use color=\"rgb(255,   0,   0)\" transform=\"translate(100.3,363.0) scale(5.60)\" xlink:href=\"#gpPt5\"/>\n",
       "\t<use color=\"rgb(255,   0,   0)\" transform=\"translate(120.5,358.1) scale(5.60)\" xlink:href=\"#gpPt5\"/>\n",
       "\t<use color=\"rgb(255,   0,   0)\" transform=\"translate(140.7,341.3) scale(5.60)\" xlink:href=\"#gpPt5\"/>\n",
       "\t<use color=\"rgb(255,   0,   0)\" transform=\"translate(160.9,340.9) scale(5.60)\" xlink:href=\"#gpPt5\"/>\n",
       "\t<use color=\"rgb(255,   0,   0)\" transform=\"translate(181.1,323.2) scale(5.60)\" xlink:href=\"#gpPt5\"/>\n",
       "\t<use color=\"rgb(255,   0,   0)\" transform=\"translate(201.2,333.6) scale(5.60)\" xlink:href=\"#gpPt5\"/>\n",
       "\t<use color=\"rgb(255,   0,   0)\" transform=\"translate(221.4,336.1) scale(5.60)\" xlink:href=\"#gpPt5\"/>\n",
       "\t<use color=\"rgb(255,   0,   0)\" transform=\"translate(241.6,311.3) scale(5.60)\" xlink:href=\"#gpPt5\"/>\n",
       "\t<use color=\"rgb(255,   0,   0)\" transform=\"translate(261.8,320.7) scale(5.60)\" xlink:href=\"#gpPt5\"/>\n",
       "\t<use color=\"rgb(255,   0,   0)\" transform=\"translate(282.0,283.4) scale(5.60)\" xlink:href=\"#gpPt5\"/>\n",
       "\t<use color=\"rgb(255,   0,   0)\" transform=\"translate(302.1,291.1) scale(5.60)\" xlink:href=\"#gpPt5\"/>\n",
       "\t<use color=\"rgb(255,   0,   0)\" transform=\"translate(322.3,286.7) scale(5.60)\" xlink:href=\"#gpPt5\"/>\n",
       "\t<use color=\"rgb(255,   0,   0)\" transform=\"translate(342.5,297.7) scale(5.60)\" xlink:href=\"#gpPt5\"/>\n",
       "\t<use color=\"rgb(255,   0,   0)\" transform=\"translate(362.7,278.6) scale(5.60)\" xlink:href=\"#gpPt5\"/>\n",
       "\t<use color=\"rgb(255,   0,   0)\" transform=\"translate(382.9,280.7) scale(5.60)\" xlink:href=\"#gpPt5\"/>\n",
       "\t<use color=\"rgb(255,   0,   0)\" transform=\"translate(403.0,268.2) scale(5.60)\" xlink:href=\"#gpPt5\"/>\n",
       "\t<use color=\"rgb(255,   0,   0)\" transform=\"translate(423.2,177.3) scale(5.60)\" xlink:href=\"#gpPt5\"/>\n",
       "\t<use color=\"rgb(255,   0,   0)\" transform=\"translate(443.4,175.6) scale(5.60)\" xlink:href=\"#gpPt5\"/>\n",
       "\t<use color=\"rgb(255,   0,   0)\" transform=\"translate(463.6,214.1) scale(5.60)\" xlink:href=\"#gpPt5\"/>\n",
       "\t<use color=\"rgb(255,   0,   0)\" transform=\"translate(483.8,242.2) scale(5.60)\" xlink:href=\"#gpPt5\"/>\n",
       "\t<use color=\"rgb(255,   0,   0)\" transform=\"translate(503.9,151.1) scale(5.60)\" xlink:href=\"#gpPt5\"/>\n",
       "\t<use color=\"rgb(255,   0,   0)\" transform=\"translate(524.1,138.5) scale(5.60)\" xlink:href=\"#gpPt5\"/>\n",
       "\t<use color=\"rgb(255,   0,   0)\" transform=\"translate(544.3,198.7) scale(5.60)\" xlink:href=\"#gpPt5\"/>\n",
       "</g>\n",
       "\t</g>\n",
       "\t<g id=\"gnuplot_plot_2a\"><title>gnuplot_plot_2a</title>\n",
       "<g color=\"black\" fill=\"none\" stroke=\"currentColor\" stroke-linecap=\"butt\" stroke-linejoin=\"miter\" stroke-width=\"0.50\">\n",
       "\t<path d=\"M39.8,173.0 L544.3,173.0  \" stroke=\"rgb(  0,   0, 255)\"/></g>\n",
       "\t</g>\n",
       "<g color=\"#FFFFFF\" fill=\"none\" stroke=\"rgb(  0,   0, 255)\" stroke-linecap=\"butt\" stroke-linejoin=\"miter\" stroke-width=\"2.00\">\n",
       "</g>\n",
       "<g color=\"black\" fill=\"none\" stroke=\"currentColor\" stroke-linecap=\"butt\" stroke-linejoin=\"miter\" stroke-width=\"2.00\">\n",
       "</g>\n",
       "<g color=\"black\" fill=\"none\" stroke=\"black\" stroke-linecap=\"butt\" stroke-linejoin=\"miter\" stroke-width=\"0.50\">\n",
       "\t<path d=\"M39.8,384.2 L544.3,384.2 M39.8,39.0 L544.3,39.0 M39.8,384.2 L39.8,39.0 M544.3,384.2 L544.3,39.0    \" stroke=\"rgb( 38,  38,  38)\"/></g>\n",
       "<g color=\"black\" fill=\"none\" stroke=\"rgb( 38,  38,  38)\" stroke-linecap=\"butt\" stroke-linejoin=\"miter\" stroke-width=\"1.00\">\n",
       "</g>\n",
       "<g color=\"black\" fill=\"none\" stroke=\"currentColor\" stroke-linecap=\"butt\" stroke-linejoin=\"miter\" stroke-width=\"1.00\">\n",
       "</g>\n",
       "</g>\n",
       "</svg>"
      ],
      "text/plain": [
       "<IPython.core.display.SVG object>"
      ]
     },
     "metadata": {},
     "output_type": "display_data"
    }
   ],
   "source": [
    "plot([tableCPUTimeAndNIndividuals5To30(:,1)], [tableCPUTimeAndNIndividuals5To30(:,3)], 'o-r');\n",
    "title (\"Number of individuals per generation vs computational using genetic algorithm\");\n",
    "xlabel (\"Number of individuals per generation\");\n",
    "ylabel (\"Computational time [s]\");\n",
    "hold on;\n",
    "plot([min(tableCPUTimeAndNIndividuals5To30(:,1)),max(tableCPUTimeAndNIndividuals5To30(:,1))],[cputimeNIndividuals,cputimeNIndividuals], 'b')\n",
    "hold off;"
   ]
  },
  {
   "cell_type": "code",
   "execution_count": null,
   "metadata": {},
   "outputs": [],
   "source": []
  },
  {
   "cell_type": "markdown",
   "metadata": {},
   "source": [
    "#### Plot individuals per generation and optimality"
   ]
  },
  {
   "cell_type": "code",
   "execution_count": null,
   "metadata": {},
   "outputs": [],
   "source": []
  },
  {
   "cell_type": "code",
   "execution_count": 49,
   "metadata": {},
   "outputs": [
    {
     "data": {
      "image/svg+xml": [
       "<svg height=\"420px\" viewBox=\"0 0 560 420\" width=\"560px\" xmlns=\"http://www.w3.org/2000/svg\" xmlns:xlink=\"http://www.w3.org/1999/xlink\">\n",
       "\n",
       "<title>Gnuplot</title>\n",
       "<desc>Produced by GNUPLOT 5.2 patchlevel 5 </desc>\n",
       "\n",
       "<g id=\"gnuplot_canvas\">\n",
       "\n",
       "<rect fill=\"#ffffff\" height=\"420\" width=\"560\" x=\"0\" y=\"0\"/>\n",
       "<defs>\n",
       "\n",
       "\t<circle id=\"gpDot\" r=\"0.5\" stroke=\"currentColor\" stroke-width=\"0.5\"/>\n",
       "\t<path d=\"M-1,0 h2 M0,-1 v2\" id=\"gpPt0\" stroke=\"currentColor\" stroke-width=\"0.357\"/>\n",
       "\t<path d=\"M-1,-1 L1,1 M1,-1 L-1,1\" id=\"gpPt1\" stroke=\"currentColor\" stroke-width=\"0.357\"/>\n",
       "\t<path d=\"M-1,0 L1,0 M0,-1 L0,1 M-1,-1 L1,1 M-1,1 L1,-1\" id=\"gpPt2\" stroke=\"currentColor\" stroke-width=\"0.357\"/>\n",
       "\t<rect height=\"2\" id=\"gpPt3\" stroke=\"currentColor\" stroke-width=\"0.357\" width=\"2\" x=\"-1\" y=\"-1\"/>\n",
       "\t<rect fill=\"currentColor\" height=\"2\" id=\"gpPt4\" stroke=\"currentColor\" stroke-width=\"0.357\" width=\"2\" x=\"-1\" y=\"-1\"/>\n",
       "\t<circle cx=\"0\" cy=\"0\" id=\"gpPt5\" r=\"1\" stroke=\"currentColor\" stroke-width=\"0.357\"/>\n",
       "\t<use fill=\"currentColor\" id=\"gpPt6\" stroke=\"none\" xlink:href=\"#gpPt5\"/>\n",
       "\t<path d=\"M0,-1.33 L-1.33,0.67 L1.33,0.67 z\" id=\"gpPt7\" stroke=\"currentColor\" stroke-width=\"0.357\"/>\n",
       "\t<use fill=\"currentColor\" id=\"gpPt8\" stroke=\"none\" xlink:href=\"#gpPt7\"/>\n",
       "\t<use id=\"gpPt9\" stroke=\"currentColor\" transform=\"rotate(180)\" xlink:href=\"#gpPt7\"/>\n",
       "\t<use fill=\"currentColor\" id=\"gpPt10\" stroke=\"none\" xlink:href=\"#gpPt9\"/>\n",
       "\t<use id=\"gpPt11\" stroke=\"currentColor\" transform=\"rotate(45)\" xlink:href=\"#gpPt3\"/>\n",
       "\t<use fill=\"currentColor\" id=\"gpPt12\" stroke=\"none\" xlink:href=\"#gpPt11\"/>\n",
       "\t<path d=\"M0,1.330 L1.265,0.411 L0.782,-1.067 L-0.782,-1.076 L-1.265,0.411 z\" id=\"gpPt13\" stroke=\"currentColor\" stroke-width=\"0.357\"/>\n",
       "\t<use fill=\"currentColor\" id=\"gpPt14\" stroke=\"none\" xlink:href=\"#gpPt13\"/>\n",
       "\t<filter filterUnits=\"objectBoundingBox\" height=\"1\" id=\"textbox\" width=\"1\" x=\"0\" y=\"0\">\n",
       "\t  <feFlood flood-color=\"#FFFFFF\" flood-opacity=\"1\" result=\"bgnd\"/>\n",
       "\t  <feComposite in=\"SourceGraphic\" in2=\"bgnd\" operator=\"atop\"/>\n",
       "\t</filter>\n",
       "\t<filter filterUnits=\"objectBoundingBox\" height=\"1\" id=\"greybox\" width=\"1\" x=\"0\" y=\"0\">\n",
       "\t  <feFlood flood-color=\"lightgrey\" flood-opacity=\"1\" result=\"grey\"/>\n",
       "\t  <feComposite in=\"SourceGraphic\" in2=\"grey\" operator=\"atop\"/>\n",
       "\t</filter>\n",
       "</defs>\n",
       "<g color=\"#FFFFFF\" fill=\"none\" stroke=\"currentColor\" stroke-linecap=\"butt\" stroke-linejoin=\"miter\" stroke-width=\"1.00\">\n",
       "</g>\n",
       "<g color=\"black\" fill=\"none\" stroke=\"currentColor\" stroke-linecap=\"butt\" stroke-linejoin=\"miter\" stroke-width=\"1.00\">\n",
       "\t<g shape-rendering=\"crispEdges\" stroke=\"none\">\n",
       "\t\t<polygon fill=\"rgb(255, 255, 255)\" points=\"39.8,384.2 544.2,384.2 544.2,39.1 39.8,39.1 \"/>\n",
       "\t</g>\n",
       "</g>\n",
       "<g color=\"black\" fill=\"none\" stroke=\"currentColor\" stroke-linecap=\"butt\" stroke-linejoin=\"miter\" stroke-width=\"1.00\">\n",
       "\t<path d=\"M39.8,384.2 L47.6,384.2 M544.3,384.2 L536.5,384.2  \" stroke=\"rgb(  0,   0,   0)\"/>\t<g fill=\"rgb(38,38,38)\" font-family=\"Arial\" font-size=\"10.00\" stroke=\"none\" text-anchor=\"end\" transform=\"translate(34.6,387.5)\">\n",
       "\t\t<text><tspan font-family=\"Arial\">40</tspan></text>\n",
       "\t</g>\n",
       "</g>\n",
       "<g color=\"black\" fill=\"none\" stroke=\"currentColor\" stroke-linecap=\"butt\" stroke-linejoin=\"miter\" stroke-width=\"1.00\">\n",
       "\t<path d=\"M39.8,334.9 L47.6,334.9 M544.3,334.9 L536.5,334.9  \" stroke=\"rgb(  0,   0,   0)\"/>\t<g fill=\"rgb(38,38,38)\" font-family=\"Arial\" font-size=\"10.00\" stroke=\"none\" text-anchor=\"end\" transform=\"translate(34.6,338.2)\">\n",
       "\t\t<text><tspan font-family=\"Arial\">60</tspan></text>\n",
       "\t</g>\n",
       "</g>\n",
       "<g color=\"black\" fill=\"none\" stroke=\"currentColor\" stroke-linecap=\"butt\" stroke-linejoin=\"miter\" stroke-width=\"1.00\">\n",
       "\t<path d=\"M39.8,285.6 L47.6,285.6 M544.3,285.6 L536.5,285.6  \" stroke=\"rgb(  0,   0,   0)\"/>\t<g fill=\"rgb(38,38,38)\" font-family=\"Arial\" font-size=\"10.00\" stroke=\"none\" text-anchor=\"end\" transform=\"translate(34.6,288.9)\">\n",
       "\t\t<text><tspan font-family=\"Arial\">80</tspan></text>\n",
       "\t</g>\n",
       "</g>\n",
       "<g color=\"black\" fill=\"none\" stroke=\"currentColor\" stroke-linecap=\"butt\" stroke-linejoin=\"miter\" stroke-width=\"1.00\">\n",
       "\t<path d=\"M39.8,236.3 L47.6,236.3 M544.3,236.3 L536.5,236.3  \" stroke=\"rgb(  0,   0,   0)\"/>\t<g fill=\"rgb(38,38,38)\" font-family=\"Arial\" font-size=\"10.00\" stroke=\"none\" text-anchor=\"end\" transform=\"translate(34.6,239.6)\">\n",
       "\t\t<text><tspan font-family=\"Arial\">100</tspan></text>\n",
       "\t</g>\n",
       "</g>\n",
       "<g color=\"black\" fill=\"none\" stroke=\"currentColor\" stroke-linecap=\"butt\" stroke-linejoin=\"miter\" stroke-width=\"1.00\">\n",
       "\t<path d=\"M39.8,186.9 L47.6,186.9 M544.3,186.9 L536.5,186.9  \" stroke=\"rgb(  0,   0,   0)\"/>\t<g fill=\"rgb(38,38,38)\" font-family=\"Arial\" font-size=\"10.00\" stroke=\"none\" text-anchor=\"end\" transform=\"translate(34.6,190.2)\">\n",
       "\t\t<text><tspan font-family=\"Arial\">120</tspan></text>\n",
       "\t</g>\n",
       "</g>\n",
       "<g color=\"black\" fill=\"none\" stroke=\"currentColor\" stroke-linecap=\"butt\" stroke-linejoin=\"miter\" stroke-width=\"1.00\">\n",
       "\t<path d=\"M39.8,137.6 L47.6,137.6 M544.3,137.6 L536.5,137.6  \" stroke=\"rgb(  0,   0,   0)\"/>\t<g fill=\"rgb(38,38,38)\" font-family=\"Arial\" font-size=\"10.00\" stroke=\"none\" text-anchor=\"end\" transform=\"translate(34.6,140.9)\">\n",
       "\t\t<text><tspan font-family=\"Arial\">140</tspan></text>\n",
       "\t</g>\n",
       "</g>\n",
       "<g color=\"black\" fill=\"none\" stroke=\"currentColor\" stroke-linecap=\"butt\" stroke-linejoin=\"miter\" stroke-width=\"1.00\">\n",
       "\t<path d=\"M39.8,88.3 L47.6,88.3 M544.3,88.3 L536.5,88.3  \" stroke=\"rgb(  0,   0,   0)\"/>\t<g fill=\"rgb(38,38,38)\" font-family=\"Arial\" font-size=\"10.00\" stroke=\"none\" text-anchor=\"end\" transform=\"translate(34.6,91.6)\">\n",
       "\t\t<text><tspan font-family=\"Arial\">160</tspan></text>\n",
       "\t</g>\n",
       "</g>\n",
       "<g color=\"black\" fill=\"none\" stroke=\"currentColor\" stroke-linecap=\"butt\" stroke-linejoin=\"miter\" stroke-width=\"1.00\">\n",
       "\t<path d=\"M39.8,39.0 L47.6,39.0 M544.3,39.0 L536.5,39.0  \" stroke=\"rgb(  0,   0,   0)\"/>\t<g fill=\"rgb(38,38,38)\" font-family=\"Arial\" font-size=\"10.00\" stroke=\"none\" text-anchor=\"end\" transform=\"translate(34.6,42.3)\">\n",
       "\t\t<text><tspan font-family=\"Arial\">180</tspan></text>\n",
       "\t</g>\n",
       "</g>\n",
       "<g color=\"black\" fill=\"none\" stroke=\"currentColor\" stroke-linecap=\"butt\" stroke-linejoin=\"miter\" stroke-width=\"1.00\">\n",
       "\t<path d=\"M39.8,384.2 L39.8,376.4 M39.8,39.0 L39.8,46.8  \" stroke=\"rgb(  0,   0,   0)\"/>\t<g fill=\"rgb(38,38,38)\" font-family=\"Arial\" font-size=\"10.00\" stroke=\"none\" text-anchor=\"middle\" transform=\"translate(39.8,398.7)\">\n",
       "\t\t<text><tspan font-family=\"Arial\">5</tspan></text>\n",
       "\t</g>\n",
       "</g>\n",
       "<g color=\"black\" fill=\"none\" stroke=\"currentColor\" stroke-linecap=\"butt\" stroke-linejoin=\"miter\" stroke-width=\"1.00\">\n",
       "\t<path d=\"M140.7,384.2 L140.7,376.4 M140.7,39.0 L140.7,46.8  \" stroke=\"rgb(  0,   0,   0)\"/>\t<g fill=\"rgb(38,38,38)\" font-family=\"Arial\" font-size=\"10.00\" stroke=\"none\" text-anchor=\"middle\" transform=\"translate(140.7,398.7)\">\n",
       "\t\t<text><tspan font-family=\"Arial\">10</tspan></text>\n",
       "\t</g>\n",
       "</g>\n",
       "<g color=\"black\" fill=\"none\" stroke=\"currentColor\" stroke-linecap=\"butt\" stroke-linejoin=\"miter\" stroke-width=\"1.00\">\n",
       "\t<path d=\"M241.6,384.2 L241.6,376.4 M241.6,39.0 L241.6,46.8  \" stroke=\"rgb(  0,   0,   0)\"/>\t<g fill=\"rgb(38,38,38)\" font-family=\"Arial\" font-size=\"10.00\" stroke=\"none\" text-anchor=\"middle\" transform=\"translate(241.6,398.7)\">\n",
       "\t\t<text><tspan font-family=\"Arial\">15</tspan></text>\n",
       "\t</g>\n",
       "</g>\n",
       "<g color=\"black\" fill=\"none\" stroke=\"currentColor\" stroke-linecap=\"butt\" stroke-linejoin=\"miter\" stroke-width=\"1.00\">\n",
       "\t<path d=\"M342.5,384.2 L342.5,376.4 M342.5,39.0 L342.5,46.8  \" stroke=\"rgb(  0,   0,   0)\"/>\t<g fill=\"rgb(38,38,38)\" font-family=\"Arial\" font-size=\"10.00\" stroke=\"none\" text-anchor=\"middle\" transform=\"translate(342.5,398.7)\">\n",
       "\t\t<text><tspan font-family=\"Arial\">20</tspan></text>\n",
       "\t</g>\n",
       "</g>\n",
       "<g color=\"black\" fill=\"none\" stroke=\"currentColor\" stroke-linecap=\"butt\" stroke-linejoin=\"miter\" stroke-width=\"1.00\">\n",
       "\t<path d=\"M443.4,384.2 L443.4,376.4 M443.4,39.0 L443.4,46.8  \" stroke=\"rgb(  0,   0,   0)\"/>\t<g fill=\"rgb(38,38,38)\" font-family=\"Arial\" font-size=\"10.00\" stroke=\"none\" text-anchor=\"middle\" transform=\"translate(443.4,398.7)\">\n",
       "\t\t<text><tspan font-family=\"Arial\">25</tspan></text>\n",
       "\t</g>\n",
       "</g>\n",
       "<g color=\"black\" fill=\"none\" stroke=\"currentColor\" stroke-linecap=\"butt\" stroke-linejoin=\"miter\" stroke-width=\"1.00\">\n",
       "\t<path d=\"M544.3,384.2 L544.3,376.4 M544.3,39.0 L544.3,46.8  \" stroke=\"rgb(  0,   0,   0)\"/>\t<g fill=\"rgb(38,38,38)\" font-family=\"Arial\" font-size=\"10.00\" stroke=\"none\" text-anchor=\"middle\" transform=\"translate(544.3,398.7)\">\n",
       "\t\t<text><tspan font-family=\"Arial\">30</tspan></text>\n",
       "\t</g>\n",
       "</g>\n",
       "<g color=\"black\" fill=\"none\" stroke=\"currentColor\" stroke-linecap=\"butt\" stroke-linejoin=\"miter\" stroke-width=\"1.00\">\n",
       "</g>\n",
       "<g color=\"black\" fill=\"none\" stroke=\"currentColor\" stroke-linecap=\"butt\" stroke-linejoin=\"miter\" stroke-width=\"1.00\">\n",
       "\t<g fill=\"rgb(38,38,38)\" font-family=\"Arial\" font-size=\"11.00\" stroke=\"none\" text-anchor=\"middle\" transform=\"translate(11.3,211.6) rotate(-90)\">\n",
       "\t\t<text><tspan font-family=\"Arial\">Optimal distance [m]</tspan></text>\n",
       "\t</g>\n",
       "</g>\n",
       "<g color=\"black\" fill=\"none\" stroke=\"currentColor\" stroke-linecap=\"butt\" stroke-linejoin=\"miter\" stroke-width=\"1.00\">\n",
       "\t<g fill=\"rgb(38,38,38)\" font-family=\"Arial\" font-size=\"11.00\" stroke=\"none\" text-anchor=\"middle\" transform=\"translate(292.0,415.8)\">\n",
       "\t\t<text><tspan font-family=\"Arial\">Number of individuals per generation</tspan></text>\n",
       "\t</g>\n",
       "</g>\n",
       "<g color=\"black\" fill=\"none\" stroke=\"currentColor\" stroke-linecap=\"butt\" stroke-linejoin=\"miter\" stroke-width=\"1.00\">\n",
       "\t<g fill=\"rgb(0,0,0)\" font-family=\":Bold\" font-size=\"11.00\" stroke=\"none\" text-anchor=\"middle\" transform=\"translate(292.0,20.5)\">\n",
       "\t\t<text><tspan font-family=\"\" font-weight=\"bold\">Number of individuals per generation vs optimal distance using genetic algorithm</tspan></text>\n",
       "\t</g>\n",
       "</g>\n",
       "<g color=\"black\" fill=\"none\" stroke=\"currentColor\" stroke-linecap=\"butt\" stroke-linejoin=\"miter\" stroke-width=\"1.00\">\n",
       "</g>\n",
       "\t<g id=\"gnuplot_plot_1a\"><title>gnuplot_plot_1a</title>\n",
       "<g color=\"#FFFFFF\" fill=\"none\" stroke=\"currentColor\" stroke-linecap=\"butt\" stroke-linejoin=\"miter\" stroke-width=\"0.50\">\n",
       "</g>\n",
       "<g color=\"black\" fill=\"none\" stroke=\"currentColor\" stroke-linecap=\"butt\" stroke-linejoin=\"miter\" stroke-width=\"0.50\">\n",
       "\t<path d=\"M39.8,80.9 L60.0,150.5 L80.2,189.7 L100.3,195.0 L120.5,204.6 L140.7,249.5 L160.9,261.6 L181.1,247.2   L201.2,257.3 L221.4,230.3 L241.6,291.7 L261.8,275.4 L282.0,247.2 L302.1,135.6 L322.3,254.9 L342.5,262.6   L362.7,278.3 L382.9,275.4 L403.0,291.7 L423.2,291.7 L443.4,261.6 L463.6,236.4 L483.8,291.7 L503.9,282.3   L524.1,206.6 L544.3,260.4  \" stroke=\"rgb(255,   0,   0)\"/>\t<use color=\"rgb(255,   0,   0)\" transform=\"translate(39.8,80.9) scale(5.60)\" xlink:href=\"#gpPt5\"/>\n",
       "\t<use color=\"rgb(255,   0,   0)\" transform=\"translate(60.0,150.5) scale(5.60)\" xlink:href=\"#gpPt5\"/>\n",
       "\t<use color=\"rgb(255,   0,   0)\" transform=\"translate(80.2,189.7) scale(5.60)\" xlink:href=\"#gpPt5\"/>\n",
       "\t<use color=\"rgb(255,   0,   0)\" transform=\"translate(100.3,195.0) scale(5.60)\" xlink:href=\"#gpPt5\"/>\n",
       "\t<use color=\"rgb(255,   0,   0)\" transform=\"translate(120.5,204.6) scale(5.60)\" xlink:href=\"#gpPt5\"/>\n",
       "\t<use color=\"rgb(255,   0,   0)\" transform=\"translate(140.7,249.5) scale(5.60)\" xlink:href=\"#gpPt5\"/>\n",
       "\t<use color=\"rgb(255,   0,   0)\" transform=\"translate(160.9,261.6) scale(5.60)\" xlink:href=\"#gpPt5\"/>\n",
       "\t<use color=\"rgb(255,   0,   0)\" transform=\"translate(181.1,247.2) scale(5.60)\" xlink:href=\"#gpPt5\"/>\n",
       "\t<use color=\"rgb(255,   0,   0)\" transform=\"translate(201.2,257.3) scale(5.60)\" xlink:href=\"#gpPt5\"/>\n",
       "\t<use color=\"rgb(255,   0,   0)\" transform=\"translate(221.4,230.3) scale(5.60)\" xlink:href=\"#gpPt5\"/>\n",
       "\t<use color=\"rgb(255,   0,   0)\" transform=\"translate(241.6,291.7) scale(5.60)\" xlink:href=\"#gpPt5\"/>\n",
       "\t<use color=\"rgb(255,   0,   0)\" transform=\"translate(261.8,275.4) scale(5.60)\" xlink:href=\"#gpPt5\"/>\n",
       "\t<use color=\"rgb(255,   0,   0)\" transform=\"translate(282.0,247.2) scale(5.60)\" xlink:href=\"#gpPt5\"/>\n",
       "\t<use color=\"rgb(255,   0,   0)\" transform=\"translate(302.1,135.6) scale(5.60)\" xlink:href=\"#gpPt5\"/>\n",
       "\t<use color=\"rgb(255,   0,   0)\" transform=\"translate(322.3,254.9) scale(5.60)\" xlink:href=\"#gpPt5\"/>\n",
       "\t<use color=\"rgb(255,   0,   0)\" transform=\"translate(342.5,262.6) scale(5.60)\" xlink:href=\"#gpPt5\"/>\n",
       "\t<use color=\"rgb(255,   0,   0)\" transform=\"translate(362.7,278.3) scale(5.60)\" xlink:href=\"#gpPt5\"/>\n",
       "\t<use color=\"rgb(255,   0,   0)\" transform=\"translate(382.9,275.4) scale(5.60)\" xlink:href=\"#gpPt5\"/>\n",
       "\t<use color=\"rgb(255,   0,   0)\" transform=\"translate(403.0,291.7) scale(5.60)\" xlink:href=\"#gpPt5\"/>\n",
       "\t<use color=\"rgb(255,   0,   0)\" transform=\"translate(423.2,291.7) scale(5.60)\" xlink:href=\"#gpPt5\"/>\n",
       "\t<use color=\"rgb(255,   0,   0)\" transform=\"translate(443.4,261.6) scale(5.60)\" xlink:href=\"#gpPt5\"/>\n",
       "\t<use color=\"rgb(255,   0,   0)\" transform=\"translate(463.6,236.4) scale(5.60)\" xlink:href=\"#gpPt5\"/>\n",
       "\t<use color=\"rgb(255,   0,   0)\" transform=\"translate(483.8,291.7) scale(5.60)\" xlink:href=\"#gpPt5\"/>\n",
       "\t<use color=\"rgb(255,   0,   0)\" transform=\"translate(503.9,282.3) scale(5.60)\" xlink:href=\"#gpPt5\"/>\n",
       "\t<use color=\"rgb(255,   0,   0)\" transform=\"translate(524.1,206.6) scale(5.60)\" xlink:href=\"#gpPt5\"/>\n",
       "\t<use color=\"rgb(255,   0,   0)\" transform=\"translate(544.3,260.4) scale(5.60)\" xlink:href=\"#gpPt5\"/>\n",
       "</g>\n",
       "\t</g>\n",
       "\t<g id=\"gnuplot_plot_2a\"><title>gnuplot_plot_2a</title>\n",
       "<g color=\"black\" fill=\"none\" stroke=\"currentColor\" stroke-linecap=\"butt\" stroke-linejoin=\"miter\" stroke-width=\"0.50\">\n",
       "\t<path d=\"M39.8,363.8 L544.3,363.8  \" stroke=\"rgb(  0,   0, 255)\"/></g>\n",
       "\t</g>\n",
       "<g color=\"#FFFFFF\" fill=\"none\" stroke=\"rgb(  0,   0, 255)\" stroke-linecap=\"butt\" stroke-linejoin=\"miter\" stroke-width=\"2.00\">\n",
       "</g>\n",
       "<g color=\"black\" fill=\"none\" stroke=\"currentColor\" stroke-linecap=\"butt\" stroke-linejoin=\"miter\" stroke-width=\"2.00\">\n",
       "</g>\n",
       "<g color=\"black\" fill=\"none\" stroke=\"black\" stroke-linecap=\"butt\" stroke-linejoin=\"miter\" stroke-width=\"0.50\">\n",
       "\t<path d=\"M39.8,384.2 L544.3,384.2 M39.8,39.0 L544.3,39.0 M39.8,384.2 L39.8,39.0 M544.3,384.2 L544.3,39.0    \" stroke=\"rgb( 38,  38,  38)\"/></g>\n",
       "<g color=\"black\" fill=\"none\" stroke=\"rgb( 38,  38,  38)\" stroke-linecap=\"butt\" stroke-linejoin=\"miter\" stroke-width=\"1.00\">\n",
       "</g>\n",
       "<g color=\"black\" fill=\"none\" stroke=\"currentColor\" stroke-linecap=\"butt\" stroke-linejoin=\"miter\" stroke-width=\"1.00\">\n",
       "</g>\n",
       "</g>\n",
       "</svg>"
      ],
      "text/plain": [
       "<IPython.core.display.SVG object>"
      ]
     },
     "metadata": {},
     "output_type": "display_data"
    }
   ],
   "source": [
    "plot([tableCPUTimeAndNIndividuals5To30(:,1)], [tableCPUTimeAndNIndividuals5To30(:,2)], 'o-r');\n",
    "title (\"Number of individuals per generation vs optimal distance using genetic algorithm\");\n",
    "xlabel (\"Number of individuals per generation\");\n",
    "ylabel (\"Optimal distance [m]\");\n",
    "hold on;\n",
    "plot([min(tableCPUTimeAndNIndividuals5To30(:,1)),max(tableCPUTimeAndNIndividuals5To30(:,1))],[optimalDistanceNIndividuals,optimalDistanceNIndividuals], 'b')\n",
    "hold off;"
   ]
  }
 ],
 "metadata": {
  "kernelspec": {
   "display_name": "Octave",
   "language": "octave",
   "name": "octave"
  },
  "language_info": {
   "file_extension": ".m",
   "help_links": [
    {
     "text": "GNU Octave",
     "url": "https://www.gnu.org/software/octave/support.html"
    },
    {
     "text": "Octave Kernel",
     "url": "https://github.com/Calysto/octave_kernel"
    },
    {
     "text": "MetaKernel Magics",
     "url": "https://github.com/calysto/metakernel/blob/master/metakernel/magics/README.md"
    }
   ],
   "mimetype": "text/x-octave",
   "name": "octave",
   "version": "4.4.1"
  }
 },
 "nbformat": 4,
 "nbformat_minor": 2
}
