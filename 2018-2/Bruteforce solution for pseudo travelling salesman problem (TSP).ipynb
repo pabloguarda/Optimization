{
 "cells": [
  {
   "cell_type": "markdown",
   "metadata": {},
   "source": [
    "# 1) Solution of TSP for bruteforce"
   ]
  },
  {
   "cell_type": "markdown",
   "metadata": {},
   "source": [
    "## Number of cities to be visited"
   ]
  },
  {
   "cell_type": "code",
   "execution_count": 1,
   "metadata": {},
   "outputs": [
    {
     "name": "stdout",
     "output_type": "stream",
     "text": [
      "n =  5\n"
     ]
    }
   ],
   "source": [
    "n = 5"
   ]
  },
  {
   "cell_type": "markdown",
   "metadata": {},
   "source": [
    "## Matrix of distances between cities with random numbers"
   ]
  },
  {
   "cell_type": "code",
   "execution_count": 2,
   "metadata": {},
   "outputs": [
    {
     "name": "stdout",
     "output_type": "stream",
     "text": [
      "d =\n",
      "\n",
      "    0.00000   43.11184    4.61484   90.76704   75.43258\n",
      "   50.84193    0.00000   79.64758   67.01511   37.55950\n",
      "    1.09052   64.96905    0.00000   71.19517   83.14043\n",
      "    2.08458   99.64595   75.99679    0.00000   70.55284\n",
      "   34.55292   91.19330   57.76397   24.70533    0.00000\n",
      "\n"
     ]
    }
   ],
   "source": [
    "function d = distanceMatrixCities(n)\n",
    "\n",
    "    d = 100*rand(n);\n",
    "\n",
    "    ## Fill diagonal with zeros\n",
    "    i = 1;\n",
    "    while(i<=n)\n",
    "        d(i,i) = 0;\n",
    "        i++;\n",
    "    end\n",
    "\n",
    "end\n",
    "\n",
    "d = distanceMatrixCities(n)"
   ]
  },
  {
   "cell_type": "markdown",
   "metadata": {},
   "source": [
    "## Possible sequences of visited cities (e.g. 1,2,3,4,5 and 1,3,2,4,5)"
   ]
  },
  {
   "cell_type": "code",
   "execution_count": 3,
   "metadata": {},
   "outputs": [],
   "source": [
    "p = perms([1:n]);"
   ]
  },
  {
   "cell_type": "code",
   "execution_count": 4,
   "metadata": {},
   "outputs": [
    {
     "name": "stdout",
     "output_type": "stream",
     "text": [
      "ans =\n",
      "\n",
      "   120     5\n",
      "\n"
     ]
    }
   ],
   "source": [
    "size(p)"
   ]
  },
  {
   "cell_type": "markdown",
   "metadata": {},
   "source": [
    "## Total travelled distance in each sequence of cities"
   ]
  },
  {
   "cell_type": "code",
   "execution_count": 5,
   "metadata": {},
   "outputs": [],
   "source": [
    "function daccs = distanceCalculation(cities,d)\n",
    "\n",
    "    daccs = zeros([size(cities)(1),size(cities)(2)+1]);\n",
    "\n",
    "    for i = 1:(size(cities)(1))\n",
    "        dacc = 0;\n",
    "        \n",
    "        for j = 1:(size(cities)(2)-1)\n",
    "            dacc += d(cities(i,j),cities(i,j+1));\n",
    "        end\n",
    "        \n",
    "        daccs(i,:) = [cities(i,:),dacc];\n",
    "    \n",
    "    end\n",
    "end"
   ]
  },
  {
   "cell_type": "code",
   "execution_count": 6,
   "metadata": {},
   "outputs": [
    {
     "name": "stdout",
     "output_type": "stream",
     "text": [
      "daccs =\n",
      "\n",
      "     5.0000     4.0000     3.0000     2.0000     1.0000   216.5131\n",
      "     5.0000     4.0000     3.0000     1.0000     2.0000   144.9045\n",
      "     5.0000     4.0000     2.0000     3.0000     1.0000   205.0894\n",
      "     5.0000     4.0000     2.0000     1.0000     3.0000   179.8080\n",
      "     5.0000     4.0000     1.0000     3.0000     2.0000    96.3738\n",
      "     5.0000     4.0000     1.0000     2.0000     3.0000   149.5493\n",
      "     5.0000     3.0000     4.0000     2.0000     1.0000   279.4470\n",
      "     5.0000     3.0000     4.0000     1.0000     2.0000   174.1556\n",
      "     5.0000     3.0000     2.0000     4.0000     1.0000   191.8327\n",
      "     5.0000     3.0000     2.0000     1.0000     4.0000   264.3420\n",
      "     5.0000     3.0000     1.0000     4.0000     2.0000   249.2675\n",
      "     5.0000     3.0000     1.0000     2.0000     4.0000   168.9814\n",
      "     5.0000     2.0000     4.0000     3.0000     1.0000   235.2957\n",
      "     5.0000     2.0000     4.0000     1.0000     3.0000   164.9078\n",
      "     5.0000     2.0000     3.0000     4.0000     1.0000   244.1206\n",
      "     5.0000     2.0000     3.0000     1.0000     4.0000   262.6984\n",
      "     5.0000     2.0000     1.0000     4.0000     3.0000   308.7991\n",
      "     5.0000     2.0000     1.0000     3.0000     4.0000   217.8452\n",
      "     5.0000     1.0000     4.0000     3.0000     2.0000   266.2858\n",
      "     5.0000     1.0000     4.0000     2.0000     3.0000   304.6135\n",
      "     5.0000     1.0000     3.0000     4.0000     2.0000   210.0089\n",
      "     5.0000     1.0000     3.0000     2.0000     4.0000   171.1519\n",
      "     5.0000     1.0000     2.0000     4.0000     3.0000   220.6767\n",
      "     5.0000     1.0000     2.0000     3.0000     4.0000   228.5075\n",
      "     4.0000     5.0000     3.0000     2.0000     1.0000   244.1278\n",
      "     4.0000     5.0000     3.0000     1.0000     2.0000   172.5192\n",
      "     4.0000     5.0000     2.0000     3.0000     1.0000   242.4842\n",
      "     4.0000     5.0000     2.0000     1.0000     3.0000   217.2029\n",
      "     4.0000     5.0000     1.0000     3.0000     2.0000   174.6897\n",
      "     4.0000     5.0000     1.0000     2.0000     3.0000   227.8652\n",
      "     4.0000     3.0000     5.0000     2.0000     1.0000   301.1724\n",
      "     4.0000     3.0000     5.0000     1.0000     2.0000   236.8020\n",
      "     4.0000     3.0000     2.0000     5.0000     1.0000   213.0783\n",
      "     4.0000     3.0000     2.0000     1.0000     5.0000   267.2403\n",
      "     4.0000     3.0000     1.0000     5.0000     2.0000   243.7132\n",
      "     4.0000     3.0000     1.0000     2.0000     5.0000   157.7586\n",
      "     4.0000     2.0000     5.0000     3.0000     1.0000   196.0599\n",
      "     4.0000     2.0000     5.0000     1.0000     3.0000   176.3732\n",
      "     4.0000     2.0000     3.0000     5.0000     1.0000   296.9869\n",
      "     4.0000     2.0000     3.0000     1.0000     5.0000   255.8166\n",
      "     4.0000     2.0000     1.0000     5.0000     3.0000   283.6844\n",
      "     4.0000     2.0000     1.0000     3.0000     5.0000   238.2431\n",
      "     4.0000     1.0000     5.0000     3.0000     2.0000   200.2502\n",
      "     4.0000     1.0000     5.0000     2.0000     3.0000   248.3580\n",
      "     4.0000     1.0000     3.0000     5.0000     2.0000   181.0331\n",
      "     4.0000     1.0000     3.0000     2.0000     5.0000   109.2280\n",
      "     4.0000     1.0000     2.0000     5.0000     3.0000   140.5199\n",
      "     4.0000     1.0000     2.0000     3.0000     5.0000   207.9844\n",
      "     3.0000     5.0000     4.0000     2.0000     1.0000   258.3336\n",
      "     3.0000     5.0000     4.0000     1.0000     2.0000   153.0422\n",
      "     3.0000     5.0000     2.0000     4.0000     1.0000   243.4334\n",
      "     3.0000     5.0000     2.0000     1.0000     4.0000   315.9427\n",
      "     3.0000     5.0000     1.0000     4.0000     2.0000   308.1063\n",
      "     3.0000     5.0000     1.0000     2.0000     4.0000   227.8203\n",
      "     3.0000     4.0000     5.0000     2.0000     1.0000   283.7832\n",
      "     3.0000     4.0000     5.0000     1.0000     2.0000   219.4128\n",
      "     3.0000     4.0000     2.0000     5.0000     1.0000   242.9535\n",
      "     3.0000     4.0000     2.0000     1.0000     5.0000   297.1156\n",
      "     3.0000     4.0000     1.0000     5.0000     2.0000   239.9056\n",
      "     3.0000     4.0000     1.0000     2.0000     5.0000   153.9511\n",
      "     3.0000     2.0000     5.0000     4.0000     1.0000   129.3185\n",
      "     3.0000     2.0000     5.0000     1.0000     4.0000   227.8485\n",
      "     3.0000     2.0000     4.0000     5.0000     1.0000   237.0899\n",
      "     3.0000     2.0000     4.0000     1.0000     5.0000   209.5013\n",
      "     3.0000     2.0000     1.0000     5.0000     4.0000   215.9489\n",
      "     3.0000     2.0000     1.0000     4.0000     5.0000   277.1309\n",
      "     3.0000     1.0000     5.0000     4.0000     2.0000   200.8744\n",
      "     3.0000     1.0000     5.0000     2.0000     4.0000   234.7315\n",
      "     3.0000     1.0000     4.0000     5.0000     2.0000   253.6037\n",
      "     3.0000     1.0000     4.0000     2.0000     5.0000   229.0630\n",
      "     3.0000     1.0000     2.0000     5.0000     4.0000   106.4672\n",
      "     3.0000     1.0000     2.0000     4.0000     5.0000   181.7703\n",
      "     2.0000     5.0000     4.0000     3.0000     1.0000   139.3521\n",
      "     2.0000     5.0000     4.0000     1.0000     3.0000    68.9642\n",
      "     2.0000     5.0000     3.0000     4.0000     1.0000   168.6032\n",
      "     2.0000     5.0000     3.0000     1.0000     4.0000   187.1810\n",
      "     2.0000     5.0000     1.0000     4.0000     3.0000   238.8762\n",
      "     2.0000     5.0000     1.0000     3.0000     4.0000   147.9224\n",
      "     2.0000     4.0000     5.0000     3.0000     1.0000   196.4224\n",
      "     2.0000     4.0000     5.0000     1.0000     3.0000   176.7357\n",
      "     2.0000     4.0000     3.0000     5.0000     1.0000   260.7053\n",
      "     2.0000     4.0000     3.0000     1.0000     5.0000   219.5350\n",
      "     2.0000     4.0000     1.0000     5.0000     3.0000   202.2962\n",
      "     2.0000     4.0000     1.0000     3.0000     5.0000   156.8550\n",
      "     2.0000     3.0000     5.0000     4.0000     1.0000   189.5779\n",
      "     2.0000     3.0000     5.0000     1.0000     4.0000   288.1080\n",
      "     2.0000     3.0000     4.0000     5.0000     1.0000   255.9485\n",
      "     2.0000     3.0000     4.0000     1.0000     5.0000   228.3599\n",
      "     2.0000     3.0000     1.0000     5.0000     4.0000   180.8760\n",
      "     2.0000     3.0000     1.0000     4.0000     5.0000   242.0580\n",
      "     2.0000     1.0000     5.0000     4.0000     3.0000   226.9766\n",
      "     2.0000     1.0000     5.0000     3.0000     4.0000   255.2336\n",
      "     2.0000     1.0000     4.0000     5.0000     3.0000   269.9258\n",
      "     2.0000     1.0000     4.0000     3.0000     5.0000   300.7462\n",
      "     2.0000     1.0000     3.0000     5.0000     4.0000   163.3025\n",
      "     2.0000     1.0000     3.0000     4.0000     5.0000   197.2048\n",
      "     1.0000     5.0000     4.0000     3.0000     2.0000   241.1037\n",
      "     1.0000     5.0000     4.0000     2.0000     3.0000   279.4314\n",
      "     1.0000     5.0000     3.0000     4.0000     2.0000   304.0377\n",
      "     1.0000     5.0000     3.0000     2.0000     4.0000   265.1807\n",
      "     1.0000     5.0000     2.0000     4.0000     3.0000   309.6378\n",
      "     1.0000     5.0000     2.0000     3.0000     4.0000   317.4686\n",
      "     1.0000     4.0000     5.0000     3.0000     2.0000   284.0529\n",
      "     1.0000     4.0000     5.0000     2.0000     3.0000   332.1608\n",
      "     1.0000     4.0000     3.0000     5.0000     2.0000   341.0976\n",
      "     1.0000     4.0000     3.0000     2.0000     5.0000   269.2924\n",
      "     1.0000     4.0000     2.0000     5.0000     3.0000   285.7365\n",
      "     1.0000     4.0000     2.0000     3.0000     5.0000   353.2010\n",
      "     1.0000     3.0000     5.0000     4.0000     2.0000   212.1066\n",
      "     1.0000     3.0000     5.0000     2.0000     4.0000   245.9637\n",
      "     1.0000     3.0000     4.0000     5.0000     2.0000   237.5562\n",
      "     1.0000     3.0000     4.0000     2.0000     5.0000   213.0155\n",
      "     1.0000     3.0000     2.0000     5.0000     4.0000   131.8487\n",
      "     1.0000     3.0000     2.0000     4.0000     5.0000   207.1518\n",
      "     1.0000     2.0000     5.0000     4.0000     3.0000   181.3735\n",
      "     1.0000     2.0000     5.0000     3.0000     4.0000   209.6305\n",
      "     1.0000     2.0000     4.0000     5.0000     3.0000   238.4438\n",
      "     1.0000     2.0000     4.0000     3.0000     5.0000   269.2642\n",
      "     1.0000     2.0000     3.0000     5.0000     4.0000   230.6052\n",
      "     1.0000     2.0000     3.0000     4.0000     5.0000   264.5074\n",
      "\n"
     ]
    }
   ],
   "source": [
    "daccs = distanceCalculation(cities = p, d = d)"
   ]
  },
  {
   "cell_type": "markdown",
   "metadata": {},
   "source": [
    "## Sequence of cities with the minimum total distance (optimal solution)"
   ]
  },
  {
   "cell_type": "markdown",
   "metadata": {},
   "source": [
    "### Function that returns the index of the sequence of cities with the minimim total distance"
   ]
  },
  {
   "cell_type": "code",
   "execution_count": 7,
   "metadata": {},
   "outputs": [],
   "source": [
    "function minS = minimumTotalDistance(daccs,nCities)\n",
    "\n",
    "    minD = min(daccs(:,nCities+1));\n",
    "    minS = 1;\n",
    "\n",
    "    for i = 1:size(daccs)(1)\n",
    "        if(daccs(i,size(daccs)(2))==minD)\n",
    "            minS = i;\n",
    "        end\n",
    "    end\n",
    "\n",
    "end"
   ]
  },
  {
   "cell_type": "code",
   "execution_count": 8,
   "metadata": {},
   "outputs": [
    {
     "name": "stdout",
     "output_type": "stream",
     "text": [
      "minS =  74\n"
     ]
    }
   ],
   "source": [
    "minS = minimumTotalDistance(daccs,nCities = n)"
   ]
  },
  {
   "cell_type": "code",
   "execution_count": 9,
   "metadata": {},
   "outputs": [
    {
     "name": "stdout",
     "output_type": "stream",
     "text": [
      "Sequence of cities: 2 5 4 1 3 \n",
      "Minimum distance: 68.9642 \n"
     ]
    }
   ],
   "source": [
    "fprintf('Sequence of cities: %s\\n',sprintf('%d ', daccs(minS,1:size(daccs)(2)-1)))\n",
    "fprintf('Minimum distance: %s\\n',sprintf('%d ', daccs(minS,size(daccs)(2))))"
   ]
  },
  {
   "cell_type": "markdown",
   "metadata": {},
   "source": [
    "# 2) Function that solve the TSP for any number of cities"
   ]
  },
  {
   "cell_type": "code",
   "execution_count": 10,
   "metadata": {},
   "outputs": [],
   "source": [
    "function [n,minSeq,minDist,cpuTime] = TSP(nCities)\n",
    "\n",
    "    n = nCities;\n",
    "    d = distanceMatrixCities(n);\n",
    "    t=cputime;\n",
    "\n",
    "    p = perms([1:n]);\n",
    "\n",
    "    daccs = distanceCalculation(cities = p, d = d);\n",
    "\n",
    "    minS = minimumTotalDistance(daccs,nCities = nCities)\n",
    "\n",
    "    minSeq = daccs(minS,1:(size(daccs)(2)-1));\n",
    "    minDist = daccs(minS,size(daccs)(2));\n",
    "    cpuTime = cputime-t;\n",
    "\n",
    "\n",
    "end"
   ]
  },
  {
   "cell_type": "markdown",
   "metadata": {},
   "source": [
    "## Function to print results"
   ]
  },
  {
   "cell_type": "code",
   "execution_count": 11,
   "metadata": {},
   "outputs": [],
   "source": [
    "function printResults(n,minSeq,minDist,cpuTime)\n",
    "\n",
    "    fprintf('Number of cities: %s\\n',sprintf('%d ',n))\n",
    "    fprintf('Sequence of cities: %s\\n',sprintf('%d ',minSeq))\n",
    "    fprintf('Minimum distance: %s\\n',sprintf('%d ', minDist))\n",
    "    printf('Total cpu time: %f seconds\\n', cpuTime)\n",
    "\n",
    "end"
   ]
  },
  {
   "cell_type": "markdown",
   "metadata": {},
   "source": [
    "## Executing our algorithm to solve the TSP for 4,5,6,7 and 8 cities"
   ]
  },
  {
   "cell_type": "markdown",
   "metadata": {},
   "source": [
    "### 4 Cities"
   ]
  },
  {
   "cell_type": "code",
   "execution_count": 12,
   "metadata": {},
   "outputs": [
    {
     "name": "stdout",
     "output_type": "stream",
     "text": [
      "minS =  17\n",
      "Number of cities: 4 \n",
      "Sequence of cities: 2 1 4 3 \n",
      "Minimum distance: 61.5821 \n",
      "Total cpu time: 0.005321 seconds\n"
     ]
    }
   ],
   "source": [
    "[a1,a2,a3,a4] = TSP(nCities = 4); printResults(a1,a2,a3,a4)"
   ]
  },
  {
   "cell_type": "markdown",
   "metadata": {},
   "source": [
    "### 5 Cities"
   ]
  },
  {
   "cell_type": "code",
   "execution_count": 13,
   "metadata": {},
   "outputs": [
    {
     "name": "stdout",
     "output_type": "stream",
     "text": [
      "minS =  36\n",
      "Number of cities: 5 \n",
      "Sequence of cities: 4 3 1 2 5 \n",
      "Minimum distance: 48.1142 \n",
      "Total cpu time: 0.034815 seconds\n"
     ]
    }
   ],
   "source": [
    "[a1,a2,a3,a4] = TSP(nCities = 5); printResults(a1,a2,a3,a4)"
   ]
  },
  {
   "cell_type": "markdown",
   "metadata": {},
   "source": [
    "### 6 Cities"
   ]
  },
  {
   "cell_type": "code",
   "execution_count": 14,
   "metadata": {},
   "outputs": [
    {
     "name": "stdout",
     "output_type": "stream",
     "text": [
      "minS =  418\n",
      "Number of cities: 6 \n",
      "Sequence of cities: 3 4 5 2 1 6 \n",
      "Minimum distance: 63.2349 \n",
      "Total cpu time: 0.224787 seconds\n"
     ]
    }
   ],
   "source": [
    "[a1,a2,a3,a4] = TSP(nCities = 6); printResults(a1,a2,a3,a4)"
   ]
  },
  {
   "cell_type": "markdown",
   "metadata": {},
   "source": [
    "### 7 Cities"
   ]
  },
  {
   "cell_type": "code",
   "execution_count": 15,
   "metadata": {},
   "outputs": [
    {
     "name": "stdout",
     "output_type": "stream",
     "text": [
      "minS =  4911\n",
      "Number of cities: 7 \n",
      "Sequence of cities: 1 3 2 5 6 7 4 \n",
      "Minimum distance: 64.0281 \n",
      "Total cpu time: 1.257286 seconds\n"
     ]
    }
   ],
   "source": [
    "[a1,a2,a3,a4] = TSP(nCities = 7); printResults(a1,a2,a3,a4)"
   ]
  },
  {
   "cell_type": "markdown",
   "metadata": {},
   "source": [
    "### 8 Cities"
   ]
  },
  {
   "cell_type": "code",
   "execution_count": 16,
   "metadata": {},
   "outputs": [
    {
     "name": "stdout",
     "output_type": "stream",
     "text": [
      "minS =  39969\n",
      "Number of cities: 8 \n",
      "Sequence of cities: 1 2 5 8 6 4 7 3 \n",
      "Minimum distance: 105.967 \n",
      "Total cpu time: 10.893293 seconds\n"
     ]
    }
   ],
   "source": [
    "[a1,a2,a3,a4] = TSP(nCities = 8); printResults(a1,a2,a3,a4)"
   ]
  },
  {
   "cell_type": "markdown",
   "metadata": {},
   "source": [
    "## Visualization of the growth of computational time as the number of cities increase"
   ]
  },
  {
   "cell_type": "code",
   "execution_count": 17,
   "metadata": {},
   "outputs": [],
   "source": [
    "function CPUTimeAndCities = plotNCitiesCPUTime(minNCities,maxNCities)\n",
    "\n",
    "    CPUTimeAndCities = zeros(maxNCities-minNCities+1,2);\n",
    "\n",
    "    count = 1;\n",
    "        \n",
    "    for i = minNCities:maxNCities;\n",
    "\n",
    "        [nCities,minSeq,minDist,cpuTime] = TSP(nCities = i);\n",
    "        CPUTimeAndCities(count,1) = nCities;\n",
    "        CPUTimeAndCities(count,2) = cpuTime;\n",
    "        count++;\n",
    "\n",
    "    end\n",
    "\n",
    "end"
   ]
  },
  {
   "cell_type": "code",
   "execution_count": 18,
   "metadata": {},
   "outputs": [
    {
     "name": "stdout",
     "output_type": "stream",
     "text": [
      "minS =  2\n",
      "minS =  4\n",
      "minS =  10\n",
      "minS =  41\n",
      "minS =  138\n",
      "minS =  2771\n",
      "minS =  31290\n",
      "CPUTimeAndCities28 =\n",
      "\n",
      "    2.0000000    0.0016250\n",
      "    3.0000000    0.0031740\n",
      "    4.0000000    0.0073260\n",
      "    5.0000000    0.0338140\n",
      "    6.0000000    0.1595690\n",
      "    7.0000000    1.1476430\n",
      "    8.0000000   10.4086610\n",
      "\n"
     ]
    }
   ],
   "source": [
    "CPUTimeAndCities28 = plotNCitiesCPUTime(minNCities=2,maxNCities=8)"
   ]
  },
  {
   "cell_type": "code",
   "execution_count": 19,
   "metadata": {},
   "outputs": [
    {
     "data": {
      "image/svg+xml": [
       "<svg height=\"420px\" viewBox=\"0 0 560 420\" width=\"560px\" xmlns=\"http://www.w3.org/2000/svg\" xmlns:xlink=\"http://www.w3.org/1999/xlink\">\n",
       "\n",
       "<title>Gnuplot</title>\n",
       "<desc>Produced by GNUPLOT 5.2 patchlevel 5 </desc>\n",
       "\n",
       "<g id=\"gnuplot_canvas\">\n",
       "\n",
       "<rect fill=\"#ffffff\" height=\"420\" width=\"560\" x=\"0\" y=\"0\"/>\n",
       "<defs>\n",
       "\n",
       "\t<circle id=\"gpDot\" r=\"0.5\" stroke=\"currentColor\" stroke-width=\"0.5\"/>\n",
       "\t<path d=\"M-1,0 h2 M0,-1 v2\" id=\"gpPt0\" stroke=\"currentColor\" stroke-width=\"0.357\"/>\n",
       "\t<path d=\"M-1,-1 L1,1 M1,-1 L-1,1\" id=\"gpPt1\" stroke=\"currentColor\" stroke-width=\"0.357\"/>\n",
       "\t<path d=\"M-1,0 L1,0 M0,-1 L0,1 M-1,-1 L1,1 M-1,1 L1,-1\" id=\"gpPt2\" stroke=\"currentColor\" stroke-width=\"0.357\"/>\n",
       "\t<rect height=\"2\" id=\"gpPt3\" stroke=\"currentColor\" stroke-width=\"0.357\" width=\"2\" x=\"-1\" y=\"-1\"/>\n",
       "\t<rect fill=\"currentColor\" height=\"2\" id=\"gpPt4\" stroke=\"currentColor\" stroke-width=\"0.357\" width=\"2\" x=\"-1\" y=\"-1\"/>\n",
       "\t<circle cx=\"0\" cy=\"0\" id=\"gpPt5\" r=\"1\" stroke=\"currentColor\" stroke-width=\"0.357\"/>\n",
       "\t<use fill=\"currentColor\" id=\"gpPt6\" stroke=\"none\" xlink:href=\"#gpPt5\"/>\n",
       "\t<path d=\"M0,-1.33 L-1.33,0.67 L1.33,0.67 z\" id=\"gpPt7\" stroke=\"currentColor\" stroke-width=\"0.357\"/>\n",
       "\t<use fill=\"currentColor\" id=\"gpPt8\" stroke=\"none\" xlink:href=\"#gpPt7\"/>\n",
       "\t<use id=\"gpPt9\" stroke=\"currentColor\" transform=\"rotate(180)\" xlink:href=\"#gpPt7\"/>\n",
       "\t<use fill=\"currentColor\" id=\"gpPt10\" stroke=\"none\" xlink:href=\"#gpPt9\"/>\n",
       "\t<use id=\"gpPt11\" stroke=\"currentColor\" transform=\"rotate(45)\" xlink:href=\"#gpPt3\"/>\n",
       "\t<use fill=\"currentColor\" id=\"gpPt12\" stroke=\"none\" xlink:href=\"#gpPt11\"/>\n",
       "\t<path d=\"M0,1.330 L1.265,0.411 L0.782,-1.067 L-0.782,-1.076 L-1.265,0.411 z\" id=\"gpPt13\" stroke=\"currentColor\" stroke-width=\"0.357\"/>\n",
       "\t<use fill=\"currentColor\" id=\"gpPt14\" stroke=\"none\" xlink:href=\"#gpPt13\"/>\n",
       "\t<filter filterUnits=\"objectBoundingBox\" height=\"1\" id=\"textbox\" width=\"1\" x=\"0\" y=\"0\">\n",
       "\t  <feFlood flood-color=\"#FFFFFF\" flood-opacity=\"1\" result=\"bgnd\"/>\n",
       "\t  <feComposite in=\"SourceGraphic\" in2=\"bgnd\" operator=\"atop\"/>\n",
       "\t</filter>\n",
       "\t<filter filterUnits=\"objectBoundingBox\" height=\"1\" id=\"greybox\" width=\"1\" x=\"0\" y=\"0\">\n",
       "\t  <feFlood flood-color=\"lightgrey\" flood-opacity=\"1\" result=\"grey\"/>\n",
       "\t  <feComposite in=\"SourceGraphic\" in2=\"grey\" operator=\"atop\"/>\n",
       "\t</filter>\n",
       "</defs>\n",
       "<g color=\"#FFFFFF\" fill=\"none\" stroke=\"currentColor\" stroke-linecap=\"butt\" stroke-linejoin=\"miter\" stroke-width=\"1.00\">\n",
       "</g>\n",
       "<g color=\"black\" fill=\"none\" stroke=\"currentColor\" stroke-linecap=\"butt\" stroke-linejoin=\"miter\" stroke-width=\"1.00\">\n",
       "\t<g shape-rendering=\"crispEdges\" stroke=\"none\">\n",
       "\t\t<polygon fill=\"rgb(255, 255, 255)\" points=\"34.6,384.2 544.2,384.2 544.2,39.1 34.6,39.1 \"/>\n",
       "\t</g>\n",
       "</g>\n",
       "<g color=\"black\" fill=\"none\" stroke=\"currentColor\" stroke-linecap=\"butt\" stroke-linejoin=\"miter\" stroke-width=\"1.00\">\n",
       "\t<path d=\"M34.6,384.2 L42.4,384.2 M544.3,384.2 L536.5,384.2  \" stroke=\"rgb(  0,   0,   0)\"/>\t<g fill=\"rgb(38,38,38)\" font-family=\"Arial\" font-size=\"10.00\" stroke=\"none\" text-anchor=\"end\" transform=\"translate(29.4,387.5)\">\n",
       "\t\t<text><tspan font-family=\"Arial\">0</tspan></text>\n",
       "\t</g>\n",
       "</g>\n",
       "<g color=\"black\" fill=\"none\" stroke=\"currentColor\" stroke-linecap=\"butt\" stroke-linejoin=\"miter\" stroke-width=\"1.00\">\n",
       "\t<path d=\"M34.6,326.7 L42.4,326.7 M544.3,326.7 L536.5,326.7  \" stroke=\"rgb(  0,   0,   0)\"/>\t<g fill=\"rgb(38,38,38)\" font-family=\"Arial\" font-size=\"10.00\" stroke=\"none\" text-anchor=\"end\" transform=\"translate(29.4,330.0)\">\n",
       "\t\t<text><tspan font-family=\"Arial\">2</tspan></text>\n",
       "\t</g>\n",
       "</g>\n",
       "<g color=\"black\" fill=\"none\" stroke=\"currentColor\" stroke-linecap=\"butt\" stroke-linejoin=\"miter\" stroke-width=\"1.00\">\n",
       "\t<path d=\"M34.6,269.1 L42.4,269.1 M544.3,269.1 L536.5,269.1  \" stroke=\"rgb(  0,   0,   0)\"/>\t<g fill=\"rgb(38,38,38)\" font-family=\"Arial\" font-size=\"10.00\" stroke=\"none\" text-anchor=\"end\" transform=\"translate(29.4,272.4)\">\n",
       "\t\t<text><tspan font-family=\"Arial\">4</tspan></text>\n",
       "\t</g>\n",
       "</g>\n",
       "<g color=\"black\" fill=\"none\" stroke=\"currentColor\" stroke-linecap=\"butt\" stroke-linejoin=\"miter\" stroke-width=\"1.00\">\n",
       "\t<path d=\"M34.6,211.6 L42.4,211.6 M544.3,211.6 L536.5,211.6  \" stroke=\"rgb(  0,   0,   0)\"/>\t<g fill=\"rgb(38,38,38)\" font-family=\"Arial\" font-size=\"10.00\" stroke=\"none\" text-anchor=\"end\" transform=\"translate(29.4,214.9)\">\n",
       "\t\t<text><tspan font-family=\"Arial\">6</tspan></text>\n",
       "\t</g>\n",
       "</g>\n",
       "<g color=\"black\" fill=\"none\" stroke=\"currentColor\" stroke-linecap=\"butt\" stroke-linejoin=\"miter\" stroke-width=\"1.00\">\n",
       "\t<path d=\"M34.6,154.1 L42.4,154.1 M544.3,154.1 L536.5,154.1  \" stroke=\"rgb(  0,   0,   0)\"/>\t<g fill=\"rgb(38,38,38)\" font-family=\"Arial\" font-size=\"10.00\" stroke=\"none\" text-anchor=\"end\" transform=\"translate(29.4,157.4)\">\n",
       "\t\t<text><tspan font-family=\"Arial\">8</tspan></text>\n",
       "\t</g>\n",
       "</g>\n",
       "<g color=\"black\" fill=\"none\" stroke=\"currentColor\" stroke-linecap=\"butt\" stroke-linejoin=\"miter\" stroke-width=\"1.00\">\n",
       "\t<path d=\"M34.6,96.5 L42.4,96.5 M544.3,96.5 L536.5,96.5  \" stroke=\"rgb(  0,   0,   0)\"/>\t<g fill=\"rgb(38,38,38)\" font-family=\"Arial\" font-size=\"10.00\" stroke=\"none\" text-anchor=\"end\" transform=\"translate(29.4,99.8)\">\n",
       "\t\t<text><tspan font-family=\"Arial\">10</tspan></text>\n",
       "\t</g>\n",
       "</g>\n",
       "<g color=\"black\" fill=\"none\" stroke=\"currentColor\" stroke-linecap=\"butt\" stroke-linejoin=\"miter\" stroke-width=\"1.00\">\n",
       "\t<path d=\"M34.6,39.0 L42.4,39.0 M544.3,39.0 L536.5,39.0  \" stroke=\"rgb(  0,   0,   0)\"/>\t<g fill=\"rgb(38,38,38)\" font-family=\"Arial\" font-size=\"10.00\" stroke=\"none\" text-anchor=\"end\" transform=\"translate(29.4,42.3)\">\n",
       "\t\t<text><tspan font-family=\"Arial\">12</tspan></text>\n",
       "\t</g>\n",
       "</g>\n",
       "<g color=\"black\" fill=\"none\" stroke=\"currentColor\" stroke-linecap=\"butt\" stroke-linejoin=\"miter\" stroke-width=\"1.00\">\n",
       "\t<path d=\"M34.6,384.2 L34.6,376.4 M34.6,39.0 L34.6,46.8  \" stroke=\"rgb(  0,   0,   0)\"/>\t<g fill=\"rgb(38,38,38)\" font-family=\"Arial\" font-size=\"10.00\" stroke=\"none\" text-anchor=\"middle\" transform=\"translate(34.6,398.7)\">\n",
       "\t\t<text><tspan font-family=\"Arial\">2</tspan></text>\n",
       "\t</g>\n",
       "</g>\n",
       "<g color=\"black\" fill=\"none\" stroke=\"currentColor\" stroke-linecap=\"butt\" stroke-linejoin=\"miter\" stroke-width=\"1.00\">\n",
       "\t<path d=\"M119.6,384.2 L119.6,376.4 M119.6,39.0 L119.6,46.8  \" stroke=\"rgb(  0,   0,   0)\"/>\t<g fill=\"rgb(38,38,38)\" font-family=\"Arial\" font-size=\"10.00\" stroke=\"none\" text-anchor=\"middle\" transform=\"translate(119.6,398.7)\">\n",
       "\t\t<text><tspan font-family=\"Arial\">3</tspan></text>\n",
       "\t</g>\n",
       "</g>\n",
       "<g color=\"black\" fill=\"none\" stroke=\"currentColor\" stroke-linecap=\"butt\" stroke-linejoin=\"miter\" stroke-width=\"1.00\">\n",
       "\t<path d=\"M204.5,384.2 L204.5,376.4 M204.5,39.0 L204.5,46.8  \" stroke=\"rgb(  0,   0,   0)\"/>\t<g fill=\"rgb(38,38,38)\" font-family=\"Arial\" font-size=\"10.00\" stroke=\"none\" text-anchor=\"middle\" transform=\"translate(204.5,398.7)\">\n",
       "\t\t<text><tspan font-family=\"Arial\">4</tspan></text>\n",
       "\t</g>\n",
       "</g>\n",
       "<g color=\"black\" fill=\"none\" stroke=\"currentColor\" stroke-linecap=\"butt\" stroke-linejoin=\"miter\" stroke-width=\"1.00\">\n",
       "\t<path d=\"M289.5,384.2 L289.5,376.4 M289.5,39.0 L289.5,46.8  \" stroke=\"rgb(  0,   0,   0)\"/>\t<g fill=\"rgb(38,38,38)\" font-family=\"Arial\" font-size=\"10.00\" stroke=\"none\" text-anchor=\"middle\" transform=\"translate(289.5,398.7)\">\n",
       "\t\t<text><tspan font-family=\"Arial\">5</tspan></text>\n",
       "\t</g>\n",
       "</g>\n",
       "<g color=\"black\" fill=\"none\" stroke=\"currentColor\" stroke-linecap=\"butt\" stroke-linejoin=\"miter\" stroke-width=\"1.00\">\n",
       "\t<path d=\"M374.4,384.2 L374.4,376.4 M374.4,39.0 L374.4,46.8  \" stroke=\"rgb(  0,   0,   0)\"/>\t<g fill=\"rgb(38,38,38)\" font-family=\"Arial\" font-size=\"10.00\" stroke=\"none\" text-anchor=\"middle\" transform=\"translate(374.4,398.7)\">\n",
       "\t\t<text><tspan font-family=\"Arial\">6</tspan></text>\n",
       "\t</g>\n",
       "</g>\n",
       "<g color=\"black\" fill=\"none\" stroke=\"currentColor\" stroke-linecap=\"butt\" stroke-linejoin=\"miter\" stroke-width=\"1.00\">\n",
       "\t<path d=\"M459.4,384.2 L459.4,376.4 M459.4,39.0 L459.4,46.8  \" stroke=\"rgb(  0,   0,   0)\"/>\t<g fill=\"rgb(38,38,38)\" font-family=\"Arial\" font-size=\"10.00\" stroke=\"none\" text-anchor=\"middle\" transform=\"translate(459.4,398.7)\">\n",
       "\t\t<text><tspan font-family=\"Arial\">7</tspan></text>\n",
       "\t</g>\n",
       "</g>\n",
       "<g color=\"black\" fill=\"none\" stroke=\"currentColor\" stroke-linecap=\"butt\" stroke-linejoin=\"miter\" stroke-width=\"1.00\">\n",
       "\t<path d=\"M544.3,384.2 L544.3,376.4 M544.3,39.0 L544.3,46.8  \" stroke=\"rgb(  0,   0,   0)\"/>\t<g fill=\"rgb(38,38,38)\" font-family=\"Arial\" font-size=\"10.00\" stroke=\"none\" text-anchor=\"middle\" transform=\"translate(544.3,398.7)\">\n",
       "\t\t<text><tspan font-family=\"Arial\">8</tspan></text>\n",
       "\t</g>\n",
       "</g>\n",
       "<g color=\"black\" fill=\"none\" stroke=\"currentColor\" stroke-linecap=\"butt\" stroke-linejoin=\"miter\" stroke-width=\"1.00\">\n",
       "</g>\n",
       "<g color=\"black\" fill=\"none\" stroke=\"currentColor\" stroke-linecap=\"butt\" stroke-linejoin=\"miter\" stroke-width=\"1.00\">\n",
       "\t<g fill=\"rgb(38,38,38)\" font-family=\"Arial\" font-size=\"11.00\" stroke=\"none\" text-anchor=\"middle\" transform=\"translate(11.3,211.6) rotate(-90)\">\n",
       "\t\t<text><tspan font-family=\"Arial\">Computational time (seconds)</tspan></text>\n",
       "\t</g>\n",
       "</g>\n",
       "<g color=\"black\" fill=\"none\" stroke=\"currentColor\" stroke-linecap=\"butt\" stroke-linejoin=\"miter\" stroke-width=\"1.00\">\n",
       "\t<g fill=\"rgb(38,38,38)\" font-family=\"Arial\" font-size=\"11.00\" stroke=\"none\" text-anchor=\"middle\" transform=\"translate(289.4,415.8)\">\n",
       "\t\t<text><tspan font-family=\"Arial\">Number of cities</tspan></text>\n",
       "\t</g>\n",
       "</g>\n",
       "<g color=\"black\" fill=\"none\" stroke=\"currentColor\" stroke-linecap=\"butt\" stroke-linejoin=\"miter\" stroke-width=\"1.00\">\n",
       "\t<g fill=\"rgb(0,0,0)\" font-family=\":Bold\" font-size=\"11.00\" stroke=\"none\" text-anchor=\"middle\" transform=\"translate(289.4,20.5)\">\n",
       "\t\t<text><tspan font-family=\"\" font-weight=\"bold\">Computational time and number of cities in TSP</tspan></text>\n",
       "\t</g>\n",
       "</g>\n",
       "<g color=\"black\" fill=\"none\" stroke=\"currentColor\" stroke-linecap=\"butt\" stroke-linejoin=\"miter\" stroke-width=\"1.00\">\n",
       "</g>\n",
       "\t<g id=\"gnuplot_plot_1a\"><title>gnuplot_plot_1a</title>\n",
       "<g color=\"#FFFFFF\" fill=\"none\" stroke=\"currentColor\" stroke-linecap=\"butt\" stroke-linejoin=\"miter\" stroke-width=\"0.50\">\n",
       "</g>\n",
       "<g color=\"black\" fill=\"none\" stroke=\"currentColor\" stroke-linecap=\"butt\" stroke-linejoin=\"miter\" stroke-width=\"0.50\">\n",
       "\t<path d=\"M34.6,384.2 L119.6,384.1 L204.5,384.0 L289.5,383.2 L374.4,379.6 L459.4,351.2 L544.3,84.8  \" stroke=\"rgb(255,   0,   0)\"/>\t<use color=\"rgb(255,   0,   0)\" transform=\"translate(34.6,384.2) scale(5.60)\" xlink:href=\"#gpPt5\"/>\n",
       "\t<use color=\"rgb(255,   0,   0)\" transform=\"translate(119.6,384.1) scale(5.60)\" xlink:href=\"#gpPt5\"/>\n",
       "\t<use color=\"rgb(255,   0,   0)\" transform=\"translate(204.5,384.0) scale(5.60)\" xlink:href=\"#gpPt5\"/>\n",
       "\t<use color=\"rgb(255,   0,   0)\" transform=\"translate(289.5,383.2) scale(5.60)\" xlink:href=\"#gpPt5\"/>\n",
       "\t<use color=\"rgb(255,   0,   0)\" transform=\"translate(374.4,379.6) scale(5.60)\" xlink:href=\"#gpPt5\"/>\n",
       "\t<use color=\"rgb(255,   0,   0)\" transform=\"translate(459.4,351.2) scale(5.60)\" xlink:href=\"#gpPt5\"/>\n",
       "\t<use color=\"rgb(255,   0,   0)\" transform=\"translate(544.3,84.8) scale(5.60)\" xlink:href=\"#gpPt5\"/>\n",
       "</g>\n",
       "\t</g>\n",
       "<g color=\"#FFFFFF\" fill=\"none\" stroke=\"rgb(255,   0,   0)\" stroke-linecap=\"butt\" stroke-linejoin=\"miter\" stroke-width=\"2.00\">\n",
       "</g>\n",
       "<g color=\"black\" fill=\"none\" stroke=\"currentColor\" stroke-linecap=\"butt\" stroke-linejoin=\"miter\" stroke-width=\"2.00\">\n",
       "</g>\n",
       "<g color=\"black\" fill=\"none\" stroke=\"black\" stroke-linecap=\"butt\" stroke-linejoin=\"miter\" stroke-width=\"0.50\">\n",
       "\t<path d=\"M34.6,384.2 L544.3,384.2 M34.6,39.0 L544.3,39.0 M34.6,384.2 L34.6,39.0 M544.3,384.2 L544.3,39.0    \" stroke=\"rgb( 38,  38,  38)\"/></g>\n",
       "<g color=\"black\" fill=\"none\" stroke=\"rgb( 38,  38,  38)\" stroke-linecap=\"butt\" stroke-linejoin=\"miter\" stroke-width=\"1.00\">\n",
       "</g>\n",
       "<g color=\"black\" fill=\"none\" stroke=\"currentColor\" stroke-linecap=\"butt\" stroke-linejoin=\"miter\" stroke-width=\"1.00\">\n",
       "</g>\n",
       "</g>\n",
       "</svg>"
      ],
      "text/plain": [
       "<IPython.core.display.SVG object>"
      ]
     },
     "metadata": {},
     "output_type": "display_data"
    }
   ],
   "source": [
    "plot([CPUTimeAndCities28(:,1)], [CPUTimeAndCities28(:,2)], 'o-r');\n",
    "title (\"Computational time and number of cities in TSP\");\n",
    "xlabel (\"Number of cities\");\n",
    "ylabel (\"Computational time (seconds)\");"
   ]
  }
 ],
 "metadata": {
  "kernelspec": {
   "display_name": "Octave",
   "language": "octave",
   "name": "octave"
  },
  "language_info": {
   "file_extension": ".m",
   "help_links": [
    {
     "text": "GNU Octave",
     "url": "https://www.gnu.org/software/octave/support.html"
    },
    {
     "text": "Octave Kernel",
     "url": "https://github.com/Calysto/octave_kernel"
    },
    {
     "text": "MetaKernel Magics",
     "url": "https://github.com/calysto/metakernel/blob/master/metakernel/magics/README.md"
    }
   ],
   "mimetype": "text/x-octave",
   "name": "octave",
   "version": "4.4.1"
  }
 },
 "nbformat": 4,
 "nbformat_minor": 2
}
