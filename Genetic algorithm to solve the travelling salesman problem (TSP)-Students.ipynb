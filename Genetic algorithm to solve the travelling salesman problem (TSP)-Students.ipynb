{
 "cells": [
  {
   "cell_type": "markdown",
   "metadata": {},
   "source": [
    "# 1) Solving the travelling salesman problem (TSP) for 7 cities"
   ]
  },
  {
   "cell_type": "markdown",
   "metadata": {},
   "source": [
    "### Number of cities"
   ]
  },
  {
   "cell_type": "code",
   "execution_count": 29,
   "metadata": {},
   "outputs": [
    {
     "name": "stdout",
     "output_type": "stream",
     "text": [
      "n =  8\n"
     ]
    }
   ],
   "source": [
    "n = 8"
   ]
  },
  {
   "cell_type": "markdown",
   "metadata": {},
   "source": [
    "### Distance between cities"
   ]
  },
  {
   "cell_type": "code",
   "execution_count": 30,
   "metadata": {},
   "outputs": [
    {
     "name": "stdout",
     "output_type": "stream",
     "text": [
      "d =\n",
      "\n",
      " Columns 1 through 7:\n",
      "\n",
      "    0.00000    8.03862   18.96848   46.87270   26.53700   76.87115   47.35662\n",
      "   51.47378    0.00000   74.45442   73.04837   60.08525   11.13604   42.56520\n",
      "   23.17845   96.09046    0.00000   17.57102   49.71593   34.44920   76.23499\n",
      "   93.62938   51.53094   25.75255    0.00000   44.92049   82.84342   21.10356\n",
      "   86.46162   53.45992   12.62885   64.12093    0.00000   96.66680    3.25191\n",
      "   74.49604   91.17947   63.15880   41.16031   84.01228    0.00000   46.29793\n",
      "   41.86304   75.90639   68.22059   75.81477   66.99906   70.43244    0.00000\n",
      "   16.56123   84.20755   92.24162   16.38301   97.13923    2.97020   13.85813\n",
      "\n",
      " Column 8:\n",
      "\n",
      "   51.49975\n",
      "   32.99680\n",
      "   56.66234\n",
      "   25.72297\n",
      "   22.68413\n",
      "   31.69100\n",
      "   67.78059\n",
      "    0.00000\n",
      "\n"
     ]
    }
   ],
   "source": [
    "function d = distanceMatrixCities(n)\n",
    "\n",
    "    d = 100*rand(n);\n",
    "\n",
    "    ## Fill diagonal with zeros\n",
    "    i = 1;\n",
    "    \n",
    "    while(i<=n)\n",
    "        d(i,i) = 0;\n",
    "        i++;\n",
    "    end\n",
    "    \n",
    "end\n",
    "\n",
    "d = distanceMatrixCities(n)"
   ]
  },
  {
   "cell_type": "markdown",
   "metadata": {},
   "source": [
    "## a) Initial population"
   ]
  },
  {
   "cell_type": "markdown",
   "metadata": {},
   "source": [
    "### Population"
   ]
  },
  {
   "cell_type": "code",
   "execution_count": 31,
   "metadata": {},
   "outputs": [],
   "source": [
    "pop = perms([1:n]);"
   ]
  },
  {
   "cell_type": "code",
   "execution_count": 32,
   "metadata": {},
   "outputs": [
    {
     "name": "stdout",
     "output_type": "stream",
     "text": [
      "ans =  40320\n"
     ]
    }
   ],
   "source": [
    "size(pop)(1)"
   ]
  },
  {
   "cell_type": "code",
   "execution_count": 33,
   "metadata": {},
   "outputs": [],
   "source": [
    "totalPop = pop;"
   ]
  },
  {
   "cell_type": "markdown",
   "metadata": {},
   "source": [
    "### Size of the initial population for the genetic algorithm"
   ]
  },
  {
   "cell_type": "code",
   "execution_count": 34,
   "metadata": {},
   "outputs": [
    {
     "name": "stdout",
     "output_type": "stream",
     "text": [
      "sizeSubPop =  10\n"
     ]
    }
   ],
   "source": [
    "sizeSubPop = 10 "
   ]
  },
  {
   "cell_type": "markdown",
   "metadata": {},
   "source": [
    "### Pick individuals from the total population randomly to create a generation"
   ]
  },
  {
   "cell_type": "code",
   "execution_count": 35,
   "metadata": {},
   "outputs": [
    {
     "name": "stdout",
     "output_type": "stream",
     "text": [
      "generation0 =\n",
      "\n",
      "   1   2   4   8   7   5   6   3\n",
      "   7   1   4   2   6   3   5   8\n",
      "   3   4   1   2   5   7   8   6\n",
      "   2   7   6   4   3   8   1   5\n",
      "   8   4   2   7   1   6   3   5\n",
      "   6   7   3   1   8   5   4   2\n",
      "   2   5   4   8   6   3   1   7\n",
      "   7   2   4   3   8   6   5   1\n",
      "   5   1   3   6   4   8   7   2\n",
      "   4   6   5   2   8   3   7   1\n",
      "\n"
     ]
    }
   ],
   "source": [
    "function subPop = createSubPopulation(totalPop,sizeSubPop)\n",
    "\n",
    "    subPop = totalPop(randi(size(totalPop)(1),sizeSubPop,1),:);\n",
    "\n",
    "end\n",
    "\n",
    "generation0 = createSubPopulation(totalPop,sizeSubPop)\n"
   ]
  },
  {
   "cell_type": "markdown",
   "metadata": {},
   "source": [
    "## b) Fitness calculation"
   ]
  },
  {
   "cell_type": "markdown",
   "metadata": {},
   "source": [
    "### Total distance for all possible sequence of cities"
   ]
  },
  {
   "cell_type": "code",
   "execution_count": 36,
   "metadata": {},
   "outputs": [],
   "source": [
    "function individuals = distanceCalculation(pop,d)\n",
    "    \n",
    "    daccs = zeros([size(pop)(1),size(pop)(2)+1]);\n",
    "\n",
    "        for i = 1:(size(pop)(1))\n",
    "            dacc = 0;\n",
    "\n",
    "            for j = 1:(size(pop)(2)-1)\n",
    "                dacc += d(pop(i,j),pop(i,j+1));\n",
    "            end\n",
    "\n",
    "            daccs(i,:) = [pop(i,:),dacc];\n",
    "            \n",
    "        end\n",
    "    \n",
    "    individuals{1} = pop;\n",
    "    individuals{2} = daccs(:,size(daccs)(2));\n",
    "\n",
    "end\n",
    "\n"
   ]
  },
  {
   "cell_type": "code",
   "execution_count": 37,
   "metadata": {},
   "outputs": [
    {
     "name": "stdout",
     "output_type": "stream",
     "text": [
      "generation0 =\n",
      "{\n",
      "  [1,1] =\n",
      "\n",
      "     1   2   4   8   7   5   6   3\n",
      "     7   1   4   2   6   3   5   8\n",
      "     3   4   1   2   5   7   8   6\n",
      "     2   7   6   4   3   8   1   5\n",
      "     8   4   2   7   1   6   3   5\n",
      "     6   7   3   1   8   5   4   2\n",
      "     2   5   4   8   6   3   1   7\n",
      "     7   2   4   3   8   6   5   1\n",
      "     5   1   3   6   4   8   7   2\n",
      "     4   6   5   2   8   3   7   1\n",
      "\n",
      "  [1,2] =\n",
      "\n",
      "     347.49\n",
      "     286.96\n",
      "     253.33\n",
      "     279.67\n",
      "     342.09\n",
      "     401.99\n",
      "     286.59\n",
      "     404.81\n",
      "     296.53\n",
      "     463.65\n",
      "\n",
      "}\n",
      "\n"
     ]
    }
   ],
   "source": [
    "## The first position of the array has the sequence of cities and the second position the total distance between cities\n",
    "generation0 = distanceCalculation(pop = generation0,d = d)"
   ]
  },
  {
   "cell_type": "markdown",
   "metadata": {},
   "source": [
    "### Fitness function"
   ]
  },
  {
   "cell_type": "code",
   "execution_count": 38,
   "metadata": {},
   "outputs": [],
   "source": [
    "function individuals = fitness(individuals)\n",
    "\n",
    "    individuals{3} = individuals{2};\n",
    "\n",
    "    for i=1:size(individuals{1})(1)\n",
    "\n",
    "        individuals{3}(i,1) = 1/individuals{2}(i);\n",
    "\n",
    "    end \n",
    "\n",
    "end"
   ]
  },
  {
   "cell_type": "code",
   "execution_count": 39,
   "metadata": {},
   "outputs": [
    {
     "name": "stdout",
     "output_type": "stream",
     "text": [
      "generation0 =\n",
      "{\n",
      "  [1,1] =\n",
      "\n",
      "     1   2   4   8   7   5   6   3\n",
      "     7   1   4   2   6   3   5   8\n",
      "     3   4   1   2   5   7   8   6\n",
      "     2   7   6   4   3   8   1   5\n",
      "     8   4   2   7   1   6   3   5\n",
      "     6   7   3   1   8   5   4   2\n",
      "     2   5   4   8   6   3   1   7\n",
      "     7   2   4   3   8   6   5   1\n",
      "     5   1   3   6   4   8   7   2\n",
      "     4   6   5   2   8   3   7   1\n",
      "\n",
      "  [1,2] =\n",
      "\n",
      "     347.49\n",
      "     286.96\n",
      "     253.33\n",
      "     279.67\n",
      "     342.09\n",
      "     401.99\n",
      "     286.59\n",
      "     404.81\n",
      "     296.53\n",
      "     463.65\n",
      "\n",
      "  [1,3] =\n",
      "\n",
      "     0.0028778\n",
      "     0.0034848\n",
      "     0.0039475\n",
      "     0.0035756\n",
      "     0.0029232\n",
      "     0.0024876\n",
      "     0.0034893\n",
      "     0.0024703\n",
      "     0.0033724\n",
      "     0.0021568\n",
      "\n",
      "}\n",
      "\n"
     ]
    }
   ],
   "source": [
    "#The third position of the array includes the fitness of each individual\n",
    "generation0 = fitness(generation0)"
   ]
  },
  {
   "cell_type": "markdown",
   "metadata": {},
   "source": [
    "## c) Choosing parents to create the next generation of individuals"
   ]
  },
  {
   "cell_type": "code",
   "execution_count": 40,
   "metadata": {},
   "outputs": [],
   "source": [
    "function [individuals,parents] = chooseParents(individuals)\n",
    "\n",
    "    individuals{4} = individuals{3};\n",
    "\n",
    "    individualsCopy = individuals;\n",
    "\n",
    "    #probParent = individuals{3}/sum(individuals{3})\n",
    "\n",
    "    #First best-fitted individual\n",
    "\n",
    "    [maxVal1,maxIndex1] = max(individuals{3});\n",
    "\n",
    "    #Second best-fitted individual\n",
    "    individualsCopy{3}(maxIndex1) = -1*individualsCopy{3}(maxIndex1);\n",
    "    [maxVal2,maxIndex2] = max(individualsCopy{3});\n",
    "\n",
    "    #Create a column with binary variables that takes the value 1 if the individual is parent or zero, otherwise. \n",
    "    individuals{4}=zeros(size(individuals{1})(1),1);\n",
    "\n",
    "    individuals{4}(maxIndex1) = 1;\n",
    "    individuals{4}(maxIndex2) = 1;\n",
    "\n",
    "end"
   ]
  },
  {
   "cell_type": "code",
   "execution_count": 41,
   "metadata": {},
   "outputs": [
    {
     "name": "stdout",
     "output_type": "stream",
     "text": [
      "ans =\n",
      "{\n",
      "  [1,1] =\n",
      "\n",
      "     1   2   4   8   7   5   6   3\n",
      "     7   1   4   2   6   3   5   8\n",
      "     3   4   1   2   5   7   8   6\n",
      "     2   7   6   4   3   8   1   5\n",
      "     8   4   2   7   1   6   3   5\n",
      "     6   7   3   1   8   5   4   2\n",
      "     2   5   4   8   6   3   1   7\n",
      "     7   2   4   3   8   6   5   1\n",
      "     5   1   3   6   4   8   7   2\n",
      "     4   6   5   2   8   3   7   1\n",
      "\n",
      "  [1,2] =\n",
      "\n",
      "     347.49\n",
      "     286.96\n",
      "     253.33\n",
      "     279.67\n",
      "     342.09\n",
      "     401.99\n",
      "     286.59\n",
      "     404.81\n",
      "     296.53\n",
      "     463.65\n",
      "\n",
      "  [1,3] =\n",
      "\n",
      "     0.0028778\n",
      "     0.0034848\n",
      "     0.0039475\n",
      "     0.0035756\n",
      "     0.0029232\n",
      "     0.0024876\n",
      "     0.0034893\n",
      "     0.0024703\n",
      "     0.0033724\n",
      "     0.0021568\n",
      "\n",
      "  [1,4] =\n",
      "\n",
      "     0\n",
      "     0\n",
      "     1\n",
      "     1\n",
      "     0\n",
      "     0\n",
      "     0\n",
      "     0\n",
      "     0\n",
      "     0\n",
      "\n",
      "}\n",
      "\n"
     ]
    }
   ],
   "source": [
    "#The fourth position of the array shows which individuals were selected as parents\n",
    "chooseParents(generation0)"
   ]
  },
  {
   "cell_type": "code",
   "execution_count": 42,
   "metadata": {},
   "outputs": [],
   "source": [
    "function parents = createParents(individuals)\n",
    "\n",
    "individuals = chooseParents(individuals);\n",
    "\n",
    "parents = {:};\n",
    "\n",
    "count = 1;\n",
    "\n",
    "for i = 1:size(individuals{4})(1)\n",
    "\n",
    "    if individuals{4}(i) == 1\n",
    "\n",
    "    parents{1}(count,:) = individuals{1}(i,:);\n",
    "    parents{2}(count,:) = individuals{2}(i,:);\n",
    "    parents{3}(count,:) = individuals{3}(i,:);\n",
    "    \n",
    "    count++;\n",
    "\n",
    "    end\n",
    "\n",
    "end\n",
    "\n",
    "\n",
    "end"
   ]
  },
  {
   "cell_type": "code",
   "execution_count": 43,
   "metadata": {},
   "outputs": [
    {
     "name": "stdout",
     "output_type": "stream",
     "text": [
      "parentsG0 =\n",
      "{\n",
      "  [1,1] =\n",
      "\n",
      "     3   4   1   2   5   7   8   6\n",
      "     2   7   6   4   3   8   1   5\n",
      "\n",
      "  [1,2] =\n",
      "\n",
      "     253.33\n",
      "     279.67\n",
      "\n",
      "  [1,3] =\n",
      "\n",
      "     0.0039475\n",
      "     0.0035756\n",
      "\n",
      "}\n",
      "\n"
     ]
    }
   ],
   "source": [
    "#This array includes information on the parents selected from generation 0 (1: sequence of cities, 2: total distance, 3: fitness)\n",
    "parentsG0 = createParents(generation0)"
   ]
  },
  {
   "cell_type": "markdown",
   "metadata": {},
   "source": [
    "## d) Crossover"
   ]
  },
  {
   "cell_type": "markdown",
   "metadata": {},
   "source": [
    "### Check if a gene (city) exist in a chromosome (sequence of cities)"
   ]
  },
  {
   "cell_type": "code",
   "execution_count": 44,
   "metadata": {},
   "outputs": [],
   "source": [
    "function geneExist = containGene(child,gene)\n",
    "\n",
    "    geneExist = false;\n",
    "\n",
    "    for i=1:length(child)\n",
    "\n",
    "        if child(i) == gene\n",
    "\n",
    "            geneExist = true;\n",
    "\n",
    "        end\n",
    "\n",
    "    end\n",
    "\n",
    "end"
   ]
  },
  {
   "cell_type": "markdown",
   "metadata": {},
   "source": [
    "### Crossover between the two parents"
   ]
  },
  {
   "cell_type": "code",
   "execution_count": 45,
   "metadata": {},
   "outputs": [],
   "source": [
    "function child = crossover(parents)\n",
    "\n",
    "\n",
    "    nParents = size(parents{1})(1);\n",
    "    chromosomeSize = size(parents{1})(2);\n",
    "\n",
    "    %Select a random crossover point\n",
    "    indexCO = randi([2,chromosomeSize],1,1);\n",
    "\n",
    "    %Select the parent (parentChromosome1) that is used to start the crossover\n",
    "    parentCO = randi(nParents,1,1);\n",
    "    chromosomeParent1 = parents{1}(parentCO,:);\n",
    "    chromosomeParent2 = parents{1}(1,:);\n",
    "\n",
    "    if parentCO == 1\n",
    "        chromosomeParent2 = parents{1}(2,:);\n",
    "    end\n",
    "\n",
    "    child = chromosomeParent1;\n",
    "\n",
    "    #Genes from parent 1\n",
    "    for i=1:length(child)\n",
    "\n",
    "        if i < indexCO\n",
    "            child(i) = 0;\n",
    "        end\n",
    "\n",
    "    end\n",
    "\n",
    "    #Genes from parent 2\n",
    "    genePosition = 1;\n",
    "    for i=1:(indexCO-1)\n",
    "\n",
    "        implant = false;\n",
    "\n",
    "        while implant == false \n",
    "            geneExist = containGene(child,chromosomeParent2(genePosition));\n",
    "\n",
    "            if geneExist == true\n",
    "                genePosition++;\n",
    "                implant = false;\n",
    "\n",
    "            else\n",
    "                child(i) = chromosomeParent2(genePosition);\n",
    "                implant = true;\n",
    "                genePosition++;\n",
    "            end\n",
    "\n",
    "        end\n",
    "\n",
    "    end\n",
    "    \n",
    "end"
   ]
  },
  {
   "cell_type": "code",
   "execution_count": 46,
   "metadata": {},
   "outputs": [
    {
     "name": "stdout",
     "output_type": "stream",
     "text": [
      "childG0 =\n",
      "\n",
      "   4   3   1   2   5   7   8   6\n",
      "\n"
     ]
    }
   ],
   "source": [
    "childG0 = crossover(parentsG0)"
   ]
  },
  {
   "cell_type": "markdown",
   "metadata": {},
   "source": [
    "## e) Mutation"
   ]
  },
  {
   "cell_type": "code",
   "execution_count": 47,
   "metadata": {},
   "outputs": [],
   "source": [
    "function child = mutation(child, pm)\n",
    "    \n",
    "    childCopy = child;\n",
    "    chromosomeSize = length(child);\n",
    "\n",
    "    %Select two random mutation points\n",
    "    indexM1 = randi([1,chromosomeSize],1,1);\n",
    "    indexM2 = randi([1,chromosomeSize],1,1);\n",
    "    \n",
    "    %Mutation is done with a 'pm'% chance\n",
    "    mutationProbThreshold = rand(1);\n",
    "    \n",
    "    if mutationProbThreshold <= pm\n",
    "    \n",
    "        childCopy(indexM1) = child(indexM2);\n",
    "        childCopy(indexM2) = child(indexM1);\n",
    "        \n",
    "    end\n",
    "    \n",
    "    child = childCopy;\n",
    "\n",
    "end"
   ]
  },
  {
   "cell_type": "code",
   "execution_count": 48,
   "metadata": {},
   "outputs": [
    {
     "name": "stdout",
     "output_type": "stream",
     "text": [
      "childG0 =\n",
      "\n",
      "   4   3   1   2   5   7   8   6\n",
      "\n",
      "childG0 =\n",
      "\n",
      "   4   3   1   2   5   7   8   6\n",
      "\n"
     ]
    }
   ],
   "source": [
    "childG0\n",
    "childG0 = mutation(childG0, pm = 0.5) # Mutation with a 50% probability"
   ]
  },
  {
   "cell_type": "markdown",
   "metadata": {},
   "source": [
    "## f) Next Generation  (replacement)"
   ]
  },
  {
   "cell_type": "markdown",
   "metadata": {},
   "source": [
    "### Size of the next generation "
   ]
  },
  {
   "cell_type": "code",
   "execution_count": 49,
   "metadata": {},
   "outputs": [
    {
     "name": "stdout",
     "output_type": "stream",
     "text": [
      "sizeGeneration =  10\n"
     ]
    }
   ],
   "source": [
    "sizeGeneration = 1*size(generation0{1})(1)"
   ]
  },
  {
   "cell_type": "markdown",
   "metadata": {},
   "source": [
    "### Check if the child exists in a generation"
   ]
  },
  {
   "cell_type": "code",
   "execution_count": 50,
   "metadata": {},
   "outputs": [],
   "source": [
    "function childExist = containChild(child,children)\n",
    "    \n",
    "    childExist = false;\n",
    "    \n",
    "    for i=1:size(children)(1)\n",
    "    \n",
    "        counterEqualGenes = 0;\n",
    "        \n",
    "        for j= 1:length(children(i,:))\n",
    "        \n",
    "            if children(i,:)(j) == child(j)\n",
    "                counterEqualGenes++;\n",
    "            end\n",
    "     \n",
    "        end\n",
    "        \n",
    "        if counterEqualGenes == length(child)\n",
    "            childExist = true;\n",
    "        end\n",
    "\n",
    "\n",
    "    end\n",
    "\n",
    "end"
   ]
  },
  {
   "cell_type": "markdown",
   "metadata": {},
   "source": [
    "### Function to create the next generations of individuals"
   ]
  },
  {
   "cell_type": "code",
   "execution_count": 51,
   "metadata": {},
   "outputs": [],
   "source": [
    "function generations = createNewGeneration(nGenerations,sizeGeneration,individuals,d,pm)\n",
    "    \n",
    "    \n",
    "    #This process is iteratively repeated for each generation\n",
    "    generations = {:};\n",
    "    \n",
    "    t=cputime;\n",
    "    \n",
    "    for i=1:nGenerations      \n",
    "        \n",
    "        \n",
    "        \n",
    "        individuals = distanceCalculation(individuals{1},d);\n",
    "\n",
    "        individuals = fitness(individuals);\n",
    "\n",
    "        parents = createParents(individuals);\n",
    "\n",
    "        child = crossover(parents);\n",
    "\n",
    "        child = mutation(child,pm);\n",
    "        \n",
    "        if i == 1\n",
    "            \n",
    "            #Information about the new generation\n",
    "            individuals(4) = min(individuals{2});\n",
    "            individuals{5} = cputime-t;\n",
    "            generations{i} = individuals;\n",
    "            \n",
    "        end\n",
    "               \n",
    "        if i > 1\n",
    "        \n",
    "            #This process is repeated until reaching the number of individuals in a generation\n",
    "            newGeneration = {:};\n",
    "        \n",
    "            %newGeneration{2} = zeros(sizeGeneration,length(child));\n",
    "\n",
    "            newGeneration{1}(1,:) = child;\n",
    "\n",
    "            for j=1:sizeGeneration\n",
    "\n",
    "                 newChild = mutation(crossover(parents),pm);\n",
    "\n",
    "                 #Children are all different\n",
    "                 while(containChild(child = newChild, children = newGeneration{1}))\n",
    "\n",
    "                     newChild = mutation(crossover(parents),pm);\n",
    "\n",
    "                 end\n",
    "\n",
    "                 newGeneration{1}(j,:) = newChild;\n",
    "\n",
    "            end\n",
    "\n",
    "            #Information about the new generation\n",
    "            individuals  = distanceCalculation(newGeneration{1},d);\n",
    "            individuals = fitness(individuals);\n",
    "            individuals(4) = min(individuals{2});\n",
    "            individuals{5} = cputime-t;\n",
    "            generations{i} = individuals;\n",
    "        \n",
    "        end\n",
    "        \n",
    "\n",
    "        \n",
    "\n",
    "\n",
    "        \n",
    "    end\n",
    "\n",
    "end"
   ]
  },
  {
   "cell_type": "markdown",
   "metadata": {},
   "source": [
    "# 2) Analyses"
   ]
  },
  {
   "cell_type": "markdown",
   "metadata": {},
   "source": [
    "## Initial generation"
   ]
  },
  {
   "cell_type": "code",
   "execution_count": 52,
   "metadata": {},
   "outputs": [
    {
     "name": "stdout",
     "output_type": "stream",
     "text": [
      "ans =\n",
      "{\n",
      "  [1,1] =\n",
      "  {\n",
      "    [1,1] =\n",
      "\n",
      "       1   2   4   8   7   5   6   3\n",
      "       7   1   4   2   6   3   5   8\n",
      "       3   4   1   2   5   7   8   6\n",
      "       2   7   6   4   3   8   1   5\n",
      "       8   4   2   7   1   6   3   5\n",
      "       6   7   3   1   8   5   4   2\n",
      "       2   5   4   8   6   3   1   7\n",
      "       7   2   4   3   8   6   5   1\n",
      "       5   1   3   6   4   8   7   2\n",
      "       4   6   5   2   8   3   7   1\n",
      "\n",
      "    [1,2] =\n",
      "\n",
      "       347.49\n",
      "       286.96\n",
      "       253.33\n",
      "       279.67\n",
      "       342.09\n",
      "       401.99\n",
      "       286.59\n",
      "       404.81\n",
      "       296.53\n",
      "       463.65\n",
      "\n",
      "    [1,3] =\n",
      "\n",
      "       0.0028778\n",
      "       0.0034848\n",
      "       0.0039475\n",
      "       0.0035756\n",
      "       0.0029232\n",
      "       0.0024876\n",
      "       0.0034893\n",
      "       0.0024703\n",
      "       0.0033724\n",
      "       0.0021568\n",
      "\n",
      "    [1,4] =  253.33\n",
      "    [1,5] =  0.0062550\n",
      "  }\n",
      "\n",
      "}\n",
      "\n"
     ]
    }
   ],
   "source": [
    "createNewGeneration(nGenerations = 1, sizeGeneration = sizeGeneration,individuals = generation0, d = d, pm = 0.2)"
   ]
  },
  {
   "cell_type": "code",
   "execution_count": null,
   "metadata": {},
   "outputs": [],
   "source": []
  },
  {
   "cell_type": "markdown",
   "metadata": {},
   "source": [
    "## First generation"
   ]
  },
  {
   "cell_type": "code",
   "execution_count": 53,
   "metadata": {},
   "outputs": [],
   "source": [
    "generation01 = createNewGeneration(nGenerations = 2, sizeGeneration = sizeGeneration,individuals = generation0, d = d, pm = 0.2);"
   ]
  },
  {
   "cell_type": "code",
   "execution_count": 54,
   "metadata": {},
   "outputs": [
    {
     "name": "stdout",
     "output_type": "stream",
     "text": [
      "ans =\n",
      "{\n",
      "  [1,1] =\n",
      "\n",
      "     3   4   2   7   6   8   1   5\n",
      "     2   7   6   4   3   8   1   5\n",
      "     4   2   7   6   3   8   1   5\n",
      "     4   3   1   2   5   7   8   6\n",
      "     3   4   2   7   8   6   1   5\n",
      "     3   4   1   2   5   7   8   6\n",
      "     3   4   1   2   7   8   6   5\n",
      "     1   7   4   3   2   5   8   6\n",
      "     3   7   6   4   2   8   1   5\n",
      "     2   7   4   3   8   1   5   6\n",
      "\n",
      "  [1,2] =\n",
      "\n",
      "     256.89\n",
      "     279.67\n",
      "     327.45\n",
      "     191.06\n",
      "     283.45\n",
      "     253.33\n",
      "     316.57\n",
      "     330.75\n",
      "     315.45\n",
      "     340.56\n",
      "\n",
      "  [1,3] =\n",
      "\n",
      "     0.0038927\n",
      "     0.0035756\n",
      "     0.0030539\n",
      "     0.0052340\n",
      "     0.0035279\n",
      "     0.0039475\n",
      "     0.0031589\n",
      "     0.0030234\n",
      "     0.0031700\n",
      "     0.0029363\n",
      "\n",
      "  [1,4] =  191.06\n",
      "  [1,5] =  0.080918\n",
      "}\n",
      "\n"
     ]
    }
   ],
   "source": [
    "generation01{2}"
   ]
  },
  {
   "cell_type": "markdown",
   "metadata": {},
   "source": [
    "## Second generation"
   ]
  },
  {
   "cell_type": "code",
   "execution_count": 55,
   "metadata": {},
   "outputs": [],
   "source": [
    "generation12 = createNewGeneration(nGenerations = 2, sizeGeneration = sizeGeneration,individuals = generation01{2}, d = d, pm = 0.8);"
   ]
  },
  {
   "cell_type": "code",
   "execution_count": 56,
   "metadata": {},
   "outputs": [
    {
     "name": "stdout",
     "output_type": "stream",
     "text": [
      "ans =\n",
      "{\n",
      "  [1,1] =\n",
      "\n",
      "     4   3   1   2   5   7   8   6\n",
      "     3   4   1   2   5   6   8   7\n",
      "     2   4   1   3   5   7   8   6\n",
      "     3   4   1   2   5   7   8   6\n",
      "     4   3   1   2   8   7   5   6\n",
      "     3   4   7   2   5   1   8   6\n",
      "     4   3   8   2   5   7   1   6\n",
      "     8   3   1   2   5   7   4   6\n",
      "     3   4   8   2   5   7   1   6\n",
      "     4   3   1   7   5   2   8   6\n",
      "\n",
      "  [1,2] =\n",
      "\n",
      "     191.06\n",
      "     321.54\n",
      "     309.36\n",
      "     253.33\n",
      "     267.49\n",
      "     315.60\n",
      "     348.69\n",
      "     345.45\n",
      "     309.57\n",
      "     252.71\n",
      "\n",
      "  [1,3] =\n",
      "\n",
      "     0.0052340\n",
      "     0.0031100\n",
      "     0.0032324\n",
      "     0.0039475\n",
      "     0.0037385\n",
      "     0.0031686\n",
      "     0.0028678\n",
      "     0.0028947\n",
      "     0.0032303\n",
      "     0.0039570\n",
      "\n",
      "  [1,4] =  191.06\n",
      "  [1,5] =  0.051881\n",
      "}\n",
      "\n"
     ]
    }
   ],
   "source": [
    "generation12{2}"
   ]
  },
  {
   "cell_type": "markdown",
   "metadata": {},
   "source": [
    "## 4 generations (generation 0, 1, 2 and 3)"
   ]
  },
  {
   "cell_type": "code",
   "execution_count": 57,
   "metadata": {},
   "outputs": [
    {
     "name": "stdout",
     "output_type": "stream",
     "text": [
      "generations1234 =\n",
      "{\n",
      "  [1,1] =\n",
      "  {\n",
      "    [1,1] =\n",
      "\n",
      "       1   2   4   8   7   5   6   3\n",
      "       7   1   4   2   6   3   5   8\n",
      "       3   4   1   2   5   7   8   6\n",
      "       2   7   6   4   3   8   1   5\n",
      "       8   4   2   7   1   6   3   5\n",
      "       6   7   3   1   8   5   4   2\n",
      "       2   5   4   8   6   3   1   7\n",
      "       7   2   4   3   8   6   5   1\n",
      "       5   1   3   6   4   8   7   2\n",
      "       4   6   5   2   8   3   7   1\n",
      "\n",
      "    [1,2] =\n",
      "\n",
      "       347.49\n",
      "       286.96\n",
      "       253.33\n",
      "       279.67\n",
      "       342.09\n",
      "       401.99\n",
      "       286.59\n",
      "       404.81\n",
      "       296.53\n",
      "       463.65\n",
      "\n",
      "    [1,3] =\n",
      "\n",
      "       0.0028778\n",
      "       0.0034848\n",
      "       0.0039475\n",
      "       0.0035756\n",
      "       0.0029232\n",
      "       0.0024876\n",
      "       0.0034893\n",
      "       0.0024703\n",
      "       0.0033724\n",
      "       0.0021568\n",
      "\n",
      "    [1,4] =  253.33\n",
      "    [1,5] =  0.0060220\n",
      "  }\n",
      "\n",
      "  [1,2] =\n",
      "  {\n",
      "    [1,1] =\n",
      "\n",
      "       2   5   6   4   3   8   1   7\n",
      "       4   2   7   6   3   8   1   5\n",
      "       6   4   2   7   3   8   1   5\n",
      "       3   4   2   1   5   7   8   6\n",
      "       3   4   1   2   7   5   6   8\n",
      "       4   7   2   3   8   1   5   6\n",
      "       4   3   1   2   5   7   8   6\n",
      "       3   4   1   2   7   8   6   5\n",
      "       3   4   5   2   7   8   6   1\n",
      "       3   4   6   7   2   8   1   5\n",
      "\n",
      "    [1,2] =\n",
      "\n",
      "       344.25\n",
      "       327.45\n",
      "       303.24\n",
      "       221.12\n",
      "       357.16\n",
      "       367.89\n",
      "       191.06\n",
      "       316.57\n",
      "       303.76\n",
      "       298.71\n",
      "\n",
      "    [1,3] =\n",
      "\n",
      "       0.0029049\n",
      "       0.0030539\n",
      "       0.0032977\n",
      "       0.0045225\n",
      "       0.0027999\n",
      "       0.0027182\n",
      "       0.0052340\n",
      "       0.0031589\n",
      "       0.0032920\n",
      "       0.0033477\n",
      "\n",
      "    [1,4] =  191.06\n",
      "    [1,5] =  0.056274\n",
      "  }\n",
      "\n",
      "}\n",
      "\n"
     ]
    }
   ],
   "source": [
    "generations1234 = createNewGeneration(nGenerations = 2, sizeGeneration = sizeGeneration,individuals = generation0, d = d, pm = 0.8);\n",
    "generations1234"
   ]
  },
  {
   "cell_type": "markdown",
   "metadata": {},
   "source": [
    "# 3) Computational time, generations and optimality"
   ]
  },
  {
   "cell_type": "markdown",
   "metadata": {},
   "source": [
    "#### Optimal value"
   ]
  },
  {
   "cell_type": "code",
   "execution_count": 58,
   "metadata": {},
   "outputs": [],
   "source": [
    "function [opt,t]=OptimalDistanceCalculation(pop,d)\n",
    "\n",
    "    t=cputime;\n",
    "\n",
    "    opt = min(distanceCalculation(pop,d){2});\n",
    "\n",
    "    t = cputime-t;\n",
    "\n",
    "end"
   ]
  },
  {
   "cell_type": "code",
   "execution_count": 59,
   "metadata": {},
   "outputs": [
    {
     "name": "stdout",
     "output_type": "stream",
     "text": [
      "optimalDistance =  124.16\n",
      "cputime =  9.0874\n"
     ]
    }
   ],
   "source": [
    "[optimalDistance, cputime] = OptimalDistanceCalculation(pop = totalPop, d = d)"
   ]
  },
  {
   "cell_type": "markdown",
   "metadata": {},
   "source": [
    "#### Plot computational time and optimality"
   ]
  },
  {
   "cell_type": "code",
   "execution_count": 60,
   "metadata": {},
   "outputs": [],
   "source": [
    "function OptimalityAndGenerations = tableOptimalityAndNGenerations(minNGenerations,maxNGenerations, sizeGeneration,individuals,d,pm)\n",
    "\n",
    "    newGenerations = createNewGeneration(nGenerations = maxNGenerations, sizeGeneration = sizeGeneration,individuals = individuals, d = d, pm = pm);\n",
    "\n",
    "    OptimalityAndGenerations = zeros(maxNGenerations-minNGenerations+1,2);\n",
    "\n",
    "    count = 1;\n",
    "    \n",
    "    for i = minNGenerations:maxNGenerations;\n",
    "\n",
    "        OptimalityAndGenerations(count,1) = i;\n",
    "        OptimalityAndGenerations(count,2) = newGenerations{i}{4};\n",
    "        count++;\n",
    "\n",
    "    end\n",
    "\n",
    "end"
   ]
  },
  {
   "cell_type": "code",
   "execution_count": 61,
   "metadata": {},
   "outputs": [
    {
     "name": "stdout",
     "output_type": "stream",
     "text": [
      "OptimalityAndGenerations18 =\n",
      "\n",
      "     1.0000   253.3270\n",
      "     2.0000   191.0576\n",
      "     3.0000   188.6602\n",
      "     4.0000   135.7234\n",
      "     5.0000   135.7234\n",
      "     6.0000   135.7234\n",
      "     7.0000   135.7234\n",
      "     8.0000   135.7234\n",
      "\n"
     ]
    }
   ],
   "source": [
    "OptimalityAndGenerations18 = tableOptimalityAndNGenerations(minNGenerations = 1,maxNGenerations = 8, sizeGeneration = 15,individuals = individuals, d = d, pm = 0.5)"
   ]
  },
  {
   "cell_type": "code",
   "execution_count": 62,
   "metadata": {},
   "outputs": [
    {
     "data": {
      "image/svg+xml": [
       "<svg height=\"420px\" viewBox=\"0 0 560 420\" width=\"560px\" xmlns=\"http://www.w3.org/2000/svg\" xmlns:xlink=\"http://www.w3.org/1999/xlink\">\n",
       "\n",
       "<title>Gnuplot</title>\n",
       "<desc>Produced by GNUPLOT 5.2 patchlevel 5 </desc>\n",
       "\n",
       "<g id=\"gnuplot_canvas\">\n",
       "\n",
       "<rect fill=\"#ffffff\" height=\"420\" width=\"560\" x=\"0\" y=\"0\"/>\n",
       "<defs>\n",
       "\n",
       "\t<circle id=\"gpDot\" r=\"0.5\" stroke=\"currentColor\" stroke-width=\"0.5\"/>\n",
       "\t<path d=\"M-1,0 h2 M0,-1 v2\" id=\"gpPt0\" stroke=\"currentColor\" stroke-width=\"0.357\"/>\n",
       "\t<path d=\"M-1,-1 L1,1 M1,-1 L-1,1\" id=\"gpPt1\" stroke=\"currentColor\" stroke-width=\"0.357\"/>\n",
       "\t<path d=\"M-1,0 L1,0 M0,-1 L0,1 M-1,-1 L1,1 M-1,1 L1,-1\" id=\"gpPt2\" stroke=\"currentColor\" stroke-width=\"0.357\"/>\n",
       "\t<rect height=\"2\" id=\"gpPt3\" stroke=\"currentColor\" stroke-width=\"0.357\" width=\"2\" x=\"-1\" y=\"-1\"/>\n",
       "\t<rect fill=\"currentColor\" height=\"2\" id=\"gpPt4\" stroke=\"currentColor\" stroke-width=\"0.357\" width=\"2\" x=\"-1\" y=\"-1\"/>\n",
       "\t<circle cx=\"0\" cy=\"0\" id=\"gpPt5\" r=\"1\" stroke=\"currentColor\" stroke-width=\"0.357\"/>\n",
       "\t<use fill=\"currentColor\" id=\"gpPt6\" stroke=\"none\" xlink:href=\"#gpPt5\"/>\n",
       "\t<path d=\"M0,-1.33 L-1.33,0.67 L1.33,0.67 z\" id=\"gpPt7\" stroke=\"currentColor\" stroke-width=\"0.357\"/>\n",
       "\t<use fill=\"currentColor\" id=\"gpPt8\" stroke=\"none\" xlink:href=\"#gpPt7\"/>\n",
       "\t<use id=\"gpPt9\" stroke=\"currentColor\" transform=\"rotate(180)\" xlink:href=\"#gpPt7\"/>\n",
       "\t<use fill=\"currentColor\" id=\"gpPt10\" stroke=\"none\" xlink:href=\"#gpPt9\"/>\n",
       "\t<use id=\"gpPt11\" stroke=\"currentColor\" transform=\"rotate(45)\" xlink:href=\"#gpPt3\"/>\n",
       "\t<use fill=\"currentColor\" id=\"gpPt12\" stroke=\"none\" xlink:href=\"#gpPt11\"/>\n",
       "\t<path d=\"M0,1.330 L1.265,0.411 L0.782,-1.067 L-0.782,-1.076 L-1.265,0.411 z\" id=\"gpPt13\" stroke=\"currentColor\" stroke-width=\"0.357\"/>\n",
       "\t<use fill=\"currentColor\" id=\"gpPt14\" stroke=\"none\" xlink:href=\"#gpPt13\"/>\n",
       "\t<filter filterUnits=\"objectBoundingBox\" height=\"1\" id=\"textbox\" width=\"1\" x=\"0\" y=\"0\">\n",
       "\t  <feFlood flood-color=\"#FFFFFF\" flood-opacity=\"1\" result=\"bgnd\"/>\n",
       "\t  <feComposite in=\"SourceGraphic\" in2=\"bgnd\" operator=\"atop\"/>\n",
       "\t</filter>\n",
       "\t<filter filterUnits=\"objectBoundingBox\" height=\"1\" id=\"greybox\" width=\"1\" x=\"0\" y=\"0\">\n",
       "\t  <feFlood flood-color=\"lightgrey\" flood-opacity=\"1\" result=\"grey\"/>\n",
       "\t  <feComposite in=\"SourceGraphic\" in2=\"grey\" operator=\"atop\"/>\n",
       "\t</filter>\n",
       "</defs>\n",
       "<g color=\"#FFFFFF\" fill=\"none\" stroke=\"currentColor\" stroke-linecap=\"butt\" stroke-linejoin=\"miter\" stroke-width=\"1.00\">\n",
       "</g>\n",
       "<g color=\"black\" fill=\"none\" stroke=\"currentColor\" stroke-linecap=\"butt\" stroke-linejoin=\"miter\" stroke-width=\"1.00\">\n",
       "\t<g shape-rendering=\"crispEdges\" stroke=\"none\">\n",
       "\t\t<polygon fill=\"rgb(255, 255, 255)\" points=\"39.8,384.2 544.2,384.2 544.2,39.1 39.8,39.1 \"/>\n",
       "\t</g>\n",
       "</g>\n",
       "<g color=\"black\" fill=\"none\" stroke=\"currentColor\" stroke-linecap=\"butt\" stroke-linejoin=\"miter\" stroke-width=\"1.00\">\n",
       "\t<path d=\"M39.8,384.2 L47.6,384.2 M544.3,384.2 L536.5,384.2  \" stroke=\"rgb(  0,   0,   0)\"/>\t<g fill=\"rgb(38,38,38)\" font-family=\"Arial\" font-size=\"10.00\" stroke=\"none\" text-anchor=\"end\" transform=\"translate(34.6,387.5)\">\n",
       "\t\t<text><tspan font-family=\"Arial\">120</tspan></text>\n",
       "\t</g>\n",
       "</g>\n",
       "<g color=\"black\" fill=\"none\" stroke=\"currentColor\" stroke-linecap=\"butt\" stroke-linejoin=\"miter\" stroke-width=\"1.00\">\n",
       "\t<path d=\"M39.8,334.9 L47.6,334.9 M544.3,334.9 L536.5,334.9  \" stroke=\"rgb(  0,   0,   0)\"/>\t<g fill=\"rgb(38,38,38)\" font-family=\"Arial\" font-size=\"10.00\" stroke=\"none\" text-anchor=\"end\" transform=\"translate(34.6,338.2)\">\n",
       "\t\t<text><tspan font-family=\"Arial\">140</tspan></text>\n",
       "\t</g>\n",
       "</g>\n",
       "<g color=\"black\" fill=\"none\" stroke=\"currentColor\" stroke-linecap=\"butt\" stroke-linejoin=\"miter\" stroke-width=\"1.00\">\n",
       "\t<path d=\"M39.8,285.6 L47.6,285.6 M544.3,285.6 L536.5,285.6  \" stroke=\"rgb(  0,   0,   0)\"/>\t<g fill=\"rgb(38,38,38)\" font-family=\"Arial\" font-size=\"10.00\" stroke=\"none\" text-anchor=\"end\" transform=\"translate(34.6,288.9)\">\n",
       "\t\t<text><tspan font-family=\"Arial\">160</tspan></text>\n",
       "\t</g>\n",
       "</g>\n",
       "<g color=\"black\" fill=\"none\" stroke=\"currentColor\" stroke-linecap=\"butt\" stroke-linejoin=\"miter\" stroke-width=\"1.00\">\n",
       "\t<path d=\"M39.8,236.3 L47.6,236.3 M544.3,236.3 L536.5,236.3  \" stroke=\"rgb(  0,   0,   0)\"/>\t<g fill=\"rgb(38,38,38)\" font-family=\"Arial\" font-size=\"10.00\" stroke=\"none\" text-anchor=\"end\" transform=\"translate(34.6,239.6)\">\n",
       "\t\t<text><tspan font-family=\"Arial\">180</tspan></text>\n",
       "\t</g>\n",
       "</g>\n",
       "<g color=\"black\" fill=\"none\" stroke=\"currentColor\" stroke-linecap=\"butt\" stroke-linejoin=\"miter\" stroke-width=\"1.00\">\n",
       "\t<path d=\"M39.8,186.9 L47.6,186.9 M544.3,186.9 L536.5,186.9  \" stroke=\"rgb(  0,   0,   0)\"/>\t<g fill=\"rgb(38,38,38)\" font-family=\"Arial\" font-size=\"10.00\" stroke=\"none\" text-anchor=\"end\" transform=\"translate(34.6,190.2)\">\n",
       "\t\t<text><tspan font-family=\"Arial\">200</tspan></text>\n",
       "\t</g>\n",
       "</g>\n",
       "<g color=\"black\" fill=\"none\" stroke=\"currentColor\" stroke-linecap=\"butt\" stroke-linejoin=\"miter\" stroke-width=\"1.00\">\n",
       "\t<path d=\"M39.8,137.6 L47.6,137.6 M544.3,137.6 L536.5,137.6  \" stroke=\"rgb(  0,   0,   0)\"/>\t<g fill=\"rgb(38,38,38)\" font-family=\"Arial\" font-size=\"10.00\" stroke=\"none\" text-anchor=\"end\" transform=\"translate(34.6,140.9)\">\n",
       "\t\t<text><tspan font-family=\"Arial\">220</tspan></text>\n",
       "\t</g>\n",
       "</g>\n",
       "<g color=\"black\" fill=\"none\" stroke=\"currentColor\" stroke-linecap=\"butt\" stroke-linejoin=\"miter\" stroke-width=\"1.00\">\n",
       "\t<path d=\"M39.8,88.3 L47.6,88.3 M544.3,88.3 L536.5,88.3  \" stroke=\"rgb(  0,   0,   0)\"/>\t<g fill=\"rgb(38,38,38)\" font-family=\"Arial\" font-size=\"10.00\" stroke=\"none\" text-anchor=\"end\" transform=\"translate(34.6,91.6)\">\n",
       "\t\t<text><tspan font-family=\"Arial\">240</tspan></text>\n",
       "\t</g>\n",
       "</g>\n",
       "<g color=\"black\" fill=\"none\" stroke=\"currentColor\" stroke-linecap=\"butt\" stroke-linejoin=\"miter\" stroke-width=\"1.00\">\n",
       "\t<path d=\"M39.8,39.0 L47.6,39.0 M544.3,39.0 L536.5,39.0  \" stroke=\"rgb(  0,   0,   0)\"/>\t<g fill=\"rgb(38,38,38)\" font-family=\"Arial\" font-size=\"10.00\" stroke=\"none\" text-anchor=\"end\" transform=\"translate(34.6,42.3)\">\n",
       "\t\t<text><tspan font-family=\"Arial\">260</tspan></text>\n",
       "\t</g>\n",
       "</g>\n",
       "<g color=\"black\" fill=\"none\" stroke=\"currentColor\" stroke-linecap=\"butt\" stroke-linejoin=\"miter\" stroke-width=\"1.00\">\n",
       "\t<path d=\"M39.8,384.2 L39.8,376.4 M39.8,39.0 L39.8,46.8  \" stroke=\"rgb(  0,   0,   0)\"/>\t<g fill=\"rgb(38,38,38)\" font-family=\"Arial\" font-size=\"10.00\" stroke=\"none\" text-anchor=\"middle\" transform=\"translate(39.8,398.7)\">\n",
       "\t\t<text><tspan font-family=\"Arial\">1</tspan></text>\n",
       "\t</g>\n",
       "</g>\n",
       "<g color=\"black\" fill=\"none\" stroke=\"currentColor\" stroke-linecap=\"butt\" stroke-linejoin=\"miter\" stroke-width=\"1.00\">\n",
       "\t<path d=\"M111.9,384.2 L111.9,376.4 M111.9,39.0 L111.9,46.8  \" stroke=\"rgb(  0,   0,   0)\"/>\t<g fill=\"rgb(38,38,38)\" font-family=\"Arial\" font-size=\"10.00\" stroke=\"none\" text-anchor=\"middle\" transform=\"translate(111.9,398.7)\">\n",
       "\t\t<text><tspan font-family=\"Arial\">2</tspan></text>\n",
       "\t</g>\n",
       "</g>\n",
       "<g color=\"black\" fill=\"none\" stroke=\"currentColor\" stroke-linecap=\"butt\" stroke-linejoin=\"miter\" stroke-width=\"1.00\">\n",
       "\t<path d=\"M183.9,384.2 L183.9,376.4 M183.9,39.0 L183.9,46.8  \" stroke=\"rgb(  0,   0,   0)\"/>\t<g fill=\"rgb(38,38,38)\" font-family=\"Arial\" font-size=\"10.00\" stroke=\"none\" text-anchor=\"middle\" transform=\"translate(183.9,398.7)\">\n",
       "\t\t<text><tspan font-family=\"Arial\">3</tspan></text>\n",
       "\t</g>\n",
       "</g>\n",
       "<g color=\"black\" fill=\"none\" stroke=\"currentColor\" stroke-linecap=\"butt\" stroke-linejoin=\"miter\" stroke-width=\"1.00\">\n",
       "\t<path d=\"M256.0,384.2 L256.0,376.4 M256.0,39.0 L256.0,46.8  \" stroke=\"rgb(  0,   0,   0)\"/>\t<g fill=\"rgb(38,38,38)\" font-family=\"Arial\" font-size=\"10.00\" stroke=\"none\" text-anchor=\"middle\" transform=\"translate(256.0,398.7)\">\n",
       "\t\t<text><tspan font-family=\"Arial\">4</tspan></text>\n",
       "\t</g>\n",
       "</g>\n",
       "<g color=\"black\" fill=\"none\" stroke=\"currentColor\" stroke-linecap=\"butt\" stroke-linejoin=\"miter\" stroke-width=\"1.00\">\n",
       "\t<path d=\"M328.1,384.2 L328.1,376.4 M328.1,39.0 L328.1,46.8  \" stroke=\"rgb(  0,   0,   0)\"/>\t<g fill=\"rgb(38,38,38)\" font-family=\"Arial\" font-size=\"10.00\" stroke=\"none\" text-anchor=\"middle\" transform=\"translate(328.1,398.7)\">\n",
       "\t\t<text><tspan font-family=\"Arial\">5</tspan></text>\n",
       "\t</g>\n",
       "</g>\n",
       "<g color=\"black\" fill=\"none\" stroke=\"currentColor\" stroke-linecap=\"butt\" stroke-linejoin=\"miter\" stroke-width=\"1.00\">\n",
       "\t<path d=\"M400.2,384.2 L400.2,376.4 M400.2,39.0 L400.2,46.8  \" stroke=\"rgb(  0,   0,   0)\"/>\t<g fill=\"rgb(38,38,38)\" font-family=\"Arial\" font-size=\"10.00\" stroke=\"none\" text-anchor=\"middle\" transform=\"translate(400.2,398.7)\">\n",
       "\t\t<text><tspan font-family=\"Arial\">6</tspan></text>\n",
       "\t</g>\n",
       "</g>\n",
       "<g color=\"black\" fill=\"none\" stroke=\"currentColor\" stroke-linecap=\"butt\" stroke-linejoin=\"miter\" stroke-width=\"1.00\">\n",
       "\t<path d=\"M472.2,384.2 L472.2,376.4 M472.2,39.0 L472.2,46.8  \" stroke=\"rgb(  0,   0,   0)\"/>\t<g fill=\"rgb(38,38,38)\" font-family=\"Arial\" font-size=\"10.00\" stroke=\"none\" text-anchor=\"middle\" transform=\"translate(472.2,398.7)\">\n",
       "\t\t<text><tspan font-family=\"Arial\">7</tspan></text>\n",
       "\t</g>\n",
       "</g>\n",
       "<g color=\"black\" fill=\"none\" stroke=\"currentColor\" stroke-linecap=\"butt\" stroke-linejoin=\"miter\" stroke-width=\"1.00\">\n",
       "\t<path d=\"M544.3,384.2 L544.3,376.4 M544.3,39.0 L544.3,46.8  \" stroke=\"rgb(  0,   0,   0)\"/>\t<g fill=\"rgb(38,38,38)\" font-family=\"Arial\" font-size=\"10.00\" stroke=\"none\" text-anchor=\"middle\" transform=\"translate(544.3,398.7)\">\n",
       "\t\t<text><tspan font-family=\"Arial\">8</tspan></text>\n",
       "\t</g>\n",
       "</g>\n",
       "<g color=\"black\" fill=\"none\" stroke=\"currentColor\" stroke-linecap=\"butt\" stroke-linejoin=\"miter\" stroke-width=\"1.00\">\n",
       "</g>\n",
       "<g color=\"black\" fill=\"none\" stroke=\"currentColor\" stroke-linecap=\"butt\" stroke-linejoin=\"miter\" stroke-width=\"1.00\">\n",
       "\t<g fill=\"rgb(38,38,38)\" font-family=\"Arial\" font-size=\"11.00\" stroke=\"none\" text-anchor=\"middle\" transform=\"translate(11.3,211.6) rotate(-90)\">\n",
       "\t\t<text><tspan font-family=\"Arial\">Total distance</tspan></text>\n",
       "\t</g>\n",
       "</g>\n",
       "<g color=\"black\" fill=\"none\" stroke=\"currentColor\" stroke-linecap=\"butt\" stroke-linejoin=\"miter\" stroke-width=\"1.00\">\n",
       "\t<g fill=\"rgb(38,38,38)\" font-family=\"Arial\" font-size=\"11.00\" stroke=\"none\" text-anchor=\"middle\" transform=\"translate(292.0,415.8)\">\n",
       "\t\t<text><tspan font-family=\"Arial\">Number of generations</tspan></text>\n",
       "\t</g>\n",
       "</g>\n",
       "<g color=\"black\" fill=\"none\" stroke=\"currentColor\" stroke-linecap=\"butt\" stroke-linejoin=\"miter\" stroke-width=\"1.00\">\n",
       "\t<g fill=\"rgb(0,0,0)\" font-family=\":Bold\" font-size=\"11.00\" stroke=\"none\" text-anchor=\"middle\" transform=\"translate(292.0,20.5)\">\n",
       "\t\t<text><tspan font-family=\"\" font-weight=\"bold\">Total distance and number of generations in TSP</tspan></text>\n",
       "\t</g>\n",
       "</g>\n",
       "<g color=\"black\" fill=\"none\" stroke=\"currentColor\" stroke-linecap=\"butt\" stroke-linejoin=\"miter\" stroke-width=\"1.00\">\n",
       "</g>\n",
       "\t<g id=\"gnuplot_plot_1a\"><title>gnuplot_plot_1a</title>\n",
       "<g color=\"#FFFFFF\" fill=\"none\" stroke=\"currentColor\" stroke-linecap=\"butt\" stroke-linejoin=\"miter\" stroke-width=\"0.50\">\n",
       "</g>\n",
       "<g color=\"black\" fill=\"none\" stroke=\"currentColor\" stroke-linecap=\"butt\" stroke-linejoin=\"miter\" stroke-width=\"0.50\">\n",
       "\t<path d=\"M39.8,55.5 L111.9,209.0 L183.9,214.9 L256.0,345.4 L328.1,345.4 L400.2,345.4 L472.2,345.4 L544.3,345.4    \" stroke=\"rgb(255,   0,   0)\"/>\t<use color=\"rgb(255,   0,   0)\" transform=\"translate(39.8,55.5) scale(5.60)\" xlink:href=\"#gpPt5\"/>\n",
       "\t<use color=\"rgb(255,   0,   0)\" transform=\"translate(111.9,209.0) scale(5.60)\" xlink:href=\"#gpPt5\"/>\n",
       "\t<use color=\"rgb(255,   0,   0)\" transform=\"translate(183.9,214.9) scale(5.60)\" xlink:href=\"#gpPt5\"/>\n",
       "\t<use color=\"rgb(255,   0,   0)\" transform=\"translate(256.0,345.4) scale(5.60)\" xlink:href=\"#gpPt5\"/>\n",
       "\t<use color=\"rgb(255,   0,   0)\" transform=\"translate(328.1,345.4) scale(5.60)\" xlink:href=\"#gpPt5\"/>\n",
       "\t<use color=\"rgb(255,   0,   0)\" transform=\"translate(400.2,345.4) scale(5.60)\" xlink:href=\"#gpPt5\"/>\n",
       "\t<use color=\"rgb(255,   0,   0)\" transform=\"translate(472.2,345.4) scale(5.60)\" xlink:href=\"#gpPt5\"/>\n",
       "\t<use color=\"rgb(255,   0,   0)\" transform=\"translate(544.3,345.4) scale(5.60)\" xlink:href=\"#gpPt5\"/>\n",
       "</g>\n",
       "\t</g>\n",
       "\t<g id=\"gnuplot_plot_2a\"><title>gnuplot_plot_2a</title>\n",
       "<g color=\"black\" fill=\"none\" stroke=\"currentColor\" stroke-linecap=\"butt\" stroke-linejoin=\"miter\" stroke-width=\"0.50\">\n",
       "\t<path d=\"M39.8,373.9 L544.3,373.9  \" stroke=\"rgb(  0,   0, 255)\"/></g>\n",
       "\t</g>\n",
       "<g color=\"#FFFFFF\" fill=\"none\" stroke=\"rgb(  0,   0, 255)\" stroke-linecap=\"butt\" stroke-linejoin=\"miter\" stroke-width=\"2.00\">\n",
       "</g>\n",
       "<g color=\"black\" fill=\"none\" stroke=\"currentColor\" stroke-linecap=\"butt\" stroke-linejoin=\"miter\" stroke-width=\"2.00\">\n",
       "</g>\n",
       "<g color=\"black\" fill=\"none\" stroke=\"black\" stroke-linecap=\"butt\" stroke-linejoin=\"miter\" stroke-width=\"0.50\">\n",
       "\t<path d=\"M39.8,384.2 L544.3,384.2 M39.8,39.0 L544.3,39.0 M39.8,384.2 L39.8,39.0 M544.3,384.2 L544.3,39.0    \" stroke=\"rgb( 38,  38,  38)\"/></g>\n",
       "<g color=\"black\" fill=\"none\" stroke=\"rgb( 38,  38,  38)\" stroke-linecap=\"butt\" stroke-linejoin=\"miter\" stroke-width=\"1.00\">\n",
       "</g>\n",
       "<g color=\"black\" fill=\"none\" stroke=\"currentColor\" stroke-linecap=\"butt\" stroke-linejoin=\"miter\" stroke-width=\"1.00\">\n",
       "</g>\n",
       "</g>\n",
       "</svg>"
      ],
      "text/plain": [
       "<IPython.core.display.SVG object>"
      ]
     },
     "metadata": {},
     "output_type": "display_data"
    }
   ],
   "source": [
    "plot([OptimalityAndGenerations18(:,1)], [OptimalityAndGenerations18(:,2)], 'o-r');\n",
    "title (\"Total distance and number of generations in TSP\");\n",
    "xlabel (\"Number of generations\");\n",
    "ylabel (\"Total distance\");\n",
    "hold on;\n",
    "plot([min(OptimalityAndGenerations18(:,1)),max(OptimalityAndGenerations18(:,1))],[optimalDistance,optimalDistance], 'b')\n",
    "hold off;"
   ]
  },
  {
   "cell_type": "markdown",
   "metadata": {},
   "source": [
    "#### Plot computational time and number of generations"
   ]
  },
  {
   "cell_type": "code",
   "execution_count": 63,
   "metadata": {},
   "outputs": [],
   "source": [
    "function CPUTimeAndGenerations = tableCPUTimeAndNGenerations(minNGenerations,maxNGenerations, sizeGeneration,individuals,d,pm)\n",
    "    \n",
    "    newGenerations = createNewGeneration(nGenerations = maxNGenerations, sizeGeneration = sizeGeneration,individuals = individuals, d = d, pm = pm);\n",
    "    \n",
    "    CPUTimeAndGenerations = zeros(maxNGenerations-minNGenerations+1,2);\n",
    "\n",
    "    count = 1;\n",
    "    \n",
    "    for i = minNGenerations:maxNGenerations;\n",
    "\n",
    "        CPUTimeAndGenerations(count,1) = i;\n",
    "        CPUTimeAndGenerations(count,2) = newGenerations{i}{5};\n",
    "        count++;\n",
    "\n",
    "    end\n",
    "\n",
    "end"
   ]
  },
  {
   "cell_type": "code",
   "execution_count": 64,
   "metadata": {},
   "outputs": [
    {
     "name": "stdout",
     "output_type": "stream",
     "text": [
      "CPUTimeAndGenerations18 =\n",
      "\n",
      "   1.0000000   0.0069990\n",
      "   2.0000000   0.0941830\n",
      "   3.0000000   0.1637720\n",
      "   4.0000000   0.2632720\n",
      "   5.0000000   0.4962350\n",
      "   6.0000000   0.6377690\n",
      "   7.0000000   0.7548650\n",
      "   8.0000000   0.9269670\n",
      "\n"
     ]
    }
   ],
   "source": [
    "CPUTimeAndGenerations18 = tableCPUTimeAndNGenerations(minNGenerations = 1,maxNGenerations = 8, sizeGeneration = 15,individuals = individuals, d = d, pm = 0.5)"
   ]
  },
  {
   "cell_type": "code",
   "execution_count": 65,
   "metadata": {},
   "outputs": [
    {
     "data": {
      "image/svg+xml": [
       "<svg height=\"420px\" viewBox=\"0 0 560 420\" width=\"560px\" xmlns=\"http://www.w3.org/2000/svg\" xmlns:xlink=\"http://www.w3.org/1999/xlink\">\n",
       "\n",
       "<title>Gnuplot</title>\n",
       "<desc>Produced by GNUPLOT 5.2 patchlevel 5 </desc>\n",
       "\n",
       "<g id=\"gnuplot_canvas\">\n",
       "\n",
       "<rect fill=\"#ffffff\" height=\"420\" width=\"560\" x=\"0\" y=\"0\"/>\n",
       "<defs>\n",
       "\n",
       "\t<circle id=\"gpDot\" r=\"0.5\" stroke=\"currentColor\" stroke-width=\"0.5\"/>\n",
       "\t<path d=\"M-1,0 h2 M0,-1 v2\" id=\"gpPt0\" stroke=\"currentColor\" stroke-width=\"0.357\"/>\n",
       "\t<path d=\"M-1,-1 L1,1 M1,-1 L-1,1\" id=\"gpPt1\" stroke=\"currentColor\" stroke-width=\"0.357\"/>\n",
       "\t<path d=\"M-1,0 L1,0 M0,-1 L0,1 M-1,-1 L1,1 M-1,1 L1,-1\" id=\"gpPt2\" stroke=\"currentColor\" stroke-width=\"0.357\"/>\n",
       "\t<rect height=\"2\" id=\"gpPt3\" stroke=\"currentColor\" stroke-width=\"0.357\" width=\"2\" x=\"-1\" y=\"-1\"/>\n",
       "\t<rect fill=\"currentColor\" height=\"2\" id=\"gpPt4\" stroke=\"currentColor\" stroke-width=\"0.357\" width=\"2\" x=\"-1\" y=\"-1\"/>\n",
       "\t<circle cx=\"0\" cy=\"0\" id=\"gpPt5\" r=\"1\" stroke=\"currentColor\" stroke-width=\"0.357\"/>\n",
       "\t<use fill=\"currentColor\" id=\"gpPt6\" stroke=\"none\" xlink:href=\"#gpPt5\"/>\n",
       "\t<path d=\"M0,-1.33 L-1.33,0.67 L1.33,0.67 z\" id=\"gpPt7\" stroke=\"currentColor\" stroke-width=\"0.357\"/>\n",
       "\t<use fill=\"currentColor\" id=\"gpPt8\" stroke=\"none\" xlink:href=\"#gpPt7\"/>\n",
       "\t<use id=\"gpPt9\" stroke=\"currentColor\" transform=\"rotate(180)\" xlink:href=\"#gpPt7\"/>\n",
       "\t<use fill=\"currentColor\" id=\"gpPt10\" stroke=\"none\" xlink:href=\"#gpPt9\"/>\n",
       "\t<use id=\"gpPt11\" stroke=\"currentColor\" transform=\"rotate(45)\" xlink:href=\"#gpPt3\"/>\n",
       "\t<use fill=\"currentColor\" id=\"gpPt12\" stroke=\"none\" xlink:href=\"#gpPt11\"/>\n",
       "\t<path d=\"M0,1.330 L1.265,0.411 L0.782,-1.067 L-0.782,-1.076 L-1.265,0.411 z\" id=\"gpPt13\" stroke=\"currentColor\" stroke-width=\"0.357\"/>\n",
       "\t<use fill=\"currentColor\" id=\"gpPt14\" stroke=\"none\" xlink:href=\"#gpPt13\"/>\n",
       "\t<filter filterUnits=\"objectBoundingBox\" height=\"1\" id=\"textbox\" width=\"1\" x=\"0\" y=\"0\">\n",
       "\t  <feFlood flood-color=\"#FFFFFF\" flood-opacity=\"1\" result=\"bgnd\"/>\n",
       "\t  <feComposite in=\"SourceGraphic\" in2=\"bgnd\" operator=\"atop\"/>\n",
       "\t</filter>\n",
       "\t<filter filterUnits=\"objectBoundingBox\" height=\"1\" id=\"greybox\" width=\"1\" x=\"0\" y=\"0\">\n",
       "\t  <feFlood flood-color=\"lightgrey\" flood-opacity=\"1\" result=\"grey\"/>\n",
       "\t  <feComposite in=\"SourceGraphic\" in2=\"grey\" operator=\"atop\"/>\n",
       "\t</filter>\n",
       "</defs>\n",
       "<g color=\"#FFFFFF\" fill=\"none\" stroke=\"currentColor\" stroke-linecap=\"butt\" stroke-linejoin=\"miter\" stroke-width=\"1.00\">\n",
       "</g>\n",
       "<g color=\"black\" fill=\"none\" stroke=\"currentColor\" stroke-linecap=\"butt\" stroke-linejoin=\"miter\" stroke-width=\"1.00\">\n",
       "\t<g shape-rendering=\"crispEdges\" stroke=\"none\">\n",
       "\t\t<polygon fill=\"rgb(255, 255, 255)\" points=\"34.6,384.2 544.2,384.2 544.2,39.1 34.6,39.1 \"/>\n",
       "\t</g>\n",
       "</g>\n",
       "<g color=\"black\" fill=\"none\" stroke=\"currentColor\" stroke-linecap=\"butt\" stroke-linejoin=\"miter\" stroke-width=\"1.00\">\n",
       "\t<path d=\"M34.6,384.2 L42.4,384.2 M544.3,384.2 L536.5,384.2  \" stroke=\"rgb(  0,   0,   0)\"/>\t<g fill=\"rgb(38,38,38)\" font-family=\"Arial\" font-size=\"10.00\" stroke=\"none\" text-anchor=\"end\" transform=\"translate(29.4,387.5)\">\n",
       "\t\t<text><tspan font-family=\"Arial\">0</tspan></text>\n",
       "\t</g>\n",
       "</g>\n",
       "<g color=\"black\" fill=\"none\" stroke=\"currentColor\" stroke-linecap=\"butt\" stroke-linejoin=\"miter\" stroke-width=\"1.00\">\n",
       "\t<path d=\"M34.6,315.2 L42.4,315.2 M544.3,315.2 L536.5,315.2  \" stroke=\"rgb(  0,   0,   0)\"/>\t<g fill=\"rgb(38,38,38)\" font-family=\"Arial\" font-size=\"10.00\" stroke=\"none\" text-anchor=\"end\" transform=\"translate(29.4,318.5)\">\n",
       "\t\t<text><tspan font-family=\"Arial\">2</tspan></text>\n",
       "\t</g>\n",
       "</g>\n",
       "<g color=\"black\" fill=\"none\" stroke=\"currentColor\" stroke-linecap=\"butt\" stroke-linejoin=\"miter\" stroke-width=\"1.00\">\n",
       "\t<path d=\"M34.6,246.1 L42.4,246.1 M544.3,246.1 L536.5,246.1  \" stroke=\"rgb(  0,   0,   0)\"/>\t<g fill=\"rgb(38,38,38)\" font-family=\"Arial\" font-size=\"10.00\" stroke=\"none\" text-anchor=\"end\" transform=\"translate(29.4,249.4)\">\n",
       "\t\t<text><tspan font-family=\"Arial\">4</tspan></text>\n",
       "\t</g>\n",
       "</g>\n",
       "<g color=\"black\" fill=\"none\" stroke=\"currentColor\" stroke-linecap=\"butt\" stroke-linejoin=\"miter\" stroke-width=\"1.00\">\n",
       "\t<path d=\"M34.6,177.1 L42.4,177.1 M544.3,177.1 L536.5,177.1  \" stroke=\"rgb(  0,   0,   0)\"/>\t<g fill=\"rgb(38,38,38)\" font-family=\"Arial\" font-size=\"10.00\" stroke=\"none\" text-anchor=\"end\" transform=\"translate(29.4,180.4)\">\n",
       "\t\t<text><tspan font-family=\"Arial\">6</tspan></text>\n",
       "\t</g>\n",
       "</g>\n",
       "<g color=\"black\" fill=\"none\" stroke=\"currentColor\" stroke-linecap=\"butt\" stroke-linejoin=\"miter\" stroke-width=\"1.00\">\n",
       "\t<path d=\"M34.6,108.0 L42.4,108.0 M544.3,108.0 L536.5,108.0  \" stroke=\"rgb(  0,   0,   0)\"/>\t<g fill=\"rgb(38,38,38)\" font-family=\"Arial\" font-size=\"10.00\" stroke=\"none\" text-anchor=\"end\" transform=\"translate(29.4,111.3)\">\n",
       "\t\t<text><tspan font-family=\"Arial\">8</tspan></text>\n",
       "\t</g>\n",
       "</g>\n",
       "<g color=\"black\" fill=\"none\" stroke=\"currentColor\" stroke-linecap=\"butt\" stroke-linejoin=\"miter\" stroke-width=\"1.00\">\n",
       "\t<path d=\"M34.6,39.0 L42.4,39.0 M544.3,39.0 L536.5,39.0  \" stroke=\"rgb(  0,   0,   0)\"/>\t<g fill=\"rgb(38,38,38)\" font-family=\"Arial\" font-size=\"10.00\" stroke=\"none\" text-anchor=\"end\" transform=\"translate(29.4,42.3)\">\n",
       "\t\t<text><tspan font-family=\"Arial\">10</tspan></text>\n",
       "\t</g>\n",
       "</g>\n",
       "<g color=\"black\" fill=\"none\" stroke=\"currentColor\" stroke-linecap=\"butt\" stroke-linejoin=\"miter\" stroke-width=\"1.00\">\n",
       "\t<path d=\"M34.6,384.2 L34.6,376.4 M34.6,39.0 L34.6,46.8  \" stroke=\"rgb(  0,   0,   0)\"/>\t<g fill=\"rgb(38,38,38)\" font-family=\"Arial\" font-size=\"10.00\" stroke=\"none\" text-anchor=\"middle\" transform=\"translate(34.6,398.7)\">\n",
       "\t\t<text><tspan font-family=\"Arial\">1</tspan></text>\n",
       "\t</g>\n",
       "</g>\n",
       "<g color=\"black\" fill=\"none\" stroke=\"currentColor\" stroke-linecap=\"butt\" stroke-linejoin=\"miter\" stroke-width=\"1.00\">\n",
       "\t<path d=\"M107.4,384.2 L107.4,376.4 M107.4,39.0 L107.4,46.8  \" stroke=\"rgb(  0,   0,   0)\"/>\t<g fill=\"rgb(38,38,38)\" font-family=\"Arial\" font-size=\"10.00\" stroke=\"none\" text-anchor=\"middle\" transform=\"translate(107.4,398.7)\">\n",
       "\t\t<text><tspan font-family=\"Arial\">2</tspan></text>\n",
       "\t</g>\n",
       "</g>\n",
       "<g color=\"black\" fill=\"none\" stroke=\"currentColor\" stroke-linecap=\"butt\" stroke-linejoin=\"miter\" stroke-width=\"1.00\">\n",
       "\t<path d=\"M180.2,384.2 L180.2,376.4 M180.2,39.0 L180.2,46.8  \" stroke=\"rgb(  0,   0,   0)\"/>\t<g fill=\"rgb(38,38,38)\" font-family=\"Arial\" font-size=\"10.00\" stroke=\"none\" text-anchor=\"middle\" transform=\"translate(180.2,398.7)\">\n",
       "\t\t<text><tspan font-family=\"Arial\">3</tspan></text>\n",
       "\t</g>\n",
       "</g>\n",
       "<g color=\"black\" fill=\"none\" stroke=\"currentColor\" stroke-linecap=\"butt\" stroke-linejoin=\"miter\" stroke-width=\"1.00\">\n",
       "\t<path d=\"M253.0,384.2 L253.0,376.4 M253.0,39.0 L253.0,46.8  \" stroke=\"rgb(  0,   0,   0)\"/>\t<g fill=\"rgb(38,38,38)\" font-family=\"Arial\" font-size=\"10.00\" stroke=\"none\" text-anchor=\"middle\" transform=\"translate(253.0,398.7)\">\n",
       "\t\t<text><tspan font-family=\"Arial\">4</tspan></text>\n",
       "\t</g>\n",
       "</g>\n",
       "<g color=\"black\" fill=\"none\" stroke=\"currentColor\" stroke-linecap=\"butt\" stroke-linejoin=\"miter\" stroke-width=\"1.00\">\n",
       "\t<path d=\"M325.9,384.2 L325.9,376.4 M325.9,39.0 L325.9,46.8  \" stroke=\"rgb(  0,   0,   0)\"/>\t<g fill=\"rgb(38,38,38)\" font-family=\"Arial\" font-size=\"10.00\" stroke=\"none\" text-anchor=\"middle\" transform=\"translate(325.9,398.7)\">\n",
       "\t\t<text><tspan font-family=\"Arial\">5</tspan></text>\n",
       "\t</g>\n",
       "</g>\n",
       "<g color=\"black\" fill=\"none\" stroke=\"currentColor\" stroke-linecap=\"butt\" stroke-linejoin=\"miter\" stroke-width=\"1.00\">\n",
       "\t<path d=\"M398.7,384.2 L398.7,376.4 M398.7,39.0 L398.7,46.8  \" stroke=\"rgb(  0,   0,   0)\"/>\t<g fill=\"rgb(38,38,38)\" font-family=\"Arial\" font-size=\"10.00\" stroke=\"none\" text-anchor=\"middle\" transform=\"translate(398.7,398.7)\">\n",
       "\t\t<text><tspan font-family=\"Arial\">6</tspan></text>\n",
       "\t</g>\n",
       "</g>\n",
       "<g color=\"black\" fill=\"none\" stroke=\"currentColor\" stroke-linecap=\"butt\" stroke-linejoin=\"miter\" stroke-width=\"1.00\">\n",
       "\t<path d=\"M471.5,384.2 L471.5,376.4 M471.5,39.0 L471.5,46.8  \" stroke=\"rgb(  0,   0,   0)\"/>\t<g fill=\"rgb(38,38,38)\" font-family=\"Arial\" font-size=\"10.00\" stroke=\"none\" text-anchor=\"middle\" transform=\"translate(471.5,398.7)\">\n",
       "\t\t<text><tspan font-family=\"Arial\">7</tspan></text>\n",
       "\t</g>\n",
       "</g>\n",
       "<g color=\"black\" fill=\"none\" stroke=\"currentColor\" stroke-linecap=\"butt\" stroke-linejoin=\"miter\" stroke-width=\"1.00\">\n",
       "\t<path d=\"M544.3,384.2 L544.3,376.4 M544.3,39.0 L544.3,46.8  \" stroke=\"rgb(  0,   0,   0)\"/>\t<g fill=\"rgb(38,38,38)\" font-family=\"Arial\" font-size=\"10.00\" stroke=\"none\" text-anchor=\"middle\" transform=\"translate(544.3,398.7)\">\n",
       "\t\t<text><tspan font-family=\"Arial\">8</tspan></text>\n",
       "\t</g>\n",
       "</g>\n",
       "<g color=\"black\" fill=\"none\" stroke=\"currentColor\" stroke-linecap=\"butt\" stroke-linejoin=\"miter\" stroke-width=\"1.00\">\n",
       "</g>\n",
       "<g color=\"black\" fill=\"none\" stroke=\"currentColor\" stroke-linecap=\"butt\" stroke-linejoin=\"miter\" stroke-width=\"1.00\">\n",
       "\t<g fill=\"rgb(38,38,38)\" font-family=\"Arial\" font-size=\"11.00\" stroke=\"none\" text-anchor=\"middle\" transform=\"translate(11.3,211.6) rotate(-90)\">\n",
       "\t\t<text><tspan font-family=\"Arial\">Computational time [s]</tspan></text>\n",
       "\t</g>\n",
       "</g>\n",
       "<g color=\"black\" fill=\"none\" stroke=\"currentColor\" stroke-linecap=\"butt\" stroke-linejoin=\"miter\" stroke-width=\"1.00\">\n",
       "\t<g fill=\"rgb(38,38,38)\" font-family=\"Arial\" font-size=\"11.00\" stroke=\"none\" text-anchor=\"middle\" transform=\"translate(289.4,415.8)\">\n",
       "\t\t<text><tspan font-family=\"Arial\">Number of generations</tspan></text>\n",
       "\t</g>\n",
       "</g>\n",
       "<g color=\"black\" fill=\"none\" stroke=\"currentColor\" stroke-linecap=\"butt\" stroke-linejoin=\"miter\" stroke-width=\"1.00\">\n",
       "\t<g fill=\"rgb(0,0,0)\" font-family=\":Bold\" font-size=\"11.00\" stroke=\"none\" text-anchor=\"middle\" transform=\"translate(289.4,20.5)\">\n",
       "\t\t<text><tspan font-family=\"\" font-weight=\"bold\">Computational time and number of generations in TSP</tspan></text>\n",
       "\t</g>\n",
       "</g>\n",
       "<g color=\"black\" fill=\"none\" stroke=\"currentColor\" stroke-linecap=\"butt\" stroke-linejoin=\"miter\" stroke-width=\"1.00\">\n",
       "</g>\n",
       "\t<g id=\"gnuplot_plot_1a\"><title>gnuplot_plot_1a</title>\n",
       "<g color=\"#FFFFFF\" fill=\"none\" stroke=\"currentColor\" stroke-linecap=\"butt\" stroke-linejoin=\"miter\" stroke-width=\"0.50\">\n",
       "</g>\n",
       "<g color=\"black\" fill=\"none\" stroke=\"currentColor\" stroke-linecap=\"butt\" stroke-linejoin=\"miter\" stroke-width=\"0.50\">\n",
       "\t<path d=\"M34.6,384.0 L107.4,380.9 L180.2,378.5 L253.0,375.1 L325.9,367.1 L398.7,362.2 L471.5,358.1 L544.3,352.2    \" stroke=\"rgb(255,   0,   0)\"/>\t<use color=\"rgb(255,   0,   0)\" transform=\"translate(34.6,384.0) scale(5.60)\" xlink:href=\"#gpPt5\"/>\n",
       "\t<use color=\"rgb(255,   0,   0)\" transform=\"translate(107.4,380.9) scale(5.60)\" xlink:href=\"#gpPt5\"/>\n",
       "\t<use color=\"rgb(255,   0,   0)\" transform=\"translate(180.2,378.5) scale(5.60)\" xlink:href=\"#gpPt5\"/>\n",
       "\t<use color=\"rgb(255,   0,   0)\" transform=\"translate(253.0,375.1) scale(5.60)\" xlink:href=\"#gpPt5\"/>\n",
       "\t<use color=\"rgb(255,   0,   0)\" transform=\"translate(325.9,367.1) scale(5.60)\" xlink:href=\"#gpPt5\"/>\n",
       "\t<use color=\"rgb(255,   0,   0)\" transform=\"translate(398.7,362.2) scale(5.60)\" xlink:href=\"#gpPt5\"/>\n",
       "\t<use color=\"rgb(255,   0,   0)\" transform=\"translate(471.5,358.1) scale(5.60)\" xlink:href=\"#gpPt5\"/>\n",
       "\t<use color=\"rgb(255,   0,   0)\" transform=\"translate(544.3,352.2) scale(5.60)\" xlink:href=\"#gpPt5\"/>\n",
       "</g>\n",
       "\t</g>\n",
       "\t<g id=\"gnuplot_plot_2a\"><title>gnuplot_plot_2a</title>\n",
       "<g color=\"black\" fill=\"none\" stroke=\"currentColor\" stroke-linecap=\"butt\" stroke-linejoin=\"miter\" stroke-width=\"0.50\">\n",
       "\t<path d=\"M34.6,70.5 L544.3,70.5  \" stroke=\"rgb(  0,   0, 255)\"/></g>\n",
       "\t</g>\n",
       "<g color=\"#FFFFFF\" fill=\"none\" stroke=\"rgb(  0,   0, 255)\" stroke-linecap=\"butt\" stroke-linejoin=\"miter\" stroke-width=\"2.00\">\n",
       "</g>\n",
       "<g color=\"black\" fill=\"none\" stroke=\"currentColor\" stroke-linecap=\"butt\" stroke-linejoin=\"miter\" stroke-width=\"2.00\">\n",
       "</g>\n",
       "<g color=\"black\" fill=\"none\" stroke=\"black\" stroke-linecap=\"butt\" stroke-linejoin=\"miter\" stroke-width=\"0.50\">\n",
       "\t<path d=\"M34.6,384.2 L544.3,384.2 M34.6,39.0 L544.3,39.0 M34.6,384.2 L34.6,39.0 M544.3,384.2 L544.3,39.0    \" stroke=\"rgb( 38,  38,  38)\"/></g>\n",
       "<g color=\"black\" fill=\"none\" stroke=\"rgb( 38,  38,  38)\" stroke-linecap=\"butt\" stroke-linejoin=\"miter\" stroke-width=\"1.00\">\n",
       "</g>\n",
       "<g color=\"black\" fill=\"none\" stroke=\"currentColor\" stroke-linecap=\"butt\" stroke-linejoin=\"miter\" stroke-width=\"1.00\">\n",
       "</g>\n",
       "</g>\n",
       "</svg>"
      ],
      "text/plain": [
       "<IPython.core.display.SVG object>"
      ]
     },
     "metadata": {},
     "output_type": "display_data"
    }
   ],
   "source": [
    "plot([CPUTimeAndGenerations18(:,1)], [CPUTimeAndGenerations18(:,2)], 'o-r');\n",
    "title (\"Computational time and number of generations in TSP\");\n",
    "xlabel (\"Number of generations\");\n",
    "ylabel (\"Computational time [s]\");\n",
    "hold on;\n",
    "plot([min(CPUTimeAndGenerations18(:,1)),max(CPUTimeAndGenerations18(:,1))],[cputime,cputime], 'b')\n",
    "hold off;"
   ]
  }
 ],
 "metadata": {
  "kernelspec": {
   "display_name": "Octave",
   "language": "octave",
   "name": "octave"
  },
  "language_info": {
   "file_extension": ".m",
   "help_links": [
    {
     "text": "GNU Octave",
     "url": "https://www.gnu.org/software/octave/support.html"
    },
    {
     "text": "Octave Kernel",
     "url": "https://github.com/Calysto/octave_kernel"
    },
    {
     "text": "MetaKernel Magics",
     "url": "https://github.com/calysto/metakernel/blob/master/metakernel/magics/README.md"
    }
   ],
   "mimetype": "text/x-octave",
   "name": "octave",
   "version": "4.4.1"
  }
 },
 "nbformat": 4,
 "nbformat_minor": 2
}
