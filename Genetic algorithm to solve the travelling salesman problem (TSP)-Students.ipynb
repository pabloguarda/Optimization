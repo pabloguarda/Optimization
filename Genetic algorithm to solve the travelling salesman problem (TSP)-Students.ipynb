{
 "cells": [
  {
   "cell_type": "markdown",
   "metadata": {},
   "source": [
    "# 1) Solving the travelling salesman problem (TSP) for 7 cities"
   ]
  },
  {
   "cell_type": "markdown",
   "metadata": {},
   "source": [
    "### Number of cities"
   ]
  },
  {
   "cell_type": "code",
   "execution_count": 1,
   "metadata": {},
   "outputs": [
    {
     "name": "stdout",
     "output_type": "stream",
     "text": [
      "n =  7\n"
     ]
    }
   ],
   "source": [
    "n = 7"
   ]
  },
  {
   "cell_type": "markdown",
   "metadata": {},
   "source": [
    "### Distance between cities"
   ]
  },
  {
   "cell_type": "code",
   "execution_count": 2,
   "metadata": {},
   "outputs": [
    {
     "name": "stdout",
     "output_type": "stream",
     "text": [
      "d =\n",
      "\n",
      "    0.00000   93.86159   98.86966   55.68936   78.39832   22.45300   86.26204\n",
      "   24.65572    0.00000    6.21891   43.83687   56.25448   75.81690   21.50750\n",
      "    7.65418   48.54821    0.00000   69.98364   55.89332   77.04183   46.32684\n",
      "   74.70284    5.01043   22.77113    0.00000   27.55453   43.90099   68.09952\n",
      "   18.68610    6.11726   17.45049   50.33226    0.00000   23.55954   90.02563\n",
      "   90.62741   91.56467   47.18774   34.94656   32.65972    0.00000   38.97996\n",
      "    7.00585   26.94670   82.37768   91.04334   69.73288    1.89047    0.00000\n",
      "\n"
     ]
    }
   ],
   "source": [
    "function d = distanceMatrixCities(n)\n",
    "\n",
    "    d = 100*rand(n);\n",
    "\n",
    "    ## Fill diagonal with zeros\n",
    "    i = 1;\n",
    "    \n",
    "    while(i<=n)\n",
    "        d(i,i) = 0;\n",
    "        i++;\n",
    "    end\n",
    "    \n",
    "end\n",
    "\n",
    "d = distanceMatrixCities(n)"
   ]
  },
  {
   "cell_type": "markdown",
   "metadata": {},
   "source": [
    "## a) Initial population"
   ]
  },
  {
   "cell_type": "markdown",
   "metadata": {},
   "source": [
    "### Population"
   ]
  },
  {
   "cell_type": "code",
   "execution_count": 3,
   "metadata": {},
   "outputs": [],
   "source": [
    "pop = perms([1:n]);"
   ]
  },
  {
   "cell_type": "code",
   "execution_count": 4,
   "metadata": {},
   "outputs": [
    {
     "name": "stdout",
     "output_type": "stream",
     "text": [
      "ans =  5040\n"
     ]
    }
   ],
   "source": [
    "size(pop)(1)"
   ]
  },
  {
   "cell_type": "code",
   "execution_count": 5,
   "metadata": {},
   "outputs": [],
   "source": [
    "totalPop = pop;"
   ]
  },
  {
   "cell_type": "markdown",
   "metadata": {},
   "source": [
    "### Size of the initial generation"
   ]
  },
  {
   "cell_type": "code",
   "execution_count": 6,
   "metadata": {},
   "outputs": [
    {
     "name": "stdout",
     "output_type": "stream",
     "text": [
      "sizeSubPop =  10\n"
     ]
    }
   ],
   "source": [
    "sizeSubPop = 10 "
   ]
  },
  {
   "cell_type": "markdown",
   "metadata": {},
   "source": [
    "### Select individuals randomly from the population (\"generation 0\")"
   ]
  },
  {
   "cell_type": "code",
   "execution_count": 1,
   "metadata": {},
   "outputs": [
    {
     "name": "stdout",
     "output_type": "stream",
     "text": [
      "error: 'totalPop' undefined near line 1 column 35\n"
     ]
    }
   ],
   "source": [
    "function subPop = createSubPopulation(totalPop,sizeSubPop)\n",
    "\n",
    "    subPop = totalPop(randi(size(totalPop)(1),sizeSubPop,1),:);\n",
    "\n",
    "end\n",
    "\n",
    "generation0 = createSubPopulation(totalPop,sizeSubPop)\n"
   ]
  },
  {
   "cell_type": "markdown",
   "metadata": {},
   "source": [
    "## b) Fitness calculation"
   ]
  },
  {
   "cell_type": "markdown",
   "metadata": {},
   "source": [
    "### Total travel distance for each possible sequence of cities"
   ]
  },
  {
   "cell_type": "code",
   "execution_count": 8,
   "metadata": {},
   "outputs": [],
   "source": [
    "function individuals = distanceCalculation(pop,d)\n",
    "    \n",
    "    daccs = zeros([size(pop)(1),size(pop)(2)+1]);\n",
    "\n",
    "        for i = 1:(size(pop)(1))\n",
    "            dacc = 0;\n",
    "\n",
    "            for j = 1:(size(pop)(2)-1)\n",
    "                dacc += d(pop(i,j),pop(i,j+1));\n",
    "            end\n",
    "\n",
    "            daccs(i,:) = [pop(i,:),dacc];\n",
    "            \n",
    "        end\n",
    "    \n",
    "    individuals{1} = pop;\n",
    "    individuals{2} = daccs(:,size(daccs)(2));\n",
    "\n",
    "end\n",
    "\n"
   ]
  },
  {
   "cell_type": "code",
   "execution_count": 9,
   "metadata": {},
   "outputs": [
    {
     "name": "stdout",
     "output_type": "stream",
     "text": [
      "generation0 =\n",
      "{\n",
      "  [1,1] =\n",
      "\n",
      "     1   6   5   7   3   4   2\n",
      "     6   3   1   7   5   2   4\n",
      "     5   1   2   7   3   4   6\n",
      "     6   2   4   1   7   3   5\n",
      "     4   1   2   7   5   6   3\n",
      "     7   4   6   5   3   2   1\n",
      "     7   3   4   5   6   1   2\n",
      "     5   3   4   6   7   1   2\n",
      "     1   2   4   6   3   7   5\n",
      "     7   5   3   6   1   4   2\n",
      "\n",
      "  [1,2] =\n",
      "\n",
      "     302.51\n",
      "     260.79\n",
      "     330.32\n",
      "     434.64\n",
      "     330.55\n",
      "     258.26\n",
      "     387.96\n",
      "     271.18\n",
      "     344.85\n",
      "     315.55\n",
      "\n",
      "}\n",
      "\n"
     ]
    }
   ],
   "source": [
    "## The first position of the array has the sequence of cities and the second position the total distance between cities\n",
    "generation0 = distanceCalculation(pop = generation0,d = d)"
   ]
  },
  {
   "cell_type": "markdown",
   "metadata": {},
   "source": [
    "### Fitness function"
   ]
  },
  {
   "cell_type": "code",
   "execution_count": 10,
   "metadata": {},
   "outputs": [],
   "source": [
    "function individuals = fitness(individuals)\n",
    "\n",
    "    individuals{3} = individuals{2};\n",
    "\n",
    "    for i=1:size(individuals{1})(1)\n",
    "\n",
    "        individuals{3}(i,1) = 1/individuals{2}(i);\n",
    "\n",
    "    end \n",
    "\n",
    "end"
   ]
  },
  {
   "cell_type": "code",
   "execution_count": 11,
   "metadata": {},
   "outputs": [
    {
     "name": "stdout",
     "output_type": "stream",
     "text": [
      "generation0 =\n",
      "{\n",
      "  [1,1] =\n",
      "\n",
      "     1   6   5   7   3   4   2\n",
      "     6   3   1   7   5   2   4\n",
      "     5   1   2   7   3   4   6\n",
      "     6   2   4   1   7   3   5\n",
      "     4   1   2   7   5   6   3\n",
      "     7   4   6   5   3   2   1\n",
      "     7   3   4   5   6   1   2\n",
      "     5   3   4   6   7   1   2\n",
      "     1   2   4   6   3   7   5\n",
      "     7   5   3   6   1   4   2\n",
      "\n",
      "  [1,2] =\n",
      "\n",
      "     302.51\n",
      "     260.79\n",
      "     330.32\n",
      "     434.64\n",
      "     330.55\n",
      "     258.26\n",
      "     387.96\n",
      "     271.18\n",
      "     344.85\n",
      "     315.55\n",
      "\n",
      "  [1,3] =\n",
      "\n",
      "     0.0033057\n",
      "     0.0038345\n",
      "     0.0030274\n",
      "     0.0023008\n",
      "     0.0030252\n",
      "     0.0038721\n",
      "     0.0025776\n",
      "     0.0036876\n",
      "     0.0028998\n",
      "     0.0031690\n",
      "\n",
      "}\n",
      "\n"
     ]
    }
   ],
   "source": [
    "#The third position of the array includes the fitness of each individual\n",
    "generation0 = fitness(generation0)"
   ]
  },
  {
   "cell_type": "markdown",
   "metadata": {},
   "source": [
    "## c) Choosing parents to create the next generation of individuals"
   ]
  },
  {
   "cell_type": "code",
   "execution_count": 12,
   "metadata": {},
   "outputs": [],
   "source": [
    "function [individuals,parents] = chooseParents(individuals)\n",
    "\n",
    "    individuals{4} = individuals{3};\n",
    "\n",
    "    individualsCopy = individuals;\n",
    "\n",
    "    #probParent = individuals{3}/sum(individuals{3})\n",
    "\n",
    "    #First best-fitted individual\n",
    "\n",
    "    [maxVal1,maxIndex1] = max(individuals{3});\n",
    "\n",
    "    #Second best-fitted individual\n",
    "    individualsCopy{3}(maxIndex1) = -1*individualsCopy{3}(maxIndex1);\n",
    "    [maxVal2,maxIndex2] = max(individualsCopy{3});\n",
    "\n",
    "    #Create a column with binary variables that takes the value 1 if the individual is parent or zero, otherwise. \n",
    "    individuals{4}=zeros(size(individuals{1})(1),1);\n",
    "\n",
    "    individuals{4}(maxIndex1) = 1;\n",
    "    individuals{4}(maxIndex2) = 1;\n",
    "\n",
    "end"
   ]
  },
  {
   "cell_type": "code",
   "execution_count": 13,
   "metadata": {},
   "outputs": [
    {
     "name": "stdout",
     "output_type": "stream",
     "text": [
      "ans =\n",
      "{\n",
      "  [1,1] =\n",
      "\n",
      "     1   6   5   7   3   4   2\n",
      "     6   3   1   7   5   2   4\n",
      "     5   1   2   7   3   4   6\n",
      "     6   2   4   1   7   3   5\n",
      "     4   1   2   7   5   6   3\n",
      "     7   4   6   5   3   2   1\n",
      "     7   3   4   5   6   1   2\n",
      "     5   3   4   6   7   1   2\n",
      "     1   2   4   6   3   7   5\n",
      "     7   5   3   6   1   4   2\n",
      "\n",
      "  [1,2] =\n",
      "\n",
      "     302.51\n",
      "     260.79\n",
      "     330.32\n",
      "     434.64\n",
      "     330.55\n",
      "     258.26\n",
      "     387.96\n",
      "     271.18\n",
      "     344.85\n",
      "     315.55\n",
      "\n",
      "  [1,3] =\n",
      "\n",
      "     0.0033057\n",
      "     0.0038345\n",
      "     0.0030274\n",
      "     0.0023008\n",
      "     0.0030252\n",
      "     0.0038721\n",
      "     0.0025776\n",
      "     0.0036876\n",
      "     0.0028998\n",
      "     0.0031690\n",
      "\n",
      "  [1,4] =\n",
      "\n",
      "     0\n",
      "     1\n",
      "     0\n",
      "     0\n",
      "     0\n",
      "     1\n",
      "     0\n",
      "     0\n",
      "     0\n",
      "     0\n",
      "\n",
      "}\n",
      "\n"
     ]
    }
   ],
   "source": [
    "#The fourth position of the array shows which individuals were selected as parents\n",
    "chooseParents(generation0)"
   ]
  },
  {
   "cell_type": "code",
   "execution_count": 14,
   "metadata": {},
   "outputs": [],
   "source": [
    "function parents = createParents(individuals)\n",
    "\n",
    "individuals = chooseParents(individuals);\n",
    "\n",
    "parents = {:};\n",
    "\n",
    "count = 1;\n",
    "\n",
    "for i = 1:size(individuals{4})(1)\n",
    "\n",
    "    if individuals{4}(i) == 1\n",
    "\n",
    "    parents{1}(count,:) = individuals{1}(i,:);\n",
    "    parents{2}(count,:) = individuals{2}(i,:);\n",
    "    parents{3}(count,:) = individuals{3}(i,:);\n",
    "    \n",
    "    count++;\n",
    "\n",
    "    end\n",
    "\n",
    "end\n",
    "\n",
    "\n",
    "end"
   ]
  },
  {
   "cell_type": "code",
   "execution_count": 15,
   "metadata": {},
   "outputs": [
    {
     "name": "stdout",
     "output_type": "stream",
     "text": [
      "parentsG0 =\n",
      "{\n",
      "  [1,1] =\n",
      "\n",
      "     6   3   1   7   5   2   4\n",
      "     7   4   6   5   3   2   1\n",
      "\n",
      "  [1,2] =\n",
      "\n",
      "     260.79\n",
      "     258.26\n",
      "\n",
      "  [1,3] =\n",
      "\n",
      "     0.0038345\n",
      "     0.0038721\n",
      "\n",
      "}\n",
      "\n"
     ]
    }
   ],
   "source": [
    "#This array includes information on the parents selected from generation 0 (1: sequence of cities, 2: total distance, 3: fitness)\n",
    "parentsG0 = createParents(generation0)"
   ]
  },
  {
   "cell_type": "markdown",
   "metadata": {},
   "source": [
    "## d) Crossover"
   ]
  },
  {
   "cell_type": "markdown",
   "metadata": {},
   "source": [
    "### Check if a gene (city) exist in a chromosome (sequence of cities)"
   ]
  },
  {
   "cell_type": "code",
   "execution_count": 16,
   "metadata": {},
   "outputs": [],
   "source": [
    "function geneExist = containGene(child,gene)\n",
    "\n",
    "    geneExist = false;\n",
    "\n",
    "    for i=1:length(child)\n",
    "\n",
    "        if child(i) == gene\n",
    "\n",
    "            geneExist = true;\n",
    "\n",
    "        end\n",
    "\n",
    "    end\n",
    "\n",
    "end"
   ]
  },
  {
   "cell_type": "markdown",
   "metadata": {},
   "source": [
    "### Crossover between the two parents"
   ]
  },
  {
   "cell_type": "code",
   "execution_count": 17,
   "metadata": {},
   "outputs": [],
   "source": [
    "function child = crossover(parents)\n",
    "\n",
    "\n",
    "    nParents = size(parents{1})(1);\n",
    "    chromosomeSize = size(parents{1})(2);\n",
    "\n",
    "    %Select a random crossover point\n",
    "    indexCO = randi([2,chromosomeSize],1,1);\n",
    "\n",
    "    %Select the parent (parentChromosome1) that is used to start the crossover\n",
    "    parentCO = randi(nParents,1,1);\n",
    "    chromosomeParent1 = parents{1}(parentCO,:);\n",
    "    chromosomeParent2 = parents{1}(1,:);\n",
    "\n",
    "    if parentCO == 1\n",
    "        chromosomeParent2 = parents{1}(2,:);\n",
    "    end\n",
    "\n",
    "    child = chromosomeParent1;\n",
    "\n",
    "    #Genes from parent 1\n",
    "    for i=1:length(child)\n",
    "\n",
    "        if i < indexCO\n",
    "            child(i) = 0;\n",
    "        end\n",
    "\n",
    "    end\n",
    "\n",
    "    #Genes from parent 2\n",
    "    genePosition = 1;\n",
    "    for i=1:(indexCO-1)\n",
    "\n",
    "        implant = false;\n",
    "\n",
    "        while implant == false \n",
    "            geneExist = containGene(child,chromosomeParent2(genePosition));\n",
    "\n",
    "            if geneExist == true\n",
    "                genePosition++;\n",
    "                implant = false;\n",
    "\n",
    "            else\n",
    "                child(i) = chromosomeParent2(genePosition);\n",
    "                implant = true;\n",
    "                genePosition++;\n",
    "            end\n",
    "\n",
    "        end\n",
    "\n",
    "    end\n",
    "    \n",
    "end"
   ]
  },
  {
   "cell_type": "code",
   "execution_count": 18,
   "metadata": {},
   "outputs": [
    {
     "name": "stdout",
     "output_type": "stream",
     "text": [
      "childG0 =\n",
      "\n",
      "   6   7   5   4   3   2   1\n",
      "\n"
     ]
    }
   ],
   "source": [
    "childG0 = crossover(parentsG0)"
   ]
  },
  {
   "cell_type": "markdown",
   "metadata": {},
   "source": [
    "## e) Mutation"
   ]
  },
  {
   "cell_type": "code",
   "execution_count": 19,
   "metadata": {},
   "outputs": [],
   "source": [
    "function child = mutation(child, pm)\n",
    "    \n",
    "    childCopy = child;\n",
    "    chromosomeSize = length(child);\n",
    "\n",
    "    %Select two random mutation points\n",
    "    indexM1 = randi([1,chromosomeSize],1,1);\n",
    "    indexM2 = randi([1,chromosomeSize],1,1);\n",
    "    \n",
    "    %Mutation is done with a 'pm'% chance\n",
    "    mutationProbThreshold = rand(1);\n",
    "    \n",
    "    if mutationProbThreshold <= pm\n",
    "    \n",
    "        childCopy(indexM1) = child(indexM2);\n",
    "        childCopy(indexM2) = child(indexM1);\n",
    "        \n",
    "    end\n",
    "    \n",
    "    child = childCopy;\n",
    "\n",
    "end"
   ]
  },
  {
   "cell_type": "code",
   "execution_count": 20,
   "metadata": {},
   "outputs": [
    {
     "name": "stdout",
     "output_type": "stream",
     "text": [
      "childG0 =\n",
      "\n",
      "   6   7   5   4   3   2   1\n",
      "\n",
      "childG0 =\n",
      "\n",
      "   2   7   5   4   3   6   1\n",
      "\n"
     ]
    }
   ],
   "source": [
    "childG0\n",
    "childG0 = mutation(childG0, pm = 0.5) # Mutation with a 50% probability"
   ]
  },
  {
   "cell_type": "markdown",
   "metadata": {},
   "source": [
    "## f) Next Generation  (replacement)"
   ]
  },
  {
   "cell_type": "markdown",
   "metadata": {},
   "source": [
    "### Size of the next generation "
   ]
  },
  {
   "cell_type": "code",
   "execution_count": 21,
   "metadata": {},
   "outputs": [
    {
     "name": "stdout",
     "output_type": "stream",
     "text": [
      "sizeGeneration =  10\n"
     ]
    }
   ],
   "source": [
    "sizeGeneration = 1*size(generation0{1})(1)"
   ]
  },
  {
   "cell_type": "markdown",
   "metadata": {},
   "source": [
    "### Check if the child exists in a generation"
   ]
  },
  {
   "cell_type": "code",
   "execution_count": 22,
   "metadata": {},
   "outputs": [],
   "source": [
    "function childExist = containChild(child,children)\n",
    "    \n",
    "    childExist = false;\n",
    "    \n",
    "    for i=1:size(children)(1)\n",
    "    \n",
    "        counterEqualGenes = 0;\n",
    "        \n",
    "        for j= 1:length(children(i,:))\n",
    "        \n",
    "            if children(i,:)(j) == child(j)\n",
    "                counterEqualGenes++;\n",
    "            end\n",
    "     \n",
    "        end\n",
    "        \n",
    "        if counterEqualGenes == length(child)\n",
    "            childExist = true;\n",
    "        end\n",
    "\n",
    "\n",
    "    end\n",
    "\n",
    "end"
   ]
  },
  {
   "cell_type": "markdown",
   "metadata": {},
   "source": [
    "### Function to create the next generations of individuals"
   ]
  },
  {
   "cell_type": "code",
   "execution_count": 23,
   "metadata": {},
   "outputs": [],
   "source": [
    "function generations = createNewGeneration(nGenerations,sizeGeneration,individuals,d,pm)\n",
    "    \n",
    "    \n",
    "    #This process is iteratively repeated for each generation\n",
    "    generations = {:};\n",
    "    \n",
    "    t=cputime;\n",
    "    \n",
    "    for i=1:nGenerations      \n",
    "        \n",
    "        \n",
    "        \n",
    "        individuals = distanceCalculation(individuals{1},d);\n",
    "\n",
    "        individuals = fitness(individuals);\n",
    "\n",
    "        parents = createParents(individuals);\n",
    "\n",
    "        child = crossover(parents);\n",
    "\n",
    "        child = mutation(child,pm);\n",
    "        \n",
    "        if i == 1\n",
    "            \n",
    "            #Information about the new generation\n",
    "            individuals(4) = min(individuals{2});\n",
    "            individuals{5} = cputime-t;\n",
    "            generations{i} = individuals;\n",
    "            \n",
    "        end\n",
    "               \n",
    "        if i > 1\n",
    "        \n",
    "            #This process is repeated until reaching the number of individuals in a generation\n",
    "            newGeneration = {:};\n",
    "        \n",
    "            %newGeneration{2} = zeros(sizeGeneration,length(child));\n",
    "\n",
    "            newGeneration{1}(1,:) = child;\n",
    "\n",
    "            for j=1:sizeGeneration\n",
    "\n",
    "                 newChild = mutation(crossover(parents),pm);\n",
    "\n",
    "                 #Children are all different\n",
    "                 while(containChild(child = newChild, children = newGeneration{1}))\n",
    "\n",
    "                     newChild = mutation(crossover(parents),pm);\n",
    "\n",
    "                 end\n",
    "\n",
    "                 newGeneration{1}(j,:) = newChild;\n",
    "\n",
    "            end\n",
    "\n",
    "            #Information about the new generation\n",
    "            individuals  = distanceCalculation(newGeneration{1},d);\n",
    "            individuals = fitness(individuals);\n",
    "            individuals(4) = min(individuals{2});\n",
    "            individuals{5} = cputime-t;\n",
    "            generations{i} = individuals;\n",
    "        \n",
    "        end\n",
    "        \n",
    "\n",
    "        \n",
    "\n",
    "\n",
    "        \n",
    "    end\n",
    "\n",
    "end"
   ]
  },
  {
   "cell_type": "markdown",
   "metadata": {},
   "source": [
    "# 2) Analyses"
   ]
  },
  {
   "cell_type": "markdown",
   "metadata": {},
   "source": [
    "## Initial generation"
   ]
  },
  {
   "cell_type": "code",
   "execution_count": 24,
   "metadata": {},
   "outputs": [
    {
     "name": "stdout",
     "output_type": "stream",
     "text": [
      "ans =\n",
      "{\n",
      "  [1,1] =\n",
      "  {\n",
      "    [1,1] =\n",
      "\n",
      "       1   6   5   7   3   4   2\n",
      "       6   3   1   7   5   2   4\n",
      "       5   1   2   7   3   4   6\n",
      "       6   2   4   1   7   3   5\n",
      "       4   1   2   7   5   6   3\n",
      "       7   4   6   5   3   2   1\n",
      "       7   3   4   5   6   1   2\n",
      "       5   3   4   6   7   1   2\n",
      "       1   2   4   6   3   7   5\n",
      "       7   5   3   6   1   4   2\n",
      "\n",
      "    [1,2] =\n",
      "\n",
      "       302.51\n",
      "       260.79\n",
      "       330.32\n",
      "       434.64\n",
      "       330.55\n",
      "       258.26\n",
      "       387.96\n",
      "       271.18\n",
      "       344.85\n",
      "       315.55\n",
      "\n",
      "    [1,3] =\n",
      "\n",
      "       0.0033057\n",
      "       0.0038345\n",
      "       0.0030274\n",
      "       0.0023008\n",
      "       0.0030252\n",
      "       0.0038721\n",
      "       0.0025776\n",
      "       0.0036876\n",
      "       0.0028998\n",
      "       0.0031690\n",
      "\n",
      "    [1,4] =  258.26\n",
      "    [1,5] =  0.0084960\n",
      "  }\n",
      "\n",
      "}\n",
      "\n"
     ]
    }
   ],
   "source": [
    "createNewGeneration(nGenerations = 1, sizeGeneration = sizeGeneration,individuals = generation0, d = d, pm = 0.2)"
   ]
  },
  {
   "cell_type": "code",
   "execution_count": null,
   "metadata": {},
   "outputs": [],
   "source": []
  },
  {
   "cell_type": "markdown",
   "metadata": {},
   "source": [
    "## First generation"
   ]
  },
  {
   "cell_type": "code",
   "execution_count": 25,
   "metadata": {},
   "outputs": [],
   "source": [
    "generation01 = createNewGeneration(nGenerations = 2, sizeGeneration = sizeGeneration,individuals = generation0, d = d, pm = 0.2);"
   ]
  },
  {
   "cell_type": "code",
   "execution_count": 26,
   "metadata": {},
   "outputs": [
    {
     "name": "stdout",
     "output_type": "stream",
     "text": [
      "ans =\n",
      "{\n",
      "  [1,1] =\n",
      "\n",
      "     6   7   5   4   3   2   1\n",
      "     6   3   7   5   4   2   1\n",
      "     6   7   4   5   3   2   1\n",
      "     7   6   5   3   2   1   4\n",
      "     6   3   7   5   2   4   1\n",
      "     7   4   2   5   3   6   1\n",
      "     7   4   6   5   3   2   1\n",
      "     7   6   3   1   5   2   4\n",
      "     6   3   1   7   5   2   4\n",
      "     7   6   5   2   1   3   4\n",
      "\n",
      "  [1,2] =\n",
      "\n",
      "     255.02\n",
      "     243.25\n",
      "     248.23\n",
      "     180.89\n",
      "     287.90\n",
      "     337.43\n",
      "     258.26\n",
      "     185.08\n",
      "     260.79\n",
      "     234.18\n",
      "\n",
      "  [1,3] =\n",
      "\n",
      "     0.0039213\n",
      "     0.0041111\n",
      "     0.0040285\n",
      "     0.0055281\n",
      "     0.0034734\n",
      "     0.0029636\n",
      "     0.0038721\n",
      "     0.0054029\n",
      "     0.0038345\n",
      "     0.0042703\n",
      "\n",
      "  [1,4] =  180.89\n",
      "  [1,5] =  0.081403\n",
      "}\n",
      "\n"
     ]
    }
   ],
   "source": [
    "generation01{2}"
   ]
  },
  {
   "cell_type": "markdown",
   "metadata": {},
   "source": [
    "## Second generation"
   ]
  },
  {
   "cell_type": "code",
   "execution_count": 27,
   "metadata": {},
   "outputs": [],
   "source": [
    "generation12 = createNewGeneration(nGenerations = 2, sizeGeneration = sizeGeneration,individuals = generation01{2}, d = d, pm = 0.8);"
   ]
  },
  {
   "cell_type": "code",
   "execution_count": 28,
   "metadata": {},
   "outputs": [
    {
     "name": "stdout",
     "output_type": "stream",
     "text": [
      "ans =\n",
      "{\n",
      "  [1,1] =\n",
      "\n",
      "     7   5   3   6   2   1   4\n",
      "     7   6   2   1   5   3   4\n",
      "     7   6   3   1   5   2   4\n",
      "     1   6   5   3   2   7   4\n",
      "     7   6   5   3   1   2   4\n",
      "     5   6   3   7   2   1   4\n",
      "     7   4   3   5   2   1   6\n",
      "     7   3   5   6   2   1   4\n",
      "     7   6   3   1   2   5   4\n",
      "     7   4   3   1   5   2   6\n",
      "\n",
      "  [1,2] =\n",
      "\n",
      "     336.13\n",
      "     283.94\n",
      "     185.08\n",
      "     233.66\n",
      "     197.35\n",
      "     224.37\n",
      "     222.93\n",
      "     333.74\n",
      "     257.18\n",
      "     281.80\n",
      "\n",
      "  [1,3] =\n",
      "\n",
      "     0.0029750\n",
      "     0.0035218\n",
      "     0.0054029\n",
      "     0.0042797\n",
      "     0.0050671\n",
      "     0.0044570\n",
      "     0.0044856\n",
      "     0.0029963\n",
      "     0.0038883\n",
      "     0.0035486\n",
      "\n",
      "  [1,4] =  185.08\n",
      "  [1,5] =  0.079272\n",
      "}\n",
      "\n"
     ]
    }
   ],
   "source": [
    "generation12{2}"
   ]
  },
  {
   "cell_type": "markdown",
   "metadata": {},
   "source": [
    "## 4 generations (generation 0, 1, 2 and 3)"
   ]
  },
  {
   "cell_type": "code",
   "execution_count": 29,
   "metadata": {},
   "outputs": [
    {
     "name": "stdout",
     "output_type": "stream",
     "text": [
      "generations1234 =\n",
      "{\n",
      "  [1,1] =\n",
      "  {\n",
      "    [1,1] =\n",
      "\n",
      "       1   6   5   7   3   4   2\n",
      "       6   3   1   7   5   2   4\n",
      "       5   1   2   7   3   4   6\n",
      "       6   2   4   1   7   3   5\n",
      "       4   1   2   7   5   6   3\n",
      "       7   4   6   5   3   2   1\n",
      "       7   3   4   5   6   1   2\n",
      "       5   3   4   6   7   1   2\n",
      "       1   2   4   6   3   7   5\n",
      "       7   5   3   6   1   4   2\n",
      "\n",
      "    [1,2] =\n",
      "\n",
      "       302.51\n",
      "       260.79\n",
      "       330.32\n",
      "       434.64\n",
      "       330.55\n",
      "       258.26\n",
      "       387.96\n",
      "       271.18\n",
      "       344.85\n",
      "       315.55\n",
      "\n",
      "    [1,3] =\n",
      "\n",
      "       0.0033057\n",
      "       0.0038345\n",
      "       0.0030274\n",
      "       0.0023008\n",
      "       0.0030252\n",
      "       0.0038721\n",
      "       0.0025776\n",
      "       0.0036876\n",
      "       0.0028998\n",
      "       0.0031690\n",
      "\n",
      "    [1,4] =  258.26\n",
      "    [1,5] =  0.0067600\n",
      "  }\n",
      "\n",
      "  [1,2] =\n",
      "  {\n",
      "    [1,1] =\n",
      "\n",
      "       7   4   6   2   3   5   1\n",
      "       5   3   7   6   2   4   1\n",
      "       3   7   5   4   6   2   1\n",
      "       6   3   7   1   2   4   5\n",
      "       6   2   7   5   4   3   1\n",
      "       4   3   1   7   5   2   6\n",
      "       6   7   5   4   3   2   1\n",
      "       7   4   6   5   3   2   1\n",
      "       7   6   5   3   1   4   2\n",
      "       6   3   1   7   5   2   4\n",
      "\n",
      "    [1,2] =\n",
      "\n",
      "       307.31\n",
      "       275.77\n",
      "       326.51\n",
      "       265.77\n",
      "       263.56\n",
      "       268.35\n",
      "       255.02\n",
      "       258.26\n",
      "       120.35\n",
      "       260.79\n",
      "\n",
      "    [1,3] =\n",
      "\n",
      "       0.0032541\n",
      "       0.0036262\n",
      "       0.0030627\n",
      "       0.0037626\n",
      "       0.0037942\n",
      "       0.0037264\n",
      "       0.0039213\n",
      "       0.0038721\n",
      "       0.0083088\n",
      "       0.0038345\n",
      "\n",
      "    [1,4] =  120.35\n",
      "    [1,5] =  0.076715\n",
      "  }\n",
      "\n",
      "}\n",
      "\n"
     ]
    }
   ],
   "source": [
    "generations1234 = createNewGeneration(nGenerations = 2, sizeGeneration = sizeGeneration,individuals = generation0, d = d, pm = 0.8);\n",
    "generations1234"
   ]
  },
  {
   "cell_type": "markdown",
   "metadata": {},
   "source": [
    "# 3) Computational time, generations and optimality"
   ]
  },
  {
   "cell_type": "markdown",
   "metadata": {},
   "source": [
    "#### Optimal value"
   ]
  },
  {
   "cell_type": "code",
   "execution_count": 30,
   "metadata": {},
   "outputs": [],
   "source": [
    "function [opt,t]=OptimalDistanceCalculation(pop,d)\n",
    "\n",
    "    t=cputime;\n",
    "\n",
    "    opt = min(distanceCalculation(pop,d){2});\n",
    "\n",
    "    t = cputime-t;\n",
    "\n",
    "end"
   ]
  },
  {
   "cell_type": "code",
   "execution_count": 31,
   "metadata": {},
   "outputs": [
    {
     "name": "stdout",
     "output_type": "stream",
     "text": [
      "optimalDistance =  84.382\n",
      "cputime =  1.0892\n"
     ]
    }
   ],
   "source": [
    "[optimalDistance, cputime] = OptimalDistanceCalculation(pop = totalPop, d = d)"
   ]
  },
  {
   "cell_type": "markdown",
   "metadata": {},
   "source": [
    "#### Plot computational time and optimality"
   ]
  },
  {
   "cell_type": "code",
   "execution_count": 32,
   "metadata": {},
   "outputs": [],
   "source": [
    "function OptimalityAndGenerations = tableOptimalityAndNGenerations(minNGenerations,maxNGenerations, sizeGeneration,individuals,d,pm)\n",
    "\n",
    "    newGenerations = createNewGeneration(nGenerations = maxNGenerations, sizeGeneration = sizeGeneration,individuals = individuals, d = d, pm = pm);\n",
    "\n",
    "    OptimalityAndGenerations = zeros(maxNGenerations-minNGenerations+1,2);\n",
    "\n",
    "    count = 1;\n",
    "    \n",
    "    for i = minNGenerations:maxNGenerations;\n",
    "\n",
    "        OptimalityAndGenerations(count,1) = i;\n",
    "        OptimalityAndGenerations(count,2) = newGenerations{i}{4};\n",
    "        count++;\n",
    "\n",
    "    end\n",
    "\n",
    "end"
   ]
  },
  {
   "cell_type": "code",
   "execution_count": 33,
   "metadata": {},
   "outputs": [
    {
     "name": "stdout",
     "output_type": "stream",
     "text": [
      "OptimalityAndGenerations18 =\n",
      "\n",
      "     1.0000   258.2585\n",
      "     2.0000   180.8940\n",
      "     3.0000   110.2299\n",
      "     4.0000   110.2299\n",
      "     5.0000   110.2299\n",
      "     6.0000   103.7660\n",
      "     7.0000   103.7660\n",
      "     8.0000   103.7660\n",
      "\n"
     ]
    }
   ],
   "source": [
    "OptimalityAndGenerations18 = tableOptimalityAndNGenerations(minNGenerations = 1,maxNGenerations = 8, sizeGeneration = 15,individuals = individuals, d = d, pm = 0.5)"
   ]
  },
  {
   "cell_type": "code",
   "execution_count": 34,
   "metadata": {},
   "outputs": [
    {
     "data": {
      "image/svg+xml": [
       "<svg height=\"420px\" viewBox=\"0 0 560 420\" width=\"560px\" xmlns=\"http://www.w3.org/2000/svg\" xmlns:xlink=\"http://www.w3.org/1999/xlink\">\n",
       "\n",
       "<title>Gnuplot</title>\n",
       "<desc>Produced by GNUPLOT 5.2 patchlevel 5 </desc>\n",
       "\n",
       "<g id=\"gnuplot_canvas\">\n",
       "\n",
       "<rect fill=\"#ffffff\" height=\"420\" width=\"560\" x=\"0\" y=\"0\"/>\n",
       "<defs>\n",
       "\n",
       "\t<circle id=\"gpDot\" r=\"0.5\" stroke=\"currentColor\" stroke-width=\"0.5\"/>\n",
       "\t<path d=\"M-1,0 h2 M0,-1 v2\" id=\"gpPt0\" stroke=\"currentColor\" stroke-width=\"0.357\"/>\n",
       "\t<path d=\"M-1,-1 L1,1 M1,-1 L-1,1\" id=\"gpPt1\" stroke=\"currentColor\" stroke-width=\"0.357\"/>\n",
       "\t<path d=\"M-1,0 L1,0 M0,-1 L0,1 M-1,-1 L1,1 M-1,1 L1,-1\" id=\"gpPt2\" stroke=\"currentColor\" stroke-width=\"0.357\"/>\n",
       "\t<rect height=\"2\" id=\"gpPt3\" stroke=\"currentColor\" stroke-width=\"0.357\" width=\"2\" x=\"-1\" y=\"-1\"/>\n",
       "\t<rect fill=\"currentColor\" height=\"2\" id=\"gpPt4\" stroke=\"currentColor\" stroke-width=\"0.357\" width=\"2\" x=\"-1\" y=\"-1\"/>\n",
       "\t<circle cx=\"0\" cy=\"0\" id=\"gpPt5\" r=\"1\" stroke=\"currentColor\" stroke-width=\"0.357\"/>\n",
       "\t<use fill=\"currentColor\" id=\"gpPt6\" stroke=\"none\" xlink:href=\"#gpPt5\"/>\n",
       "\t<path d=\"M0,-1.33 L-1.33,0.67 L1.33,0.67 z\" id=\"gpPt7\" stroke=\"currentColor\" stroke-width=\"0.357\"/>\n",
       "\t<use fill=\"currentColor\" id=\"gpPt8\" stroke=\"none\" xlink:href=\"#gpPt7\"/>\n",
       "\t<use id=\"gpPt9\" stroke=\"currentColor\" transform=\"rotate(180)\" xlink:href=\"#gpPt7\"/>\n",
       "\t<use fill=\"currentColor\" id=\"gpPt10\" stroke=\"none\" xlink:href=\"#gpPt9\"/>\n",
       "\t<use id=\"gpPt11\" stroke=\"currentColor\" transform=\"rotate(45)\" xlink:href=\"#gpPt3\"/>\n",
       "\t<use fill=\"currentColor\" id=\"gpPt12\" stroke=\"none\" xlink:href=\"#gpPt11\"/>\n",
       "\t<path d=\"M0,1.330 L1.265,0.411 L0.782,-1.067 L-0.782,-1.076 L-1.265,0.411 z\" id=\"gpPt13\" stroke=\"currentColor\" stroke-width=\"0.357\"/>\n",
       "\t<use fill=\"currentColor\" id=\"gpPt14\" stroke=\"none\" xlink:href=\"#gpPt13\"/>\n",
       "\t<filter filterUnits=\"objectBoundingBox\" height=\"1\" id=\"textbox\" width=\"1\" x=\"0\" y=\"0\">\n",
       "\t  <feFlood flood-color=\"#FFFFFF\" flood-opacity=\"1\" result=\"bgnd\"/>\n",
       "\t  <feComposite in=\"SourceGraphic\" in2=\"bgnd\" operator=\"atop\"/>\n",
       "\t</filter>\n",
       "\t<filter filterUnits=\"objectBoundingBox\" height=\"1\" id=\"greybox\" width=\"1\" x=\"0\" y=\"0\">\n",
       "\t  <feFlood flood-color=\"lightgrey\" flood-opacity=\"1\" result=\"grey\"/>\n",
       "\t  <feComposite in=\"SourceGraphic\" in2=\"grey\" operator=\"atop\"/>\n",
       "\t</filter>\n",
       "</defs>\n",
       "<g color=\"#FFFFFF\" fill=\"none\" stroke=\"currentColor\" stroke-linecap=\"butt\" stroke-linejoin=\"miter\" stroke-width=\"1.00\">\n",
       "</g>\n",
       "<g color=\"black\" fill=\"none\" stroke=\"currentColor\" stroke-linecap=\"butt\" stroke-linejoin=\"miter\" stroke-width=\"1.00\">\n",
       "\t<g shape-rendering=\"crispEdges\" stroke=\"none\">\n",
       "\t\t<polygon fill=\"rgb(255, 255, 255)\" points=\"39.8,384.2 544.2,384.2 544.2,39.1 39.8,39.1 \"/>\n",
       "\t</g>\n",
       "</g>\n",
       "<g color=\"black\" fill=\"none\" stroke=\"currentColor\" stroke-linecap=\"butt\" stroke-linejoin=\"miter\" stroke-width=\"1.00\">\n",
       "\t<path d=\"M39.8,384.2 L47.6,384.2 M544.3,384.2 L536.5,384.2  \" stroke=\"rgb(  0,   0,   0)\"/>\t<g fill=\"rgb(38,38,38)\" font-family=\"Arial\" font-size=\"10.00\" stroke=\"none\" text-anchor=\"end\" transform=\"translate(34.6,387.5)\">\n",
       "\t\t<text><tspan font-family=\"Arial\">50</tspan></text>\n",
       "\t</g>\n",
       "</g>\n",
       "<g color=\"black\" fill=\"none\" stroke=\"currentColor\" stroke-linecap=\"butt\" stroke-linejoin=\"miter\" stroke-width=\"1.00\">\n",
       "\t<path d=\"M39.8,315.2 L47.6,315.2 M544.3,315.2 L536.5,315.2  \" stroke=\"rgb(  0,   0,   0)\"/>\t<g fill=\"rgb(38,38,38)\" font-family=\"Arial\" font-size=\"10.00\" stroke=\"none\" text-anchor=\"end\" transform=\"translate(34.6,318.5)\">\n",
       "\t\t<text><tspan font-family=\"Arial\">100</tspan></text>\n",
       "\t</g>\n",
       "</g>\n",
       "<g color=\"black\" fill=\"none\" stroke=\"currentColor\" stroke-linecap=\"butt\" stroke-linejoin=\"miter\" stroke-width=\"1.00\">\n",
       "\t<path d=\"M39.8,246.1 L47.6,246.1 M544.3,246.1 L536.5,246.1  \" stroke=\"rgb(  0,   0,   0)\"/>\t<g fill=\"rgb(38,38,38)\" font-family=\"Arial\" font-size=\"10.00\" stroke=\"none\" text-anchor=\"end\" transform=\"translate(34.6,249.4)\">\n",
       "\t\t<text><tspan font-family=\"Arial\">150</tspan></text>\n",
       "\t</g>\n",
       "</g>\n",
       "<g color=\"black\" fill=\"none\" stroke=\"currentColor\" stroke-linecap=\"butt\" stroke-linejoin=\"miter\" stroke-width=\"1.00\">\n",
       "\t<path d=\"M39.8,177.1 L47.6,177.1 M544.3,177.1 L536.5,177.1  \" stroke=\"rgb(  0,   0,   0)\"/>\t<g fill=\"rgb(38,38,38)\" font-family=\"Arial\" font-size=\"10.00\" stroke=\"none\" text-anchor=\"end\" transform=\"translate(34.6,180.4)\">\n",
       "\t\t<text><tspan font-family=\"Arial\">200</tspan></text>\n",
       "\t</g>\n",
       "</g>\n",
       "<g color=\"black\" fill=\"none\" stroke=\"currentColor\" stroke-linecap=\"butt\" stroke-linejoin=\"miter\" stroke-width=\"1.00\">\n",
       "\t<path d=\"M39.8,108.0 L47.6,108.0 M544.3,108.0 L536.5,108.0  \" stroke=\"rgb(  0,   0,   0)\"/>\t<g fill=\"rgb(38,38,38)\" font-family=\"Arial\" font-size=\"10.00\" stroke=\"none\" text-anchor=\"end\" transform=\"translate(34.6,111.3)\">\n",
       "\t\t<text><tspan font-family=\"Arial\">250</tspan></text>\n",
       "\t</g>\n",
       "</g>\n",
       "<g color=\"black\" fill=\"none\" stroke=\"currentColor\" stroke-linecap=\"butt\" stroke-linejoin=\"miter\" stroke-width=\"1.00\">\n",
       "\t<path d=\"M39.8,39.0 L47.6,39.0 M544.3,39.0 L536.5,39.0  \" stroke=\"rgb(  0,   0,   0)\"/>\t<g fill=\"rgb(38,38,38)\" font-family=\"Arial\" font-size=\"10.00\" stroke=\"none\" text-anchor=\"end\" transform=\"translate(34.6,42.3)\">\n",
       "\t\t<text><tspan font-family=\"Arial\">300</tspan></text>\n",
       "\t</g>\n",
       "</g>\n",
       "<g color=\"black\" fill=\"none\" stroke=\"currentColor\" stroke-linecap=\"butt\" stroke-linejoin=\"miter\" stroke-width=\"1.00\">\n",
       "\t<path d=\"M39.8,384.2 L39.8,376.4 M39.8,39.0 L39.8,46.8  \" stroke=\"rgb(  0,   0,   0)\"/>\t<g fill=\"rgb(38,38,38)\" font-family=\"Arial\" font-size=\"10.00\" stroke=\"none\" text-anchor=\"middle\" transform=\"translate(39.8,398.7)\">\n",
       "\t\t<text><tspan font-family=\"Arial\">1</tspan></text>\n",
       "\t</g>\n",
       "</g>\n",
       "<g color=\"black\" fill=\"none\" stroke=\"currentColor\" stroke-linecap=\"butt\" stroke-linejoin=\"miter\" stroke-width=\"1.00\">\n",
       "\t<path d=\"M111.9,384.2 L111.9,376.4 M111.9,39.0 L111.9,46.8  \" stroke=\"rgb(  0,   0,   0)\"/>\t<g fill=\"rgb(38,38,38)\" font-family=\"Arial\" font-size=\"10.00\" stroke=\"none\" text-anchor=\"middle\" transform=\"translate(111.9,398.7)\">\n",
       "\t\t<text><tspan font-family=\"Arial\">2</tspan></text>\n",
       "\t</g>\n",
       "</g>\n",
       "<g color=\"black\" fill=\"none\" stroke=\"currentColor\" stroke-linecap=\"butt\" stroke-linejoin=\"miter\" stroke-width=\"1.00\">\n",
       "\t<path d=\"M183.9,384.2 L183.9,376.4 M183.9,39.0 L183.9,46.8  \" stroke=\"rgb(  0,   0,   0)\"/>\t<g fill=\"rgb(38,38,38)\" font-family=\"Arial\" font-size=\"10.00\" stroke=\"none\" text-anchor=\"middle\" transform=\"translate(183.9,398.7)\">\n",
       "\t\t<text><tspan font-family=\"Arial\">3</tspan></text>\n",
       "\t</g>\n",
       "</g>\n",
       "<g color=\"black\" fill=\"none\" stroke=\"currentColor\" stroke-linecap=\"butt\" stroke-linejoin=\"miter\" stroke-width=\"1.00\">\n",
       "\t<path d=\"M256.0,384.2 L256.0,376.4 M256.0,39.0 L256.0,46.8  \" stroke=\"rgb(  0,   0,   0)\"/>\t<g fill=\"rgb(38,38,38)\" font-family=\"Arial\" font-size=\"10.00\" stroke=\"none\" text-anchor=\"middle\" transform=\"translate(256.0,398.7)\">\n",
       "\t\t<text><tspan font-family=\"Arial\">4</tspan></text>\n",
       "\t</g>\n",
       "</g>\n",
       "<g color=\"black\" fill=\"none\" stroke=\"currentColor\" stroke-linecap=\"butt\" stroke-linejoin=\"miter\" stroke-width=\"1.00\">\n",
       "\t<path d=\"M328.1,384.2 L328.1,376.4 M328.1,39.0 L328.1,46.8  \" stroke=\"rgb(  0,   0,   0)\"/>\t<g fill=\"rgb(38,38,38)\" font-family=\"Arial\" font-size=\"10.00\" stroke=\"none\" text-anchor=\"middle\" transform=\"translate(328.1,398.7)\">\n",
       "\t\t<text><tspan font-family=\"Arial\">5</tspan></text>\n",
       "\t</g>\n",
       "</g>\n",
       "<g color=\"black\" fill=\"none\" stroke=\"currentColor\" stroke-linecap=\"butt\" stroke-linejoin=\"miter\" stroke-width=\"1.00\">\n",
       "\t<path d=\"M400.2,384.2 L400.2,376.4 M400.2,39.0 L400.2,46.8  \" stroke=\"rgb(  0,   0,   0)\"/>\t<g fill=\"rgb(38,38,38)\" font-family=\"Arial\" font-size=\"10.00\" stroke=\"none\" text-anchor=\"middle\" transform=\"translate(400.2,398.7)\">\n",
       "\t\t<text><tspan font-family=\"Arial\">6</tspan></text>\n",
       "\t</g>\n",
       "</g>\n",
       "<g color=\"black\" fill=\"none\" stroke=\"currentColor\" stroke-linecap=\"butt\" stroke-linejoin=\"miter\" stroke-width=\"1.00\">\n",
       "\t<path d=\"M472.2,384.2 L472.2,376.4 M472.2,39.0 L472.2,46.8  \" stroke=\"rgb(  0,   0,   0)\"/>\t<g fill=\"rgb(38,38,38)\" font-family=\"Arial\" font-size=\"10.00\" stroke=\"none\" text-anchor=\"middle\" transform=\"translate(472.2,398.7)\">\n",
       "\t\t<text><tspan font-family=\"Arial\">7</tspan></text>\n",
       "\t</g>\n",
       "</g>\n",
       "<g color=\"black\" fill=\"none\" stroke=\"currentColor\" stroke-linecap=\"butt\" stroke-linejoin=\"miter\" stroke-width=\"1.00\">\n",
       "\t<path d=\"M544.3,384.2 L544.3,376.4 M544.3,39.0 L544.3,46.8  \" stroke=\"rgb(  0,   0,   0)\"/>\t<g fill=\"rgb(38,38,38)\" font-family=\"Arial\" font-size=\"10.00\" stroke=\"none\" text-anchor=\"middle\" transform=\"translate(544.3,398.7)\">\n",
       "\t\t<text><tspan font-family=\"Arial\">8</tspan></text>\n",
       "\t</g>\n",
       "</g>\n",
       "<g color=\"black\" fill=\"none\" stroke=\"currentColor\" stroke-linecap=\"butt\" stroke-linejoin=\"miter\" stroke-width=\"1.00\">\n",
       "</g>\n",
       "<g color=\"black\" fill=\"none\" stroke=\"currentColor\" stroke-linecap=\"butt\" stroke-linejoin=\"miter\" stroke-width=\"1.00\">\n",
       "\t<g fill=\"rgb(38,38,38)\" font-family=\"Arial\" font-size=\"11.00\" stroke=\"none\" text-anchor=\"middle\" transform=\"translate(11.3,211.6) rotate(-90)\">\n",
       "\t\t<text><tspan font-family=\"Arial\">Total distance</tspan></text>\n",
       "\t</g>\n",
       "</g>\n",
       "<g color=\"black\" fill=\"none\" stroke=\"currentColor\" stroke-linecap=\"butt\" stroke-linejoin=\"miter\" stroke-width=\"1.00\">\n",
       "\t<g fill=\"rgb(38,38,38)\" font-family=\"Arial\" font-size=\"11.00\" stroke=\"none\" text-anchor=\"middle\" transform=\"translate(292.0,415.8)\">\n",
       "\t\t<text><tspan font-family=\"Arial\">Number of generations</tspan></text>\n",
       "\t</g>\n",
       "</g>\n",
       "<g color=\"black\" fill=\"none\" stroke=\"currentColor\" stroke-linecap=\"butt\" stroke-linejoin=\"miter\" stroke-width=\"1.00\">\n",
       "\t<g fill=\"rgb(0,0,0)\" font-family=\":Bold\" font-size=\"11.00\" stroke=\"none\" text-anchor=\"middle\" transform=\"translate(292.0,20.5)\">\n",
       "\t\t<text><tspan font-family=\"\" font-weight=\"bold\">Total distance and number of generations in TSP</tspan></text>\n",
       "\t</g>\n",
       "</g>\n",
       "<g color=\"black\" fill=\"none\" stroke=\"currentColor\" stroke-linecap=\"butt\" stroke-linejoin=\"miter\" stroke-width=\"1.00\">\n",
       "</g>\n",
       "\t<g id=\"gnuplot_plot_1a\"><title>gnuplot_plot_1a</title>\n",
       "<g color=\"#FFFFFF\" fill=\"none\" stroke=\"currentColor\" stroke-linecap=\"butt\" stroke-linejoin=\"miter\" stroke-width=\"0.50\">\n",
       "</g>\n",
       "<g color=\"black\" fill=\"none\" stroke=\"currentColor\" stroke-linecap=\"butt\" stroke-linejoin=\"miter\" stroke-width=\"0.50\">\n",
       "\t<path d=\"M39.8,96.6 L111.9,203.5 L183.9,301.0 L256.0,301.0 L328.1,301.0 L400.2,310.0 L472.2,310.0 L544.3,310.0    \" stroke=\"rgb(255,   0,   0)\"/>\t<use color=\"rgb(255,   0,   0)\" transform=\"translate(39.8,96.6) scale(5.60)\" xlink:href=\"#gpPt5\"/>\n",
       "\t<use color=\"rgb(255,   0,   0)\" transform=\"translate(111.9,203.5) scale(5.60)\" xlink:href=\"#gpPt5\"/>\n",
       "\t<use color=\"rgb(255,   0,   0)\" transform=\"translate(183.9,301.0) scale(5.60)\" xlink:href=\"#gpPt5\"/>\n",
       "\t<use color=\"rgb(255,   0,   0)\" transform=\"translate(256.0,301.0) scale(5.60)\" xlink:href=\"#gpPt5\"/>\n",
       "\t<use color=\"rgb(255,   0,   0)\" transform=\"translate(328.1,301.0) scale(5.60)\" xlink:href=\"#gpPt5\"/>\n",
       "\t<use color=\"rgb(255,   0,   0)\" transform=\"translate(400.2,310.0) scale(5.60)\" xlink:href=\"#gpPt5\"/>\n",
       "\t<use color=\"rgb(255,   0,   0)\" transform=\"translate(472.2,310.0) scale(5.60)\" xlink:href=\"#gpPt5\"/>\n",
       "\t<use color=\"rgb(255,   0,   0)\" transform=\"translate(544.3,310.0) scale(5.60)\" xlink:href=\"#gpPt5\"/>\n",
       "</g>\n",
       "\t</g>\n",
       "\t<g id=\"gnuplot_plot_2a\"><title>gnuplot_plot_2a</title>\n",
       "<g color=\"black\" fill=\"none\" stroke=\"currentColor\" stroke-linecap=\"butt\" stroke-linejoin=\"miter\" stroke-width=\"0.50\">\n",
       "\t<path d=\"M39.8,336.7 L544.3,336.7  \" stroke=\"rgb(  0,   0, 255)\"/></g>\n",
       "\t</g>\n",
       "<g color=\"#FFFFFF\" fill=\"none\" stroke=\"rgb(  0,   0, 255)\" stroke-linecap=\"butt\" stroke-linejoin=\"miter\" stroke-width=\"2.00\">\n",
       "</g>\n",
       "<g color=\"black\" fill=\"none\" stroke=\"currentColor\" stroke-linecap=\"butt\" stroke-linejoin=\"miter\" stroke-width=\"2.00\">\n",
       "</g>\n",
       "<g color=\"black\" fill=\"none\" stroke=\"black\" stroke-linecap=\"butt\" stroke-linejoin=\"miter\" stroke-width=\"0.50\">\n",
       "\t<path d=\"M39.8,384.2 L544.3,384.2 M39.8,39.0 L544.3,39.0 M39.8,384.2 L39.8,39.0 M544.3,384.2 L544.3,39.0    \" stroke=\"rgb( 38,  38,  38)\"/></g>\n",
       "<g color=\"black\" fill=\"none\" stroke=\"rgb( 38,  38,  38)\" stroke-linecap=\"butt\" stroke-linejoin=\"miter\" stroke-width=\"1.00\">\n",
       "</g>\n",
       "<g color=\"black\" fill=\"none\" stroke=\"currentColor\" stroke-linecap=\"butt\" stroke-linejoin=\"miter\" stroke-width=\"1.00\">\n",
       "</g>\n",
       "</g>\n",
       "</svg>"
      ],
      "text/plain": [
       "<IPython.core.display.SVG object>"
      ]
     },
     "metadata": {},
     "output_type": "display_data"
    }
   ],
   "source": [
    "plot([OptimalityAndGenerations18(:,1)], [OptimalityAndGenerations18(:,2)], 'o-r');\n",
    "title (\"Total distance and number of generations in TSP\");\n",
    "xlabel (\"Number of generations\");\n",
    "ylabel (\"Total distance\");\n",
    "hold on;\n",
    "plot([min(OptimalityAndGenerations18(:,1)),max(OptimalityAndGenerations18(:,1))],[optimalDistance,optimalDistance], 'b')\n",
    "hold off;"
   ]
  },
  {
   "cell_type": "markdown",
   "metadata": {},
   "source": [
    "#### Plot computational time and number of generations"
   ]
  },
  {
   "cell_type": "code",
   "execution_count": 35,
   "metadata": {},
   "outputs": [],
   "source": [
    "function CPUTimeAndGenerations = tableCPUTimeAndNGenerations(minNGenerations,maxNGenerations, sizeGeneration,individuals,d,pm)\n",
    "    \n",
    "    newGenerations = createNewGeneration(nGenerations = maxNGenerations, sizeGeneration = sizeGeneration,individuals = individuals, d = d, pm = pm);\n",
    "    \n",
    "    CPUTimeAndGenerations = zeros(maxNGenerations-minNGenerations+1,2);\n",
    "\n",
    "    count = 1;\n",
    "    \n",
    "    for i = minNGenerations:maxNGenerations;\n",
    "\n",
    "        CPUTimeAndGenerations(count,1) = i;\n",
    "        CPUTimeAndGenerations(count,2) = newGenerations{i}{5};\n",
    "        count++;\n",
    "\n",
    "    end\n",
    "\n",
    "end"
   ]
  },
  {
   "cell_type": "code",
   "execution_count": 36,
   "metadata": {},
   "outputs": [
    {
     "name": "stdout",
     "output_type": "stream",
     "text": [
      "CPUTimeAndGenerations18 =\n",
      "\n",
      "   1.0000000   0.0067420\n",
      "   2.0000000   0.0965480\n",
      "   3.0000000   0.1782830\n",
      "   4.0000000   0.3360340\n",
      "   5.0000000   0.4634520\n",
      "   6.0000000   0.5985360\n",
      "   7.0000000   0.7547450\n",
      "   8.0000000   0.8733950\n",
      "\n"
     ]
    }
   ],
   "source": [
    "CPUTimeAndGenerations18 = tableCPUTimeAndNGenerations(minNGenerations = 1,maxNGenerations = 8, sizeGeneration = 15,individuals = individuals, d = d, pm = 0.5)"
   ]
  },
  {
   "cell_type": "code",
   "execution_count": 37,
   "metadata": {},
   "outputs": [
    {
     "data": {
      "image/svg+xml": [
       "<svg height=\"420px\" viewBox=\"0 0 560 420\" width=\"560px\" xmlns=\"http://www.w3.org/2000/svg\" xmlns:xlink=\"http://www.w3.org/1999/xlink\">\n",
       "\n",
       "<title>Gnuplot</title>\n",
       "<desc>Produced by GNUPLOT 5.2 patchlevel 5 </desc>\n",
       "\n",
       "<g id=\"gnuplot_canvas\">\n",
       "\n",
       "<rect fill=\"#ffffff\" height=\"420\" width=\"560\" x=\"0\" y=\"0\"/>\n",
       "<defs>\n",
       "\n",
       "\t<circle id=\"gpDot\" r=\"0.5\" stroke=\"currentColor\" stroke-width=\"0.5\"/>\n",
       "\t<path d=\"M-1,0 h2 M0,-1 v2\" id=\"gpPt0\" stroke=\"currentColor\" stroke-width=\"0.357\"/>\n",
       "\t<path d=\"M-1,-1 L1,1 M1,-1 L-1,1\" id=\"gpPt1\" stroke=\"currentColor\" stroke-width=\"0.357\"/>\n",
       "\t<path d=\"M-1,0 L1,0 M0,-1 L0,1 M-1,-1 L1,1 M-1,1 L1,-1\" id=\"gpPt2\" stroke=\"currentColor\" stroke-width=\"0.357\"/>\n",
       "\t<rect height=\"2\" id=\"gpPt3\" stroke=\"currentColor\" stroke-width=\"0.357\" width=\"2\" x=\"-1\" y=\"-1\"/>\n",
       "\t<rect fill=\"currentColor\" height=\"2\" id=\"gpPt4\" stroke=\"currentColor\" stroke-width=\"0.357\" width=\"2\" x=\"-1\" y=\"-1\"/>\n",
       "\t<circle cx=\"0\" cy=\"0\" id=\"gpPt5\" r=\"1\" stroke=\"currentColor\" stroke-width=\"0.357\"/>\n",
       "\t<use fill=\"currentColor\" id=\"gpPt6\" stroke=\"none\" xlink:href=\"#gpPt5\"/>\n",
       "\t<path d=\"M0,-1.33 L-1.33,0.67 L1.33,0.67 z\" id=\"gpPt7\" stroke=\"currentColor\" stroke-width=\"0.357\"/>\n",
       "\t<use fill=\"currentColor\" id=\"gpPt8\" stroke=\"none\" xlink:href=\"#gpPt7\"/>\n",
       "\t<use id=\"gpPt9\" stroke=\"currentColor\" transform=\"rotate(180)\" xlink:href=\"#gpPt7\"/>\n",
       "\t<use fill=\"currentColor\" id=\"gpPt10\" stroke=\"none\" xlink:href=\"#gpPt9\"/>\n",
       "\t<use id=\"gpPt11\" stroke=\"currentColor\" transform=\"rotate(45)\" xlink:href=\"#gpPt3\"/>\n",
       "\t<use fill=\"currentColor\" id=\"gpPt12\" stroke=\"none\" xlink:href=\"#gpPt11\"/>\n",
       "\t<path d=\"M0,1.330 L1.265,0.411 L0.782,-1.067 L-0.782,-1.076 L-1.265,0.411 z\" id=\"gpPt13\" stroke=\"currentColor\" stroke-width=\"0.357\"/>\n",
       "\t<use fill=\"currentColor\" id=\"gpPt14\" stroke=\"none\" xlink:href=\"#gpPt13\"/>\n",
       "\t<filter filterUnits=\"objectBoundingBox\" height=\"1\" id=\"textbox\" width=\"1\" x=\"0\" y=\"0\">\n",
       "\t  <feFlood flood-color=\"#FFFFFF\" flood-opacity=\"1\" result=\"bgnd\"/>\n",
       "\t  <feComposite in=\"SourceGraphic\" in2=\"bgnd\" operator=\"atop\"/>\n",
       "\t</filter>\n",
       "\t<filter filterUnits=\"objectBoundingBox\" height=\"1\" id=\"greybox\" width=\"1\" x=\"0\" y=\"0\">\n",
       "\t  <feFlood flood-color=\"lightgrey\" flood-opacity=\"1\" result=\"grey\"/>\n",
       "\t  <feComposite in=\"SourceGraphic\" in2=\"grey\" operator=\"atop\"/>\n",
       "\t</filter>\n",
       "</defs>\n",
       "<g color=\"#FFFFFF\" fill=\"none\" stroke=\"currentColor\" stroke-linecap=\"butt\" stroke-linejoin=\"miter\" stroke-width=\"1.00\">\n",
       "</g>\n",
       "<g color=\"black\" fill=\"none\" stroke=\"currentColor\" stroke-linecap=\"butt\" stroke-linejoin=\"miter\" stroke-width=\"1.00\">\n",
       "\t<g shape-rendering=\"crispEdges\" stroke=\"none\">\n",
       "\t\t<polygon fill=\"rgb(255, 255, 255)\" points=\"39.8,384.2 544.2,384.2 544.2,39.1 39.8,39.1 \"/>\n",
       "\t</g>\n",
       "</g>\n",
       "<g color=\"black\" fill=\"none\" stroke=\"currentColor\" stroke-linecap=\"butt\" stroke-linejoin=\"miter\" stroke-width=\"1.00\">\n",
       "\t<path d=\"M39.8,384.2 L47.6,384.2 M544.3,384.2 L536.5,384.2  \" stroke=\"rgb(  0,   0,   0)\"/>\t<g fill=\"rgb(38,38,38)\" font-family=\"Arial\" font-size=\"10.00\" stroke=\"none\" text-anchor=\"end\" transform=\"translate(34.6,387.5)\">\n",
       "\t\t<text><tspan font-family=\"Arial\">0</tspan></text>\n",
       "\t</g>\n",
       "</g>\n",
       "<g color=\"black\" fill=\"none\" stroke=\"currentColor\" stroke-linecap=\"butt\" stroke-linejoin=\"miter\" stroke-width=\"1.00\">\n",
       "\t<path d=\"M39.8,334.9 L47.6,334.9 M544.3,334.9 L536.5,334.9  \" stroke=\"rgb(  0,   0,   0)\"/>\t<g fill=\"rgb(38,38,38)\" font-family=\"Arial\" font-size=\"10.00\" stroke=\"none\" text-anchor=\"end\" transform=\"translate(34.6,338.2)\">\n",
       "\t\t<text><tspan font-family=\"Arial\">0.2</tspan></text>\n",
       "\t</g>\n",
       "</g>\n",
       "<g color=\"black\" fill=\"none\" stroke=\"currentColor\" stroke-linecap=\"butt\" stroke-linejoin=\"miter\" stroke-width=\"1.00\">\n",
       "\t<path d=\"M39.8,285.6 L47.6,285.6 M544.3,285.6 L536.5,285.6  \" stroke=\"rgb(  0,   0,   0)\"/>\t<g fill=\"rgb(38,38,38)\" font-family=\"Arial\" font-size=\"10.00\" stroke=\"none\" text-anchor=\"end\" transform=\"translate(34.6,288.9)\">\n",
       "\t\t<text><tspan font-family=\"Arial\">0.4</tspan></text>\n",
       "\t</g>\n",
       "</g>\n",
       "<g color=\"black\" fill=\"none\" stroke=\"currentColor\" stroke-linecap=\"butt\" stroke-linejoin=\"miter\" stroke-width=\"1.00\">\n",
       "\t<path d=\"M39.8,236.3 L47.6,236.3 M544.3,236.3 L536.5,236.3  \" stroke=\"rgb(  0,   0,   0)\"/>\t<g fill=\"rgb(38,38,38)\" font-family=\"Arial\" font-size=\"10.00\" stroke=\"none\" text-anchor=\"end\" transform=\"translate(34.6,239.6)\">\n",
       "\t\t<text><tspan font-family=\"Arial\">0.6</tspan></text>\n",
       "\t</g>\n",
       "</g>\n",
       "<g color=\"black\" fill=\"none\" stroke=\"currentColor\" stroke-linecap=\"butt\" stroke-linejoin=\"miter\" stroke-width=\"1.00\">\n",
       "\t<path d=\"M39.8,186.9 L47.6,186.9 M544.3,186.9 L536.5,186.9  \" stroke=\"rgb(  0,   0,   0)\"/>\t<g fill=\"rgb(38,38,38)\" font-family=\"Arial\" font-size=\"10.00\" stroke=\"none\" text-anchor=\"end\" transform=\"translate(34.6,190.2)\">\n",
       "\t\t<text><tspan font-family=\"Arial\">0.8</tspan></text>\n",
       "\t</g>\n",
       "</g>\n",
       "<g color=\"black\" fill=\"none\" stroke=\"currentColor\" stroke-linecap=\"butt\" stroke-linejoin=\"miter\" stroke-width=\"1.00\">\n",
       "\t<path d=\"M39.8,137.6 L47.6,137.6 M544.3,137.6 L536.5,137.6  \" stroke=\"rgb(  0,   0,   0)\"/>\t<g fill=\"rgb(38,38,38)\" font-family=\"Arial\" font-size=\"10.00\" stroke=\"none\" text-anchor=\"end\" transform=\"translate(34.6,140.9)\">\n",
       "\t\t<text><tspan font-family=\"Arial\">1</tspan></text>\n",
       "\t</g>\n",
       "</g>\n",
       "<g color=\"black\" fill=\"none\" stroke=\"currentColor\" stroke-linecap=\"butt\" stroke-linejoin=\"miter\" stroke-width=\"1.00\">\n",
       "\t<path d=\"M39.8,88.3 L47.6,88.3 M544.3,88.3 L536.5,88.3  \" stroke=\"rgb(  0,   0,   0)\"/>\t<g fill=\"rgb(38,38,38)\" font-family=\"Arial\" font-size=\"10.00\" stroke=\"none\" text-anchor=\"end\" transform=\"translate(34.6,91.6)\">\n",
       "\t\t<text><tspan font-family=\"Arial\">1.2</tspan></text>\n",
       "\t</g>\n",
       "</g>\n",
       "<g color=\"black\" fill=\"none\" stroke=\"currentColor\" stroke-linecap=\"butt\" stroke-linejoin=\"miter\" stroke-width=\"1.00\">\n",
       "\t<path d=\"M39.8,39.0 L47.6,39.0 M544.3,39.0 L536.5,39.0  \" stroke=\"rgb(  0,   0,   0)\"/>\t<g fill=\"rgb(38,38,38)\" font-family=\"Arial\" font-size=\"10.00\" stroke=\"none\" text-anchor=\"end\" transform=\"translate(34.6,42.3)\">\n",
       "\t\t<text><tspan font-family=\"Arial\">1.4</tspan></text>\n",
       "\t</g>\n",
       "</g>\n",
       "<g color=\"black\" fill=\"none\" stroke=\"currentColor\" stroke-linecap=\"butt\" stroke-linejoin=\"miter\" stroke-width=\"1.00\">\n",
       "\t<path d=\"M39.8,384.2 L39.8,376.4 M39.8,39.0 L39.8,46.8  \" stroke=\"rgb(  0,   0,   0)\"/>\t<g fill=\"rgb(38,38,38)\" font-family=\"Arial\" font-size=\"10.00\" stroke=\"none\" text-anchor=\"middle\" transform=\"translate(39.8,398.7)\">\n",
       "\t\t<text><tspan font-family=\"Arial\">1</tspan></text>\n",
       "\t</g>\n",
       "</g>\n",
       "<g color=\"black\" fill=\"none\" stroke=\"currentColor\" stroke-linecap=\"butt\" stroke-linejoin=\"miter\" stroke-width=\"1.00\">\n",
       "\t<path d=\"M111.9,384.2 L111.9,376.4 M111.9,39.0 L111.9,46.8  \" stroke=\"rgb(  0,   0,   0)\"/>\t<g fill=\"rgb(38,38,38)\" font-family=\"Arial\" font-size=\"10.00\" stroke=\"none\" text-anchor=\"middle\" transform=\"translate(111.9,398.7)\">\n",
       "\t\t<text><tspan font-family=\"Arial\">2</tspan></text>\n",
       "\t</g>\n",
       "</g>\n",
       "<g color=\"black\" fill=\"none\" stroke=\"currentColor\" stroke-linecap=\"butt\" stroke-linejoin=\"miter\" stroke-width=\"1.00\">\n",
       "\t<path d=\"M183.9,384.2 L183.9,376.4 M183.9,39.0 L183.9,46.8  \" stroke=\"rgb(  0,   0,   0)\"/>\t<g fill=\"rgb(38,38,38)\" font-family=\"Arial\" font-size=\"10.00\" stroke=\"none\" text-anchor=\"middle\" transform=\"translate(183.9,398.7)\">\n",
       "\t\t<text><tspan font-family=\"Arial\">3</tspan></text>\n",
       "\t</g>\n",
       "</g>\n",
       "<g color=\"black\" fill=\"none\" stroke=\"currentColor\" stroke-linecap=\"butt\" stroke-linejoin=\"miter\" stroke-width=\"1.00\">\n",
       "\t<path d=\"M256.0,384.2 L256.0,376.4 M256.0,39.0 L256.0,46.8  \" stroke=\"rgb(  0,   0,   0)\"/>\t<g fill=\"rgb(38,38,38)\" font-family=\"Arial\" font-size=\"10.00\" stroke=\"none\" text-anchor=\"middle\" transform=\"translate(256.0,398.7)\">\n",
       "\t\t<text><tspan font-family=\"Arial\">4</tspan></text>\n",
       "\t</g>\n",
       "</g>\n",
       "<g color=\"black\" fill=\"none\" stroke=\"currentColor\" stroke-linecap=\"butt\" stroke-linejoin=\"miter\" stroke-width=\"1.00\">\n",
       "\t<path d=\"M328.1,384.2 L328.1,376.4 M328.1,39.0 L328.1,46.8  \" stroke=\"rgb(  0,   0,   0)\"/>\t<g fill=\"rgb(38,38,38)\" font-family=\"Arial\" font-size=\"10.00\" stroke=\"none\" text-anchor=\"middle\" transform=\"translate(328.1,398.7)\">\n",
       "\t\t<text><tspan font-family=\"Arial\">5</tspan></text>\n",
       "\t</g>\n",
       "</g>\n",
       "<g color=\"black\" fill=\"none\" stroke=\"currentColor\" stroke-linecap=\"butt\" stroke-linejoin=\"miter\" stroke-width=\"1.00\">\n",
       "\t<path d=\"M400.2,384.2 L400.2,376.4 M400.2,39.0 L400.2,46.8  \" stroke=\"rgb(  0,   0,   0)\"/>\t<g fill=\"rgb(38,38,38)\" font-family=\"Arial\" font-size=\"10.00\" stroke=\"none\" text-anchor=\"middle\" transform=\"translate(400.2,398.7)\">\n",
       "\t\t<text><tspan font-family=\"Arial\">6</tspan></text>\n",
       "\t</g>\n",
       "</g>\n",
       "<g color=\"black\" fill=\"none\" stroke=\"currentColor\" stroke-linecap=\"butt\" stroke-linejoin=\"miter\" stroke-width=\"1.00\">\n",
       "\t<path d=\"M472.2,384.2 L472.2,376.4 M472.2,39.0 L472.2,46.8  \" stroke=\"rgb(  0,   0,   0)\"/>\t<g fill=\"rgb(38,38,38)\" font-family=\"Arial\" font-size=\"10.00\" stroke=\"none\" text-anchor=\"middle\" transform=\"translate(472.2,398.7)\">\n",
       "\t\t<text><tspan font-family=\"Arial\">7</tspan></text>\n",
       "\t</g>\n",
       "</g>\n",
       "<g color=\"black\" fill=\"none\" stroke=\"currentColor\" stroke-linecap=\"butt\" stroke-linejoin=\"miter\" stroke-width=\"1.00\">\n",
       "\t<path d=\"M544.3,384.2 L544.3,376.4 M544.3,39.0 L544.3,46.8  \" stroke=\"rgb(  0,   0,   0)\"/>\t<g fill=\"rgb(38,38,38)\" font-family=\"Arial\" font-size=\"10.00\" stroke=\"none\" text-anchor=\"middle\" transform=\"translate(544.3,398.7)\">\n",
       "\t\t<text><tspan font-family=\"Arial\">8</tspan></text>\n",
       "\t</g>\n",
       "</g>\n",
       "<g color=\"black\" fill=\"none\" stroke=\"currentColor\" stroke-linecap=\"butt\" stroke-linejoin=\"miter\" stroke-width=\"1.00\">\n",
       "</g>\n",
       "<g color=\"black\" fill=\"none\" stroke=\"currentColor\" stroke-linecap=\"butt\" stroke-linejoin=\"miter\" stroke-width=\"1.00\">\n",
       "\t<g fill=\"rgb(38,38,38)\" font-family=\"Arial\" font-size=\"11.00\" stroke=\"none\" text-anchor=\"middle\" transform=\"translate(11.3,211.6) rotate(-90)\">\n",
       "\t\t<text><tspan font-family=\"Arial\">Computational time [s]</tspan></text>\n",
       "\t</g>\n",
       "</g>\n",
       "<g color=\"black\" fill=\"none\" stroke=\"currentColor\" stroke-linecap=\"butt\" stroke-linejoin=\"miter\" stroke-width=\"1.00\">\n",
       "\t<g fill=\"rgb(38,38,38)\" font-family=\"Arial\" font-size=\"11.00\" stroke=\"none\" text-anchor=\"middle\" transform=\"translate(292.0,415.8)\">\n",
       "\t\t<text><tspan font-family=\"Arial\">Number of generations</tspan></text>\n",
       "\t</g>\n",
       "</g>\n",
       "<g color=\"black\" fill=\"none\" stroke=\"currentColor\" stroke-linecap=\"butt\" stroke-linejoin=\"miter\" stroke-width=\"1.00\">\n",
       "\t<g fill=\"rgb(0,0,0)\" font-family=\":Bold\" font-size=\"11.00\" stroke=\"none\" text-anchor=\"middle\" transform=\"translate(292.0,20.5)\">\n",
       "\t\t<text><tspan font-family=\"\" font-weight=\"bold\">Computational time and number of generations in TSP</tspan></text>\n",
       "\t</g>\n",
       "</g>\n",
       "<g color=\"black\" fill=\"none\" stroke=\"currentColor\" stroke-linecap=\"butt\" stroke-linejoin=\"miter\" stroke-width=\"1.00\">\n",
       "</g>\n",
       "\t<g id=\"gnuplot_plot_1a\"><title>gnuplot_plot_1a</title>\n",
       "<g color=\"#FFFFFF\" fill=\"none\" stroke=\"currentColor\" stroke-linecap=\"butt\" stroke-linejoin=\"miter\" stroke-width=\"0.50\">\n",
       "</g>\n",
       "<g color=\"black\" fill=\"none\" stroke=\"currentColor\" stroke-linecap=\"butt\" stroke-linejoin=\"miter\" stroke-width=\"0.50\">\n",
       "\t<path d=\"M39.8,382.5 L111.9,360.4 L183.9,340.2 L256.0,301.3 L328.1,269.9 L400.2,236.6 L472.2,198.1 L544.3,168.8    \" stroke=\"rgb(255,   0,   0)\"/>\t<use color=\"rgb(255,   0,   0)\" transform=\"translate(39.8,382.5) scale(5.60)\" xlink:href=\"#gpPt5\"/>\n",
       "\t<use color=\"rgb(255,   0,   0)\" transform=\"translate(111.9,360.4) scale(5.60)\" xlink:href=\"#gpPt5\"/>\n",
       "\t<use color=\"rgb(255,   0,   0)\" transform=\"translate(183.9,340.2) scale(5.60)\" xlink:href=\"#gpPt5\"/>\n",
       "\t<use color=\"rgb(255,   0,   0)\" transform=\"translate(256.0,301.3) scale(5.60)\" xlink:href=\"#gpPt5\"/>\n",
       "\t<use color=\"rgb(255,   0,   0)\" transform=\"translate(328.1,269.9) scale(5.60)\" xlink:href=\"#gpPt5\"/>\n",
       "\t<use color=\"rgb(255,   0,   0)\" transform=\"translate(400.2,236.6) scale(5.60)\" xlink:href=\"#gpPt5\"/>\n",
       "\t<use color=\"rgb(255,   0,   0)\" transform=\"translate(472.2,198.1) scale(5.60)\" xlink:href=\"#gpPt5\"/>\n",
       "\t<use color=\"rgb(255,   0,   0)\" transform=\"translate(544.3,168.8) scale(5.60)\" xlink:href=\"#gpPt5\"/>\n",
       "</g>\n",
       "\t</g>\n",
       "\t<g id=\"gnuplot_plot_2a\"><title>gnuplot_plot_2a</title>\n",
       "<g color=\"black\" fill=\"none\" stroke=\"currentColor\" stroke-linecap=\"butt\" stroke-linejoin=\"miter\" stroke-width=\"0.50\">\n",
       "\t<path d=\"M39.8,115.6 L544.3,115.6  \" stroke=\"rgb(  0,   0, 255)\"/></g>\n",
       "\t</g>\n",
       "<g color=\"#FFFFFF\" fill=\"none\" stroke=\"rgb(  0,   0, 255)\" stroke-linecap=\"butt\" stroke-linejoin=\"miter\" stroke-width=\"2.00\">\n",
       "</g>\n",
       "<g color=\"black\" fill=\"none\" stroke=\"currentColor\" stroke-linecap=\"butt\" stroke-linejoin=\"miter\" stroke-width=\"2.00\">\n",
       "</g>\n",
       "<g color=\"black\" fill=\"none\" stroke=\"black\" stroke-linecap=\"butt\" stroke-linejoin=\"miter\" stroke-width=\"0.50\">\n",
       "\t<path d=\"M39.8,384.2 L544.3,384.2 M39.8,39.0 L544.3,39.0 M39.8,384.2 L39.8,39.0 M544.3,384.2 L544.3,39.0    \" stroke=\"rgb( 38,  38,  38)\"/></g>\n",
       "<g color=\"black\" fill=\"none\" stroke=\"rgb( 38,  38,  38)\" stroke-linecap=\"butt\" stroke-linejoin=\"miter\" stroke-width=\"1.00\">\n",
       "</g>\n",
       "<g color=\"black\" fill=\"none\" stroke=\"currentColor\" stroke-linecap=\"butt\" stroke-linejoin=\"miter\" stroke-width=\"1.00\">\n",
       "</g>\n",
       "</g>\n",
       "</svg>"
      ],
      "text/plain": [
       "<IPython.core.display.SVG object>"
      ]
     },
     "metadata": {},
     "output_type": "display_data"
    }
   ],
   "source": [
    "plot([CPUTimeAndGenerations18(:,1)], [CPUTimeAndGenerations18(:,2)], 'o-r');\n",
    "title (\"Computational time and number of generations in TSP\");\n",
    "xlabel (\"Number of generations\");\n",
    "ylabel (\"Computational time [s]\");\n",
    "hold on;\n",
    "plot([min(CPUTimeAndGenerations18(:,1)),max(CPUTimeAndGenerations18(:,1))],[cputime,cputime], 'b')\n",
    "hold off;"
   ]
  }
 ],
 "metadata": {
  "kernelspec": {
   "display_name": "Octave",
   "language": "octave",
   "name": "octave"
  },
  "language_info": {
   "file_extension": ".m",
   "help_links": [
    {
     "text": "GNU Octave",
     "url": "https://www.gnu.org/software/octave/support.html"
    },
    {
     "text": "Octave Kernel",
     "url": "https://github.com/Calysto/octave_kernel"
    },
    {
     "text": "MetaKernel Magics",
     "url": "https://github.com/calysto/metakernel/blob/master/metakernel/magics/README.md"
    }
   ],
   "mimetype": "text/x-octave",
   "name": "octave",
   "version": "4.4.1"
  }
 },
 "nbformat": 4,
 "nbformat_minor": 2
}
