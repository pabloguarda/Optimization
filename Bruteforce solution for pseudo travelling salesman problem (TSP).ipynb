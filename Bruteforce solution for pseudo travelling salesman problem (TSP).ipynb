{
 "cells": [
  {
   "cell_type": "markdown",
   "metadata": {},
   "source": [
    "# 1) Let's solve the TSP for bruteforce and for 5 cities"
   ]
  },
  {
   "cell_type": "markdown",
   "metadata": {},
   "source": [
    "## Number of cities to be visited"
   ]
  },
  {
   "cell_type": "code",
   "execution_count": 1,
   "metadata": {},
   "outputs": [
    {
     "name": "stdout",
     "output_type": "stream",
     "text": [
      "n =  5\n"
     ]
    }
   ],
   "source": [
    "n = 5"
   ]
  },
  {
   "cell_type": "markdown",
   "metadata": {},
   "source": [
    "## Matrix of distances between cities with random numbers"
   ]
  },
  {
   "cell_type": "code",
   "execution_count": 2,
   "metadata": {},
   "outputs": [
    {
     "name": "stdout",
     "output_type": "stream",
     "text": [
      "d =\n",
      "\n",
      "    0.00000   60.99677   43.63402    7.29000   49.11203\n",
      "   36.94473    0.00000   63.59416   63.52289   36.81921\n",
      "   91.65837   78.48206    0.00000   23.98308   65.10869\n",
      "   34.87186    2.92346    7.75807    0.00000   48.10246\n",
      "    3.91315   15.57324   20.32011    2.01741    0.00000\n",
      "\n"
     ]
    }
   ],
   "source": [
    "d = 100*rand(n);\n",
    "\n",
    "## Fill diagonal with zeros\n",
    "i = 1;\n",
    "while(i<=n)\n",
    "d(i,i) = 0;\n",
    "i++;\n",
    "end\n",
    "d"
   ]
  },
  {
   "cell_type": "markdown",
   "metadata": {},
   "source": [
    "## Possible sequences of visited cities (e.g. 1,2,3,4,5 and 1,3,2,4,5)"
   ]
  },
  {
   "cell_type": "code",
   "execution_count": 3,
   "metadata": {},
   "outputs": [],
   "source": [
    "p = perms([1:n]);"
   ]
  },
  {
   "cell_type": "code",
   "execution_count": 4,
   "metadata": {},
   "outputs": [
    {
     "name": "stdout",
     "output_type": "stream",
     "text": [
      "ans =\n",
      "\n",
      "   120     5\n",
      "\n"
     ]
    }
   ],
   "source": [
    "size(p)"
   ]
  },
  {
   "cell_type": "markdown",
   "metadata": {},
   "source": [
    "## Total travelled distance in each sequence of cities"
   ]
  },
  {
   "cell_type": "code",
   "execution_count": 5,
   "metadata": {},
   "outputs": [],
   "source": [
    "daccs = zeros([size(p)(1),size(p)(2)+1]);\n",
    "\n",
    "for i = 1:(size(p)(1))\n",
    "    dacc = 0;\n",
    "    for j = 1:(size(p)(2)-1)\n",
    "        dacc += d(p(i,j),p(i,j+1));\n",
    "    end\n",
    "    daccs(i,:) = [p(i,:),dacc];\n",
    "end"
   ]
  },
  {
   "cell_type": "code",
   "execution_count": 6,
   "metadata": {},
   "outputs": [
    {
     "name": "stdout",
     "output_type": "stream",
     "text": [
      "daccs =\n",
      "\n",
      "     5.0000     4.0000     3.0000     2.0000     1.0000   125.2023\n",
      "     5.0000     4.0000     3.0000     1.0000     2.0000   162.4306\n",
      "     5.0000     4.0000     2.0000     3.0000     1.0000   160.1934\n",
      "     5.0000     4.0000     2.0000     1.0000     3.0000    85.5196\n",
      "     5.0000     4.0000     1.0000     3.0000     2.0000   159.0054\n",
      "     5.0000     4.0000     1.0000     2.0000     3.0000   161.4802\n",
      "     5.0000     3.0000     4.0000     2.0000     1.0000    84.1714\n",
      "     5.0000     3.0000     4.0000     1.0000     2.0000   140.1718\n",
      "     5.0000     3.0000     2.0000     4.0000     1.0000   197.1969\n",
      "     5.0000     3.0000     2.0000     1.0000     4.0000   143.0369\n",
      "     5.0000     3.0000     1.0000     4.0000     2.0000   122.1919\n",
      "     5.0000     3.0000     1.0000     2.0000     4.0000   236.4981\n",
      "     5.0000     2.0000     4.0000     3.0000     1.0000   178.5126\n",
      "     5.0000     2.0000     4.0000     1.0000     3.0000   157.6020\n",
      "     5.0000     2.0000     3.0000     4.0000     1.0000   138.0223\n",
      "     5.0000     2.0000     3.0000     1.0000     4.0000   178.1158\n",
      "     5.0000     2.0000     1.0000     4.0000     3.0000    67.5660\n",
      "     5.0000     2.0000     1.0000     3.0000     4.0000   120.1351\n",
      "     5.0000     1.0000     4.0000     3.0000     2.0000    97.4433\n",
      "     5.0000     1.0000     4.0000     2.0000     3.0000    77.7208\n",
      "     5.0000     1.0000     3.0000     4.0000     2.0000    74.4537\n",
      "     5.0000     1.0000     3.0000     2.0000     4.0000   189.5521\n",
      "     5.0000     1.0000     2.0000     4.0000     3.0000   136.1909\n",
      "     5.0000     1.0000     2.0000     3.0000     4.0000   152.4872\n",
      "     4.0000     5.0000     3.0000     2.0000     1.0000   183.8494\n",
      "     4.0000     5.0000     3.0000     1.0000     2.0000   221.0777\n",
      "     4.0000     5.0000     2.0000     3.0000     1.0000   218.9282\n",
      "     4.0000     5.0000     2.0000     1.0000     3.0000   144.2545\n",
      "     4.0000     5.0000     1.0000     3.0000     2.0000   174.1317\n",
      "     4.0000     5.0000     1.0000     2.0000     3.0000   176.6065\n",
      "     4.0000     3.0000     5.0000     2.0000     1.0000   125.3847\n",
      "     4.0000     3.0000     5.0000     1.0000     2.0000   137.7767\n",
      "     4.0000     3.0000     2.0000     5.0000     1.0000   126.9725\n",
      "     4.0000     3.0000     2.0000     1.0000     5.0000   172.2969\n",
      "     4.0000     3.0000     1.0000     5.0000     2.0000   164.1017\n",
      "     4.0000     3.0000     1.0000     2.0000     5.0000   197.2324\n",
      "     4.0000     2.0000     5.0000     3.0000     1.0000   151.7211\n",
      "     4.0000     2.0000     5.0000     1.0000     3.0000    87.2898\n",
      "     4.0000     2.0000     3.0000     5.0000     1.0000   135.5395\n",
      "     4.0000     2.0000     3.0000     1.0000     5.0000   207.2880\n",
      "     4.0000     2.0000     1.0000     5.0000     3.0000   109.3003\n",
      "     4.0000     2.0000     1.0000     3.0000     5.0000   148.6109\n",
      "     4.0000     1.0000     5.0000     3.0000     2.0000   182.7861\n",
      "     4.0000     1.0000     5.0000     2.0000     3.0000   163.1513\n",
      "     4.0000     1.0000     3.0000     5.0000     2.0000   159.1878\n",
      "     4.0000     1.0000     3.0000     2.0000     5.0000   193.8072\n",
      "     4.0000     1.0000     2.0000     5.0000     3.0000   153.0079\n",
      "     4.0000     1.0000     2.0000     3.0000     5.0000   224.5715\n",
      "     3.0000     5.0000     4.0000     2.0000     1.0000   106.9943\n",
      "     3.0000     5.0000     4.0000     1.0000     2.0000   162.9947\n",
      "     3.0000     5.0000     2.0000     4.0000     1.0000   179.0767\n",
      "     3.0000     5.0000     2.0000     1.0000     4.0000   124.9167\n",
      "     3.0000     5.0000     1.0000     4.0000     2.0000    79.2353\n",
      "     3.0000     5.0000     1.0000     2.0000     4.0000   193.5415\n",
      "     3.0000     4.0000     5.0000     2.0000     1.0000   124.6035\n",
      "     3.0000     4.0000     5.0000     1.0000     2.0000   136.9955\n",
      "     3.0000     4.0000     2.0000     5.0000     1.0000    67.6389\n",
      "     3.0000     4.0000     2.0000     1.0000     5.0000   112.9633\n",
      "     3.0000     4.0000     1.0000     5.0000     2.0000   123.5402\n",
      "     3.0000     4.0000     1.0000     2.0000     5.0000   156.6709\n",
      "     3.0000     2.0000     5.0000     4.0000     1.0000   152.1905\n",
      "     3.0000     2.0000     5.0000     1.0000     4.0000   126.5044\n",
      "     3.0000     2.0000     4.0000     5.0000     1.0000   194.0206\n",
      "     3.0000     2.0000     4.0000     1.0000     5.0000   225.9888\n",
      "     3.0000     2.0000     1.0000     5.0000     4.0000   166.5562\n",
      "     3.0000     2.0000     1.0000     4.0000     5.0000   170.8193\n",
      "     3.0000     1.0000     5.0000     4.0000     2.0000   145.7113\n",
      "     3.0000     1.0000     5.0000     2.0000     4.0000   219.8665\n",
      "     3.0000     1.0000     4.0000     5.0000     2.0000   162.6241\n",
      "     3.0000     1.0000     4.0000     2.0000     5.0000   138.6910\n",
      "     3.0000     1.0000     2.0000     5.0000     4.0000   191.4918\n",
      "     3.0000     1.0000     2.0000     4.0000     5.0000   264.2805\n",
      "     2.0000     5.0000     4.0000     3.0000     1.0000   138.2530\n",
      "     2.0000     5.0000     4.0000     1.0000     3.0000   117.3425\n",
      "     2.0000     5.0000     3.0000     4.0000     1.0000   115.9943\n",
      "     2.0000     5.0000     3.0000     1.0000     4.0000   156.0877\n",
      "     2.0000     5.0000     1.0000     4.0000     3.0000    55.7804\n",
      "     2.0000     5.0000     1.0000     3.0000     4.0000   108.3495\n",
      "     2.0000     4.0000     5.0000     3.0000     1.0000   223.6038\n",
      "     2.0000     4.0000     5.0000     1.0000     3.0000   159.1725\n",
      "     2.0000     4.0000     3.0000     5.0000     1.0000   140.3028\n",
      "     2.0000     4.0000     3.0000     1.0000     5.0000   212.0514\n",
      "     2.0000     4.0000     1.0000     5.0000     3.0000   167.8269\n",
      "     2.0000     4.0000     1.0000     3.0000     5.0000   207.1375\n",
      "     2.0000     3.0000     5.0000     4.0000     1.0000   165.5921\n",
      "     2.0000     3.0000     5.0000     1.0000     4.0000   139.9060\n",
      "     2.0000     3.0000     4.0000     5.0000     1.0000   139.5928\n",
      "     2.0000     3.0000     4.0000     1.0000     5.0000   171.5611\n",
      "     2.0000     3.0000     1.0000     5.0000     4.0000   206.3820\n",
      "     2.0000     3.0000     1.0000     4.0000     5.0000   210.6450\n",
      "     2.0000     1.0000     5.0000     4.0000     3.0000    95.8322\n",
      "     2.0000     1.0000     5.0000     3.0000     4.0000   130.3599\n",
      "     2.0000     1.0000     4.0000     5.0000     3.0000   112.6573\n",
      "     2.0000     1.0000     4.0000     3.0000     5.0000   117.1015\n",
      "     2.0000     1.0000     3.0000     5.0000     4.0000   147.7048\n",
      "     2.0000     1.0000     3.0000     4.0000     5.0000   152.6643\n",
      "     1.0000     5.0000     4.0000     3.0000     2.0000   137.3696\n",
      "     1.0000     5.0000     4.0000     2.0000     3.0000   117.6471\n",
      "     1.0000     5.0000     3.0000     4.0000     2.0000    96.3387\n",
      "     1.0000     5.0000     3.0000     2.0000     4.0000   211.4371\n",
      "     1.0000     5.0000     2.0000     4.0000     3.0000   135.9662\n",
      "     1.0000     5.0000     2.0000     3.0000     4.0000   152.2625\n",
      "     1.0000     4.0000     5.0000     3.0000     2.0000   154.1946\n",
      "     1.0000     4.0000     5.0000     2.0000     3.0000   134.5599\n",
      "     1.0000     4.0000     3.0000     5.0000     2.0000    95.7300\n",
      "     1.0000     4.0000     3.0000     2.0000     5.0000   130.3493\n",
      "     1.0000     4.0000     2.0000     5.0000     3.0000    67.3528\n",
      "     1.0000     4.0000     2.0000     3.0000     5.0000   138.9163\n",
      "     1.0000     3.0000     5.0000     4.0000     2.0000   113.6836\n",
      "     1.0000     3.0000     5.0000     2.0000     4.0000   187.8388\n",
      "     1.0000     3.0000     4.0000     5.0000     2.0000   131.2928\n",
      "     1.0000     3.0000     4.0000     2.0000     5.0000   107.3598\n",
      "     1.0000     3.0000     2.0000     5.0000     4.0000   160.9527\n",
      "     1.0000     3.0000     2.0000     4.0000     5.0000   233.7414\n",
      "     1.0000     2.0000     5.0000     4.0000     3.0000   107.5915\n",
      "     1.0000     2.0000     5.0000     3.0000     4.0000   142.1192\n",
      "     1.0000     2.0000     4.0000     5.0000     3.0000   192.9422\n",
      "     1.0000     2.0000     4.0000     3.0000     5.0000   197.3864\n",
      "     1.0000     2.0000     3.0000     5.0000     4.0000   191.7170\n",
      "     1.0000     2.0000     3.0000     4.0000     5.0000   196.6765\n",
      "\n"
     ]
    }
   ],
   "source": [
    "daccs"
   ]
  },
  {
   "cell_type": "markdown",
   "metadata": {},
   "source": [
    "## Sequence of cities with the minimum total distance (optimal solution)"
   ]
  },
  {
   "cell_type": "code",
   "execution_count": 7,
   "metadata": {},
   "outputs": [
    {
     "name": "stdout",
     "output_type": "stream",
     "text": [
      "minD =  55.780\n",
      "minS =  1\n"
     ]
    }
   ],
   "source": [
    "minD = min(daccs(:,6))\n",
    "minS = 1"
   ]
  },
  {
   "cell_type": "code",
   "execution_count": 8,
   "metadata": {},
   "outputs": [],
   "source": [
    "for i = 1:size(daccs)(1)\n",
    "    if(daccs(i,size(daccs)(2))==minD)\n",
    "        minS = i;\n",
    "    end\n",
    "end\n",
    "daccs(minS,:);"
   ]
  },
  {
   "cell_type": "code",
   "execution_count": 9,
   "metadata": {},
   "outputs": [
    {
     "name": "stdout",
     "output_type": "stream",
     "text": [
      "Sequence of cities: 2 5 1 4 3 \n",
      "Minimum distance: 55.7804 \n"
     ]
    }
   ],
   "source": [
    "fprintf('Sequence of cities: %s\\n',sprintf('%d ', daccs(minS,1:size(daccs)(2)-1)))\n",
    "fprintf('Minimum distance: %s\\n',sprintf('%d ', daccs(minS,size(daccs)(2))))\n"
   ]
  },
  {
   "cell_type": "markdown",
   "metadata": {},
   "source": [
    "# 2) Function that solve the TSP for any number of cities"
   ]
  },
  {
   "cell_type": "code",
   "execution_count": 10,
   "metadata": {},
   "outputs": [],
   "source": [
    "function [n,minSeq,minDist,cpuTime] = TSP(nCities)\n",
    "\n",
    "t=cputime;\n",
    "\n",
    "n = nCities;\n",
    "d = 100*rand(n);\n",
    "\n",
    "## Fill diagonal with zeros\n",
    "i = 1;\n",
    "while(i<=n)\n",
    "d(i,i) = 0;\n",
    "i++;\n",
    "end\n",
    "\n",
    "p = perms([1:n]);\n",
    "\n",
    "daccs = zeros([size(p)(1),size(p)(2)+1]);\n",
    "\n",
    "for i = 1:(size(p)(1))\n",
    "    dacc = 0;\n",
    "    for j = 1:(size(p)(2)-1)\n",
    "        dacc += d(p(i,j),p(i,j+1));\n",
    "    end\n",
    "    daccs(i,:) = [p(i,:),dacc];\n",
    "end\n",
    "\n",
    "minD = min(daccs(:,nCities+1));\n",
    "minS = 1;\n",
    "\n",
    "for i = 1:size(daccs)(1)\n",
    "    if(daccs(i,size(daccs)(2))==minD)\n",
    "        minS = i;\n",
    "    end\n",
    "end\n",
    "\n",
    "minSeq = daccs(minS,1:(size(daccs)(2)-1));\n",
    "minDist = daccs(minS,size(daccs)(2));\n",
    "cpuTime = cputime-t;\n",
    "\n",
    "\n",
    "end"
   ]
  },
  {
   "cell_type": "markdown",
   "metadata": {},
   "source": [
    "## Function to print results"
   ]
  },
  {
   "cell_type": "code",
   "execution_count": 11,
   "metadata": {},
   "outputs": [],
   "source": [
    "function printResults(n,minSeq,minDist,cpuTime)\n",
    "\n",
    "fprintf('Number of cities: %s\\n',sprintf('%d ',n))\n",
    "fprintf('Sequence of cities: %s\\n',sprintf('%d ',minSeq))\n",
    "fprintf('Minimum distance: %s\\n',sprintf('%d ', minDist))\n",
    "printf('Total cpu time: %f seconds\\n', cpuTime)\n",
    "\n",
    "end"
   ]
  },
  {
   "cell_type": "markdown",
   "metadata": {},
   "source": [
    "## Executing our algorithm to solve the TSP for 4,5,6,7 and 8 cities"
   ]
  },
  {
   "cell_type": "markdown",
   "metadata": {},
   "source": [
    "### 4 Cities"
   ]
  },
  {
   "cell_type": "code",
   "execution_count": 12,
   "metadata": {},
   "outputs": [
    {
     "name": "stdout",
     "output_type": "stream",
     "text": [
      "Number of cities: 4 \n",
      "Sequence of cities: 4 2 1 3 \n",
      "Minimum distance: 59.131 \n",
      "Total cpu time: 0.007149 seconds\n"
     ]
    }
   ],
   "source": [
    "[a1,a2,a3,a4] = TSP(nCities = 4); printResults(a1,a2,a3,a4)"
   ]
  },
  {
   "cell_type": "markdown",
   "metadata": {},
   "source": [
    "### 5 Cities"
   ]
  },
  {
   "cell_type": "code",
   "execution_count": 13,
   "metadata": {},
   "outputs": [
    {
     "name": "stdout",
     "output_type": "stream",
     "text": [
      "Number of cities: 5 \n",
      "Sequence of cities: 4 2 1 3 5 \n",
      "Minimum distance: 139.323 \n",
      "Total cpu time: 0.034198 seconds\n"
     ]
    }
   ],
   "source": [
    "[a1,a2,a3,a4] = TSP(nCities = 5); printResults(a1,a2,a3,a4)"
   ]
  },
  {
   "cell_type": "markdown",
   "metadata": {},
   "source": [
    "### 6 Cities"
   ]
  },
  {
   "cell_type": "code",
   "execution_count": 14,
   "metadata": {},
   "outputs": [
    {
     "name": "stdout",
     "output_type": "stream",
     "text": [
      "Number of cities: 6 \n",
      "Sequence of cities: 4 3 2 6 5 1 \n",
      "Minimum distance: 73.2507 \n",
      "Total cpu time: 0.206021 seconds\n"
     ]
    }
   ],
   "source": [
    "[a1,a2,a3,a4] = TSP(nCities = 6); printResults(a1,a2,a3,a4)"
   ]
  },
  {
   "cell_type": "markdown",
   "metadata": {},
   "source": [
    "### 7 Cities"
   ]
  },
  {
   "cell_type": "code",
   "execution_count": 15,
   "metadata": {},
   "outputs": [
    {
     "name": "stdout",
     "output_type": "stream",
     "text": [
      "Number of cities: 7 \n",
      "Sequence of cities: 6 2 1 3 5 4 7 \n",
      "Minimum distance: 103.08 \n",
      "Total cpu time: 1.117562 seconds\n"
     ]
    }
   ],
   "source": [
    "[a1,a2,a3,a4] = TSP(nCities = 7); printResults(a1,a2,a3,a4)"
   ]
  },
  {
   "cell_type": "markdown",
   "metadata": {},
   "source": [
    "### 8 Cities"
   ]
  },
  {
   "cell_type": "code",
   "execution_count": 16,
   "metadata": {},
   "outputs": [
    {
     "name": "stdout",
     "output_type": "stream",
     "text": [
      "Number of cities: 8 \n",
      "Sequence of cities: 7 1 4 8 6 2 3 5 \n",
      "Minimum distance: 126.109 \n",
      "Total cpu time: 9.637356 seconds\n"
     ]
    }
   ],
   "source": [
    "[a1,a2,a3,a4] = TSP(nCities = 8); printResults(a1,a2,a3,a4)"
   ]
  },
  {
   "cell_type": "markdown",
   "metadata": {},
   "source": [
    "## Visualization of the growth of computational time as the number of cities increase"
   ]
  },
  {
   "cell_type": "code",
   "execution_count": 17,
   "metadata": {},
   "outputs": [],
   "source": [
    "function CPUTimeAndCities = plotNCitiesCPUTime(minNCities,maxNCities)\n",
    "\n",
    "CPUTimeAndCities = zeros(maxNCities-minNCities+1,2);\n",
    "\n",
    "count = 1;\n",
    "for i = minNCities:maxNCities;\n",
    "\n",
    "[nCities,minSeq,minDist,cpuTime] = TSP(nCities = i);\n",
    "CPUTimeAndCities(count,1) = nCities;\n",
    "CPUTimeAndCities(count,2) = cpuTime;\n",
    "count++;\n",
    "\n",
    "end\n",
    "\n",
    "end"
   ]
  },
  {
   "cell_type": "code",
   "execution_count": 18,
   "metadata": {},
   "outputs": [
    {
     "name": "stdout",
     "output_type": "stream",
     "text": [
      "CPUTimeAndCities28 =\n",
      "\n",
      "   2.0000000   0.0012500\n",
      "   3.0000000   0.0028280\n",
      "   4.0000000   0.0070870\n",
      "   5.0000000   0.0359140\n",
      "   6.0000000   0.1462040\n",
      "   7.0000000   1.1189360\n",
      "   8.0000000   9.8600210\n",
      "\n"
     ]
    }
   ],
   "source": [
    "CPUTimeAndCities28 = plotNCitiesCPUTime(minNCities=2,maxNCities=8)"
   ]
  },
  {
   "cell_type": "code",
   "execution_count": 20,
   "metadata": {},
   "outputs": [
    {
     "data": {
      "image/svg+xml": [
       "<svg height=\"420px\" viewBox=\"0 0 560 420\" width=\"560px\" xmlns=\"http://www.w3.org/2000/svg\" xmlns:xlink=\"http://www.w3.org/1999/xlink\">\n",
       "\n",
       "<title>Gnuplot</title>\n",
       "<desc>Produced by GNUPLOT 5.2 patchlevel 5 </desc>\n",
       "\n",
       "<g id=\"gnuplot_canvas\">\n",
       "\n",
       "<rect fill=\"#ffffff\" height=\"420\" width=\"560\" x=\"0\" y=\"0\"/>\n",
       "<defs>\n",
       "\n",
       "\t<circle id=\"gpDot\" r=\"0.5\" stroke=\"currentColor\" stroke-width=\"0.5\"/>\n",
       "\t<path d=\"M-1,0 h2 M0,-1 v2\" id=\"gpPt0\" stroke=\"currentColor\" stroke-width=\"0.357\"/>\n",
       "\t<path d=\"M-1,-1 L1,1 M1,-1 L-1,1\" id=\"gpPt1\" stroke=\"currentColor\" stroke-width=\"0.357\"/>\n",
       "\t<path d=\"M-1,0 L1,0 M0,-1 L0,1 M-1,-1 L1,1 M-1,1 L1,-1\" id=\"gpPt2\" stroke=\"currentColor\" stroke-width=\"0.357\"/>\n",
       "\t<rect height=\"2\" id=\"gpPt3\" stroke=\"currentColor\" stroke-width=\"0.357\" width=\"2\" x=\"-1\" y=\"-1\"/>\n",
       "\t<rect fill=\"currentColor\" height=\"2\" id=\"gpPt4\" stroke=\"currentColor\" stroke-width=\"0.357\" width=\"2\" x=\"-1\" y=\"-1\"/>\n",
       "\t<circle cx=\"0\" cy=\"0\" id=\"gpPt5\" r=\"1\" stroke=\"currentColor\" stroke-width=\"0.357\"/>\n",
       "\t<use fill=\"currentColor\" id=\"gpPt6\" stroke=\"none\" xlink:href=\"#gpPt5\"/>\n",
       "\t<path d=\"M0,-1.33 L-1.33,0.67 L1.33,0.67 z\" id=\"gpPt7\" stroke=\"currentColor\" stroke-width=\"0.357\"/>\n",
       "\t<use fill=\"currentColor\" id=\"gpPt8\" stroke=\"none\" xlink:href=\"#gpPt7\"/>\n",
       "\t<use id=\"gpPt9\" stroke=\"currentColor\" transform=\"rotate(180)\" xlink:href=\"#gpPt7\"/>\n",
       "\t<use fill=\"currentColor\" id=\"gpPt10\" stroke=\"none\" xlink:href=\"#gpPt9\"/>\n",
       "\t<use id=\"gpPt11\" stroke=\"currentColor\" transform=\"rotate(45)\" xlink:href=\"#gpPt3\"/>\n",
       "\t<use fill=\"currentColor\" id=\"gpPt12\" stroke=\"none\" xlink:href=\"#gpPt11\"/>\n",
       "\t<path d=\"M0,1.330 L1.265,0.411 L0.782,-1.067 L-0.782,-1.076 L-1.265,0.411 z\" id=\"gpPt13\" stroke=\"currentColor\" stroke-width=\"0.357\"/>\n",
       "\t<use fill=\"currentColor\" id=\"gpPt14\" stroke=\"none\" xlink:href=\"#gpPt13\"/>\n",
       "\t<filter filterUnits=\"objectBoundingBox\" height=\"1\" id=\"textbox\" width=\"1\" x=\"0\" y=\"0\">\n",
       "\t  <feFlood flood-color=\"#FFFFFF\" flood-opacity=\"1\" result=\"bgnd\"/>\n",
       "\t  <feComposite in=\"SourceGraphic\" in2=\"bgnd\" operator=\"atop\"/>\n",
       "\t</filter>\n",
       "\t<filter filterUnits=\"objectBoundingBox\" height=\"1\" id=\"greybox\" width=\"1\" x=\"0\" y=\"0\">\n",
       "\t  <feFlood flood-color=\"lightgrey\" flood-opacity=\"1\" result=\"grey\"/>\n",
       "\t  <feComposite in=\"SourceGraphic\" in2=\"grey\" operator=\"atop\"/>\n",
       "\t</filter>\n",
       "</defs>\n",
       "<g color=\"#FFFFFF\" fill=\"none\" stroke=\"currentColor\" stroke-linecap=\"butt\" stroke-linejoin=\"miter\" stroke-width=\"1.00\">\n",
       "</g>\n",
       "<g color=\"black\" fill=\"none\" stroke=\"currentColor\" stroke-linecap=\"butt\" stroke-linejoin=\"miter\" stroke-width=\"1.00\">\n",
       "\t<g shape-rendering=\"crispEdges\" stroke=\"none\">\n",
       "\t\t<polygon fill=\"rgb(255, 255, 255)\" points=\"34.6,384.2 544.2,384.2 544.2,39.1 34.6,39.1 \"/>\n",
       "\t</g>\n",
       "</g>\n",
       "<g color=\"black\" fill=\"none\" stroke=\"currentColor\" stroke-linecap=\"butt\" stroke-linejoin=\"miter\" stroke-width=\"1.00\">\n",
       "\t<path d=\"M34.6,384.2 L42.4,384.2 M544.3,384.2 L536.5,384.2  \" stroke=\"rgb(  0,   0,   0)\"/>\t<g fill=\"rgb(38,38,38)\" font-family=\"Arial\" font-size=\"10.00\" stroke=\"none\" text-anchor=\"end\" transform=\"translate(29.4,387.5)\">\n",
       "\t\t<text><tspan font-family=\"Arial\">0</tspan></text>\n",
       "\t</g>\n",
       "</g>\n",
       "<g color=\"black\" fill=\"none\" stroke=\"currentColor\" stroke-linecap=\"butt\" stroke-linejoin=\"miter\" stroke-width=\"1.00\">\n",
       "\t<path d=\"M34.6,315.2 L42.4,315.2 M544.3,315.2 L536.5,315.2  \" stroke=\"rgb(  0,   0,   0)\"/>\t<g fill=\"rgb(38,38,38)\" font-family=\"Arial\" font-size=\"10.00\" stroke=\"none\" text-anchor=\"end\" transform=\"translate(29.4,318.5)\">\n",
       "\t\t<text><tspan font-family=\"Arial\">2</tspan></text>\n",
       "\t</g>\n",
       "</g>\n",
       "<g color=\"black\" fill=\"none\" stroke=\"currentColor\" stroke-linecap=\"butt\" stroke-linejoin=\"miter\" stroke-width=\"1.00\">\n",
       "\t<path d=\"M34.6,246.1 L42.4,246.1 M544.3,246.1 L536.5,246.1  \" stroke=\"rgb(  0,   0,   0)\"/>\t<g fill=\"rgb(38,38,38)\" font-family=\"Arial\" font-size=\"10.00\" stroke=\"none\" text-anchor=\"end\" transform=\"translate(29.4,249.4)\">\n",
       "\t\t<text><tspan font-family=\"Arial\">4</tspan></text>\n",
       "\t</g>\n",
       "</g>\n",
       "<g color=\"black\" fill=\"none\" stroke=\"currentColor\" stroke-linecap=\"butt\" stroke-linejoin=\"miter\" stroke-width=\"1.00\">\n",
       "\t<path d=\"M34.6,177.1 L42.4,177.1 M544.3,177.1 L536.5,177.1  \" stroke=\"rgb(  0,   0,   0)\"/>\t<g fill=\"rgb(38,38,38)\" font-family=\"Arial\" font-size=\"10.00\" stroke=\"none\" text-anchor=\"end\" transform=\"translate(29.4,180.4)\">\n",
       "\t\t<text><tspan font-family=\"Arial\">6</tspan></text>\n",
       "\t</g>\n",
       "</g>\n",
       "<g color=\"black\" fill=\"none\" stroke=\"currentColor\" stroke-linecap=\"butt\" stroke-linejoin=\"miter\" stroke-width=\"1.00\">\n",
       "\t<path d=\"M34.6,108.0 L42.4,108.0 M544.3,108.0 L536.5,108.0  \" stroke=\"rgb(  0,   0,   0)\"/>\t<g fill=\"rgb(38,38,38)\" font-family=\"Arial\" font-size=\"10.00\" stroke=\"none\" text-anchor=\"end\" transform=\"translate(29.4,111.3)\">\n",
       "\t\t<text><tspan font-family=\"Arial\">8</tspan></text>\n",
       "\t</g>\n",
       "</g>\n",
       "<g color=\"black\" fill=\"none\" stroke=\"currentColor\" stroke-linecap=\"butt\" stroke-linejoin=\"miter\" stroke-width=\"1.00\">\n",
       "\t<path d=\"M34.6,39.0 L42.4,39.0 M544.3,39.0 L536.5,39.0  \" stroke=\"rgb(  0,   0,   0)\"/>\t<g fill=\"rgb(38,38,38)\" font-family=\"Arial\" font-size=\"10.00\" stroke=\"none\" text-anchor=\"end\" transform=\"translate(29.4,42.3)\">\n",
       "\t\t<text><tspan font-family=\"Arial\">10</tspan></text>\n",
       "\t</g>\n",
       "</g>\n",
       "<g color=\"black\" fill=\"none\" stroke=\"currentColor\" stroke-linecap=\"butt\" stroke-linejoin=\"miter\" stroke-width=\"1.00\">\n",
       "\t<path d=\"M34.6,384.2 L34.6,376.4 M34.6,39.0 L34.6,46.8  \" stroke=\"rgb(  0,   0,   0)\"/>\t<g fill=\"rgb(38,38,38)\" font-family=\"Arial\" font-size=\"10.00\" stroke=\"none\" text-anchor=\"middle\" transform=\"translate(34.6,398.7)\">\n",
       "\t\t<text><tspan font-family=\"Arial\">2</tspan></text>\n",
       "\t</g>\n",
       "</g>\n",
       "<g color=\"black\" fill=\"none\" stroke=\"currentColor\" stroke-linecap=\"butt\" stroke-linejoin=\"miter\" stroke-width=\"1.00\">\n",
       "\t<path d=\"M119.6,384.2 L119.6,376.4 M119.6,39.0 L119.6,46.8  \" stroke=\"rgb(  0,   0,   0)\"/>\t<g fill=\"rgb(38,38,38)\" font-family=\"Arial\" font-size=\"10.00\" stroke=\"none\" text-anchor=\"middle\" transform=\"translate(119.6,398.7)\">\n",
       "\t\t<text><tspan font-family=\"Arial\">3</tspan></text>\n",
       "\t</g>\n",
       "</g>\n",
       "<g color=\"black\" fill=\"none\" stroke=\"currentColor\" stroke-linecap=\"butt\" stroke-linejoin=\"miter\" stroke-width=\"1.00\">\n",
       "\t<path d=\"M204.5,384.2 L204.5,376.4 M204.5,39.0 L204.5,46.8  \" stroke=\"rgb(  0,   0,   0)\"/>\t<g fill=\"rgb(38,38,38)\" font-family=\"Arial\" font-size=\"10.00\" stroke=\"none\" text-anchor=\"middle\" transform=\"translate(204.5,398.7)\">\n",
       "\t\t<text><tspan font-family=\"Arial\">4</tspan></text>\n",
       "\t</g>\n",
       "</g>\n",
       "<g color=\"black\" fill=\"none\" stroke=\"currentColor\" stroke-linecap=\"butt\" stroke-linejoin=\"miter\" stroke-width=\"1.00\">\n",
       "\t<path d=\"M289.5,384.2 L289.5,376.4 M289.5,39.0 L289.5,46.8  \" stroke=\"rgb(  0,   0,   0)\"/>\t<g fill=\"rgb(38,38,38)\" font-family=\"Arial\" font-size=\"10.00\" stroke=\"none\" text-anchor=\"middle\" transform=\"translate(289.5,398.7)\">\n",
       "\t\t<text><tspan font-family=\"Arial\">5</tspan></text>\n",
       "\t</g>\n",
       "</g>\n",
       "<g color=\"black\" fill=\"none\" stroke=\"currentColor\" stroke-linecap=\"butt\" stroke-linejoin=\"miter\" stroke-width=\"1.00\">\n",
       "\t<path d=\"M374.4,384.2 L374.4,376.4 M374.4,39.0 L374.4,46.8  \" stroke=\"rgb(  0,   0,   0)\"/>\t<g fill=\"rgb(38,38,38)\" font-family=\"Arial\" font-size=\"10.00\" stroke=\"none\" text-anchor=\"middle\" transform=\"translate(374.4,398.7)\">\n",
       "\t\t<text><tspan font-family=\"Arial\">6</tspan></text>\n",
       "\t</g>\n",
       "</g>\n",
       "<g color=\"black\" fill=\"none\" stroke=\"currentColor\" stroke-linecap=\"butt\" stroke-linejoin=\"miter\" stroke-width=\"1.00\">\n",
       "\t<path d=\"M459.4,384.2 L459.4,376.4 M459.4,39.0 L459.4,46.8  \" stroke=\"rgb(  0,   0,   0)\"/>\t<g fill=\"rgb(38,38,38)\" font-family=\"Arial\" font-size=\"10.00\" stroke=\"none\" text-anchor=\"middle\" transform=\"translate(459.4,398.7)\">\n",
       "\t\t<text><tspan font-family=\"Arial\">7</tspan></text>\n",
       "\t</g>\n",
       "</g>\n",
       "<g color=\"black\" fill=\"none\" stroke=\"currentColor\" stroke-linecap=\"butt\" stroke-linejoin=\"miter\" stroke-width=\"1.00\">\n",
       "\t<path d=\"M544.3,384.2 L544.3,376.4 M544.3,39.0 L544.3,46.8  \" stroke=\"rgb(  0,   0,   0)\"/>\t<g fill=\"rgb(38,38,38)\" font-family=\"Arial\" font-size=\"10.00\" stroke=\"none\" text-anchor=\"middle\" transform=\"translate(544.3,398.7)\">\n",
       "\t\t<text><tspan font-family=\"Arial\">8</tspan></text>\n",
       "\t</g>\n",
       "</g>\n",
       "<g color=\"black\" fill=\"none\" stroke=\"currentColor\" stroke-linecap=\"butt\" stroke-linejoin=\"miter\" stroke-width=\"1.00\">\n",
       "</g>\n",
       "<g color=\"black\" fill=\"none\" stroke=\"currentColor\" stroke-linecap=\"butt\" stroke-linejoin=\"miter\" stroke-width=\"1.00\">\n",
       "\t<g fill=\"rgb(38,38,38)\" font-family=\"Arial\" font-size=\"11.00\" stroke=\"none\" text-anchor=\"middle\" transform=\"translate(11.3,211.6) rotate(-90)\">\n",
       "\t\t<text><tspan font-family=\"Arial\">Computational time (seconds)</tspan></text>\n",
       "\t</g>\n",
       "</g>\n",
       "<g color=\"black\" fill=\"none\" stroke=\"currentColor\" stroke-linecap=\"butt\" stroke-linejoin=\"miter\" stroke-width=\"1.00\">\n",
       "\t<g fill=\"rgb(38,38,38)\" font-family=\"Arial\" font-size=\"11.00\" stroke=\"none\" text-anchor=\"middle\" transform=\"translate(289.4,415.8)\">\n",
       "\t\t<text><tspan font-family=\"Arial\">Number of cities</tspan></text>\n",
       "\t</g>\n",
       "</g>\n",
       "<g color=\"black\" fill=\"none\" stroke=\"currentColor\" stroke-linecap=\"butt\" stroke-linejoin=\"miter\" stroke-width=\"1.00\">\n",
       "\t<g fill=\"rgb(0,0,0)\" font-family=\":Bold\" font-size=\"11.00\" stroke=\"none\" text-anchor=\"middle\" transform=\"translate(289.4,20.5)\">\n",
       "\t\t<text><tspan font-family=\"\" font-weight=\"bold\">Computational time and number of cities in TSP</tspan></text>\n",
       "\t</g>\n",
       "</g>\n",
       "<g color=\"black\" fill=\"none\" stroke=\"currentColor\" stroke-linecap=\"butt\" stroke-linejoin=\"miter\" stroke-width=\"1.00\">\n",
       "</g>\n",
       "\t<g id=\"gnuplot_plot_1a\"><title>gnuplot_plot_1a</title>\n",
       "<g color=\"#FFFFFF\" fill=\"none\" stroke=\"currentColor\" stroke-linecap=\"butt\" stroke-linejoin=\"miter\" stroke-width=\"0.50\">\n",
       "</g>\n",
       "<g color=\"black\" fill=\"none\" stroke=\"currentColor\" stroke-linecap=\"butt\" stroke-linejoin=\"miter\" stroke-width=\"0.50\">\n",
       "\t<path d=\"M34.6,384.2 L119.6,384.1 L204.5,384.0 L289.5,383.0 L374.4,379.2 L459.4,345.6 L544.3,43.8  \" stroke=\"rgb(255,   0,   0)\"/>\t<use color=\"rgb(255,   0,   0)\" transform=\"translate(34.6,384.2) scale(5.60)\" xlink:href=\"#gpPt5\"/>\n",
       "\t<use color=\"rgb(255,   0,   0)\" transform=\"translate(119.6,384.1) scale(5.60)\" xlink:href=\"#gpPt5\"/>\n",
       "\t<use color=\"rgb(255,   0,   0)\" transform=\"translate(204.5,384.0) scale(5.60)\" xlink:href=\"#gpPt5\"/>\n",
       "\t<use color=\"rgb(255,   0,   0)\" transform=\"translate(289.5,383.0) scale(5.60)\" xlink:href=\"#gpPt5\"/>\n",
       "\t<use color=\"rgb(255,   0,   0)\" transform=\"translate(374.4,379.2) scale(5.60)\" xlink:href=\"#gpPt5\"/>\n",
       "\t<use color=\"rgb(255,   0,   0)\" transform=\"translate(459.4,345.6) scale(5.60)\" xlink:href=\"#gpPt5\"/>\n",
       "\t<use color=\"rgb(255,   0,   0)\" transform=\"translate(544.3,43.8) scale(5.60)\" xlink:href=\"#gpPt5\"/>\n",
       "</g>\n",
       "\t</g>\n",
       "<g color=\"#FFFFFF\" fill=\"none\" stroke=\"rgb(255,   0,   0)\" stroke-linecap=\"butt\" stroke-linejoin=\"miter\" stroke-width=\"2.00\">\n",
       "</g>\n",
       "<g color=\"black\" fill=\"none\" stroke=\"currentColor\" stroke-linecap=\"butt\" stroke-linejoin=\"miter\" stroke-width=\"2.00\">\n",
       "</g>\n",
       "<g color=\"black\" fill=\"none\" stroke=\"black\" stroke-linecap=\"butt\" stroke-linejoin=\"miter\" stroke-width=\"0.50\">\n",
       "\t<path d=\"M34.6,384.2 L544.3,384.2 M34.6,39.0 L544.3,39.0 M34.6,384.2 L34.6,39.0 M544.3,384.2 L544.3,39.0    \" stroke=\"rgb( 38,  38,  38)\"/></g>\n",
       "<g color=\"black\" fill=\"none\" stroke=\"rgb( 38,  38,  38)\" stroke-linecap=\"butt\" stroke-linejoin=\"miter\" stroke-width=\"1.00\">\n",
       "</g>\n",
       "<g color=\"black\" fill=\"none\" stroke=\"currentColor\" stroke-linecap=\"butt\" stroke-linejoin=\"miter\" stroke-width=\"1.00\">\n",
       "</g>\n",
       "</g>\n",
       "</svg>"
      ],
      "text/plain": [
       "<IPython.core.display.SVG object>"
      ]
     },
     "metadata": {},
     "output_type": "display_data"
    }
   ],
   "source": [
    "plot([CPUTimeAndCities28(:,1)], [CPUTimeAndCities28(:,2)], 'o-r');\n",
    "title (\"Computational time and number of cities in TSP\");\n",
    "xlabel (\"Number of cities\");\n",
    "ylabel (\"Computational time (seconds)\");"
   ]
  }
 ],
 "metadata": {
  "kernelspec": {
   "display_name": "Octave",
   "language": "octave",
   "name": "octave"
  },
  "language_info": {
   "file_extension": ".m",
   "help_links": [
    {
     "text": "GNU Octave",
     "url": "https://www.gnu.org/software/octave/support.html"
    },
    {
     "text": "Octave Kernel",
     "url": "https://github.com/Calysto/octave_kernel"
    },
    {
     "text": "MetaKernel Magics",
     "url": "https://github.com/calysto/metakernel/blob/master/metakernel/magics/README.md"
    }
   ],
   "mimetype": "text/x-octave",
   "name": "octave",
   "version": "4.4.1"
  }
 },
 "nbformat": 4,
 "nbformat_minor": 2
}
