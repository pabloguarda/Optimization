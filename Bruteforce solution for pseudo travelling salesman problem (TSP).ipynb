{
 "cells": [
  {
   "cell_type": "markdown",
   "metadata": {},
   "source": [
    "# 1) Solution of TSP for bruteforce"
   ]
  },
  {
   "cell_type": "markdown",
   "metadata": {},
   "source": [
    "## Number of cities to be visited"
   ]
  },
  {
   "cell_type": "code",
   "execution_count": 21,
   "metadata": {},
   "outputs": [
    {
     "name": "stdout",
     "output_type": "stream",
     "text": [
      "n =  5\n"
     ]
    }
   ],
   "source": [
    "n = 5"
   ]
  },
  {
   "cell_type": "markdown",
   "metadata": {},
   "source": [
    "## Matrix of distances between cities with random numbers"
   ]
  },
  {
   "cell_type": "code",
   "execution_count": 22,
   "metadata": {},
   "outputs": [
    {
     "name": "stdout",
     "output_type": "stream",
     "text": [
      "d =\n",
      "\n",
      "    0.00000   78.08963   68.01944   58.23054   73.84560\n",
      "   68.40098    0.00000   38.27276   66.41281   49.94897\n",
      "   83.92721   92.83847    0.00000   71.06855   65.83128\n",
      "    2.80423   27.45455    8.85719    0.00000   18.18742\n",
      "    6.76989   27.33897   31.46494   17.65895    0.00000\n",
      "\n"
     ]
    }
   ],
   "source": [
    "function d = distanceMatrixCities(n)\n",
    "\n",
    "d = 100*rand(n);\n",
    "\n",
    "## Fill diagonal with zeros\n",
    "i = 1;\n",
    "while(i<=n)\n",
    "d(i,i) = 0;\n",
    "i++;\n",
    "end\n",
    "d;\n",
    "end\n",
    "\n",
    "d = distanceMatrixCities(n)"
   ]
  },
  {
   "cell_type": "markdown",
   "metadata": {},
   "source": [
    "## Possible sequences of visited cities (e.g. 1,2,3,4,5 and 1,3,2,4,5)"
   ]
  },
  {
   "cell_type": "code",
   "execution_count": 23,
   "metadata": {},
   "outputs": [],
   "source": [
    "p = perms([1:n]);"
   ]
  },
  {
   "cell_type": "code",
   "execution_count": 24,
   "metadata": {},
   "outputs": [
    {
     "name": "stdout",
     "output_type": "stream",
     "text": [
      "ans =\n",
      "\n",
      "   120     5\n",
      "\n"
     ]
    }
   ],
   "source": [
    "size(p)"
   ]
  },
  {
   "cell_type": "markdown",
   "metadata": {},
   "source": [
    "## Total travelled distance in each sequence of cities"
   ]
  },
  {
   "cell_type": "code",
   "execution_count": 25,
   "metadata": {},
   "outputs": [],
   "source": [
    "function daccs = distanceCalculation(cities,d)\n",
    "\n",
    "daccs = zeros([size(cities)(1),size(cities)(2)+1]);\n",
    "\n",
    "for i = 1:(size(cities)(1))\n",
    "    dacc = 0;\n",
    "    for j = 1:(size(cities)(2)-1)\n",
    "        dacc += d(cities(i,j),cities(i,j+1));\n",
    "    end\n",
    "    daccs(i,:) = [cities(i,:),dacc];\n",
    "end\n",
    "end"
   ]
  },
  {
   "cell_type": "code",
   "execution_count": 26,
   "metadata": {},
   "outputs": [
    {
     "name": "stdout",
     "output_type": "stream",
     "text": [
      "daccs =\n",
      "\n",
      "     5.0000     4.0000     3.0000     2.0000     1.0000   187.7556\n",
      "     5.0000     4.0000     3.0000     1.0000     2.0000   188.5330\n",
      "     5.0000     4.0000     2.0000     3.0000     1.0000   167.3135\n",
      "     5.0000     4.0000     2.0000     1.0000     3.0000   181.5339\n",
      "     5.0000     4.0000     1.0000     3.0000     2.0000   181.3211\n",
      "     5.0000     4.0000     1.0000     2.0000     3.0000   136.8256\n",
      "     5.0000     3.0000     4.0000     2.0000     1.0000   198.3890\n",
      "     5.0000     3.0000     4.0000     1.0000     2.0000   183.4273\n",
      "     5.0000     3.0000     2.0000     4.0000     1.0000   193.5204\n",
      "     5.0000     3.0000     2.0000     1.0000     4.0000   250.9349\n",
      "     5.0000     3.0000     1.0000     4.0000     2.0000   201.0772\n",
      "     5.0000     3.0000     1.0000     2.0000     4.0000   259.8946\n",
      "     5.0000     2.0000     4.0000     3.0000     1.0000   186.5362\n",
      "     5.0000     2.0000     4.0000     1.0000     3.0000   164.5754\n",
      "     5.0000     2.0000     3.0000     4.0000     1.0000   139.4845\n",
      "     5.0000     2.0000     3.0000     1.0000     4.0000   207.7695\n",
      "     5.0000     2.0000     1.0000     4.0000     3.0000   162.8277\n",
      "     5.0000     2.0000     1.0000     3.0000     4.0000   234.8279\n",
      "     5.0000     1.0000     4.0000     3.0000     2.0000   166.6961\n",
      "     5.0000     1.0000     4.0000     2.0000     3.0000   130.7277\n",
      "     5.0000     1.0000     3.0000     4.0000     2.0000   173.3124\n",
      "     5.0000     1.0000     3.0000     2.0000     4.0000   234.0406\n",
      "     5.0000     1.0000     2.0000     4.0000     3.0000   160.1295\n",
      "     5.0000     1.0000     2.0000     3.0000     4.0000   194.2008\n",
      "     4.0000     5.0000     3.0000     2.0000     1.0000   210.8918\n",
      "     4.0000     5.0000     3.0000     1.0000     2.0000   211.6692\n",
      "     4.0000     5.0000     2.0000     3.0000     1.0000   167.7264\n",
      "     4.0000     5.0000     2.0000     1.0000     3.0000   181.9468\n",
      "     4.0000     5.0000     1.0000     3.0000     2.0000   185.8152\n",
      "     4.0000     5.0000     1.0000     2.0000     3.0000   141.3197\n",
      "     4.0000     3.0000     5.0000     2.0000     1.0000   170.4284\n",
      "     4.0000     3.0000     5.0000     1.0000     2.0000   159.5480\n",
      "     4.0000     3.0000     2.0000     5.0000     1.0000   158.4145\n",
      "     4.0000     3.0000     2.0000     1.0000     5.0000   243.9422\n",
      "     4.0000     3.0000     1.0000     5.0000     2.0000   193.9690\n",
      "     4.0000     3.0000     1.0000     2.0000     5.0000   220.8230\n",
      "     4.0000     2.0000     5.0000     3.0000     1.0000   192.7957\n",
      "     4.0000     2.0000     5.0000     1.0000     3.0000   152.1929\n",
      "     4.0000     2.0000     3.0000     5.0000     1.0000   138.3285\n",
      "     4.0000     2.0000     3.0000     1.0000     5.0000   223.5001\n",
      "     4.0000     2.0000     1.0000     5.0000     3.0000   201.1661\n",
      "     4.0000     2.0000     1.0000     3.0000     5.0000   229.7063\n",
      "     4.0000     1.0000     5.0000     3.0000     2.0000   200.9532\n",
      "     4.0000     1.0000     5.0000     2.0000     3.0000   142.2616\n",
      "     4.0000     1.0000     3.0000     5.0000     2.0000   163.9939\n",
      "     4.0000     1.0000     3.0000     2.0000     5.0000   213.6111\n",
      "     4.0000     1.0000     2.0000     5.0000     3.0000   162.3078\n",
      "     4.0000     1.0000     2.0000     3.0000     5.0000   184.9979\n",
      "     3.0000     5.0000     4.0000     2.0000     1.0000   179.3458\n",
      "     3.0000     5.0000     4.0000     1.0000     2.0000   164.3841\n",
      "     3.0000     5.0000     2.0000     4.0000     1.0000   162.3873\n",
      "     3.0000     5.0000     2.0000     1.0000     4.0000   219.8018\n",
      "     3.0000     5.0000     1.0000     4.0000     2.0000   158.2863\n",
      "     3.0000     5.0000     1.0000     2.0000     4.0000   217.1036\n",
      "     3.0000     4.0000     5.0000     2.0000     1.0000   184.9959\n",
      "     3.0000     4.0000     5.0000     1.0000     2.0000   174.1155\n",
      "     3.0000     4.0000     2.0000     5.0000     1.0000   155.2420\n",
      "     3.0000     4.0000     2.0000     1.0000     5.0000   240.7697\n",
      "     3.0000     4.0000     1.0000     5.0000     2.0000   175.0574\n",
      "     3.0000     4.0000     1.0000     2.0000     5.0000   201.9114\n",
      "     3.0000     2.0000     5.0000     4.0000     1.0000   163.2506\n",
      "     3.0000     2.0000     5.0000     1.0000     4.0000   207.7879\n",
      "     3.0000     2.0000     4.0000     5.0000     1.0000   184.2086\n",
      "     3.0000     2.0000     4.0000     1.0000     5.0000   235.9011\n",
      "     3.0000     2.0000     1.0000     5.0000     4.0000   252.7440\n",
      "     3.0000     2.0000     1.0000     4.0000     5.0000   237.6574\n",
      "     3.0000     1.0000     5.0000     4.0000     2.0000   202.8863\n",
      "     3.0000     1.0000     5.0000     2.0000     4.0000   251.5246\n",
      "     3.0000     1.0000     4.0000     5.0000     2.0000   187.6841\n",
      "     3.0000     1.0000     4.0000     2.0000     5.0000   219.5613\n",
      "     3.0000     1.0000     2.0000     5.0000     4.0000   229.6248\n",
      "     3.0000     1.0000     2.0000     4.0000     5.0000   246.6171\n",
      "     2.0000     5.0000     4.0000     3.0000     1.0000   160.3923\n",
      "     2.0000     5.0000     4.0000     1.0000     3.0000   138.4316\n",
      "     2.0000     5.0000     3.0000     4.0000     1.0000   155.2867\n",
      "     2.0000     5.0000     3.0000     1.0000     4.0000   223.5717\n",
      "     2.0000     5.0000     1.0000     4.0000     3.0000   123.8066\n",
      "     2.0000     5.0000     1.0000     3.0000     4.0000   195.8069\n",
      "     2.0000     4.0000     5.0000     3.0000     1.0000   199.9924\n",
      "     2.0000     4.0000     5.0000     1.0000     3.0000   159.3896\n",
      "     2.0000     4.0000     3.0000     5.0000     1.0000   147.8712\n",
      "     2.0000     4.0000     3.0000     1.0000     5.0000   233.0428\n",
      "     2.0000     4.0000     1.0000     5.0000     3.0000   174.5276\n",
      "     2.0000     4.0000     1.0000     3.0000     5.0000   203.0678\n",
      "     2.0000     3.0000     5.0000     4.0000     1.0000   124.5672\n",
      "     2.0000     3.0000     5.0000     1.0000     4.0000   169.1045\n",
      "     2.0000     3.0000     4.0000     5.0000     1.0000   134.2986\n",
      "     2.0000     3.0000     4.0000     1.0000     5.0000   185.9911\n",
      "     2.0000     3.0000     1.0000     5.0000     4.0000   213.7045\n",
      "     2.0000     3.0000     1.0000     4.0000     5.0000   198.6179\n",
      "     2.0000     1.0000     5.0000     4.0000     3.0000   168.7627\n",
      "     2.0000     1.0000     5.0000     3.0000     4.0000   244.7801\n",
      "     2.0000     1.0000     4.0000     5.0000     3.0000   176.2839\n",
      "     2.0000     1.0000     4.0000     3.0000     5.0000   201.3200\n",
      "     2.0000     1.0000     3.0000     5.0000     4.0000   219.9107\n",
      "     2.0000     1.0000     3.0000     4.0000     5.0000   225.6764\n",
      "     1.0000     5.0000     4.0000     3.0000     2.0000   193.2002\n",
      "     1.0000     5.0000     4.0000     2.0000     3.0000   157.2319\n",
      "     1.0000     5.0000     3.0000     4.0000     2.0000   203.8336\n",
      "     1.0000     5.0000     3.0000     2.0000     4.0000   264.5618\n",
      "     1.0000     5.0000     2.0000     4.0000     3.0000   176.4546\n",
      "     1.0000     5.0000     2.0000     3.0000     4.0000   210.5259\n",
      "     1.0000     4.0000     5.0000     3.0000     2.0000   200.7214\n",
      "     1.0000     4.0000     5.0000     2.0000     3.0000   142.0297\n",
      "     1.0000     4.0000     3.0000     5.0000     2.0000   160.2580\n",
      "     1.0000     4.0000     3.0000     2.0000     5.0000   209.8752\n",
      "     1.0000     4.0000     2.0000     5.0000     3.0000   167.0990\n",
      "     1.0000     4.0000     2.0000     3.0000     5.0000   189.7891\n",
      "     1.0000     3.0000     5.0000     4.0000     2.0000   178.9642\n",
      "     1.0000     3.0000     5.0000     2.0000     4.0000   227.6025\n",
      "     1.0000     3.0000     4.0000     5.0000     2.0000   184.6144\n",
      "     1.0000     3.0000     4.0000     2.0000     5.0000   216.4915\n",
      "     1.0000     3.0000     2.0000     5.0000     4.0000   228.4658\n",
      "     1.0000     3.0000     2.0000     4.0000     5.0000   245.4581\n",
      "     1.0000     2.0000     5.0000     4.0000     3.0000   154.5547\n",
      "     1.0000     2.0000     5.0000     3.0000     4.0000   230.5721\n",
      "     1.0000     2.0000     4.0000     5.0000     3.0000   194.1548\n",
      "     1.0000     2.0000     4.0000     3.0000     5.0000   219.1909\n",
      "     1.0000     2.0000     3.0000     5.0000     4.0000   199.8526\n",
      "     1.0000     2.0000     3.0000     4.0000     5.0000   205.6183\n",
      "\n"
     ]
    }
   ],
   "source": [
    "daccs = distanceCalculation(cities = p, d = d)"
   ]
  },
  {
   "cell_type": "markdown",
   "metadata": {},
   "source": [
    "## Sequence of cities with the minimum total distance (optimal solution)"
   ]
  },
  {
   "cell_type": "markdown",
   "metadata": {},
   "source": [
    "### Function that returns the index of the sequence of cities with the minimim total distance"
   ]
  },
  {
   "cell_type": "code",
   "execution_count": 27,
   "metadata": {},
   "outputs": [],
   "source": [
    "function minS = minimumTotalDistance(daccs,nCities)\n",
    "\n",
    "minD = min(daccs(:,nCities+1));\n",
    "minS = 1;\n",
    "\n",
    "for i = 1:size(daccs)(1)\n",
    "    if(daccs(i,size(daccs)(2))==minD)\n",
    "        minS = i;\n",
    "    end\n",
    "end\n",
    "\n",
    "end"
   ]
  },
  {
   "cell_type": "code",
   "execution_count": 28,
   "metadata": {},
   "outputs": [
    {
     "name": "stdout",
     "output_type": "stream",
     "text": [
      "minS =  77\n"
     ]
    }
   ],
   "source": [
    "minS = minimumTotalDistance(daccs,nCities = n)"
   ]
  },
  {
   "cell_type": "code",
   "execution_count": 29,
   "metadata": {},
   "outputs": [
    {
     "name": "stdout",
     "output_type": "stream",
     "text": [
      "Sequence of cities: 2 5 1 4 3 \n",
      "Minimum distance: 123.807 \n"
     ]
    }
   ],
   "source": [
    "fprintf('Sequence of cities: %s\\n',sprintf('%d ', daccs(minS,1:size(daccs)(2)-1)))\n",
    "fprintf('Minimum distance: %s\\n',sprintf('%d ', daccs(minS,size(daccs)(2))))"
   ]
  },
  {
   "cell_type": "markdown",
   "metadata": {},
   "source": [
    "# 2) Function that solve the TSP for any number of cities"
   ]
  },
  {
   "cell_type": "code",
   "execution_count": 30,
   "metadata": {},
   "outputs": [],
   "source": [
    "function [n,minSeq,minDist,cpuTime] = TSP(nCities)\n",
    "\n",
    "n = nCities;\n",
    "d = distanceMatrixCities(n);\n",
    "t=cputime;\n",
    "\n",
    "p = perms([1:n]);\n",
    "\n",
    "daccs = distanceCalculation(cities = p, d = d);\n",
    "\n",
    "minS = minimumTotalDistance(daccs,nCities = nCities)\n",
    "\n",
    "minSeq = daccs(minS,1:(size(daccs)(2)-1));\n",
    "minDist = daccs(minS,size(daccs)(2));\n",
    "cpuTime = cputime-t;\n",
    "\n",
    "\n",
    "end"
   ]
  },
  {
   "cell_type": "markdown",
   "metadata": {},
   "source": [
    "## Function to print results"
   ]
  },
  {
   "cell_type": "code",
   "execution_count": 31,
   "metadata": {},
   "outputs": [],
   "source": [
    "function printResults(n,minSeq,minDist,cpuTime)\n",
    "\n",
    "fprintf('Number of cities: %s\\n',sprintf('%d ',n))\n",
    "fprintf('Sequence of cities: %s\\n',sprintf('%d ',minSeq))\n",
    "fprintf('Minimum distance: %s\\n',sprintf('%d ', minDist))\n",
    "printf('Total cpu time: %f seconds\\n', cpuTime)\n",
    "\n",
    "end"
   ]
  },
  {
   "cell_type": "markdown",
   "metadata": {},
   "source": [
    "## Executing our algorithm to solve the TSP for 4,5,6,7 and 8 cities"
   ]
  },
  {
   "cell_type": "markdown",
   "metadata": {},
   "source": [
    "### 4 Cities"
   ]
  },
  {
   "cell_type": "code",
   "execution_count": 32,
   "metadata": {},
   "outputs": [
    {
     "name": "stdout",
     "output_type": "stream",
     "text": [
      "minS =  4\n",
      "Number of cities: 4 \n",
      "Sequence of cities: 4 2 1 3 \n",
      "Minimum distance: 21.9499 \n",
      "Total cpu time: 0.005479 seconds\n"
     ]
    }
   ],
   "source": [
    "[a1,a2,a3,a4] = TSP(nCities = 4); printResults(a1,a2,a3,a4)"
   ]
  },
  {
   "cell_type": "markdown",
   "metadata": {},
   "source": [
    "### 5 Cities"
   ]
  },
  {
   "cell_type": "code",
   "execution_count": 33,
   "metadata": {},
   "outputs": [
    {
     "name": "stdout",
     "output_type": "stream",
     "text": [
      "minS =  67\n",
      "Number of cities: 5 \n",
      "Sequence of cities: 3 1 5 4 2 \n",
      "Minimum distance: 84.0068 \n",
      "Total cpu time: 0.032795 seconds\n"
     ]
    }
   ],
   "source": [
    "[a1,a2,a3,a4] = TSP(nCities = 5); printResults(a1,a2,a3,a4)"
   ]
  },
  {
   "cell_type": "markdown",
   "metadata": {},
   "source": [
    "### 6 Cities"
   ]
  },
  {
   "cell_type": "code",
   "execution_count": 34,
   "metadata": {},
   "outputs": [
    {
     "name": "stdout",
     "output_type": "stream",
     "text": [
      "minS =  19\n",
      "Number of cities: 6 \n",
      "Sequence of cities: 6 5 1 4 3 2 \n",
      "Minimum distance: 130.308 \n",
      "Total cpu time: 0.245297 seconds\n"
     ]
    }
   ],
   "source": [
    "[a1,a2,a3,a4] = TSP(nCities = 6); printResults(a1,a2,a3,a4)"
   ]
  },
  {
   "cell_type": "markdown",
   "metadata": {},
   "source": [
    "### 7 Cities"
   ]
  },
  {
   "cell_type": "code",
   "execution_count": 35,
   "metadata": {},
   "outputs": [
    {
     "name": "stdout",
     "output_type": "stream",
     "text": [
      "minS =  1722\n",
      "Number of cities: 7 \n",
      "Sequence of cities: 5 4 6 2 1 3 7 \n",
      "Minimum distance: 98.9806 \n",
      "Total cpu time: 1.554588 seconds\n"
     ]
    }
   ],
   "source": [
    "[a1,a2,a3,a4] = TSP(nCities = 7); printResults(a1,a2,a3,a4)"
   ]
  },
  {
   "cell_type": "markdown",
   "metadata": {},
   "source": [
    "### 8 Cities"
   ]
  },
  {
   "cell_type": "code",
   "execution_count": 36,
   "metadata": {},
   "outputs": [
    {
     "name": "stdout",
     "output_type": "stream",
     "text": [
      "minS =  14495\n",
      "Number of cities: 8 \n",
      "Sequence of cities: 6 1 8 3 2 4 7 5 \n",
      "Minimum distance: 139.89 \n",
      "Total cpu time: 10.426214 seconds\n"
     ]
    }
   ],
   "source": [
    "[a1,a2,a3,a4] = TSP(nCities = 8); printResults(a1,a2,a3,a4)"
   ]
  },
  {
   "cell_type": "markdown",
   "metadata": {},
   "source": [
    "## Visualization of the growth of computational time as the number of cities increase"
   ]
  },
  {
   "cell_type": "code",
   "execution_count": 37,
   "metadata": {},
   "outputs": [],
   "source": [
    "function CPUTimeAndCities = plotNCitiesCPUTime(minNCities,maxNCities)\n",
    "\n",
    "CPUTimeAndCities = zeros(maxNCities-minNCities+1,2);\n",
    "\n",
    "count = 1;\n",
    "for i = minNCities:maxNCities;\n",
    "\n",
    "[nCities,minSeq,minDist,cpuTime] = TSP(nCities = i);\n",
    "CPUTimeAndCities(count,1) = nCities;\n",
    "CPUTimeAndCities(count,2) = cpuTime;\n",
    "count++;\n",
    "\n",
    "end\n",
    "\n",
    "end"
   ]
  },
  {
   "cell_type": "code",
   "execution_count": 38,
   "metadata": {},
   "outputs": [
    {
     "name": "stdout",
     "output_type": "stream",
     "text": [
      "minS =  1\n",
      "minS =  1\n",
      "minS =  18\n",
      "minS =  71\n",
      "minS =  5\n",
      "minS =  3128\n",
      "minS =  1781\n",
      "CPUTimeAndCities28 =\n",
      "\n",
      "    2.0000000    0.0014740\n",
      "    3.0000000    0.0025970\n",
      "    4.0000000    0.0095370\n",
      "    5.0000000    0.0310060\n",
      "    6.0000000    0.1540890\n",
      "    7.0000000    1.1194770\n",
      "    8.0000000   10.5236900\n",
      "\n"
     ]
    }
   ],
   "source": [
    "CPUTimeAndCities28 = plotNCitiesCPUTime(minNCities=2,maxNCities=8)"
   ]
  },
  {
   "cell_type": "code",
   "execution_count": 39,
   "metadata": {},
   "outputs": [
    {
     "data": {
      "image/svg+xml": [
       "<svg height=\"420px\" viewBox=\"0 0 560 420\" width=\"560px\" xmlns=\"http://www.w3.org/2000/svg\" xmlns:xlink=\"http://www.w3.org/1999/xlink\">\n",
       "\n",
       "<title>Gnuplot</title>\n",
       "<desc>Produced by GNUPLOT 5.2 patchlevel 5 </desc>\n",
       "\n",
       "<g id=\"gnuplot_canvas\">\n",
       "\n",
       "<rect fill=\"#ffffff\" height=\"420\" width=\"560\" x=\"0\" y=\"0\"/>\n",
       "<defs>\n",
       "\n",
       "\t<circle id=\"gpDot\" r=\"0.5\" stroke=\"currentColor\" stroke-width=\"0.5\"/>\n",
       "\t<path d=\"M-1,0 h2 M0,-1 v2\" id=\"gpPt0\" stroke=\"currentColor\" stroke-width=\"0.357\"/>\n",
       "\t<path d=\"M-1,-1 L1,1 M1,-1 L-1,1\" id=\"gpPt1\" stroke=\"currentColor\" stroke-width=\"0.357\"/>\n",
       "\t<path d=\"M-1,0 L1,0 M0,-1 L0,1 M-1,-1 L1,1 M-1,1 L1,-1\" id=\"gpPt2\" stroke=\"currentColor\" stroke-width=\"0.357\"/>\n",
       "\t<rect height=\"2\" id=\"gpPt3\" stroke=\"currentColor\" stroke-width=\"0.357\" width=\"2\" x=\"-1\" y=\"-1\"/>\n",
       "\t<rect fill=\"currentColor\" height=\"2\" id=\"gpPt4\" stroke=\"currentColor\" stroke-width=\"0.357\" width=\"2\" x=\"-1\" y=\"-1\"/>\n",
       "\t<circle cx=\"0\" cy=\"0\" id=\"gpPt5\" r=\"1\" stroke=\"currentColor\" stroke-width=\"0.357\"/>\n",
       "\t<use fill=\"currentColor\" id=\"gpPt6\" stroke=\"none\" xlink:href=\"#gpPt5\"/>\n",
       "\t<path d=\"M0,-1.33 L-1.33,0.67 L1.33,0.67 z\" id=\"gpPt7\" stroke=\"currentColor\" stroke-width=\"0.357\"/>\n",
       "\t<use fill=\"currentColor\" id=\"gpPt8\" stroke=\"none\" xlink:href=\"#gpPt7\"/>\n",
       "\t<use id=\"gpPt9\" stroke=\"currentColor\" transform=\"rotate(180)\" xlink:href=\"#gpPt7\"/>\n",
       "\t<use fill=\"currentColor\" id=\"gpPt10\" stroke=\"none\" xlink:href=\"#gpPt9\"/>\n",
       "\t<use id=\"gpPt11\" stroke=\"currentColor\" transform=\"rotate(45)\" xlink:href=\"#gpPt3\"/>\n",
       "\t<use fill=\"currentColor\" id=\"gpPt12\" stroke=\"none\" xlink:href=\"#gpPt11\"/>\n",
       "\t<path d=\"M0,1.330 L1.265,0.411 L0.782,-1.067 L-0.782,-1.076 L-1.265,0.411 z\" id=\"gpPt13\" stroke=\"currentColor\" stroke-width=\"0.357\"/>\n",
       "\t<use fill=\"currentColor\" id=\"gpPt14\" stroke=\"none\" xlink:href=\"#gpPt13\"/>\n",
       "\t<filter filterUnits=\"objectBoundingBox\" height=\"1\" id=\"textbox\" width=\"1\" x=\"0\" y=\"0\">\n",
       "\t  <feFlood flood-color=\"#FFFFFF\" flood-opacity=\"1\" result=\"bgnd\"/>\n",
       "\t  <feComposite in=\"SourceGraphic\" in2=\"bgnd\" operator=\"atop\"/>\n",
       "\t</filter>\n",
       "\t<filter filterUnits=\"objectBoundingBox\" height=\"1\" id=\"greybox\" width=\"1\" x=\"0\" y=\"0\">\n",
       "\t  <feFlood flood-color=\"lightgrey\" flood-opacity=\"1\" result=\"grey\"/>\n",
       "\t  <feComposite in=\"SourceGraphic\" in2=\"grey\" operator=\"atop\"/>\n",
       "\t</filter>\n",
       "</defs>\n",
       "<g color=\"#FFFFFF\" fill=\"none\" stroke=\"currentColor\" stroke-linecap=\"butt\" stroke-linejoin=\"miter\" stroke-width=\"1.00\">\n",
       "</g>\n",
       "<g color=\"black\" fill=\"none\" stroke=\"currentColor\" stroke-linecap=\"butt\" stroke-linejoin=\"miter\" stroke-width=\"1.00\">\n",
       "\t<g shape-rendering=\"crispEdges\" stroke=\"none\">\n",
       "\t\t<polygon fill=\"rgb(255, 255, 255)\" points=\"34.6,384.2 544.2,384.2 544.2,39.1 34.6,39.1 \"/>\n",
       "\t</g>\n",
       "</g>\n",
       "<g color=\"black\" fill=\"none\" stroke=\"currentColor\" stroke-linecap=\"butt\" stroke-linejoin=\"miter\" stroke-width=\"1.00\">\n",
       "\t<path d=\"M34.6,384.2 L42.4,384.2 M544.3,384.2 L536.5,384.2  \" stroke=\"rgb(  0,   0,   0)\"/>\t<g fill=\"rgb(38,38,38)\" font-family=\"Arial\" font-size=\"10.00\" stroke=\"none\" text-anchor=\"end\" transform=\"translate(29.4,387.5)\">\n",
       "\t\t<text><tspan font-family=\"Arial\">0</tspan></text>\n",
       "\t</g>\n",
       "</g>\n",
       "<g color=\"black\" fill=\"none\" stroke=\"currentColor\" stroke-linecap=\"butt\" stroke-linejoin=\"miter\" stroke-width=\"1.00\">\n",
       "\t<path d=\"M34.6,326.7 L42.4,326.7 M544.3,326.7 L536.5,326.7  \" stroke=\"rgb(  0,   0,   0)\"/>\t<g fill=\"rgb(38,38,38)\" font-family=\"Arial\" font-size=\"10.00\" stroke=\"none\" text-anchor=\"end\" transform=\"translate(29.4,330.0)\">\n",
       "\t\t<text><tspan font-family=\"Arial\">2</tspan></text>\n",
       "\t</g>\n",
       "</g>\n",
       "<g color=\"black\" fill=\"none\" stroke=\"currentColor\" stroke-linecap=\"butt\" stroke-linejoin=\"miter\" stroke-width=\"1.00\">\n",
       "\t<path d=\"M34.6,269.1 L42.4,269.1 M544.3,269.1 L536.5,269.1  \" stroke=\"rgb(  0,   0,   0)\"/>\t<g fill=\"rgb(38,38,38)\" font-family=\"Arial\" font-size=\"10.00\" stroke=\"none\" text-anchor=\"end\" transform=\"translate(29.4,272.4)\">\n",
       "\t\t<text><tspan font-family=\"Arial\">4</tspan></text>\n",
       "\t</g>\n",
       "</g>\n",
       "<g color=\"black\" fill=\"none\" stroke=\"currentColor\" stroke-linecap=\"butt\" stroke-linejoin=\"miter\" stroke-width=\"1.00\">\n",
       "\t<path d=\"M34.6,211.6 L42.4,211.6 M544.3,211.6 L536.5,211.6  \" stroke=\"rgb(  0,   0,   0)\"/>\t<g fill=\"rgb(38,38,38)\" font-family=\"Arial\" font-size=\"10.00\" stroke=\"none\" text-anchor=\"end\" transform=\"translate(29.4,214.9)\">\n",
       "\t\t<text><tspan font-family=\"Arial\">6</tspan></text>\n",
       "\t</g>\n",
       "</g>\n",
       "<g color=\"black\" fill=\"none\" stroke=\"currentColor\" stroke-linecap=\"butt\" stroke-linejoin=\"miter\" stroke-width=\"1.00\">\n",
       "\t<path d=\"M34.6,154.1 L42.4,154.1 M544.3,154.1 L536.5,154.1  \" stroke=\"rgb(  0,   0,   0)\"/>\t<g fill=\"rgb(38,38,38)\" font-family=\"Arial\" font-size=\"10.00\" stroke=\"none\" text-anchor=\"end\" transform=\"translate(29.4,157.4)\">\n",
       "\t\t<text><tspan font-family=\"Arial\">8</tspan></text>\n",
       "\t</g>\n",
       "</g>\n",
       "<g color=\"black\" fill=\"none\" stroke=\"currentColor\" stroke-linecap=\"butt\" stroke-linejoin=\"miter\" stroke-width=\"1.00\">\n",
       "\t<path d=\"M34.6,96.5 L42.4,96.5 M544.3,96.5 L536.5,96.5  \" stroke=\"rgb(  0,   0,   0)\"/>\t<g fill=\"rgb(38,38,38)\" font-family=\"Arial\" font-size=\"10.00\" stroke=\"none\" text-anchor=\"end\" transform=\"translate(29.4,99.8)\">\n",
       "\t\t<text><tspan font-family=\"Arial\">10</tspan></text>\n",
       "\t</g>\n",
       "</g>\n",
       "<g color=\"black\" fill=\"none\" stroke=\"currentColor\" stroke-linecap=\"butt\" stroke-linejoin=\"miter\" stroke-width=\"1.00\">\n",
       "\t<path d=\"M34.6,39.0 L42.4,39.0 M544.3,39.0 L536.5,39.0  \" stroke=\"rgb(  0,   0,   0)\"/>\t<g fill=\"rgb(38,38,38)\" font-family=\"Arial\" font-size=\"10.00\" stroke=\"none\" text-anchor=\"end\" transform=\"translate(29.4,42.3)\">\n",
       "\t\t<text><tspan font-family=\"Arial\">12</tspan></text>\n",
       "\t</g>\n",
       "</g>\n",
       "<g color=\"black\" fill=\"none\" stroke=\"currentColor\" stroke-linecap=\"butt\" stroke-linejoin=\"miter\" stroke-width=\"1.00\">\n",
       "\t<path d=\"M34.6,384.2 L34.6,376.4 M34.6,39.0 L34.6,46.8  \" stroke=\"rgb(  0,   0,   0)\"/>\t<g fill=\"rgb(38,38,38)\" font-family=\"Arial\" font-size=\"10.00\" stroke=\"none\" text-anchor=\"middle\" transform=\"translate(34.6,398.7)\">\n",
       "\t\t<text><tspan font-family=\"Arial\">2</tspan></text>\n",
       "\t</g>\n",
       "</g>\n",
       "<g color=\"black\" fill=\"none\" stroke=\"currentColor\" stroke-linecap=\"butt\" stroke-linejoin=\"miter\" stroke-width=\"1.00\">\n",
       "\t<path d=\"M119.6,384.2 L119.6,376.4 M119.6,39.0 L119.6,46.8  \" stroke=\"rgb(  0,   0,   0)\"/>\t<g fill=\"rgb(38,38,38)\" font-family=\"Arial\" font-size=\"10.00\" stroke=\"none\" text-anchor=\"middle\" transform=\"translate(119.6,398.7)\">\n",
       "\t\t<text><tspan font-family=\"Arial\">3</tspan></text>\n",
       "\t</g>\n",
       "</g>\n",
       "<g color=\"black\" fill=\"none\" stroke=\"currentColor\" stroke-linecap=\"butt\" stroke-linejoin=\"miter\" stroke-width=\"1.00\">\n",
       "\t<path d=\"M204.5,384.2 L204.5,376.4 M204.5,39.0 L204.5,46.8  \" stroke=\"rgb(  0,   0,   0)\"/>\t<g fill=\"rgb(38,38,38)\" font-family=\"Arial\" font-size=\"10.00\" stroke=\"none\" text-anchor=\"middle\" transform=\"translate(204.5,398.7)\">\n",
       "\t\t<text><tspan font-family=\"Arial\">4</tspan></text>\n",
       "\t</g>\n",
       "</g>\n",
       "<g color=\"black\" fill=\"none\" stroke=\"currentColor\" stroke-linecap=\"butt\" stroke-linejoin=\"miter\" stroke-width=\"1.00\">\n",
       "\t<path d=\"M289.5,384.2 L289.5,376.4 M289.5,39.0 L289.5,46.8  \" stroke=\"rgb(  0,   0,   0)\"/>\t<g fill=\"rgb(38,38,38)\" font-family=\"Arial\" font-size=\"10.00\" stroke=\"none\" text-anchor=\"middle\" transform=\"translate(289.5,398.7)\">\n",
       "\t\t<text><tspan font-family=\"Arial\">5</tspan></text>\n",
       "\t</g>\n",
       "</g>\n",
       "<g color=\"black\" fill=\"none\" stroke=\"currentColor\" stroke-linecap=\"butt\" stroke-linejoin=\"miter\" stroke-width=\"1.00\">\n",
       "\t<path d=\"M374.4,384.2 L374.4,376.4 M374.4,39.0 L374.4,46.8  \" stroke=\"rgb(  0,   0,   0)\"/>\t<g fill=\"rgb(38,38,38)\" font-family=\"Arial\" font-size=\"10.00\" stroke=\"none\" text-anchor=\"middle\" transform=\"translate(374.4,398.7)\">\n",
       "\t\t<text><tspan font-family=\"Arial\">6</tspan></text>\n",
       "\t</g>\n",
       "</g>\n",
       "<g color=\"black\" fill=\"none\" stroke=\"currentColor\" stroke-linecap=\"butt\" stroke-linejoin=\"miter\" stroke-width=\"1.00\">\n",
       "\t<path d=\"M459.4,384.2 L459.4,376.4 M459.4,39.0 L459.4,46.8  \" stroke=\"rgb(  0,   0,   0)\"/>\t<g fill=\"rgb(38,38,38)\" font-family=\"Arial\" font-size=\"10.00\" stroke=\"none\" text-anchor=\"middle\" transform=\"translate(459.4,398.7)\">\n",
       "\t\t<text><tspan font-family=\"Arial\">7</tspan></text>\n",
       "\t</g>\n",
       "</g>\n",
       "<g color=\"black\" fill=\"none\" stroke=\"currentColor\" stroke-linecap=\"butt\" stroke-linejoin=\"miter\" stroke-width=\"1.00\">\n",
       "\t<path d=\"M544.3,384.2 L544.3,376.4 M544.3,39.0 L544.3,46.8  \" stroke=\"rgb(  0,   0,   0)\"/>\t<g fill=\"rgb(38,38,38)\" font-family=\"Arial\" font-size=\"10.00\" stroke=\"none\" text-anchor=\"middle\" transform=\"translate(544.3,398.7)\">\n",
       "\t\t<text><tspan font-family=\"Arial\">8</tspan></text>\n",
       "\t</g>\n",
       "</g>\n",
       "<g color=\"black\" fill=\"none\" stroke=\"currentColor\" stroke-linecap=\"butt\" stroke-linejoin=\"miter\" stroke-width=\"1.00\">\n",
       "</g>\n",
       "<g color=\"black\" fill=\"none\" stroke=\"currentColor\" stroke-linecap=\"butt\" stroke-linejoin=\"miter\" stroke-width=\"1.00\">\n",
       "\t<g fill=\"rgb(38,38,38)\" font-family=\"Arial\" font-size=\"11.00\" stroke=\"none\" text-anchor=\"middle\" transform=\"translate(11.3,211.6) rotate(-90)\">\n",
       "\t\t<text><tspan font-family=\"Arial\">Computational time (seconds)</tspan></text>\n",
       "\t</g>\n",
       "</g>\n",
       "<g color=\"black\" fill=\"none\" stroke=\"currentColor\" stroke-linecap=\"butt\" stroke-linejoin=\"miter\" stroke-width=\"1.00\">\n",
       "\t<g fill=\"rgb(38,38,38)\" font-family=\"Arial\" font-size=\"11.00\" stroke=\"none\" text-anchor=\"middle\" transform=\"translate(289.4,415.8)\">\n",
       "\t\t<text><tspan font-family=\"Arial\">Number of cities</tspan></text>\n",
       "\t</g>\n",
       "</g>\n",
       "<g color=\"black\" fill=\"none\" stroke=\"currentColor\" stroke-linecap=\"butt\" stroke-linejoin=\"miter\" stroke-width=\"1.00\">\n",
       "\t<g fill=\"rgb(0,0,0)\" font-family=\":Bold\" font-size=\"11.00\" stroke=\"none\" text-anchor=\"middle\" transform=\"translate(289.4,20.5)\">\n",
       "\t\t<text><tspan font-family=\"\" font-weight=\"bold\">Computational time and number of cities in TSP</tspan></text>\n",
       "\t</g>\n",
       "</g>\n",
       "<g color=\"black\" fill=\"none\" stroke=\"currentColor\" stroke-linecap=\"butt\" stroke-linejoin=\"miter\" stroke-width=\"1.00\">\n",
       "</g>\n",
       "\t<g id=\"gnuplot_plot_1a\"><title>gnuplot_plot_1a</title>\n",
       "<g color=\"#FFFFFF\" fill=\"none\" stroke=\"currentColor\" stroke-linecap=\"butt\" stroke-linejoin=\"miter\" stroke-width=\"0.50\">\n",
       "</g>\n",
       "<g color=\"black\" fill=\"none\" stroke=\"currentColor\" stroke-linecap=\"butt\" stroke-linejoin=\"miter\" stroke-width=\"0.50\">\n",
       "\t<path d=\"M34.6,384.2 L119.6,384.1 L204.5,383.9 L289.5,383.3 L374.4,379.8 L459.4,352.0 L544.3,81.5  \" stroke=\"rgb(255,   0,   0)\"/>\t<use color=\"rgb(255,   0,   0)\" transform=\"translate(34.6,384.2) scale(5.60)\" xlink:href=\"#gpPt5\"/>\n",
       "\t<use color=\"rgb(255,   0,   0)\" transform=\"translate(119.6,384.1) scale(5.60)\" xlink:href=\"#gpPt5\"/>\n",
       "\t<use color=\"rgb(255,   0,   0)\" transform=\"translate(204.5,383.9) scale(5.60)\" xlink:href=\"#gpPt5\"/>\n",
       "\t<use color=\"rgb(255,   0,   0)\" transform=\"translate(289.5,383.3) scale(5.60)\" xlink:href=\"#gpPt5\"/>\n",
       "\t<use color=\"rgb(255,   0,   0)\" transform=\"translate(374.4,379.8) scale(5.60)\" xlink:href=\"#gpPt5\"/>\n",
       "\t<use color=\"rgb(255,   0,   0)\" transform=\"translate(459.4,352.0) scale(5.60)\" xlink:href=\"#gpPt5\"/>\n",
       "\t<use color=\"rgb(255,   0,   0)\" transform=\"translate(544.3,81.5) scale(5.60)\" xlink:href=\"#gpPt5\"/>\n",
       "</g>\n",
       "\t</g>\n",
       "<g color=\"#FFFFFF\" fill=\"none\" stroke=\"rgb(255,   0,   0)\" stroke-linecap=\"butt\" stroke-linejoin=\"miter\" stroke-width=\"2.00\">\n",
       "</g>\n",
       "<g color=\"black\" fill=\"none\" stroke=\"currentColor\" stroke-linecap=\"butt\" stroke-linejoin=\"miter\" stroke-width=\"2.00\">\n",
       "</g>\n",
       "<g color=\"black\" fill=\"none\" stroke=\"black\" stroke-linecap=\"butt\" stroke-linejoin=\"miter\" stroke-width=\"0.50\">\n",
       "\t<path d=\"M34.6,384.2 L544.3,384.2 M34.6,39.0 L544.3,39.0 M34.6,384.2 L34.6,39.0 M544.3,384.2 L544.3,39.0    \" stroke=\"rgb( 38,  38,  38)\"/></g>\n",
       "<g color=\"black\" fill=\"none\" stroke=\"rgb( 38,  38,  38)\" stroke-linecap=\"butt\" stroke-linejoin=\"miter\" stroke-width=\"1.00\">\n",
       "</g>\n",
       "<g color=\"black\" fill=\"none\" stroke=\"currentColor\" stroke-linecap=\"butt\" stroke-linejoin=\"miter\" stroke-width=\"1.00\">\n",
       "</g>\n",
       "</g>\n",
       "</svg>"
      ],
      "text/plain": [
       "<IPython.core.display.SVG object>"
      ]
     },
     "metadata": {},
     "output_type": "display_data"
    }
   ],
   "source": [
    "plot([CPUTimeAndCities28(:,1)], [CPUTimeAndCities28(:,2)], 'o-r');\n",
    "title (\"Computational time and number of cities in TSP\");\n",
    "xlabel (\"Number of cities\");\n",
    "ylabel (\"Computational time (seconds)\");"
   ]
  }
 ],
 "metadata": {
  "kernelspec": {
   "display_name": "Octave",
   "language": "octave",
   "name": "octave"
  },
  "language_info": {
   "file_extension": ".m",
   "help_links": [
    {
     "text": "GNU Octave",
     "url": "https://www.gnu.org/software/octave/support.html"
    },
    {
     "text": "Octave Kernel",
     "url": "https://github.com/Calysto/octave_kernel"
    },
    {
     "text": "MetaKernel Magics",
     "url": "https://github.com/calysto/metakernel/blob/master/metakernel/magics/README.md"
    }
   ],
   "mimetype": "text/x-octave",
   "name": "octave",
   "version": "4.4.1"
  }
 },
 "nbformat": 4,
 "nbformat_minor": 2
}
